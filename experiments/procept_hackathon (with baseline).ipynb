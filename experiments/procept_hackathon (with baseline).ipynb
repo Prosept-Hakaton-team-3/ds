{
  "cells": [
    {
      "cell_type": "code",
      "source": [
        "# !pip install -U spacy"
      ],
      "metadata": {
        "id": "PajQdDnGw3QY"
      },
      "execution_count": 1,
      "outputs": []
    },
    {
      "cell_type": "code",
      "source": [
        "# !pip install https://github.com/explosion/spacy-models/releases/download/ru_core_news_sm-3.0.0/ru_core_news_sm-3.0.0.tar.gz\n"
      ],
      "metadata": {
        "id": "l60fVz0KxDH_"
      },
      "execution_count": 2,
      "outputs": []
    },
    {
      "cell_type": "code",
      "execution_count": 50,
      "metadata": {
        "id": "13kYOCltSiCJ"
      },
      "outputs": [],
      "source": [
        "import pandas as pd\n",
        "import numpy as np\n",
        "\n",
        "import re\n",
        "\n",
        "from transformers import AutoTokenizer, AutoModel\n",
        "\n",
        "from sklearn.model_selection import train_test_split\n",
        "from scipy.spatial.distance import cdist\n",
        "\n",
        "import torch\n",
        "\n",
        "from ast import literal_eval\n",
        "from sklearn.metrics.pairwise import cosine_similarity\n",
        "\n",
        "from scipy.spatial.distance import pdist, squareform\n",
        "\n",
        "# import nltk\n",
        "# from nltk.corpus import stopwords\n",
        "\n",
        "# import spacy\n",
        "\n",
        "from tqdm import tqdm"
      ]
    },
    {
      "cell_type": "code",
      "source": [
        "tqdm.pandas()"
      ],
      "metadata": {
        "id": "Mfh9goEviyIa"
      },
      "execution_count": 4,
      "outputs": []
    },
    {
      "cell_type": "markdown",
      "metadata": {
        "id": "-F3G35GiSiCJ"
      },
      "source": [
        "#EDA\n"
      ]
    },
    {
      "cell_type": "code",
      "source": [
        "# Connecting Google Drive to Google Colab\n",
        "from google.colab import drive\n",
        "drive.mount('/content/drive')"
      ],
      "metadata": {
        "id": "Uignq3yDV4pn",
        "colab": {
          "base_uri": "https://localhost:8080/"
        },
        "outputId": "0c4fc032-abf3-4ac4-bb35-e56ad44c7656"
      },
      "execution_count": 5,
      "outputs": [
        {
          "output_type": "stream",
          "name": "stdout",
          "text": [
            "Drive already mounted at /content/drive; to attempt to forcibly remount, call drive.mount(\"/content/drive\", force_remount=True).\n"
          ]
        }
      ]
    },
    {
      "cell_type": "code",
      "source": [
        "folder_path = \"/content/drive/My Drive/hackathon/\""
      ],
      "metadata": {
        "id": "-GQLeNNAXVJP"
      },
      "execution_count": 6,
      "outputs": []
    },
    {
      "cell_type": "markdown",
      "source": [
        "## Исследуем файл dealer"
      ],
      "metadata": {
        "id": "93kB0UA7On4I"
      }
    },
    {
      "cell_type": "code",
      "execution_count": 7,
      "metadata": {
        "id": "Hy7XUiNlSiCK"
      },
      "outputs": [],
      "source": [
        "dealer = pd.read_csv(folder_path + \"marketing_dealer.csv\", sep=';', index_col='id')"
      ]
    },
    {
      "cell_type": "code",
      "execution_count": 8,
      "metadata": {
        "scrolled": true,
        "id": "jJaLh-S1SiCK",
        "colab": {
          "base_uri": "https://localhost:8080/",
          "height": 645
        },
        "outputId": "a153a2a6-9a23-4684-c0be-686d308edbb4"
      },
      "outputs": [
        {
          "output_type": "display_data",
          "data": {
            "text/plain": [
              "                        name\n",
              "id                          \n",
              "1               Moi_vibor_WB\n",
              "2                      Akson\n",
              "3                      Bafus\n",
              "5                  Castorama\n",
              "6                   Cubatora\n",
              "7                      Komus\n",
              "9                  Megastroy\n",
              "10               OnlineTrade\n",
              "11                 Petrovich\n",
              "12                     sdvor\n",
              "13                  simaLand\n",
              "14                    VegosM\n",
              "15            Vse_instrumeni\n",
              "16                     Vimos\n",
              "4                  Baucenter\n",
              "8               Leroy_Merlin\n",
              "18  Мasterstroy_spb_OZON\\r\\n\n",
              "17           Unicleaner_OZON"
            ],
            "text/html": [
              "\n",
              "  <div id=\"df-0ee8a10b-e7ee-4b82-9e9a-b72987f18a5b\" class=\"colab-df-container\">\n",
              "    <div>\n",
              "<style scoped>\n",
              "    .dataframe tbody tr th:only-of-type {\n",
              "        vertical-align: middle;\n",
              "    }\n",
              "\n",
              "    .dataframe tbody tr th {\n",
              "        vertical-align: top;\n",
              "    }\n",
              "\n",
              "    .dataframe thead th {\n",
              "        text-align: right;\n",
              "    }\n",
              "</style>\n",
              "<table border=\"1\" class=\"dataframe\">\n",
              "  <thead>\n",
              "    <tr style=\"text-align: right;\">\n",
              "      <th></th>\n",
              "      <th>name</th>\n",
              "    </tr>\n",
              "    <tr>\n",
              "      <th>id</th>\n",
              "      <th></th>\n",
              "    </tr>\n",
              "  </thead>\n",
              "  <tbody>\n",
              "    <tr>\n",
              "      <th>1</th>\n",
              "      <td>Moi_vibor_WB</td>\n",
              "    </tr>\n",
              "    <tr>\n",
              "      <th>2</th>\n",
              "      <td>Akson</td>\n",
              "    </tr>\n",
              "    <tr>\n",
              "      <th>3</th>\n",
              "      <td>Bafus</td>\n",
              "    </tr>\n",
              "    <tr>\n",
              "      <th>5</th>\n",
              "      <td>Castorama</td>\n",
              "    </tr>\n",
              "    <tr>\n",
              "      <th>6</th>\n",
              "      <td>Cubatora</td>\n",
              "    </tr>\n",
              "    <tr>\n",
              "      <th>7</th>\n",
              "      <td>Komus</td>\n",
              "    </tr>\n",
              "    <tr>\n",
              "      <th>9</th>\n",
              "      <td>Megastroy</td>\n",
              "    </tr>\n",
              "    <tr>\n",
              "      <th>10</th>\n",
              "      <td>OnlineTrade</td>\n",
              "    </tr>\n",
              "    <tr>\n",
              "      <th>11</th>\n",
              "      <td>Petrovich</td>\n",
              "    </tr>\n",
              "    <tr>\n",
              "      <th>12</th>\n",
              "      <td>sdvor</td>\n",
              "    </tr>\n",
              "    <tr>\n",
              "      <th>13</th>\n",
              "      <td>simaLand</td>\n",
              "    </tr>\n",
              "    <tr>\n",
              "      <th>14</th>\n",
              "      <td>VegosM</td>\n",
              "    </tr>\n",
              "    <tr>\n",
              "      <th>15</th>\n",
              "      <td>Vse_instrumeni</td>\n",
              "    </tr>\n",
              "    <tr>\n",
              "      <th>16</th>\n",
              "      <td>Vimos</td>\n",
              "    </tr>\n",
              "    <tr>\n",
              "      <th>4</th>\n",
              "      <td>Baucenter</td>\n",
              "    </tr>\n",
              "    <tr>\n",
              "      <th>8</th>\n",
              "      <td>Leroy_Merlin</td>\n",
              "    </tr>\n",
              "    <tr>\n",
              "      <th>18</th>\n",
              "      <td>Мasterstroy_spb_OZON\\r\\n</td>\n",
              "    </tr>\n",
              "    <tr>\n",
              "      <th>17</th>\n",
              "      <td>Unicleaner_OZON</td>\n",
              "    </tr>\n",
              "  </tbody>\n",
              "</table>\n",
              "</div>\n",
              "    <div class=\"colab-df-buttons\">\n",
              "\n",
              "  <div class=\"colab-df-container\">\n",
              "    <button class=\"colab-df-convert\" onclick=\"convertToInteractive('df-0ee8a10b-e7ee-4b82-9e9a-b72987f18a5b')\"\n",
              "            title=\"Convert this dataframe to an interactive table.\"\n",
              "            style=\"display:none;\">\n",
              "\n",
              "  <svg xmlns=\"http://www.w3.org/2000/svg\" height=\"24px\" viewBox=\"0 -960 960 960\">\n",
              "    <path d=\"M120-120v-720h720v720H120Zm60-500h600v-160H180v160Zm220 220h160v-160H400v160Zm0 220h160v-160H400v160ZM180-400h160v-160H180v160Zm440 0h160v-160H620v160ZM180-180h160v-160H180v160Zm440 0h160v-160H620v160Z\"/>\n",
              "  </svg>\n",
              "    </button>\n",
              "\n",
              "  <style>\n",
              "    .colab-df-container {\n",
              "      display:flex;\n",
              "      gap: 12px;\n",
              "    }\n",
              "\n",
              "    .colab-df-convert {\n",
              "      background-color: #E8F0FE;\n",
              "      border: none;\n",
              "      border-radius: 50%;\n",
              "      cursor: pointer;\n",
              "      display: none;\n",
              "      fill: #1967D2;\n",
              "      height: 32px;\n",
              "      padding: 0 0 0 0;\n",
              "      width: 32px;\n",
              "    }\n",
              "\n",
              "    .colab-df-convert:hover {\n",
              "      background-color: #E2EBFA;\n",
              "      box-shadow: 0px 1px 2px rgba(60, 64, 67, 0.3), 0px 1px 3px 1px rgba(60, 64, 67, 0.15);\n",
              "      fill: #174EA6;\n",
              "    }\n",
              "\n",
              "    .colab-df-buttons div {\n",
              "      margin-bottom: 4px;\n",
              "    }\n",
              "\n",
              "    [theme=dark] .colab-df-convert {\n",
              "      background-color: #3B4455;\n",
              "      fill: #D2E3FC;\n",
              "    }\n",
              "\n",
              "    [theme=dark] .colab-df-convert:hover {\n",
              "      background-color: #434B5C;\n",
              "      box-shadow: 0px 1px 3px 1px rgba(0, 0, 0, 0.15);\n",
              "      filter: drop-shadow(0px 1px 2px rgba(0, 0, 0, 0.3));\n",
              "      fill: #FFFFFF;\n",
              "    }\n",
              "  </style>\n",
              "\n",
              "    <script>\n",
              "      const buttonEl =\n",
              "        document.querySelector('#df-0ee8a10b-e7ee-4b82-9e9a-b72987f18a5b button.colab-df-convert');\n",
              "      buttonEl.style.display =\n",
              "        google.colab.kernel.accessAllowed ? 'block' : 'none';\n",
              "\n",
              "      async function convertToInteractive(key) {\n",
              "        const element = document.querySelector('#df-0ee8a10b-e7ee-4b82-9e9a-b72987f18a5b');\n",
              "        const dataTable =\n",
              "          await google.colab.kernel.invokeFunction('convertToInteractive',\n",
              "                                                    [key], {});\n",
              "        if (!dataTable) return;\n",
              "\n",
              "        const docLinkHtml = 'Like what you see? Visit the ' +\n",
              "          '<a target=\"_blank\" href=https://colab.research.google.com/notebooks/data_table.ipynb>data table notebook</a>'\n",
              "          + ' to learn more about interactive tables.';\n",
              "        element.innerHTML = '';\n",
              "        dataTable['output_type'] = 'display_data';\n",
              "        await google.colab.output.renderOutput(dataTable, element);\n",
              "        const docLink = document.createElement('div');\n",
              "        docLink.innerHTML = docLinkHtml;\n",
              "        element.appendChild(docLink);\n",
              "      }\n",
              "    </script>\n",
              "  </div>\n",
              "\n",
              "\n",
              "<div id=\"df-f9da6d25-68b7-4a63-89e8-dd91708335b6\">\n",
              "  <button class=\"colab-df-quickchart\" onclick=\"quickchart('df-f9da6d25-68b7-4a63-89e8-dd91708335b6')\"\n",
              "            title=\"Suggest charts\"\n",
              "            style=\"display:none;\">\n",
              "\n",
              "<svg xmlns=\"http://www.w3.org/2000/svg\" height=\"24px\"viewBox=\"0 0 24 24\"\n",
              "     width=\"24px\">\n",
              "    <g>\n",
              "        <path d=\"M19 3H5c-1.1 0-2 .9-2 2v14c0 1.1.9 2 2 2h14c1.1 0 2-.9 2-2V5c0-1.1-.9-2-2-2zM9 17H7v-7h2v7zm4 0h-2V7h2v10zm4 0h-2v-4h2v4z\"/>\n",
              "    </g>\n",
              "</svg>\n",
              "  </button>\n",
              "\n",
              "<style>\n",
              "  .colab-df-quickchart {\n",
              "      --bg-color: #E8F0FE;\n",
              "      --fill-color: #1967D2;\n",
              "      --hover-bg-color: #E2EBFA;\n",
              "      --hover-fill-color: #174EA6;\n",
              "      --disabled-fill-color: #AAA;\n",
              "      --disabled-bg-color: #DDD;\n",
              "  }\n",
              "\n",
              "  [theme=dark] .colab-df-quickchart {\n",
              "      --bg-color: #3B4455;\n",
              "      --fill-color: #D2E3FC;\n",
              "      --hover-bg-color: #434B5C;\n",
              "      --hover-fill-color: #FFFFFF;\n",
              "      --disabled-bg-color: #3B4455;\n",
              "      --disabled-fill-color: #666;\n",
              "  }\n",
              "\n",
              "  .colab-df-quickchart {\n",
              "    background-color: var(--bg-color);\n",
              "    border: none;\n",
              "    border-radius: 50%;\n",
              "    cursor: pointer;\n",
              "    display: none;\n",
              "    fill: var(--fill-color);\n",
              "    height: 32px;\n",
              "    padding: 0;\n",
              "    width: 32px;\n",
              "  }\n",
              "\n",
              "  .colab-df-quickchart:hover {\n",
              "    background-color: var(--hover-bg-color);\n",
              "    box-shadow: 0 1px 2px rgba(60, 64, 67, 0.3), 0 1px 3px 1px rgba(60, 64, 67, 0.15);\n",
              "    fill: var(--button-hover-fill-color);\n",
              "  }\n",
              "\n",
              "  .colab-df-quickchart-complete:disabled,\n",
              "  .colab-df-quickchart-complete:disabled:hover {\n",
              "    background-color: var(--disabled-bg-color);\n",
              "    fill: var(--disabled-fill-color);\n",
              "    box-shadow: none;\n",
              "  }\n",
              "\n",
              "  .colab-df-spinner {\n",
              "    border: 2px solid var(--fill-color);\n",
              "    border-color: transparent;\n",
              "    border-bottom-color: var(--fill-color);\n",
              "    animation:\n",
              "      spin 1s steps(1) infinite;\n",
              "  }\n",
              "\n",
              "  @keyframes spin {\n",
              "    0% {\n",
              "      border-color: transparent;\n",
              "      border-bottom-color: var(--fill-color);\n",
              "      border-left-color: var(--fill-color);\n",
              "    }\n",
              "    20% {\n",
              "      border-color: transparent;\n",
              "      border-left-color: var(--fill-color);\n",
              "      border-top-color: var(--fill-color);\n",
              "    }\n",
              "    30% {\n",
              "      border-color: transparent;\n",
              "      border-left-color: var(--fill-color);\n",
              "      border-top-color: var(--fill-color);\n",
              "      border-right-color: var(--fill-color);\n",
              "    }\n",
              "    40% {\n",
              "      border-color: transparent;\n",
              "      border-right-color: var(--fill-color);\n",
              "      border-top-color: var(--fill-color);\n",
              "    }\n",
              "    60% {\n",
              "      border-color: transparent;\n",
              "      border-right-color: var(--fill-color);\n",
              "    }\n",
              "    80% {\n",
              "      border-color: transparent;\n",
              "      border-right-color: var(--fill-color);\n",
              "      border-bottom-color: var(--fill-color);\n",
              "    }\n",
              "    90% {\n",
              "      border-color: transparent;\n",
              "      border-bottom-color: var(--fill-color);\n",
              "    }\n",
              "  }\n",
              "</style>\n",
              "\n",
              "  <script>\n",
              "    async function quickchart(key) {\n",
              "      const quickchartButtonEl =\n",
              "        document.querySelector('#' + key + ' button');\n",
              "      quickchartButtonEl.disabled = true;  // To prevent multiple clicks.\n",
              "      quickchartButtonEl.classList.add('colab-df-spinner');\n",
              "      try {\n",
              "        const charts = await google.colab.kernel.invokeFunction(\n",
              "            'suggestCharts', [key], {});\n",
              "      } catch (error) {\n",
              "        console.error('Error during call to suggestCharts:', error);\n",
              "      }\n",
              "      quickchartButtonEl.classList.remove('colab-df-spinner');\n",
              "      quickchartButtonEl.classList.add('colab-df-quickchart-complete');\n",
              "    }\n",
              "    (() => {\n",
              "      let quickchartButtonEl =\n",
              "        document.querySelector('#df-f9da6d25-68b7-4a63-89e8-dd91708335b6 button');\n",
              "      quickchartButtonEl.style.display =\n",
              "        google.colab.kernel.accessAllowed ? 'block' : 'none';\n",
              "    })();\n",
              "  </script>\n",
              "</div>\n",
              "    </div>\n",
              "  </div>\n"
            ]
          },
          "metadata": {}
        }
      ],
      "source": [
        "display(dealer)"
      ]
    },
    {
      "cell_type": "code",
      "source": [
        "dealer.info()"
      ],
      "metadata": {
        "colab": {
          "base_uri": "https://localhost:8080/"
        },
        "id": "VytmczkkS5Ns",
        "outputId": "bb21b49a-8b8b-47a7-fb63-178fc404a57f"
      },
      "execution_count": 9,
      "outputs": [
        {
          "output_type": "stream",
          "name": "stdout",
          "text": [
            "<class 'pandas.core.frame.DataFrame'>\n",
            "Int64Index: 18 entries, 1 to 17\n",
            "Data columns (total 1 columns):\n",
            " #   Column  Non-Null Count  Dtype \n",
            "---  ------  --------------  ----- \n",
            " 0   name    18 non-null     object\n",
            "dtypes: object(1)\n",
            "memory usage: 288.0+ bytes\n"
          ]
        }
      ]
    },
    {
      "cell_type": "markdown",
      "source": [
        "## Исследуем файл product"
      ],
      "metadata": {
        "id": "2SmiqbqGS-GA"
      }
    },
    {
      "cell_type": "code",
      "source": [
        "product = pd.read_csv(folder_path + \"marketing_product.csv\", sep=';', index_col='id')"
      ],
      "metadata": {
        "id": "S384H4TES9Xy"
      },
      "execution_count": 10,
      "outputs": []
    },
    {
      "cell_type": "code",
      "source": [
        "display(product.sample(5))"
      ],
      "metadata": {
        "colab": {
          "base_uri": "https://localhost:8080/",
          "height": 359
        },
        "id": "E7oQRRBrTbYc",
        "outputId": "ebfcdc64-9624-45a8-c77b-ac5144311511"
      },
      "execution_count": 11,
      "outputs": [
        {
          "output_type": "display_data",
          "data": {
            "text/plain": [
              "     Unnamed: 0      article        ean_13  \\\n",
              "id                                           \n",
              "44           24       283-08  4.680008e+12   \n",
              "121         486        124-1  4.680008e+12   \n",
              "446          88  0024-06 б12           NaN   \n",
              "67          323        112-0  4.680008e+12   \n",
              "220           5        051-6  4.610093e+12   \n",
              "\n",
              "                                                  name     cost  \\\n",
              "id                                                                \n",
              "44   Средство для мытья полов и стен Multipower \"По...    77.94   \n",
              "121  Средство для удаления гипсовой пылиDuty Whiteк...   148.00   \n",
              "446  Герметик акриловый цвет белый ф/п 600 мл. (12 ...  3686.40   \n",
              "67   Средство для удаления плесени  с дезинфицирующ...    90.96   \n",
              "220            Грунт БЕТОНКОНТАКТготовый состав / 6 кг   703.00   \n",
              "\n",
              "     recommended_price  category_id  \\\n",
              "id                                    \n",
              "44              182.00          NaN   \n",
              "121             347.00         40.0   \n",
              "446            7716.96         25.0   \n",
              "67              212.00         53.0   \n",
              "220            1339.00         26.0   \n",
              "\n",
              "                                             ozon_name  \\\n",
              "id                                                       \n",
              "44                                                 NaN   \n",
              "121  Средство для удаления гипсовой пыли PROSEPT Du...   \n",
              "446                                                NaN   \n",
              "67   Спрей для удаления плесени PROSEPT Bath Fungi,...   \n",
              "220  Грунт бетоноконтакт, для гладких поверхностей ...   \n",
              "\n",
              "                                               name_1c  \\\n",
              "id                                                       \n",
              "44   Средство для мытья полов и стен Multipower \"По...   \n",
              "121  Средство для удаления гипсовой пыли PROSEPT Du...   \n",
              "446  Герметик акриловый цвет белый ф/п 600 мл. (12 ...   \n",
              "67   Спрей для удаления плесени PROSEPT Bath Fungi,...   \n",
              "220  Грунт бетоноконтакт, для гладких поверхностей ...   \n",
              "\n",
              "                                               wb_name  ozon_article  \\\n",
              "id                                                                     \n",
              "44                                                 NaN           NaN   \n",
              "121  Средство для удаления гипсовой пыли PROSEPT Du...   189522870.0   \n",
              "446                                                NaN           NaN   \n",
              "67   Спрей для удаления плесени PROSEPT Bath Fungi,...   412005574.0   \n",
              "220  Грунт бетоноконтакт, для гладких поверхностей ...   453193200.0   \n",
              "\n",
              "      wb_article ym_article wb_article_td  \n",
              "id                                         \n",
              "44           NaN        NaN           NaN  \n",
              "121  149705847.0      124-1           NaN  \n",
              "446          NaN        NaN           NaN  \n",
              "67   149705840.0      112-0        112-00  \n",
              "220  149699633.0      051-6           NaN  "
            ],
            "text/html": [
              "\n",
              "  <div id=\"df-98cc35ca-61bb-4792-aa51-ed00dcbcdf70\" class=\"colab-df-container\">\n",
              "    <div>\n",
              "<style scoped>\n",
              "    .dataframe tbody tr th:only-of-type {\n",
              "        vertical-align: middle;\n",
              "    }\n",
              "\n",
              "    .dataframe tbody tr th {\n",
              "        vertical-align: top;\n",
              "    }\n",
              "\n",
              "    .dataframe thead th {\n",
              "        text-align: right;\n",
              "    }\n",
              "</style>\n",
              "<table border=\"1\" class=\"dataframe\">\n",
              "  <thead>\n",
              "    <tr style=\"text-align: right;\">\n",
              "      <th></th>\n",
              "      <th>Unnamed: 0</th>\n",
              "      <th>article</th>\n",
              "      <th>ean_13</th>\n",
              "      <th>name</th>\n",
              "      <th>cost</th>\n",
              "      <th>recommended_price</th>\n",
              "      <th>category_id</th>\n",
              "      <th>ozon_name</th>\n",
              "      <th>name_1c</th>\n",
              "      <th>wb_name</th>\n",
              "      <th>ozon_article</th>\n",
              "      <th>wb_article</th>\n",
              "      <th>ym_article</th>\n",
              "      <th>wb_article_td</th>\n",
              "    </tr>\n",
              "    <tr>\n",
              "      <th>id</th>\n",
              "      <th></th>\n",
              "      <th></th>\n",
              "      <th></th>\n",
              "      <th></th>\n",
              "      <th></th>\n",
              "      <th></th>\n",
              "      <th></th>\n",
              "      <th></th>\n",
              "      <th></th>\n",
              "      <th></th>\n",
              "      <th></th>\n",
              "      <th></th>\n",
              "      <th></th>\n",
              "      <th></th>\n",
              "    </tr>\n",
              "  </thead>\n",
              "  <tbody>\n",
              "    <tr>\n",
              "      <th>44</th>\n",
              "      <td>24</td>\n",
              "      <td>283-08</td>\n",
              "      <td>4.680008e+12</td>\n",
              "      <td>Средство для мытья полов и стен Multipower \"По...</td>\n",
              "      <td>77.94</td>\n",
              "      <td>182.00</td>\n",
              "      <td>NaN</td>\n",
              "      <td>NaN</td>\n",
              "      <td>Средство для мытья полов и стен Multipower \"По...</td>\n",
              "      <td>NaN</td>\n",
              "      <td>NaN</td>\n",
              "      <td>NaN</td>\n",
              "      <td>NaN</td>\n",
              "      <td>NaN</td>\n",
              "    </tr>\n",
              "    <tr>\n",
              "      <th>121</th>\n",
              "      <td>486</td>\n",
              "      <td>124-1</td>\n",
              "      <td>4.680008e+12</td>\n",
              "      <td>Средство для удаления гипсовой пылиDuty Whiteк...</td>\n",
              "      <td>148.00</td>\n",
              "      <td>347.00</td>\n",
              "      <td>40.0</td>\n",
              "      <td>Средство для удаления гипсовой пыли PROSEPT Du...</td>\n",
              "      <td>Средство для удаления гипсовой пыли PROSEPT Du...</td>\n",
              "      <td>Средство для удаления гипсовой пыли PROSEPT Du...</td>\n",
              "      <td>189522870.0</td>\n",
              "      <td>149705847.0</td>\n",
              "      <td>124-1</td>\n",
              "      <td>NaN</td>\n",
              "    </tr>\n",
              "    <tr>\n",
              "      <th>446</th>\n",
              "      <td>88</td>\n",
              "      <td>0024-06 б12</td>\n",
              "      <td>NaN</td>\n",
              "      <td>Герметик акриловый цвет белый ф/п 600 мл. (12 ...</td>\n",
              "      <td>3686.40</td>\n",
              "      <td>7716.96</td>\n",
              "      <td>25.0</td>\n",
              "      <td>NaN</td>\n",
              "      <td>Герметик акриловый цвет белый ф/п 600 мл. (12 ...</td>\n",
              "      <td>NaN</td>\n",
              "      <td>NaN</td>\n",
              "      <td>NaN</td>\n",
              "      <td>NaN</td>\n",
              "      <td>NaN</td>\n",
              "    </tr>\n",
              "    <tr>\n",
              "      <th>67</th>\n",
              "      <td>323</td>\n",
              "      <td>112-0</td>\n",
              "      <td>4.680008e+12</td>\n",
              "      <td>Средство для удаления плесени  с дезинфицирующ...</td>\n",
              "      <td>90.96</td>\n",
              "      <td>212.00</td>\n",
              "      <td>53.0</td>\n",
              "      <td>Спрей для удаления плесени PROSEPT Bath Fungi,...</td>\n",
              "      <td>Спрей для удаления плесени PROSEPT Bath Fungi,...</td>\n",
              "      <td>Спрей для удаления плесени PROSEPT Bath Fungi,...</td>\n",
              "      <td>412005574.0</td>\n",
              "      <td>149705840.0</td>\n",
              "      <td>112-0</td>\n",
              "      <td>112-00</td>\n",
              "    </tr>\n",
              "    <tr>\n",
              "      <th>220</th>\n",
              "      <td>5</td>\n",
              "      <td>051-6</td>\n",
              "      <td>4.610093e+12</td>\n",
              "      <td>Грунт БЕТОНКОНТАКТготовый состав / 6 кг</td>\n",
              "      <td>703.00</td>\n",
              "      <td>1339.00</td>\n",
              "      <td>26.0</td>\n",
              "      <td>Грунт бетоноконтакт, для гладких поверхностей ...</td>\n",
              "      <td>Грунт бетоноконтакт, для гладких поверхностей ...</td>\n",
              "      <td>Грунт бетоноконтакт, для гладких поверхностей ...</td>\n",
              "      <td>453193200.0</td>\n",
              "      <td>149699633.0</td>\n",
              "      <td>051-6</td>\n",
              "      <td>NaN</td>\n",
              "    </tr>\n",
              "  </tbody>\n",
              "</table>\n",
              "</div>\n",
              "    <div class=\"colab-df-buttons\">\n",
              "\n",
              "  <div class=\"colab-df-container\">\n",
              "    <button class=\"colab-df-convert\" onclick=\"convertToInteractive('df-98cc35ca-61bb-4792-aa51-ed00dcbcdf70')\"\n",
              "            title=\"Convert this dataframe to an interactive table.\"\n",
              "            style=\"display:none;\">\n",
              "\n",
              "  <svg xmlns=\"http://www.w3.org/2000/svg\" height=\"24px\" viewBox=\"0 -960 960 960\">\n",
              "    <path d=\"M120-120v-720h720v720H120Zm60-500h600v-160H180v160Zm220 220h160v-160H400v160Zm0 220h160v-160H400v160ZM180-400h160v-160H180v160Zm440 0h160v-160H620v160ZM180-180h160v-160H180v160Zm440 0h160v-160H620v160Z\"/>\n",
              "  </svg>\n",
              "    </button>\n",
              "\n",
              "  <style>\n",
              "    .colab-df-container {\n",
              "      display:flex;\n",
              "      gap: 12px;\n",
              "    }\n",
              "\n",
              "    .colab-df-convert {\n",
              "      background-color: #E8F0FE;\n",
              "      border: none;\n",
              "      border-radius: 50%;\n",
              "      cursor: pointer;\n",
              "      display: none;\n",
              "      fill: #1967D2;\n",
              "      height: 32px;\n",
              "      padding: 0 0 0 0;\n",
              "      width: 32px;\n",
              "    }\n",
              "\n",
              "    .colab-df-convert:hover {\n",
              "      background-color: #E2EBFA;\n",
              "      box-shadow: 0px 1px 2px rgba(60, 64, 67, 0.3), 0px 1px 3px 1px rgba(60, 64, 67, 0.15);\n",
              "      fill: #174EA6;\n",
              "    }\n",
              "\n",
              "    .colab-df-buttons div {\n",
              "      margin-bottom: 4px;\n",
              "    }\n",
              "\n",
              "    [theme=dark] .colab-df-convert {\n",
              "      background-color: #3B4455;\n",
              "      fill: #D2E3FC;\n",
              "    }\n",
              "\n",
              "    [theme=dark] .colab-df-convert:hover {\n",
              "      background-color: #434B5C;\n",
              "      box-shadow: 0px 1px 3px 1px rgba(0, 0, 0, 0.15);\n",
              "      filter: drop-shadow(0px 1px 2px rgba(0, 0, 0, 0.3));\n",
              "      fill: #FFFFFF;\n",
              "    }\n",
              "  </style>\n",
              "\n",
              "    <script>\n",
              "      const buttonEl =\n",
              "        document.querySelector('#df-98cc35ca-61bb-4792-aa51-ed00dcbcdf70 button.colab-df-convert');\n",
              "      buttonEl.style.display =\n",
              "        google.colab.kernel.accessAllowed ? 'block' : 'none';\n",
              "\n",
              "      async function convertToInteractive(key) {\n",
              "        const element = document.querySelector('#df-98cc35ca-61bb-4792-aa51-ed00dcbcdf70');\n",
              "        const dataTable =\n",
              "          await google.colab.kernel.invokeFunction('convertToInteractive',\n",
              "                                                    [key], {});\n",
              "        if (!dataTable) return;\n",
              "\n",
              "        const docLinkHtml = 'Like what you see? Visit the ' +\n",
              "          '<a target=\"_blank\" href=https://colab.research.google.com/notebooks/data_table.ipynb>data table notebook</a>'\n",
              "          + ' to learn more about interactive tables.';\n",
              "        element.innerHTML = '';\n",
              "        dataTable['output_type'] = 'display_data';\n",
              "        await google.colab.output.renderOutput(dataTable, element);\n",
              "        const docLink = document.createElement('div');\n",
              "        docLink.innerHTML = docLinkHtml;\n",
              "        element.appendChild(docLink);\n",
              "      }\n",
              "    </script>\n",
              "  </div>\n",
              "\n",
              "\n",
              "<div id=\"df-6f19e874-d4ca-491a-b41e-3f15686d90b2\">\n",
              "  <button class=\"colab-df-quickchart\" onclick=\"quickchart('df-6f19e874-d4ca-491a-b41e-3f15686d90b2')\"\n",
              "            title=\"Suggest charts\"\n",
              "            style=\"display:none;\">\n",
              "\n",
              "<svg xmlns=\"http://www.w3.org/2000/svg\" height=\"24px\"viewBox=\"0 0 24 24\"\n",
              "     width=\"24px\">\n",
              "    <g>\n",
              "        <path d=\"M19 3H5c-1.1 0-2 .9-2 2v14c0 1.1.9 2 2 2h14c1.1 0 2-.9 2-2V5c0-1.1-.9-2-2-2zM9 17H7v-7h2v7zm4 0h-2V7h2v10zm4 0h-2v-4h2v4z\"/>\n",
              "    </g>\n",
              "</svg>\n",
              "  </button>\n",
              "\n",
              "<style>\n",
              "  .colab-df-quickchart {\n",
              "      --bg-color: #E8F0FE;\n",
              "      --fill-color: #1967D2;\n",
              "      --hover-bg-color: #E2EBFA;\n",
              "      --hover-fill-color: #174EA6;\n",
              "      --disabled-fill-color: #AAA;\n",
              "      --disabled-bg-color: #DDD;\n",
              "  }\n",
              "\n",
              "  [theme=dark] .colab-df-quickchart {\n",
              "      --bg-color: #3B4455;\n",
              "      --fill-color: #D2E3FC;\n",
              "      --hover-bg-color: #434B5C;\n",
              "      --hover-fill-color: #FFFFFF;\n",
              "      --disabled-bg-color: #3B4455;\n",
              "      --disabled-fill-color: #666;\n",
              "  }\n",
              "\n",
              "  .colab-df-quickchart {\n",
              "    background-color: var(--bg-color);\n",
              "    border: none;\n",
              "    border-radius: 50%;\n",
              "    cursor: pointer;\n",
              "    display: none;\n",
              "    fill: var(--fill-color);\n",
              "    height: 32px;\n",
              "    padding: 0;\n",
              "    width: 32px;\n",
              "  }\n",
              "\n",
              "  .colab-df-quickchart:hover {\n",
              "    background-color: var(--hover-bg-color);\n",
              "    box-shadow: 0 1px 2px rgba(60, 64, 67, 0.3), 0 1px 3px 1px rgba(60, 64, 67, 0.15);\n",
              "    fill: var(--button-hover-fill-color);\n",
              "  }\n",
              "\n",
              "  .colab-df-quickchart-complete:disabled,\n",
              "  .colab-df-quickchart-complete:disabled:hover {\n",
              "    background-color: var(--disabled-bg-color);\n",
              "    fill: var(--disabled-fill-color);\n",
              "    box-shadow: none;\n",
              "  }\n",
              "\n",
              "  .colab-df-spinner {\n",
              "    border: 2px solid var(--fill-color);\n",
              "    border-color: transparent;\n",
              "    border-bottom-color: var(--fill-color);\n",
              "    animation:\n",
              "      spin 1s steps(1) infinite;\n",
              "  }\n",
              "\n",
              "  @keyframes spin {\n",
              "    0% {\n",
              "      border-color: transparent;\n",
              "      border-bottom-color: var(--fill-color);\n",
              "      border-left-color: var(--fill-color);\n",
              "    }\n",
              "    20% {\n",
              "      border-color: transparent;\n",
              "      border-left-color: var(--fill-color);\n",
              "      border-top-color: var(--fill-color);\n",
              "    }\n",
              "    30% {\n",
              "      border-color: transparent;\n",
              "      border-left-color: var(--fill-color);\n",
              "      border-top-color: var(--fill-color);\n",
              "      border-right-color: var(--fill-color);\n",
              "    }\n",
              "    40% {\n",
              "      border-color: transparent;\n",
              "      border-right-color: var(--fill-color);\n",
              "      border-top-color: var(--fill-color);\n",
              "    }\n",
              "    60% {\n",
              "      border-color: transparent;\n",
              "      border-right-color: var(--fill-color);\n",
              "    }\n",
              "    80% {\n",
              "      border-color: transparent;\n",
              "      border-right-color: var(--fill-color);\n",
              "      border-bottom-color: var(--fill-color);\n",
              "    }\n",
              "    90% {\n",
              "      border-color: transparent;\n",
              "      border-bottom-color: var(--fill-color);\n",
              "    }\n",
              "  }\n",
              "</style>\n",
              "\n",
              "  <script>\n",
              "    async function quickchart(key) {\n",
              "      const quickchartButtonEl =\n",
              "        document.querySelector('#' + key + ' button');\n",
              "      quickchartButtonEl.disabled = true;  // To prevent multiple clicks.\n",
              "      quickchartButtonEl.classList.add('colab-df-spinner');\n",
              "      try {\n",
              "        const charts = await google.colab.kernel.invokeFunction(\n",
              "            'suggestCharts', [key], {});\n",
              "      } catch (error) {\n",
              "        console.error('Error during call to suggestCharts:', error);\n",
              "      }\n",
              "      quickchartButtonEl.classList.remove('colab-df-spinner');\n",
              "      quickchartButtonEl.classList.add('colab-df-quickchart-complete');\n",
              "    }\n",
              "    (() => {\n",
              "      let quickchartButtonEl =\n",
              "        document.querySelector('#df-6f19e874-d4ca-491a-b41e-3f15686d90b2 button');\n",
              "      quickchartButtonEl.style.display =\n",
              "        google.colab.kernel.accessAllowed ? 'block' : 'none';\n",
              "    })();\n",
              "  </script>\n",
              "</div>\n",
              "    </div>\n",
              "  </div>\n"
            ]
          },
          "metadata": {}
        }
      ]
    },
    {
      "cell_type": "code",
      "source": [
        "# Удаляем лишние столбцы\n",
        "\n",
        "\n",
        "columns_to_drop = [\"Unnamed: 0\", \"article\", \"ean_13\", \"cost\", \"category_id\", \"ozon_article\", \"wb_article\",\n",
        "                   \"ym_article\", \"wb_article_td\", \"ozon_name\", \"name_1c\", \"wb_name\"]\n",
        "\n",
        "# Удаление столбцов из датафрейма\n",
        "product = product.drop(columns=columns_to_drop)"
      ],
      "metadata": {
        "id": "QrgW6UKXYDqe"
      },
      "execution_count": 12,
      "outputs": []
    },
    {
      "cell_type": "code",
      "execution_count": 13,
      "metadata": {
        "scrolled": true,
        "id": "17BdHNcbSiCK",
        "colab": {
          "base_uri": "https://localhost:8080/"
        },
        "outputId": "fb78a997-a7e6-42cc-bb81-530936cfa463"
      },
      "outputs": [
        {
          "output_type": "stream",
          "name": "stdout",
          "text": [
            "<class 'pandas.core.frame.DataFrame'>\n",
            "Int64Index: 496 entries, 245 to 52\n",
            "Data columns (total 2 columns):\n",
            " #   Column             Non-Null Count  Dtype  \n",
            "---  ------             --------------  -----  \n",
            " 0   name               494 non-null    object \n",
            " 1   recommended_price  491 non-null    float64\n",
            "dtypes: float64(1), object(1)\n",
            "memory usage: 11.6+ KB\n"
          ]
        }
      ],
      "source": [
        "product.info()"
      ]
    },
    {
      "cell_type": "markdown",
      "source": [
        "## Исследуем файл key"
      ],
      "metadata": {
        "id": "TRGIs_WxUKkC"
      }
    },
    {
      "cell_type": "code",
      "source": [
        "key = pd.read_csv(folder_path + \"marketing_productdealerkey.csv\", sep=';', index_col='id')"
      ],
      "metadata": {
        "id": "7vilFm6jUUc7"
      },
      "execution_count": 14,
      "outputs": []
    },
    {
      "cell_type": "code",
      "source": [
        "display(key.sample(5))"
      ],
      "metadata": {
        "colab": {
          "base_uri": "https://localhost:8080/",
          "height": 238
        },
        "id": "1ITEpVelUrah",
        "outputId": "196fc6b7-3ec4-4659-c0a0-c92ef4010db0"
      },
      "execution_count": 15,
      "outputs": [
        {
          "output_type": "display_data",
          "data": {
            "text/plain": [
              "            key  dealer_id  product_id\n",
              "id                                    \n",
              "1650   15881530         15         167\n",
              "1265   26390949         16         357\n",
              "1109    3972364         13         142\n",
              "1667   40019175          1         397\n",
              "2014  530308963         18         416"
            ],
            "text/html": [
              "\n",
              "  <div id=\"df-4a13dcf0-0e52-4635-a45a-9778a0e414a5\" class=\"colab-df-container\">\n",
              "    <div>\n",
              "<style scoped>\n",
              "    .dataframe tbody tr th:only-of-type {\n",
              "        vertical-align: middle;\n",
              "    }\n",
              "\n",
              "    .dataframe tbody tr th {\n",
              "        vertical-align: top;\n",
              "    }\n",
              "\n",
              "    .dataframe thead th {\n",
              "        text-align: right;\n",
              "    }\n",
              "</style>\n",
              "<table border=\"1\" class=\"dataframe\">\n",
              "  <thead>\n",
              "    <tr style=\"text-align: right;\">\n",
              "      <th></th>\n",
              "      <th>key</th>\n",
              "      <th>dealer_id</th>\n",
              "      <th>product_id</th>\n",
              "    </tr>\n",
              "    <tr>\n",
              "      <th>id</th>\n",
              "      <th></th>\n",
              "      <th></th>\n",
              "      <th></th>\n",
              "    </tr>\n",
              "  </thead>\n",
              "  <tbody>\n",
              "    <tr>\n",
              "      <th>1650</th>\n",
              "      <td>15881530</td>\n",
              "      <td>15</td>\n",
              "      <td>167</td>\n",
              "    </tr>\n",
              "    <tr>\n",
              "      <th>1265</th>\n",
              "      <td>26390949</td>\n",
              "      <td>16</td>\n",
              "      <td>357</td>\n",
              "    </tr>\n",
              "    <tr>\n",
              "      <th>1109</th>\n",
              "      <td>3972364</td>\n",
              "      <td>13</td>\n",
              "      <td>142</td>\n",
              "    </tr>\n",
              "    <tr>\n",
              "      <th>1667</th>\n",
              "      <td>40019175</td>\n",
              "      <td>1</td>\n",
              "      <td>397</td>\n",
              "    </tr>\n",
              "    <tr>\n",
              "      <th>2014</th>\n",
              "      <td>530308963</td>\n",
              "      <td>18</td>\n",
              "      <td>416</td>\n",
              "    </tr>\n",
              "  </tbody>\n",
              "</table>\n",
              "</div>\n",
              "    <div class=\"colab-df-buttons\">\n",
              "\n",
              "  <div class=\"colab-df-container\">\n",
              "    <button class=\"colab-df-convert\" onclick=\"convertToInteractive('df-4a13dcf0-0e52-4635-a45a-9778a0e414a5')\"\n",
              "            title=\"Convert this dataframe to an interactive table.\"\n",
              "            style=\"display:none;\">\n",
              "\n",
              "  <svg xmlns=\"http://www.w3.org/2000/svg\" height=\"24px\" viewBox=\"0 -960 960 960\">\n",
              "    <path d=\"M120-120v-720h720v720H120Zm60-500h600v-160H180v160Zm220 220h160v-160H400v160Zm0 220h160v-160H400v160ZM180-400h160v-160H180v160Zm440 0h160v-160H620v160ZM180-180h160v-160H180v160Zm440 0h160v-160H620v160Z\"/>\n",
              "  </svg>\n",
              "    </button>\n",
              "\n",
              "  <style>\n",
              "    .colab-df-container {\n",
              "      display:flex;\n",
              "      gap: 12px;\n",
              "    }\n",
              "\n",
              "    .colab-df-convert {\n",
              "      background-color: #E8F0FE;\n",
              "      border: none;\n",
              "      border-radius: 50%;\n",
              "      cursor: pointer;\n",
              "      display: none;\n",
              "      fill: #1967D2;\n",
              "      height: 32px;\n",
              "      padding: 0 0 0 0;\n",
              "      width: 32px;\n",
              "    }\n",
              "\n",
              "    .colab-df-convert:hover {\n",
              "      background-color: #E2EBFA;\n",
              "      box-shadow: 0px 1px 2px rgba(60, 64, 67, 0.3), 0px 1px 3px 1px rgba(60, 64, 67, 0.15);\n",
              "      fill: #174EA6;\n",
              "    }\n",
              "\n",
              "    .colab-df-buttons div {\n",
              "      margin-bottom: 4px;\n",
              "    }\n",
              "\n",
              "    [theme=dark] .colab-df-convert {\n",
              "      background-color: #3B4455;\n",
              "      fill: #D2E3FC;\n",
              "    }\n",
              "\n",
              "    [theme=dark] .colab-df-convert:hover {\n",
              "      background-color: #434B5C;\n",
              "      box-shadow: 0px 1px 3px 1px rgba(0, 0, 0, 0.15);\n",
              "      filter: drop-shadow(0px 1px 2px rgba(0, 0, 0, 0.3));\n",
              "      fill: #FFFFFF;\n",
              "    }\n",
              "  </style>\n",
              "\n",
              "    <script>\n",
              "      const buttonEl =\n",
              "        document.querySelector('#df-4a13dcf0-0e52-4635-a45a-9778a0e414a5 button.colab-df-convert');\n",
              "      buttonEl.style.display =\n",
              "        google.colab.kernel.accessAllowed ? 'block' : 'none';\n",
              "\n",
              "      async function convertToInteractive(key) {\n",
              "        const element = document.querySelector('#df-4a13dcf0-0e52-4635-a45a-9778a0e414a5');\n",
              "        const dataTable =\n",
              "          await google.colab.kernel.invokeFunction('convertToInteractive',\n",
              "                                                    [key], {});\n",
              "        if (!dataTable) return;\n",
              "\n",
              "        const docLinkHtml = 'Like what you see? Visit the ' +\n",
              "          '<a target=\"_blank\" href=https://colab.research.google.com/notebooks/data_table.ipynb>data table notebook</a>'\n",
              "          + ' to learn more about interactive tables.';\n",
              "        element.innerHTML = '';\n",
              "        dataTable['output_type'] = 'display_data';\n",
              "        await google.colab.output.renderOutput(dataTable, element);\n",
              "        const docLink = document.createElement('div');\n",
              "        docLink.innerHTML = docLinkHtml;\n",
              "        element.appendChild(docLink);\n",
              "      }\n",
              "    </script>\n",
              "  </div>\n",
              "\n",
              "\n",
              "<div id=\"df-fb4b897d-f8f1-4eae-a415-1afe6b8e1f3c\">\n",
              "  <button class=\"colab-df-quickchart\" onclick=\"quickchart('df-fb4b897d-f8f1-4eae-a415-1afe6b8e1f3c')\"\n",
              "            title=\"Suggest charts\"\n",
              "            style=\"display:none;\">\n",
              "\n",
              "<svg xmlns=\"http://www.w3.org/2000/svg\" height=\"24px\"viewBox=\"0 0 24 24\"\n",
              "     width=\"24px\">\n",
              "    <g>\n",
              "        <path d=\"M19 3H5c-1.1 0-2 .9-2 2v14c0 1.1.9 2 2 2h14c1.1 0 2-.9 2-2V5c0-1.1-.9-2-2-2zM9 17H7v-7h2v7zm4 0h-2V7h2v10zm4 0h-2v-4h2v4z\"/>\n",
              "    </g>\n",
              "</svg>\n",
              "  </button>\n",
              "\n",
              "<style>\n",
              "  .colab-df-quickchart {\n",
              "      --bg-color: #E8F0FE;\n",
              "      --fill-color: #1967D2;\n",
              "      --hover-bg-color: #E2EBFA;\n",
              "      --hover-fill-color: #174EA6;\n",
              "      --disabled-fill-color: #AAA;\n",
              "      --disabled-bg-color: #DDD;\n",
              "  }\n",
              "\n",
              "  [theme=dark] .colab-df-quickchart {\n",
              "      --bg-color: #3B4455;\n",
              "      --fill-color: #D2E3FC;\n",
              "      --hover-bg-color: #434B5C;\n",
              "      --hover-fill-color: #FFFFFF;\n",
              "      --disabled-bg-color: #3B4455;\n",
              "      --disabled-fill-color: #666;\n",
              "  }\n",
              "\n",
              "  .colab-df-quickchart {\n",
              "    background-color: var(--bg-color);\n",
              "    border: none;\n",
              "    border-radius: 50%;\n",
              "    cursor: pointer;\n",
              "    display: none;\n",
              "    fill: var(--fill-color);\n",
              "    height: 32px;\n",
              "    padding: 0;\n",
              "    width: 32px;\n",
              "  }\n",
              "\n",
              "  .colab-df-quickchart:hover {\n",
              "    background-color: var(--hover-bg-color);\n",
              "    box-shadow: 0 1px 2px rgba(60, 64, 67, 0.3), 0 1px 3px 1px rgba(60, 64, 67, 0.15);\n",
              "    fill: var(--button-hover-fill-color);\n",
              "  }\n",
              "\n",
              "  .colab-df-quickchart-complete:disabled,\n",
              "  .colab-df-quickchart-complete:disabled:hover {\n",
              "    background-color: var(--disabled-bg-color);\n",
              "    fill: var(--disabled-fill-color);\n",
              "    box-shadow: none;\n",
              "  }\n",
              "\n",
              "  .colab-df-spinner {\n",
              "    border: 2px solid var(--fill-color);\n",
              "    border-color: transparent;\n",
              "    border-bottom-color: var(--fill-color);\n",
              "    animation:\n",
              "      spin 1s steps(1) infinite;\n",
              "  }\n",
              "\n",
              "  @keyframes spin {\n",
              "    0% {\n",
              "      border-color: transparent;\n",
              "      border-bottom-color: var(--fill-color);\n",
              "      border-left-color: var(--fill-color);\n",
              "    }\n",
              "    20% {\n",
              "      border-color: transparent;\n",
              "      border-left-color: var(--fill-color);\n",
              "      border-top-color: var(--fill-color);\n",
              "    }\n",
              "    30% {\n",
              "      border-color: transparent;\n",
              "      border-left-color: var(--fill-color);\n",
              "      border-top-color: var(--fill-color);\n",
              "      border-right-color: var(--fill-color);\n",
              "    }\n",
              "    40% {\n",
              "      border-color: transparent;\n",
              "      border-right-color: var(--fill-color);\n",
              "      border-top-color: var(--fill-color);\n",
              "    }\n",
              "    60% {\n",
              "      border-color: transparent;\n",
              "      border-right-color: var(--fill-color);\n",
              "    }\n",
              "    80% {\n",
              "      border-color: transparent;\n",
              "      border-right-color: var(--fill-color);\n",
              "      border-bottom-color: var(--fill-color);\n",
              "    }\n",
              "    90% {\n",
              "      border-color: transparent;\n",
              "      border-bottom-color: var(--fill-color);\n",
              "    }\n",
              "  }\n",
              "</style>\n",
              "\n",
              "  <script>\n",
              "    async function quickchart(key) {\n",
              "      const quickchartButtonEl =\n",
              "        document.querySelector('#' + key + ' button');\n",
              "      quickchartButtonEl.disabled = true;  // To prevent multiple clicks.\n",
              "      quickchartButtonEl.classList.add('colab-df-spinner');\n",
              "      try {\n",
              "        const charts = await google.colab.kernel.invokeFunction(\n",
              "            'suggestCharts', [key], {});\n",
              "      } catch (error) {\n",
              "        console.error('Error during call to suggestCharts:', error);\n",
              "      }\n",
              "      quickchartButtonEl.classList.remove('colab-df-spinner');\n",
              "      quickchartButtonEl.classList.add('colab-df-quickchart-complete');\n",
              "    }\n",
              "    (() => {\n",
              "      let quickchartButtonEl =\n",
              "        document.querySelector('#df-fb4b897d-f8f1-4eae-a415-1afe6b8e1f3c button');\n",
              "      quickchartButtonEl.style.display =\n",
              "        google.colab.kernel.accessAllowed ? 'block' : 'none';\n",
              "    })();\n",
              "  </script>\n",
              "</div>\n",
              "    </div>\n",
              "  </div>\n"
            ]
          },
          "metadata": {}
        }
      ]
    },
    {
      "cell_type": "code",
      "source": [
        "key.info()"
      ],
      "metadata": {
        "colab": {
          "base_uri": "https://localhost:8080/"
        },
        "id": "ZxNzFrimUrvh",
        "outputId": "80187946-9f75-4769-88b9-befd54e314fe"
      },
      "execution_count": 16,
      "outputs": [
        {
          "output_type": "stream",
          "name": "stdout",
          "text": [
            "<class 'pandas.core.frame.DataFrame'>\n",
            "Int64Index: 1700 entries, 1 to 2023\n",
            "Data columns (total 3 columns):\n",
            " #   Column      Non-Null Count  Dtype \n",
            "---  ------      --------------  ----- \n",
            " 0   key         1700 non-null   object\n",
            " 1   dealer_id   1700 non-null   int64 \n",
            " 2   product_id  1700 non-null   int64 \n",
            "dtypes: int64(2), object(1)\n",
            "memory usage: 53.1+ KB\n"
          ]
        }
      ]
    },
    {
      "cell_type": "markdown",
      "metadata": {
        "id": "0e25p-xbSiCL"
      },
      "source": [
        "## Исследуем файл price"
      ]
    },
    {
      "cell_type": "code",
      "source": [
        "price = pd.read_csv(folder_path + \"marketing_dealerprice.csv\", sep=';', parse_dates=['date'], index_col='id')"
      ],
      "metadata": {
        "id": "3C2RLi60VCvc"
      },
      "execution_count": 17,
      "outputs": []
    },
    {
      "cell_type": "code",
      "source": [
        "display(price.sample(5))"
      ],
      "metadata": {
        "colab": {
          "base_uri": "https://localhost:8080/",
          "height": 238
        },
        "id": "YfDFj_EzVDC8",
        "outputId": "199995c6-5039-49df-fe4b-2a2572b58f4c"
      },
      "execution_count": 18,
      "outputs": [
        {
          "output_type": "display_data",
          "data": {
            "text/plain": [
              "      product_key  price                                        product_url  \\\n",
              "id                                                                            \n",
              "8279     15881618  164.0  https://www.vseinstrumenti.ru/product/kontsent...   \n",
              "2650      1425732  172.0  https://www.onlinetrade.ru/catalogue/sredstva_...   \n",
              "4635      3732187  189.0                   https://www.sima-land.ru/4292830   \n",
              "10324   200544129  872.0                    https://www.bafus.ru/200544129/   \n",
              "1855     44586174  499.0  https://www.wildberries.ru/catalog/44586174/de...   \n",
              "\n",
              "                                            product_name       date  dealer_id  \n",
              "id                                                                              \n",
              "8279   Концентрат для мытья полов и стен PROSEPT Mult... 2023-07-17         15  \n",
              "2650   Чистящий спрей PROSEPT COOKY Spray для столешн... 2023-07-12         10  \n",
              "4635   \"Нейтрализатор запаха Flox Sea I \"\"Морской бри... 2023-07-13         13  \n",
              "10324  Просепт Professional Bath Uni средство для душ... 2023-07-19          3  \n",
              "1855   Активная пена Universal Spray усиленное чистящ... 2023-07-11          1  "
            ],
            "text/html": [
              "\n",
              "  <div id=\"df-1d4d5aed-7863-402d-aca7-8b8481a2bd9d\" class=\"colab-df-container\">\n",
              "    <div>\n",
              "<style scoped>\n",
              "    .dataframe tbody tr th:only-of-type {\n",
              "        vertical-align: middle;\n",
              "    }\n",
              "\n",
              "    .dataframe tbody tr th {\n",
              "        vertical-align: top;\n",
              "    }\n",
              "\n",
              "    .dataframe thead th {\n",
              "        text-align: right;\n",
              "    }\n",
              "</style>\n",
              "<table border=\"1\" class=\"dataframe\">\n",
              "  <thead>\n",
              "    <tr style=\"text-align: right;\">\n",
              "      <th></th>\n",
              "      <th>product_key</th>\n",
              "      <th>price</th>\n",
              "      <th>product_url</th>\n",
              "      <th>product_name</th>\n",
              "      <th>date</th>\n",
              "      <th>dealer_id</th>\n",
              "    </tr>\n",
              "    <tr>\n",
              "      <th>id</th>\n",
              "      <th></th>\n",
              "      <th></th>\n",
              "      <th></th>\n",
              "      <th></th>\n",
              "      <th></th>\n",
              "      <th></th>\n",
              "    </tr>\n",
              "  </thead>\n",
              "  <tbody>\n",
              "    <tr>\n",
              "      <th>8279</th>\n",
              "      <td>15881618</td>\n",
              "      <td>164.0</td>\n",
              "      <td>https://www.vseinstrumenti.ru/product/kontsent...</td>\n",
              "      <td>Концентрат для мытья полов и стен PROSEPT Mult...</td>\n",
              "      <td>2023-07-17</td>\n",
              "      <td>15</td>\n",
              "    </tr>\n",
              "    <tr>\n",
              "      <th>2650</th>\n",
              "      <td>1425732</td>\n",
              "      <td>172.0</td>\n",
              "      <td>https://www.onlinetrade.ru/catalogue/sredstva_...</td>\n",
              "      <td>Чистящий спрей PROSEPT COOKY Spray для столешн...</td>\n",
              "      <td>2023-07-12</td>\n",
              "      <td>10</td>\n",
              "    </tr>\n",
              "    <tr>\n",
              "      <th>4635</th>\n",
              "      <td>3732187</td>\n",
              "      <td>189.0</td>\n",
              "      <td>https://www.sima-land.ru/4292830</td>\n",
              "      <td>\"Нейтрализатор запаха Flox Sea I \"\"Морской бри...</td>\n",
              "      <td>2023-07-13</td>\n",
              "      <td>13</td>\n",
              "    </tr>\n",
              "    <tr>\n",
              "      <th>10324</th>\n",
              "      <td>200544129</td>\n",
              "      <td>872.0</td>\n",
              "      <td>https://www.bafus.ru/200544129/</td>\n",
              "      <td>Просепт Professional Bath Uni средство для душ...</td>\n",
              "      <td>2023-07-19</td>\n",
              "      <td>3</td>\n",
              "    </tr>\n",
              "    <tr>\n",
              "      <th>1855</th>\n",
              "      <td>44586174</td>\n",
              "      <td>499.0</td>\n",
              "      <td>https://www.wildberries.ru/catalog/44586174/de...</td>\n",
              "      <td>Активная пена Universal Spray усиленное чистящ...</td>\n",
              "      <td>2023-07-11</td>\n",
              "      <td>1</td>\n",
              "    </tr>\n",
              "  </tbody>\n",
              "</table>\n",
              "</div>\n",
              "    <div class=\"colab-df-buttons\">\n",
              "\n",
              "  <div class=\"colab-df-container\">\n",
              "    <button class=\"colab-df-convert\" onclick=\"convertToInteractive('df-1d4d5aed-7863-402d-aca7-8b8481a2bd9d')\"\n",
              "            title=\"Convert this dataframe to an interactive table.\"\n",
              "            style=\"display:none;\">\n",
              "\n",
              "  <svg xmlns=\"http://www.w3.org/2000/svg\" height=\"24px\" viewBox=\"0 -960 960 960\">\n",
              "    <path d=\"M120-120v-720h720v720H120Zm60-500h600v-160H180v160Zm220 220h160v-160H400v160Zm0 220h160v-160H400v160ZM180-400h160v-160H180v160Zm440 0h160v-160H620v160ZM180-180h160v-160H180v160Zm440 0h160v-160H620v160Z\"/>\n",
              "  </svg>\n",
              "    </button>\n",
              "\n",
              "  <style>\n",
              "    .colab-df-container {\n",
              "      display:flex;\n",
              "      gap: 12px;\n",
              "    }\n",
              "\n",
              "    .colab-df-convert {\n",
              "      background-color: #E8F0FE;\n",
              "      border: none;\n",
              "      border-radius: 50%;\n",
              "      cursor: pointer;\n",
              "      display: none;\n",
              "      fill: #1967D2;\n",
              "      height: 32px;\n",
              "      padding: 0 0 0 0;\n",
              "      width: 32px;\n",
              "    }\n",
              "\n",
              "    .colab-df-convert:hover {\n",
              "      background-color: #E2EBFA;\n",
              "      box-shadow: 0px 1px 2px rgba(60, 64, 67, 0.3), 0px 1px 3px 1px rgba(60, 64, 67, 0.15);\n",
              "      fill: #174EA6;\n",
              "    }\n",
              "\n",
              "    .colab-df-buttons div {\n",
              "      margin-bottom: 4px;\n",
              "    }\n",
              "\n",
              "    [theme=dark] .colab-df-convert {\n",
              "      background-color: #3B4455;\n",
              "      fill: #D2E3FC;\n",
              "    }\n",
              "\n",
              "    [theme=dark] .colab-df-convert:hover {\n",
              "      background-color: #434B5C;\n",
              "      box-shadow: 0px 1px 3px 1px rgba(0, 0, 0, 0.15);\n",
              "      filter: drop-shadow(0px 1px 2px rgba(0, 0, 0, 0.3));\n",
              "      fill: #FFFFFF;\n",
              "    }\n",
              "  </style>\n",
              "\n",
              "    <script>\n",
              "      const buttonEl =\n",
              "        document.querySelector('#df-1d4d5aed-7863-402d-aca7-8b8481a2bd9d button.colab-df-convert');\n",
              "      buttonEl.style.display =\n",
              "        google.colab.kernel.accessAllowed ? 'block' : 'none';\n",
              "\n",
              "      async function convertToInteractive(key) {\n",
              "        const element = document.querySelector('#df-1d4d5aed-7863-402d-aca7-8b8481a2bd9d');\n",
              "        const dataTable =\n",
              "          await google.colab.kernel.invokeFunction('convertToInteractive',\n",
              "                                                    [key], {});\n",
              "        if (!dataTable) return;\n",
              "\n",
              "        const docLinkHtml = 'Like what you see? Visit the ' +\n",
              "          '<a target=\"_blank\" href=https://colab.research.google.com/notebooks/data_table.ipynb>data table notebook</a>'\n",
              "          + ' to learn more about interactive tables.';\n",
              "        element.innerHTML = '';\n",
              "        dataTable['output_type'] = 'display_data';\n",
              "        await google.colab.output.renderOutput(dataTable, element);\n",
              "        const docLink = document.createElement('div');\n",
              "        docLink.innerHTML = docLinkHtml;\n",
              "        element.appendChild(docLink);\n",
              "      }\n",
              "    </script>\n",
              "  </div>\n",
              "\n",
              "\n",
              "<div id=\"df-608b328b-918b-4f3f-b472-1fd9288e5a59\">\n",
              "  <button class=\"colab-df-quickchart\" onclick=\"quickchart('df-608b328b-918b-4f3f-b472-1fd9288e5a59')\"\n",
              "            title=\"Suggest charts\"\n",
              "            style=\"display:none;\">\n",
              "\n",
              "<svg xmlns=\"http://www.w3.org/2000/svg\" height=\"24px\"viewBox=\"0 0 24 24\"\n",
              "     width=\"24px\">\n",
              "    <g>\n",
              "        <path d=\"M19 3H5c-1.1 0-2 .9-2 2v14c0 1.1.9 2 2 2h14c1.1 0 2-.9 2-2V5c0-1.1-.9-2-2-2zM9 17H7v-7h2v7zm4 0h-2V7h2v10zm4 0h-2v-4h2v4z\"/>\n",
              "    </g>\n",
              "</svg>\n",
              "  </button>\n",
              "\n",
              "<style>\n",
              "  .colab-df-quickchart {\n",
              "      --bg-color: #E8F0FE;\n",
              "      --fill-color: #1967D2;\n",
              "      --hover-bg-color: #E2EBFA;\n",
              "      --hover-fill-color: #174EA6;\n",
              "      --disabled-fill-color: #AAA;\n",
              "      --disabled-bg-color: #DDD;\n",
              "  }\n",
              "\n",
              "  [theme=dark] .colab-df-quickchart {\n",
              "      --bg-color: #3B4455;\n",
              "      --fill-color: #D2E3FC;\n",
              "      --hover-bg-color: #434B5C;\n",
              "      --hover-fill-color: #FFFFFF;\n",
              "      --disabled-bg-color: #3B4455;\n",
              "      --disabled-fill-color: #666;\n",
              "  }\n",
              "\n",
              "  .colab-df-quickchart {\n",
              "    background-color: var(--bg-color);\n",
              "    border: none;\n",
              "    border-radius: 50%;\n",
              "    cursor: pointer;\n",
              "    display: none;\n",
              "    fill: var(--fill-color);\n",
              "    height: 32px;\n",
              "    padding: 0;\n",
              "    width: 32px;\n",
              "  }\n",
              "\n",
              "  .colab-df-quickchart:hover {\n",
              "    background-color: var(--hover-bg-color);\n",
              "    box-shadow: 0 1px 2px rgba(60, 64, 67, 0.3), 0 1px 3px 1px rgba(60, 64, 67, 0.15);\n",
              "    fill: var(--button-hover-fill-color);\n",
              "  }\n",
              "\n",
              "  .colab-df-quickchart-complete:disabled,\n",
              "  .colab-df-quickchart-complete:disabled:hover {\n",
              "    background-color: var(--disabled-bg-color);\n",
              "    fill: var(--disabled-fill-color);\n",
              "    box-shadow: none;\n",
              "  }\n",
              "\n",
              "  .colab-df-spinner {\n",
              "    border: 2px solid var(--fill-color);\n",
              "    border-color: transparent;\n",
              "    border-bottom-color: var(--fill-color);\n",
              "    animation:\n",
              "      spin 1s steps(1) infinite;\n",
              "  }\n",
              "\n",
              "  @keyframes spin {\n",
              "    0% {\n",
              "      border-color: transparent;\n",
              "      border-bottom-color: var(--fill-color);\n",
              "      border-left-color: var(--fill-color);\n",
              "    }\n",
              "    20% {\n",
              "      border-color: transparent;\n",
              "      border-left-color: var(--fill-color);\n",
              "      border-top-color: var(--fill-color);\n",
              "    }\n",
              "    30% {\n",
              "      border-color: transparent;\n",
              "      border-left-color: var(--fill-color);\n",
              "      border-top-color: var(--fill-color);\n",
              "      border-right-color: var(--fill-color);\n",
              "    }\n",
              "    40% {\n",
              "      border-color: transparent;\n",
              "      border-right-color: var(--fill-color);\n",
              "      border-top-color: var(--fill-color);\n",
              "    }\n",
              "    60% {\n",
              "      border-color: transparent;\n",
              "      border-right-color: var(--fill-color);\n",
              "    }\n",
              "    80% {\n",
              "      border-color: transparent;\n",
              "      border-right-color: var(--fill-color);\n",
              "      border-bottom-color: var(--fill-color);\n",
              "    }\n",
              "    90% {\n",
              "      border-color: transparent;\n",
              "      border-bottom-color: var(--fill-color);\n",
              "    }\n",
              "  }\n",
              "</style>\n",
              "\n",
              "  <script>\n",
              "    async function quickchart(key) {\n",
              "      const quickchartButtonEl =\n",
              "        document.querySelector('#' + key + ' button');\n",
              "      quickchartButtonEl.disabled = true;  // To prevent multiple clicks.\n",
              "      quickchartButtonEl.classList.add('colab-df-spinner');\n",
              "      try {\n",
              "        const charts = await google.colab.kernel.invokeFunction(\n",
              "            'suggestCharts', [key], {});\n",
              "      } catch (error) {\n",
              "        console.error('Error during call to suggestCharts:', error);\n",
              "      }\n",
              "      quickchartButtonEl.classList.remove('colab-df-spinner');\n",
              "      quickchartButtonEl.classList.add('colab-df-quickchart-complete');\n",
              "    }\n",
              "    (() => {\n",
              "      let quickchartButtonEl =\n",
              "        document.querySelector('#df-608b328b-918b-4f3f-b472-1fd9288e5a59 button');\n",
              "      quickchartButtonEl.style.display =\n",
              "        google.colab.kernel.accessAllowed ? 'block' : 'none';\n",
              "    })();\n",
              "  </script>\n",
              "</div>\n",
              "    </div>\n",
              "  </div>\n"
            ]
          },
          "metadata": {}
        }
      ]
    },
    {
      "cell_type": "code",
      "source": [
        "price.info()"
      ],
      "metadata": {
        "colab": {
          "base_uri": "https://localhost:8080/"
        },
        "id": "jO_llLUabUc8",
        "outputId": "49ba21f9-23c7-490e-bd0f-6fdacfa78f6e"
      },
      "execution_count": 19,
      "outputs": [
        {
          "output_type": "stream",
          "name": "stdout",
          "text": [
            "<class 'pandas.core.frame.DataFrame'>\n",
            "Int64Index: 20416 entries, 2 to 20570\n",
            "Data columns (total 6 columns):\n",
            " #   Column        Non-Null Count  Dtype         \n",
            "---  ------        --------------  -----         \n",
            " 0   product_key   20416 non-null  object        \n",
            " 1   price         20416 non-null  float64       \n",
            " 2   product_url   20182 non-null  object        \n",
            " 3   product_name  20416 non-null  object        \n",
            " 4   date          20416 non-null  datetime64[ns]\n",
            " 5   dealer_id     20416 non-null  int64         \n",
            "dtypes: datetime64[ns](1), float64(1), int64(1), object(3)\n",
            "memory usage: 1.1+ MB\n"
          ]
        }
      ]
    },
    {
      "cell_type": "markdown",
      "source": [
        "#Объединяем данные\n"
      ],
      "metadata": {
        "id": "S2OTmB_XZRA6"
      }
    },
    {
      "cell_type": "code",
      "source": [
        "df = price.merge(dealer, left_on='dealer_id', right_on='id')\n",
        "df = df.merge(key, left_on='product_key', right_on='key')\n",
        "df = df.merge(product, left_on='product_id', right_on='id')"
      ],
      "metadata": {
        "id": "VV1m4pASyYN4"
      },
      "execution_count": 20,
      "outputs": []
    },
    {
      "cell_type": "code",
      "source": [
        "df.head(5)"
      ],
      "metadata": {
        "colab": {
          "base_uri": "https://localhost:8080/",
          "height": 206
        },
        "id": "SIr9XVZbbJGW",
        "outputId": "12e64e6a-e1eb-4d18-e3e3-e5fe772197be"
      },
      "execution_count": 21,
      "outputs": [
        {
          "output_type": "execute_result",
          "data": {
            "text/plain": [
              "  product_key  price                                        product_url  \\\n",
              "0      546227  233.0  https://akson.ru//p/sredstvo_universalnoe_pros...   \n",
              "1      546227  233.0  https://akson.ru//p/sredstvo_universalnoe_pros...   \n",
              "2      546227  233.0  https://akson.ru//p/sredstvo_universalnoe_pros...   \n",
              "3      546227  233.0  https://akson.ru//p/sredstvo_universalnoe_pros...   \n",
              "4      546227  233.0  https://akson.ru//p/sredstvo_universalnoe_pros...   \n",
              "\n",
              "                                        product_name       date  dealer_id_x  \\\n",
              "0  Средство универсальное Prosept Universal Spray... 2023-07-11            2   \n",
              "1  Средство универсальное Prosept Universal Spray... 2023-07-11            2   \n",
              "2  Средство универсальное Prosept Universal Spray... 2023-07-12            2   \n",
              "3  Средство универсальное Prosept Universal Spray... 2023-07-13            2   \n",
              "4  Средство универсальное Prosept Universal Spray... 2023-07-14            2   \n",
              "\n",
              "  name_x     key  dealer_id_y  product_id  \\\n",
              "0  Akson  546227            2          12   \n",
              "1  Akson  546227            2          12   \n",
              "2  Akson  546227            2          12   \n",
              "3  Akson  546227            2          12   \n",
              "4  Akson  546227            2          12   \n",
              "\n",
              "                                              name_y  recommended_price  \n",
              "0  Универсальное моющее и чистящее средствоUniver...              222.0  \n",
              "1  Универсальное моющее и чистящее средствоUniver...              222.0  \n",
              "2  Универсальное моющее и чистящее средствоUniver...              222.0  \n",
              "3  Универсальное моющее и чистящее средствоUniver...              222.0  \n",
              "4  Универсальное моющее и чистящее средствоUniver...              222.0  "
            ],
            "text/html": [
              "\n",
              "  <div id=\"df-5374a7f4-d9b2-4688-9961-1c16de563f0b\" class=\"colab-df-container\">\n",
              "    <div>\n",
              "<style scoped>\n",
              "    .dataframe tbody tr th:only-of-type {\n",
              "        vertical-align: middle;\n",
              "    }\n",
              "\n",
              "    .dataframe tbody tr th {\n",
              "        vertical-align: top;\n",
              "    }\n",
              "\n",
              "    .dataframe thead th {\n",
              "        text-align: right;\n",
              "    }\n",
              "</style>\n",
              "<table border=\"1\" class=\"dataframe\">\n",
              "  <thead>\n",
              "    <tr style=\"text-align: right;\">\n",
              "      <th></th>\n",
              "      <th>product_key</th>\n",
              "      <th>price</th>\n",
              "      <th>product_url</th>\n",
              "      <th>product_name</th>\n",
              "      <th>date</th>\n",
              "      <th>dealer_id_x</th>\n",
              "      <th>name_x</th>\n",
              "      <th>key</th>\n",
              "      <th>dealer_id_y</th>\n",
              "      <th>product_id</th>\n",
              "      <th>name_y</th>\n",
              "      <th>recommended_price</th>\n",
              "    </tr>\n",
              "  </thead>\n",
              "  <tbody>\n",
              "    <tr>\n",
              "      <th>0</th>\n",
              "      <td>546227</td>\n",
              "      <td>233.0</td>\n",
              "      <td>https://akson.ru//p/sredstvo_universalnoe_pros...</td>\n",
              "      <td>Средство универсальное Prosept Universal Spray...</td>\n",
              "      <td>2023-07-11</td>\n",
              "      <td>2</td>\n",
              "      <td>Akson</td>\n",
              "      <td>546227</td>\n",
              "      <td>2</td>\n",
              "      <td>12</td>\n",
              "      <td>Универсальное моющее и чистящее средствоUniver...</td>\n",
              "      <td>222.0</td>\n",
              "    </tr>\n",
              "    <tr>\n",
              "      <th>1</th>\n",
              "      <td>546227</td>\n",
              "      <td>233.0</td>\n",
              "      <td>https://akson.ru//p/sredstvo_universalnoe_pros...</td>\n",
              "      <td>Средство универсальное Prosept Universal Spray...</td>\n",
              "      <td>2023-07-11</td>\n",
              "      <td>2</td>\n",
              "      <td>Akson</td>\n",
              "      <td>546227</td>\n",
              "      <td>2</td>\n",
              "      <td>12</td>\n",
              "      <td>Универсальное моющее и чистящее средствоUniver...</td>\n",
              "      <td>222.0</td>\n",
              "    </tr>\n",
              "    <tr>\n",
              "      <th>2</th>\n",
              "      <td>546227</td>\n",
              "      <td>233.0</td>\n",
              "      <td>https://akson.ru//p/sredstvo_universalnoe_pros...</td>\n",
              "      <td>Средство универсальное Prosept Universal Spray...</td>\n",
              "      <td>2023-07-12</td>\n",
              "      <td>2</td>\n",
              "      <td>Akson</td>\n",
              "      <td>546227</td>\n",
              "      <td>2</td>\n",
              "      <td>12</td>\n",
              "      <td>Универсальное моющее и чистящее средствоUniver...</td>\n",
              "      <td>222.0</td>\n",
              "    </tr>\n",
              "    <tr>\n",
              "      <th>3</th>\n",
              "      <td>546227</td>\n",
              "      <td>233.0</td>\n",
              "      <td>https://akson.ru//p/sredstvo_universalnoe_pros...</td>\n",
              "      <td>Средство универсальное Prosept Universal Spray...</td>\n",
              "      <td>2023-07-13</td>\n",
              "      <td>2</td>\n",
              "      <td>Akson</td>\n",
              "      <td>546227</td>\n",
              "      <td>2</td>\n",
              "      <td>12</td>\n",
              "      <td>Универсальное моющее и чистящее средствоUniver...</td>\n",
              "      <td>222.0</td>\n",
              "    </tr>\n",
              "    <tr>\n",
              "      <th>4</th>\n",
              "      <td>546227</td>\n",
              "      <td>233.0</td>\n",
              "      <td>https://akson.ru//p/sredstvo_universalnoe_pros...</td>\n",
              "      <td>Средство универсальное Prosept Universal Spray...</td>\n",
              "      <td>2023-07-14</td>\n",
              "      <td>2</td>\n",
              "      <td>Akson</td>\n",
              "      <td>546227</td>\n",
              "      <td>2</td>\n",
              "      <td>12</td>\n",
              "      <td>Универсальное моющее и чистящее средствоUniver...</td>\n",
              "      <td>222.0</td>\n",
              "    </tr>\n",
              "  </tbody>\n",
              "</table>\n",
              "</div>\n",
              "    <div class=\"colab-df-buttons\">\n",
              "\n",
              "  <div class=\"colab-df-container\">\n",
              "    <button class=\"colab-df-convert\" onclick=\"convertToInteractive('df-5374a7f4-d9b2-4688-9961-1c16de563f0b')\"\n",
              "            title=\"Convert this dataframe to an interactive table.\"\n",
              "            style=\"display:none;\">\n",
              "\n",
              "  <svg xmlns=\"http://www.w3.org/2000/svg\" height=\"24px\" viewBox=\"0 -960 960 960\">\n",
              "    <path d=\"M120-120v-720h720v720H120Zm60-500h600v-160H180v160Zm220 220h160v-160H400v160Zm0 220h160v-160H400v160ZM180-400h160v-160H180v160Zm440 0h160v-160H620v160ZM180-180h160v-160H180v160Zm440 0h160v-160H620v160Z\"/>\n",
              "  </svg>\n",
              "    </button>\n",
              "\n",
              "  <style>\n",
              "    .colab-df-container {\n",
              "      display:flex;\n",
              "      gap: 12px;\n",
              "    }\n",
              "\n",
              "    .colab-df-convert {\n",
              "      background-color: #E8F0FE;\n",
              "      border: none;\n",
              "      border-radius: 50%;\n",
              "      cursor: pointer;\n",
              "      display: none;\n",
              "      fill: #1967D2;\n",
              "      height: 32px;\n",
              "      padding: 0 0 0 0;\n",
              "      width: 32px;\n",
              "    }\n",
              "\n",
              "    .colab-df-convert:hover {\n",
              "      background-color: #E2EBFA;\n",
              "      box-shadow: 0px 1px 2px rgba(60, 64, 67, 0.3), 0px 1px 3px 1px rgba(60, 64, 67, 0.15);\n",
              "      fill: #174EA6;\n",
              "    }\n",
              "\n",
              "    .colab-df-buttons div {\n",
              "      margin-bottom: 4px;\n",
              "    }\n",
              "\n",
              "    [theme=dark] .colab-df-convert {\n",
              "      background-color: #3B4455;\n",
              "      fill: #D2E3FC;\n",
              "    }\n",
              "\n",
              "    [theme=dark] .colab-df-convert:hover {\n",
              "      background-color: #434B5C;\n",
              "      box-shadow: 0px 1px 3px 1px rgba(0, 0, 0, 0.15);\n",
              "      filter: drop-shadow(0px 1px 2px rgba(0, 0, 0, 0.3));\n",
              "      fill: #FFFFFF;\n",
              "    }\n",
              "  </style>\n",
              "\n",
              "    <script>\n",
              "      const buttonEl =\n",
              "        document.querySelector('#df-5374a7f4-d9b2-4688-9961-1c16de563f0b button.colab-df-convert');\n",
              "      buttonEl.style.display =\n",
              "        google.colab.kernel.accessAllowed ? 'block' : 'none';\n",
              "\n",
              "      async function convertToInteractive(key) {\n",
              "        const element = document.querySelector('#df-5374a7f4-d9b2-4688-9961-1c16de563f0b');\n",
              "        const dataTable =\n",
              "          await google.colab.kernel.invokeFunction('convertToInteractive',\n",
              "                                                    [key], {});\n",
              "        if (!dataTable) return;\n",
              "\n",
              "        const docLinkHtml = 'Like what you see? Visit the ' +\n",
              "          '<a target=\"_blank\" href=https://colab.research.google.com/notebooks/data_table.ipynb>data table notebook</a>'\n",
              "          + ' to learn more about interactive tables.';\n",
              "        element.innerHTML = '';\n",
              "        dataTable['output_type'] = 'display_data';\n",
              "        await google.colab.output.renderOutput(dataTable, element);\n",
              "        const docLink = document.createElement('div');\n",
              "        docLink.innerHTML = docLinkHtml;\n",
              "        element.appendChild(docLink);\n",
              "      }\n",
              "    </script>\n",
              "  </div>\n",
              "\n",
              "\n",
              "<div id=\"df-fcb2b4f1-e4df-4330-96a5-8c4912c7fc19\">\n",
              "  <button class=\"colab-df-quickchart\" onclick=\"quickchart('df-fcb2b4f1-e4df-4330-96a5-8c4912c7fc19')\"\n",
              "            title=\"Suggest charts\"\n",
              "            style=\"display:none;\">\n",
              "\n",
              "<svg xmlns=\"http://www.w3.org/2000/svg\" height=\"24px\"viewBox=\"0 0 24 24\"\n",
              "     width=\"24px\">\n",
              "    <g>\n",
              "        <path d=\"M19 3H5c-1.1 0-2 .9-2 2v14c0 1.1.9 2 2 2h14c1.1 0 2-.9 2-2V5c0-1.1-.9-2-2-2zM9 17H7v-7h2v7zm4 0h-2V7h2v10zm4 0h-2v-4h2v4z\"/>\n",
              "    </g>\n",
              "</svg>\n",
              "  </button>\n",
              "\n",
              "<style>\n",
              "  .colab-df-quickchart {\n",
              "      --bg-color: #E8F0FE;\n",
              "      --fill-color: #1967D2;\n",
              "      --hover-bg-color: #E2EBFA;\n",
              "      --hover-fill-color: #174EA6;\n",
              "      --disabled-fill-color: #AAA;\n",
              "      --disabled-bg-color: #DDD;\n",
              "  }\n",
              "\n",
              "  [theme=dark] .colab-df-quickchart {\n",
              "      --bg-color: #3B4455;\n",
              "      --fill-color: #D2E3FC;\n",
              "      --hover-bg-color: #434B5C;\n",
              "      --hover-fill-color: #FFFFFF;\n",
              "      --disabled-bg-color: #3B4455;\n",
              "      --disabled-fill-color: #666;\n",
              "  }\n",
              "\n",
              "  .colab-df-quickchart {\n",
              "    background-color: var(--bg-color);\n",
              "    border: none;\n",
              "    border-radius: 50%;\n",
              "    cursor: pointer;\n",
              "    display: none;\n",
              "    fill: var(--fill-color);\n",
              "    height: 32px;\n",
              "    padding: 0;\n",
              "    width: 32px;\n",
              "  }\n",
              "\n",
              "  .colab-df-quickchart:hover {\n",
              "    background-color: var(--hover-bg-color);\n",
              "    box-shadow: 0 1px 2px rgba(60, 64, 67, 0.3), 0 1px 3px 1px rgba(60, 64, 67, 0.15);\n",
              "    fill: var(--button-hover-fill-color);\n",
              "  }\n",
              "\n",
              "  .colab-df-quickchart-complete:disabled,\n",
              "  .colab-df-quickchart-complete:disabled:hover {\n",
              "    background-color: var(--disabled-bg-color);\n",
              "    fill: var(--disabled-fill-color);\n",
              "    box-shadow: none;\n",
              "  }\n",
              "\n",
              "  .colab-df-spinner {\n",
              "    border: 2px solid var(--fill-color);\n",
              "    border-color: transparent;\n",
              "    border-bottom-color: var(--fill-color);\n",
              "    animation:\n",
              "      spin 1s steps(1) infinite;\n",
              "  }\n",
              "\n",
              "  @keyframes spin {\n",
              "    0% {\n",
              "      border-color: transparent;\n",
              "      border-bottom-color: var(--fill-color);\n",
              "      border-left-color: var(--fill-color);\n",
              "    }\n",
              "    20% {\n",
              "      border-color: transparent;\n",
              "      border-left-color: var(--fill-color);\n",
              "      border-top-color: var(--fill-color);\n",
              "    }\n",
              "    30% {\n",
              "      border-color: transparent;\n",
              "      border-left-color: var(--fill-color);\n",
              "      border-top-color: var(--fill-color);\n",
              "      border-right-color: var(--fill-color);\n",
              "    }\n",
              "    40% {\n",
              "      border-color: transparent;\n",
              "      border-right-color: var(--fill-color);\n",
              "      border-top-color: var(--fill-color);\n",
              "    }\n",
              "    60% {\n",
              "      border-color: transparent;\n",
              "      border-right-color: var(--fill-color);\n",
              "    }\n",
              "    80% {\n",
              "      border-color: transparent;\n",
              "      border-right-color: var(--fill-color);\n",
              "      border-bottom-color: var(--fill-color);\n",
              "    }\n",
              "    90% {\n",
              "      border-color: transparent;\n",
              "      border-bottom-color: var(--fill-color);\n",
              "    }\n",
              "  }\n",
              "</style>\n",
              "\n",
              "  <script>\n",
              "    async function quickchart(key) {\n",
              "      const quickchartButtonEl =\n",
              "        document.querySelector('#' + key + ' button');\n",
              "      quickchartButtonEl.disabled = true;  // To prevent multiple clicks.\n",
              "      quickchartButtonEl.classList.add('colab-df-spinner');\n",
              "      try {\n",
              "        const charts = await google.colab.kernel.invokeFunction(\n",
              "            'suggestCharts', [key], {});\n",
              "      } catch (error) {\n",
              "        console.error('Error during call to suggestCharts:', error);\n",
              "      }\n",
              "      quickchartButtonEl.classList.remove('colab-df-spinner');\n",
              "      quickchartButtonEl.classList.add('colab-df-quickchart-complete');\n",
              "    }\n",
              "    (() => {\n",
              "      let quickchartButtonEl =\n",
              "        document.querySelector('#df-fcb2b4f1-e4df-4330-96a5-8c4912c7fc19 button');\n",
              "      quickchartButtonEl.style.display =\n",
              "        google.colab.kernel.accessAllowed ? 'block' : 'none';\n",
              "    })();\n",
              "  </script>\n",
              "</div>\n",
              "    </div>\n",
              "  </div>\n"
            ]
          },
          "metadata": {},
          "execution_count": 21
        }
      ]
    },
    {
      "cell_type": "code",
      "source": [
        "df.info()"
      ],
      "metadata": {
        "colab": {
          "base_uri": "https://localhost:8080/"
        },
        "id": "A_D7kZbRb6NL",
        "outputId": "9d8d2ea9-c88c-4843-ead8-e157c515202b"
      },
      "execution_count": 22,
      "outputs": [
        {
          "output_type": "stream",
          "name": "stdout",
          "text": [
            "<class 'pandas.core.frame.DataFrame'>\n",
            "Int64Index: 17567 entries, 0 to 17566\n",
            "Data columns (total 12 columns):\n",
            " #   Column             Non-Null Count  Dtype         \n",
            "---  ------             --------------  -----         \n",
            " 0   product_key        17567 non-null  object        \n",
            " 1   price              17567 non-null  float64       \n",
            " 2   product_url        17355 non-null  object        \n",
            " 3   product_name       17567 non-null  object        \n",
            " 4   date               17567 non-null  datetime64[ns]\n",
            " 5   dealer_id_x        17567 non-null  int64         \n",
            " 6   name_x             17567 non-null  object        \n",
            " 7   key                17567 non-null  object        \n",
            " 8   dealer_id_y        17567 non-null  int64         \n",
            " 9   product_id         17567 non-null  int64         \n",
            " 10  name_y             17567 non-null  object        \n",
            " 11  recommended_price  17567 non-null  float64       \n",
            "dtypes: datetime64[ns](1), float64(2), int64(3), object(6)\n",
            "memory usage: 1.7+ MB\n"
          ]
        }
      ]
    },
    {
      "cell_type": "markdown",
      "source": [
        "### Удаляем лишние данные."
      ],
      "metadata": {
        "id": "K4K37X7smhRM"
      }
    },
    {
      "cell_type": "code",
      "source": [
        "# Список столбцов, которые нужно удалить\n",
        "columns_to_drop = [\"product_key\", \"product_url\", \"date\", \"name_x\", \"key\", \"dealer_id_x\"]\n",
        "\n",
        "# Удаление столбцов из датафрейма\n",
        "df = df.drop(columns=columns_to_drop)"
      ],
      "metadata": {
        "id": "0gLrnRAtmgtd"
      },
      "execution_count": 23,
      "outputs": []
    },
    {
      "cell_type": "code",
      "source": [
        "# Переименовываем столбец\n",
        "df = df.rename(columns={'name_y':'original_name'})"
      ],
      "metadata": {
        "id": "AwHAcrXBojJh"
      },
      "execution_count": 24,
      "outputs": []
    },
    {
      "cell_type": "markdown",
      "source": [
        "# Выявляем типичные отличия в наименовании товара"
      ],
      "metadata": {
        "id": "HnnzZXzyvayu"
      }
    },
    {
      "cell_type": "code",
      "source": [
        "# Установка максимальной ширины столбцов для отображения полного текста\n",
        "pd.set_option('display.max_columns', None)  # Отображение всех столбцов\n",
        "pd.set_option('display.max_colwidth', None)  # Отображение полного текста в ячейках\n",
        "df.sample(20)"
      ],
      "metadata": {
        "colab": {
          "base_uri": "https://localhost:8080/",
          "height": 694
        },
        "id": "ITD-eYuvmzc7",
        "outputId": "49b923c1-f7e1-498b-f31b-a64ee6c99555"
      },
      "execution_count": 25,
      "outputs": [
        {
          "output_type": "execute_result",
          "data": {
            "text/plain": [
              "        price  \\\n",
              "14485  1452.0   \n",
              "13613   729.0   \n",
              "3625    139.0   \n",
              "11296  3343.0   \n",
              "12258   952.0   \n",
              "13346   307.0   \n",
              "1988    229.0   \n",
              "11083   274.0   \n",
              "17473  8634.0   \n",
              "4749    487.0   \n",
              "14238   180.0   \n",
              "12421  1309.0   \n",
              "3090    384.0   \n",
              "676     353.0   \n",
              "3882    746.0   \n",
              "290     310.0   \n",
              "13491   340.0   \n",
              "14039  1028.0   \n",
              "9336    516.0   \n",
              "1727    469.0   \n",
              "\n",
              "                                                                                                     product_name  \\\n",
              "14485                                  Просепт Optic Crystal+ средство для мытья стекол и зеркал концентрат (5 л)   \n",
              "13613                                   Жидкое средство для стирки PROSEPT CRYSTAL для стирки светлых тканей, 3 л   \n",
              "3625   Чистящее средство PROSEPT Bath Acid Plus для удаления ржавчины и минеральных отложений, концентрат, 750 мл   \n",
              "11296                                                    Отбеливатель для древесины Prosept 50 концентрат 1:1 20л   \n",
              "12258                                                                            Строительный антисептик  PROSEPT   \n",
              "13346                                                                 Средство для мытья посуды Prosept Cooky 1 л   \n",
              "1988                                       Cпрей для очистки полков в банях и саунах Prosept Universal Wood 500мл   \n",
              "11083                                     Просепт Flox Чарующий Стамбул нейтрализатор неприятных запахов (400 мл)   \n",
              "17473                       Огнебиозащита для древесины PROSEPT I группа, красный, готовый состав, 65 кг 063-65 И   \n",
              "4749                                                          Жидкое средство для стирки черных тканей Crystal ко   \n",
              "14238                                             Чистящий крем PROSEPT Cooky Universal Цитрус, для кухни, 500 мл   \n",
              "12421                                                   Огнебиозащитный состав PROSEPT ОГНЕБИО PROF 2, 20л 006-20   \n",
              "3090                                     Просепт Professional Diona Citrus E гель-мыло жидкое эконом-класса (5 л)   \n",
              "676                                          Пропитка водоотталкивающая Prosept Aquaisol для камня концен. 1:2 1л   \n",
              "3882                                                     Антисептик невымываемый Prosept Ultra концентрат 1:10 1л   \n",
              "290                                                  Средство для чистки люстр (Universal Anti-dust). Готовое к п   \n",
              "13491                                  Cooky Splash Rinser ополаскиватель для посудомоечных машин всех типов 0,8л   \n",
              "14039                    Просепт Professional Crystal с Алоэ Вера жидкий моющий концентрат для стирки белья (3 л)   \n",
              "9336                                                      Просепт Акваизол грунт влагоизолирующий (1 л) розоватый   \n",
              "1727                                          Антисептик для внутренних работ Prosept Interior концентрат 1:10 1л   \n",
              "\n",
              "       dealer_id_y  product_id  \\\n",
              "14485            3         203   \n",
              "13613           10         157   \n",
              "3625            10          52   \n",
              "11296           16         243   \n",
              "12258           18         289   \n",
              "13346           12          84   \n",
              "1988             2          20   \n",
              "11083            3         196   \n",
              "17473           15         315   \n",
              "4749             1         158   \n",
              "14238           10          82   \n",
              "12421           15         296   \n",
              "3090             3         178   \n",
              "676             16         396   \n",
              "3882            16         245   \n",
              "290              1          18   \n",
              "13491           17         105   \n",
              "14039            3         151   \n",
              "9336             3         379   \n",
              "1727            16         257   \n",
              "\n",
              "                                                                                                                  original_name  \\\n",
              "14485                                                    Средство для мытья стекол и зеркалOptic C+концентрат 1:50-1:100 / 5 л    \n",
              "13613                                    Жидкое моющее средство для стирки белых и светлых тканейCrystal Whiteконцентрат / 3 л    \n",
              "3625   Средство усиленного действия для удаления ржавчины и минеральных отложений Bath Acid +  концентрат 1:200-1:500 / 0,75 л    \n",
              "11296                                                                 Отбеливатель для древесиныPROSEPT 50концентрат 1:1 / 20 л   \n",
              "12258                                                              Антисептик против жуков и других биопоражении АНТИЖУК / 10 л   \n",
              "13346                                        Гель для мытья  посуды вручную. Без запахаCookyконцентрированное средство / 0,5 л    \n",
              "1988                                              Спрей для очистки полков в банях и саунах Universal Woodготовый состав / 0,5л   \n",
              "11083                                           Нейтрализатор неприятных запаховFlox «Чарующий Стамбул» готовый состав / 0,4 л    \n",
              "17473                                                                    ОГНЕБИОЗАЩИТА I группа, красный готовый состав / 65 кг   \n",
              "4749                                     Жидкое моющее средство для стирки белых и светлых тканейCrystal Blackконцентрат / 1 л    \n",
              "14238                                         Чистящий крем для кухниCooky Universal с ароматом цитруса готовый состав / 0,5 л    \n",
              "12421                                                     Огнебиозащита ОГНЕБИО PROF 2 группа, бесцветный готовый состав / 20 л   \n",
              "3090                                  жидкое гель-мыло эконом-класса. C ароматом яблокаDiona Citrus Eготовое средство / 5 л ПЭТ   \n",
              "676                                                                          Пропитка для камня  AQUAISOL концентрат  1:2 / 1 л   \n",
              "3882                                                                 Антисептик невымываемыйPROSEPT ULTRAконцентрат 1:10  / 1 л   \n",
              "290                                                        Средство для чистки люстр Universal Anti-dust готовый состав / 0,5 л   \n",
              "13491                                         Ополаскиватель для посудомоечных машин всех типовSplash Rinserконцентрат / 0,8 л    \n",
              "14039                                  Жидкий моющий концентрат для стирки белья  с ароматом алоэ вераCrystal концентрат / 3 л    \n",
              "9336                                                                             Грунт АКВАИЗОЛ, розовый, концентрат  1:9 / 1 л   \n",
              "1727                                                       Антисептик для внутренних работPROSEPT INTERIORконцентрат 1:10 / 1 л   \n",
              "\n",
              "       recommended_price  \n",
              "14485             1452.0  \n",
              "13613             1070.0  \n",
              "3625               176.0  \n",
              "11296             5127.0  \n",
              "12258             1129.0  \n",
              "13346              174.0  \n",
              "1988               218.0  \n",
              "11083              274.0  \n",
              "17473             9868.0  \n",
              "4749               436.0  \n",
              "14238              208.0  \n",
              "12421             2021.0  \n",
              "3090               384.0  \n",
              "676                406.0  \n",
              "3882               858.0  \n",
              "290                366.0  \n",
              "13491              425.0  \n",
              "14039             1028.0  \n",
              "9336               516.0  \n",
              "1727               504.0  "
            ],
            "text/html": [
              "\n",
              "  <div id=\"df-6c46f648-cbba-4034-80f3-f9a4956d1266\" class=\"colab-df-container\">\n",
              "    <div>\n",
              "<style scoped>\n",
              "    .dataframe tbody tr th:only-of-type {\n",
              "        vertical-align: middle;\n",
              "    }\n",
              "\n",
              "    .dataframe tbody tr th {\n",
              "        vertical-align: top;\n",
              "    }\n",
              "\n",
              "    .dataframe thead th {\n",
              "        text-align: right;\n",
              "    }\n",
              "</style>\n",
              "<table border=\"1\" class=\"dataframe\">\n",
              "  <thead>\n",
              "    <tr style=\"text-align: right;\">\n",
              "      <th></th>\n",
              "      <th>price</th>\n",
              "      <th>product_name</th>\n",
              "      <th>dealer_id_y</th>\n",
              "      <th>product_id</th>\n",
              "      <th>original_name</th>\n",
              "      <th>recommended_price</th>\n",
              "    </tr>\n",
              "  </thead>\n",
              "  <tbody>\n",
              "    <tr>\n",
              "      <th>14485</th>\n",
              "      <td>1452.0</td>\n",
              "      <td>Просепт Optic Crystal+ средство для мытья стекол и зеркал концентрат (5 л)</td>\n",
              "      <td>3</td>\n",
              "      <td>203</td>\n",
              "      <td>Средство для мытья стекол и зеркалOptic C+концентрат 1:50-1:100 / 5 л</td>\n",
              "      <td>1452.0</td>\n",
              "    </tr>\n",
              "    <tr>\n",
              "      <th>13613</th>\n",
              "      <td>729.0</td>\n",
              "      <td>Жидкое средство для стирки PROSEPT CRYSTAL для стирки светлых тканей, 3 л</td>\n",
              "      <td>10</td>\n",
              "      <td>157</td>\n",
              "      <td>Жидкое моющее средство для стирки белых и светлых тканейCrystal Whiteконцентрат / 3 л</td>\n",
              "      <td>1070.0</td>\n",
              "    </tr>\n",
              "    <tr>\n",
              "      <th>3625</th>\n",
              "      <td>139.0</td>\n",
              "      <td>Чистящее средство PROSEPT Bath Acid Plus для удаления ржавчины и минеральных отложений, концентрат, 750 мл</td>\n",
              "      <td>10</td>\n",
              "      <td>52</td>\n",
              "      <td>Средство усиленного действия для удаления ржавчины и минеральных отложений Bath Acid +  концентрат 1:200-1:500 / 0,75 л</td>\n",
              "      <td>176.0</td>\n",
              "    </tr>\n",
              "    <tr>\n",
              "      <th>11296</th>\n",
              "      <td>3343.0</td>\n",
              "      <td>Отбеливатель для древесины Prosept 50 концентрат 1:1 20л</td>\n",
              "      <td>16</td>\n",
              "      <td>243</td>\n",
              "      <td>Отбеливатель для древесиныPROSEPT 50концентрат 1:1 / 20 л</td>\n",
              "      <td>5127.0</td>\n",
              "    </tr>\n",
              "    <tr>\n",
              "      <th>12258</th>\n",
              "      <td>952.0</td>\n",
              "      <td>Строительный антисептик  PROSEPT</td>\n",
              "      <td>18</td>\n",
              "      <td>289</td>\n",
              "      <td>Антисептик против жуков и других биопоражении АНТИЖУК / 10 л</td>\n",
              "      <td>1129.0</td>\n",
              "    </tr>\n",
              "    <tr>\n",
              "      <th>13346</th>\n",
              "      <td>307.0</td>\n",
              "      <td>Средство для мытья посуды Prosept Cooky 1 л</td>\n",
              "      <td>12</td>\n",
              "      <td>84</td>\n",
              "      <td>Гель для мытья  посуды вручную. Без запахаCookyконцентрированное средство / 0,5 л</td>\n",
              "      <td>174.0</td>\n",
              "    </tr>\n",
              "    <tr>\n",
              "      <th>1988</th>\n",
              "      <td>229.0</td>\n",
              "      <td>Cпрей для очистки полков в банях и саунах Prosept Universal Wood 500мл</td>\n",
              "      <td>2</td>\n",
              "      <td>20</td>\n",
              "      <td>Спрей для очистки полков в банях и саунах Universal Woodготовый состав / 0,5л</td>\n",
              "      <td>218.0</td>\n",
              "    </tr>\n",
              "    <tr>\n",
              "      <th>11083</th>\n",
              "      <td>274.0</td>\n",
              "      <td>Просепт Flox Чарующий Стамбул нейтрализатор неприятных запахов (400 мл)</td>\n",
              "      <td>3</td>\n",
              "      <td>196</td>\n",
              "      <td>Нейтрализатор неприятных запаховFlox «Чарующий Стамбул» готовый состав / 0,4 л</td>\n",
              "      <td>274.0</td>\n",
              "    </tr>\n",
              "    <tr>\n",
              "      <th>17473</th>\n",
              "      <td>8634.0</td>\n",
              "      <td>Огнебиозащита для древесины PROSEPT I группа, красный, готовый состав, 65 кг 063-65 И</td>\n",
              "      <td>15</td>\n",
              "      <td>315</td>\n",
              "      <td>ОГНЕБИОЗАЩИТА I группа, красный готовый состав / 65 кг</td>\n",
              "      <td>9868.0</td>\n",
              "    </tr>\n",
              "    <tr>\n",
              "      <th>4749</th>\n",
              "      <td>487.0</td>\n",
              "      <td>Жидкое средство для стирки черных тканей Crystal ко</td>\n",
              "      <td>1</td>\n",
              "      <td>158</td>\n",
              "      <td>Жидкое моющее средство для стирки белых и светлых тканейCrystal Blackконцентрат / 1 л</td>\n",
              "      <td>436.0</td>\n",
              "    </tr>\n",
              "    <tr>\n",
              "      <th>14238</th>\n",
              "      <td>180.0</td>\n",
              "      <td>Чистящий крем PROSEPT Cooky Universal Цитрус, для кухни, 500 мл</td>\n",
              "      <td>10</td>\n",
              "      <td>82</td>\n",
              "      <td>Чистящий крем для кухниCooky Universal с ароматом цитруса готовый состав / 0,5 л</td>\n",
              "      <td>208.0</td>\n",
              "    </tr>\n",
              "    <tr>\n",
              "      <th>12421</th>\n",
              "      <td>1309.0</td>\n",
              "      <td>Огнебиозащитный состав PROSEPT ОГНЕБИО PROF 2, 20л 006-20</td>\n",
              "      <td>15</td>\n",
              "      <td>296</td>\n",
              "      <td>Огнебиозащита ОГНЕБИО PROF 2 группа, бесцветный готовый состав / 20 л</td>\n",
              "      <td>2021.0</td>\n",
              "    </tr>\n",
              "    <tr>\n",
              "      <th>3090</th>\n",
              "      <td>384.0</td>\n",
              "      <td>Просепт Professional Diona Citrus E гель-мыло жидкое эконом-класса (5 л)</td>\n",
              "      <td>3</td>\n",
              "      <td>178</td>\n",
              "      <td>жидкое гель-мыло эконом-класса. C ароматом яблокаDiona Citrus Eготовое средство / 5 л ПЭТ</td>\n",
              "      <td>384.0</td>\n",
              "    </tr>\n",
              "    <tr>\n",
              "      <th>676</th>\n",
              "      <td>353.0</td>\n",
              "      <td>Пропитка водоотталкивающая Prosept Aquaisol для камня концен. 1:2 1л</td>\n",
              "      <td>16</td>\n",
              "      <td>396</td>\n",
              "      <td>Пропитка для камня  AQUAISOL концентрат  1:2 / 1 л</td>\n",
              "      <td>406.0</td>\n",
              "    </tr>\n",
              "    <tr>\n",
              "      <th>3882</th>\n",
              "      <td>746.0</td>\n",
              "      <td>Антисептик невымываемый Prosept Ultra концентрат 1:10 1л</td>\n",
              "      <td>16</td>\n",
              "      <td>245</td>\n",
              "      <td>Антисептик невымываемыйPROSEPT ULTRAконцентрат 1:10  / 1 л</td>\n",
              "      <td>858.0</td>\n",
              "    </tr>\n",
              "    <tr>\n",
              "      <th>290</th>\n",
              "      <td>310.0</td>\n",
              "      <td>Средство для чистки люстр (Universal Anti-dust). Готовое к п</td>\n",
              "      <td>1</td>\n",
              "      <td>18</td>\n",
              "      <td>Средство для чистки люстр Universal Anti-dust готовый состав / 0,5 л</td>\n",
              "      <td>366.0</td>\n",
              "    </tr>\n",
              "    <tr>\n",
              "      <th>13491</th>\n",
              "      <td>340.0</td>\n",
              "      <td>Cooky Splash Rinser ополаскиватель для посудомоечных машин всех типов 0,8л</td>\n",
              "      <td>17</td>\n",
              "      <td>105</td>\n",
              "      <td>Ополаскиватель для посудомоечных машин всех типовSplash Rinserконцентрат / 0,8 л</td>\n",
              "      <td>425.0</td>\n",
              "    </tr>\n",
              "    <tr>\n",
              "      <th>14039</th>\n",
              "      <td>1028.0</td>\n",
              "      <td>Просепт Professional Crystal с Алоэ Вера жидкий моющий концентрат для стирки белья (3 л)</td>\n",
              "      <td>3</td>\n",
              "      <td>151</td>\n",
              "      <td>Жидкий моющий концентрат для стирки белья  с ароматом алоэ вераCrystal концентрат / 3 л</td>\n",
              "      <td>1028.0</td>\n",
              "    </tr>\n",
              "    <tr>\n",
              "      <th>9336</th>\n",
              "      <td>516.0</td>\n",
              "      <td>Просепт Акваизол грунт влагоизолирующий (1 л) розоватый</td>\n",
              "      <td>3</td>\n",
              "      <td>379</td>\n",
              "      <td>Грунт АКВАИЗОЛ, розовый, концентрат  1:9 / 1 л</td>\n",
              "      <td>516.0</td>\n",
              "    </tr>\n",
              "    <tr>\n",
              "      <th>1727</th>\n",
              "      <td>469.0</td>\n",
              "      <td>Антисептик для внутренних работ Prosept Interior концентрат 1:10 1л</td>\n",
              "      <td>16</td>\n",
              "      <td>257</td>\n",
              "      <td>Антисептик для внутренних работPROSEPT INTERIORконцентрат 1:10 / 1 л</td>\n",
              "      <td>504.0</td>\n",
              "    </tr>\n",
              "  </tbody>\n",
              "</table>\n",
              "</div>\n",
              "    <div class=\"colab-df-buttons\">\n",
              "\n",
              "  <div class=\"colab-df-container\">\n",
              "    <button class=\"colab-df-convert\" onclick=\"convertToInteractive('df-6c46f648-cbba-4034-80f3-f9a4956d1266')\"\n",
              "            title=\"Convert this dataframe to an interactive table.\"\n",
              "            style=\"display:none;\">\n",
              "\n",
              "  <svg xmlns=\"http://www.w3.org/2000/svg\" height=\"24px\" viewBox=\"0 -960 960 960\">\n",
              "    <path d=\"M120-120v-720h720v720H120Zm60-500h600v-160H180v160Zm220 220h160v-160H400v160Zm0 220h160v-160H400v160ZM180-400h160v-160H180v160Zm440 0h160v-160H620v160ZM180-180h160v-160H180v160Zm440 0h160v-160H620v160Z\"/>\n",
              "  </svg>\n",
              "    </button>\n",
              "\n",
              "  <style>\n",
              "    .colab-df-container {\n",
              "      display:flex;\n",
              "      gap: 12px;\n",
              "    }\n",
              "\n",
              "    .colab-df-convert {\n",
              "      background-color: #E8F0FE;\n",
              "      border: none;\n",
              "      border-radius: 50%;\n",
              "      cursor: pointer;\n",
              "      display: none;\n",
              "      fill: #1967D2;\n",
              "      height: 32px;\n",
              "      padding: 0 0 0 0;\n",
              "      width: 32px;\n",
              "    }\n",
              "\n",
              "    .colab-df-convert:hover {\n",
              "      background-color: #E2EBFA;\n",
              "      box-shadow: 0px 1px 2px rgba(60, 64, 67, 0.3), 0px 1px 3px 1px rgba(60, 64, 67, 0.15);\n",
              "      fill: #174EA6;\n",
              "    }\n",
              "\n",
              "    .colab-df-buttons div {\n",
              "      margin-bottom: 4px;\n",
              "    }\n",
              "\n",
              "    [theme=dark] .colab-df-convert {\n",
              "      background-color: #3B4455;\n",
              "      fill: #D2E3FC;\n",
              "    }\n",
              "\n",
              "    [theme=dark] .colab-df-convert:hover {\n",
              "      background-color: #434B5C;\n",
              "      box-shadow: 0px 1px 3px 1px rgba(0, 0, 0, 0.15);\n",
              "      filter: drop-shadow(0px 1px 2px rgba(0, 0, 0, 0.3));\n",
              "      fill: #FFFFFF;\n",
              "    }\n",
              "  </style>\n",
              "\n",
              "    <script>\n",
              "      const buttonEl =\n",
              "        document.querySelector('#df-6c46f648-cbba-4034-80f3-f9a4956d1266 button.colab-df-convert');\n",
              "      buttonEl.style.display =\n",
              "        google.colab.kernel.accessAllowed ? 'block' : 'none';\n",
              "\n",
              "      async function convertToInteractive(key) {\n",
              "        const element = document.querySelector('#df-6c46f648-cbba-4034-80f3-f9a4956d1266');\n",
              "        const dataTable =\n",
              "          await google.colab.kernel.invokeFunction('convertToInteractive',\n",
              "                                                    [key], {});\n",
              "        if (!dataTable) return;\n",
              "\n",
              "        const docLinkHtml = 'Like what you see? Visit the ' +\n",
              "          '<a target=\"_blank\" href=https://colab.research.google.com/notebooks/data_table.ipynb>data table notebook</a>'\n",
              "          + ' to learn more about interactive tables.';\n",
              "        element.innerHTML = '';\n",
              "        dataTable['output_type'] = 'display_data';\n",
              "        await google.colab.output.renderOutput(dataTable, element);\n",
              "        const docLink = document.createElement('div');\n",
              "        docLink.innerHTML = docLinkHtml;\n",
              "        element.appendChild(docLink);\n",
              "      }\n",
              "    </script>\n",
              "  </div>\n",
              "\n",
              "\n",
              "<div id=\"df-2db01ac5-42f4-4683-ae85-3ed88001cc03\">\n",
              "  <button class=\"colab-df-quickchart\" onclick=\"quickchart('df-2db01ac5-42f4-4683-ae85-3ed88001cc03')\"\n",
              "            title=\"Suggest charts\"\n",
              "            style=\"display:none;\">\n",
              "\n",
              "<svg xmlns=\"http://www.w3.org/2000/svg\" height=\"24px\"viewBox=\"0 0 24 24\"\n",
              "     width=\"24px\">\n",
              "    <g>\n",
              "        <path d=\"M19 3H5c-1.1 0-2 .9-2 2v14c0 1.1.9 2 2 2h14c1.1 0 2-.9 2-2V5c0-1.1-.9-2-2-2zM9 17H7v-7h2v7zm4 0h-2V7h2v10zm4 0h-2v-4h2v4z\"/>\n",
              "    </g>\n",
              "</svg>\n",
              "  </button>\n",
              "\n",
              "<style>\n",
              "  .colab-df-quickchart {\n",
              "      --bg-color: #E8F0FE;\n",
              "      --fill-color: #1967D2;\n",
              "      --hover-bg-color: #E2EBFA;\n",
              "      --hover-fill-color: #174EA6;\n",
              "      --disabled-fill-color: #AAA;\n",
              "      --disabled-bg-color: #DDD;\n",
              "  }\n",
              "\n",
              "  [theme=dark] .colab-df-quickchart {\n",
              "      --bg-color: #3B4455;\n",
              "      --fill-color: #D2E3FC;\n",
              "      --hover-bg-color: #434B5C;\n",
              "      --hover-fill-color: #FFFFFF;\n",
              "      --disabled-bg-color: #3B4455;\n",
              "      --disabled-fill-color: #666;\n",
              "  }\n",
              "\n",
              "  .colab-df-quickchart {\n",
              "    background-color: var(--bg-color);\n",
              "    border: none;\n",
              "    border-radius: 50%;\n",
              "    cursor: pointer;\n",
              "    display: none;\n",
              "    fill: var(--fill-color);\n",
              "    height: 32px;\n",
              "    padding: 0;\n",
              "    width: 32px;\n",
              "  }\n",
              "\n",
              "  .colab-df-quickchart:hover {\n",
              "    background-color: var(--hover-bg-color);\n",
              "    box-shadow: 0 1px 2px rgba(60, 64, 67, 0.3), 0 1px 3px 1px rgba(60, 64, 67, 0.15);\n",
              "    fill: var(--button-hover-fill-color);\n",
              "  }\n",
              "\n",
              "  .colab-df-quickchart-complete:disabled,\n",
              "  .colab-df-quickchart-complete:disabled:hover {\n",
              "    background-color: var(--disabled-bg-color);\n",
              "    fill: var(--disabled-fill-color);\n",
              "    box-shadow: none;\n",
              "  }\n",
              "\n",
              "  .colab-df-spinner {\n",
              "    border: 2px solid var(--fill-color);\n",
              "    border-color: transparent;\n",
              "    border-bottom-color: var(--fill-color);\n",
              "    animation:\n",
              "      spin 1s steps(1) infinite;\n",
              "  }\n",
              "\n",
              "  @keyframes spin {\n",
              "    0% {\n",
              "      border-color: transparent;\n",
              "      border-bottom-color: var(--fill-color);\n",
              "      border-left-color: var(--fill-color);\n",
              "    }\n",
              "    20% {\n",
              "      border-color: transparent;\n",
              "      border-left-color: var(--fill-color);\n",
              "      border-top-color: var(--fill-color);\n",
              "    }\n",
              "    30% {\n",
              "      border-color: transparent;\n",
              "      border-left-color: var(--fill-color);\n",
              "      border-top-color: var(--fill-color);\n",
              "      border-right-color: var(--fill-color);\n",
              "    }\n",
              "    40% {\n",
              "      border-color: transparent;\n",
              "      border-right-color: var(--fill-color);\n",
              "      border-top-color: var(--fill-color);\n",
              "    }\n",
              "    60% {\n",
              "      border-color: transparent;\n",
              "      border-right-color: var(--fill-color);\n",
              "    }\n",
              "    80% {\n",
              "      border-color: transparent;\n",
              "      border-right-color: var(--fill-color);\n",
              "      border-bottom-color: var(--fill-color);\n",
              "    }\n",
              "    90% {\n",
              "      border-color: transparent;\n",
              "      border-bottom-color: var(--fill-color);\n",
              "    }\n",
              "  }\n",
              "</style>\n",
              "\n",
              "  <script>\n",
              "    async function quickchart(key) {\n",
              "      const quickchartButtonEl =\n",
              "        document.querySelector('#' + key + ' button');\n",
              "      quickchartButtonEl.disabled = true;  // To prevent multiple clicks.\n",
              "      quickchartButtonEl.classList.add('colab-df-spinner');\n",
              "      try {\n",
              "        const charts = await google.colab.kernel.invokeFunction(\n",
              "            'suggestCharts', [key], {});\n",
              "      } catch (error) {\n",
              "        console.error('Error during call to suggestCharts:', error);\n",
              "      }\n",
              "      quickchartButtonEl.classList.remove('colab-df-spinner');\n",
              "      quickchartButtonEl.classList.add('colab-df-quickchart-complete');\n",
              "    }\n",
              "    (() => {\n",
              "      let quickchartButtonEl =\n",
              "        document.querySelector('#df-2db01ac5-42f4-4683-ae85-3ed88001cc03 button');\n",
              "      quickchartButtonEl.style.display =\n",
              "        google.colab.kernel.accessAllowed ? 'block' : 'none';\n",
              "    })();\n",
              "  </script>\n",
              "</div>\n",
              "    </div>\n",
              "  </div>\n"
            ]
          },
          "metadata": {},
          "execution_count": 25
        }
      ]
    },
    {
      "cell_type": "markdown",
      "source": [
        "# Выявляем типичные отличия в наименовании товара"
      ],
      "metadata": {
        "id": "SwV15sBznOxL"
      }
    },
    {
      "cell_type": "code",
      "source": [
        "# Список столбцов, которые нужно удалить\n",
        "columns_to_drop = [\"price\", \"dealer_id_y\", \"recommended_price\"]\n",
        "\n",
        "# Удаление столбцов из датафрейма\n",
        "df = df.drop(columns=columns_to_drop)"
      ],
      "metadata": {
        "id": "0IGAwHl1xWsh"
      },
      "execution_count": 26,
      "outputs": []
    },
    {
      "cell_type": "code",
      "source": [],
      "metadata": {
        "id": "cX7nX-nSys2L"
      },
      "execution_count": 26,
      "outputs": []
    },
    {
      "cell_type": "code",
      "source": [
        "extra_words = (\n",
        "    r'(?:готовый\\sсостав|для|концентрат|просепт|prosept|средство|невымываемый|гелеобразный|канистра|'\n",
        "    r'чистящее|спрей|универсальный|универсальная|универсальное|пэт|жидкое|моющее|гель|чистки|'\n",
        "    r'концентрированное|professional|готовое|superrubber)'\n",
        ")\n",
        "\n",
        "def clean_description(text):\n",
        "    text = text.lower()\n",
        "    text = re.sub(r'\\(\\d+\\)', '', text)\n",
        "    text = re.sub(r'(?<=[а-яА-Я])(?=[a-zA-Z])|(?<=[a-zA-Z])(?=[а-яА-Я])', ' ', text)\n",
        "    text = re.sub(r'\\b\\d+:\\d+\\b', '', text)\n",
        "    text = re.sub(r'\\b\\d+(?::\\d+)?[-:]\\d+(?::\\d+)?\\b', '', text)\n",
        "\n",
        "    # Замена выражений типа \"2 группа\" на \"2-ая группа\"\n",
        "    text = re.sub(r'(\\d+)\\sгруппа', r'\\1-ая группа', text)\n",
        "\n",
        "    # Замена объема в литрах и веса в килограммах на миллилитры и граммы\n",
        "    text = re.sub(r'(\\d+[,.]\\d+)\\s*л', lambda x: f\"{int(float(x.group(1).replace(',', '.')) * 1000)} мл\", text)\n",
        "    text = re.sub(r'(\\d+[,.]\\d+)\\s*кг', lambda x: f\"{int(float(x.group(1).replace(',', '.')) * 1000)} г\", text)\n",
        "\n",
        "    # Добавление пробелов между цифрами и буквами\n",
        "    text = re.sub(r'(?<=\\d)(?=[а-яА-Яa-zA-Z])', ' ', text)\n",
        "    text = re.sub(r'(?<=[а-яА-Яa-zA-Z])(?=\\d)', ' ', text)\n",
        "\n",
        "    # Удаление выражений вида \"007-10бц\"\n",
        "    text = re.sub(r'\\b\\d+-\\d+[а-яА-Яa-zA-Z]*\\b', '', text)\n",
        "\n",
        "    # Удаление слов, соединенных через \"/\" или точку\n",
        "    text = re.sub(r'\\b\\w+[/\\.]\\w+(?:[/\\.]\\w+)?\\b', '', text)\n",
        "\n",
        "    # Удаление избыточных слов\n",
        "    text = re.sub(extra_words, '', text)\n",
        "\n",
        "    # Удаление запятых, кавычек, дефисов и других символов\n",
        "    text = re.sub(r'[,\"“”/\\.()–;+]', '', text)\n",
        "\n",
        "    # Удаление обособленных пробелами дефисов\n",
        "    text = re.sub(r'\\s-\\s', ' ', text)\n",
        "\n",
        "    # Замена отдельных выражений\n",
        "    text = re.sub(r'литров|литра|литр', 'л', text)\n",
        "    text = re.sub(r'\\b(мыло-гель|гель-мыло)\\b', 'мыло', text)\n",
        "    text = re.sub(r'osb\\s+proplast', 'osbproplast', text)\n",
        "    text = re.sub(r'\\bкор\\b', 'коричневый', text)\n",
        "    text = re.sub(r'eco\\s+ultra', 'ecoultra', text)\n",
        "    text = re.sub(r'гриля\\s+и\\s+духовых\\s+шкафов|удаления\\s+пригоревших\\s+жиров', 'жироудалитель', text)\n",
        "    text = re.sub(r'грунт\\s+пропиточный', 'грунтовка', text)\n",
        "    text = re.sub(r'удалитель\\s+высолов', 'очиститель фасадов', text)\n",
        "    text = re.sub(r'с\\s+itrus', 'citrus', text)\n",
        "\n",
        "    return text\n",
        "\n",
        "# Применяем функцию к столбцам product_name и original_name\n",
        "df['product_name_normalized'] = df['product_name'].apply(clean_description)\n",
        "df['original_name_normalized'] = df['original_name'].apply(clean_description)"
      ],
      "metadata": {
        "id": "f15uDdmn4gl6"
      },
      "execution_count": 27,
      "outputs": []
    },
    {
      "cell_type": "code",
      "source": [
        "df.sample(20, random_state=42)"
      ],
      "metadata": {
        "colab": {
          "base_uri": "https://localhost:8080/",
          "height": 919
        },
        "id": "TPE68m0x4nzd",
        "outputId": "9fa75c15-f82e-4138-b085-1c37ab3f56a1"
      },
      "execution_count": 28,
      "outputs": [
        {
          "output_type": "execute_result",
          "data": {
            "text/plain": [
              "                                                                                                  product_name  \\\n",
              "14843                         Спрей антимикробное д/душ.кабин/акриловых ванн PROSEPT Bath Uni 500мл концентрат   \n",
              "15011                                                 Средство для удаления цемента Prosept Cement Cleaner 1 л   \n",
              "6991                              Жидкое средство для стирки PROSEPT CRYSTAL для стирки спортивной одежды, 3 л   \n",
              "1769                                                      Шпатлевка для плит OSB PROSEPT Proplast 1,3 кг 081-1   \n",
              "1085                                                                            АнтисептикProseptECOULTRAкор5л   \n",
              "16322                                Антисептик PROSEPT АНТИПЛЕСЕНЬ, 5 литров, против грибка и плесени (025-5)   \n",
              "3115                                             Жидкое мыло PROSEPT Diona Сitrus Е цитрусовый аромат, 5л, ПЭТ   \n",
              "3379   Просепт Professional Cooky Grill Gel концентрат гелеобразный для чистки гриля и духовых шкафов (500 мл)   \n",
              "8256                                     Просепт Bio Lasur антисептик лессирующий защитно-декоративный (2.7 л)   \n",
              "2830                                                                         Жироудалитель Prosept 0,5 л спрей   \n",
              "3800                                 Концентрат для мытья полов и стен Полевые цветы PROSEPT Multipower 284-08   \n",
              "2140                                       Антисептик для внутренних работ Prosept Interior концентрат 1:10 5л   \n",
              "14922                                 Шампунь для чистки ковров и мягкой мебели Carpet Shampoo. Концентрат, 5л   \n",
              "4375                                                                   Мыло-гель жидкое д/рук PROSEPT Diona 5л   \n",
              "3120                                             Жидкое мыло PROSEPT Diona Сitrus Е цитрусовый аромат, 5л, ПЭТ   \n",
              "9617                                                              Грунтовка универсальная Prosept 050-10, 10 л   \n",
              "10237                                            Краска резиновая Prosept SuperRubber коричневый Ral 8017 3 кг   \n",
              "3402                                                    Средство для удаления пригоревших жиров PROSEPT 500 мл   \n",
              "12455                                Огнебиозащита для древесины PROSEPT ОГНЕБИО PROF 2-ая группа, 65 л 006-65   \n",
              "16354                           Универсальный антисептик против грибка и плесени PROSEPT АНТИПЛЕСЕНЬ 5 л 025-5   \n",
              "\n",
              "       product_id  \\\n",
              "14843          65   \n",
              "15011         401   \n",
              "6991          153   \n",
              "1769          234   \n",
              "1085          275   \n",
              "16322         290   \n",
              "3115          178   \n",
              "3379           74   \n",
              "8256          332   \n",
              "2830           72   \n",
              "3800           43   \n",
              "2140          258   \n",
              "14922         167   \n",
              "4375          175   \n",
              "3120          178   \n",
              "9617          389   \n",
              "10237         431   \n",
              "3402           74   \n",
              "12455         297   \n",
              "16354         290   \n",
              "\n",
              "                                                                                                original_name  \\\n",
              "14843  Универсальный концентрат для санитарных комнат с антимикробным эффектомBath Uni готовый состав / 0,5 л   \n",
              "15011                                                   Удалитель цемента CEMENT CLEANER концентрат 1:2 / 1 л   \n",
              "6991     Жидкое моющее средство для стирки спортивной одежды, обуви и пуховиковCrystal Sportконцентрат / 3 л    \n",
              "1769                                                                  Шпатлевка для плит OSBProplast / 1,3 кг   \n",
              "1085                                                                    Антисептик ECO ULTRA коричневый / 5 л   \n",
              "16322                                     Антисептик против грибка и плесени АНТИПЛЕСЕНЬ готовый состав / 5 л   \n",
              "3115                жидкое гель-мыло эконом-класса. C ароматом яблокаDiona Citrus Eготовое средство / 5 л ПЭТ   \n",
              "3379   Средство для чистки гриля и духовых шкафовCooky Grill Gelконцентрированное средство 1:1 – 1:50 / 0,5 л   \n",
              "8256                                                    Антисептик лессирующий BiO LASUR / белый люкс / 2,7 л   \n",
              "2830                Средство для чистки гриля и духовых шкафовCooky Grill концентрированное средство / 0,55 л   \n",
              "3800                Средство для мытья полов и стенMultipower \"Полевые цветы\"концентрат  1:10 – 1:120 / 0,8 л   \n",
              "2140                                     Антисептик для внутренних работPROSEPT INTERIORконцентрат 1:10 / 5 л   \n",
              "14922                      Шампунь для чистки ковров и мягкой мебелиCarpet Shampooконцентрат 1:20-1:120 / 5 л   \n",
              "4375           Жидкое гель-мыло эконом-класса. Без красителей и ароматизаторовDiona Eготовый состав / 5 л ПЭТ   \n",
              "3120                жидкое гель-мыло эконом-класса. C ароматом яблокаDiona Citrus Eготовое средство / 5 л ПЭТ   \n",
              "9617                                                    Грунт УНИВЕРСАЛЬНЫЙ, пропиточныйготовый состав / 10 л   \n",
              "10237                                                             Краска резиновая коричневый Ral 8017 / 3 кг   \n",
              "3402   Средство для чистки гриля и духовых шкафовCooky Grill Gelконцентрированное средство 1:1 – 1:50 / 0,5 л   \n",
              "12455                                   Огнебиозащита ОГНЕБИО PROF 2 группа, бесцветный готовый состав / 65 л   \n",
              "16354                                     Антисептик против грибка и плесени АНТИПЛЕСЕНЬ готовый состав / 5 л   \n",
              "\n",
              "                                              product_name_normalized  \\\n",
              "14843                  антимикробное акриловых ванн  bath uni 500 мл    \n",
              "15011                            удаления цемента  cement cleaner 1 л   \n",
              "6991                    стирки  crystal  стирки спортивной одежды 3 л   \n",
              "1769                              шпатлевка  плит osbproplast 1300 г    \n",
              "1085                               антисептик ecoultra коричневый 5 л   \n",
              "16322            антисептик  антиплесень 5 л против грибка и плесени    \n",
              "3115                      мыло  diona citrus е цитрусовый аромат 5 л    \n",
              "3379                         cooky grill gel     жироудалитель 500 мл   \n",
              "8256    bio lasur антисептик лессирующий защитно-декоративный 2700 мл   \n",
              "2830                                           жироудалитель  500 мл    \n",
              "3800                    мытья полов и стен полевые цветы  multipower    \n",
              "2140                     антисептик  внутренних работ  interior   5 л   \n",
              "14922            шампунь   ковров и мягкой мебели carpet shampoo  5 л   \n",
              "4375                                               мыло-    diona 5 л   \n",
              "3120                      мыло  diona citrus е цитрусовый аромат 5 л    \n",
              "9617                                                грунтовка    10 л   \n",
              "10237                     краска резиновая   коричневый ral 8017 3 кг   \n",
              "3402                                            жироудалитель  500 мл   \n",
              "12455        огнебиозащита  древесины  огнебио prof 2-ая группа 65 л    \n",
              "16354            антисептик против грибка и плесени  антиплесень 5 л    \n",
              "\n",
              "                                                  original_name_normalized  \n",
              "14843         санитарных комнат с антимикробным эффектом bath uni   500 мл  \n",
              "15011                              удалитель цемента cement cleaner    1 л  \n",
              "6991       стирки спортивной одежды обуви и пуховиков crystal sport   3 л   \n",
              "1769                                   шпатлевка  плит osbproplast  1300 г  \n",
              "1085                                   антисептик ecoultra коричневый  5 л  \n",
              "16322                 антисептик против грибка и плесени антиплесень   5 л  \n",
              "3115          -мыло эконом-класса c ароматом яблока diona citrus e    5 л   \n",
              "3379                            жироудалитель cooky grill gel       500 мл  \n",
              "8256                 антисептик лессирующий bio lasur  белый люкс  2700 мл  \n",
              "2830                                   жироудалитель cooky grill    550 мл  \n",
              "3800               мытья полов и стен multipower полевые цветы      800 мл  \n",
              "2140                         антисептик  внутренних работ  interior    5 л  \n",
              "14922                шампунь   ковров и мягкой мебели carpet shampoo   5 л  \n",
              "4375    -мыло эконом-класса без красителей и ароматизаторов diona e   5 л   \n",
              "3120          -мыло эконом-класса c ароматом яблока diona citrus e    5 л   \n",
              "9617                                                       грунтовка  10 л  \n",
              "10237                           краска резиновая коричневый ral 8017  3 кг  \n",
              "3402                            жироудалитель cooky grill gel       500 мл  \n",
              "12455             огнебиозащита огнебио prof 2-ая группа бесцветный   65 л  \n",
              "16354                 антисептик против грибка и плесени антиплесень   5 л  "
            ],
            "text/html": [
              "\n",
              "  <div id=\"df-e9e7ca9c-3f9b-46cd-a930-3b27642a3afd\" class=\"colab-df-container\">\n",
              "    <div>\n",
              "<style scoped>\n",
              "    .dataframe tbody tr th:only-of-type {\n",
              "        vertical-align: middle;\n",
              "    }\n",
              "\n",
              "    .dataframe tbody tr th {\n",
              "        vertical-align: top;\n",
              "    }\n",
              "\n",
              "    .dataframe thead th {\n",
              "        text-align: right;\n",
              "    }\n",
              "</style>\n",
              "<table border=\"1\" class=\"dataframe\">\n",
              "  <thead>\n",
              "    <tr style=\"text-align: right;\">\n",
              "      <th></th>\n",
              "      <th>product_name</th>\n",
              "      <th>product_id</th>\n",
              "      <th>original_name</th>\n",
              "      <th>product_name_normalized</th>\n",
              "      <th>original_name_normalized</th>\n",
              "    </tr>\n",
              "  </thead>\n",
              "  <tbody>\n",
              "    <tr>\n",
              "      <th>14843</th>\n",
              "      <td>Спрей антимикробное д/душ.кабин/акриловых ванн PROSEPT Bath Uni 500мл концентрат</td>\n",
              "      <td>65</td>\n",
              "      <td>Универсальный концентрат для санитарных комнат с антимикробным эффектомBath Uni готовый состав / 0,5 л</td>\n",
              "      <td>антимикробное акриловых ванн  bath uni 500 мл</td>\n",
              "      <td>санитарных комнат с антимикробным эффектом bath uni   500 мл</td>\n",
              "    </tr>\n",
              "    <tr>\n",
              "      <th>15011</th>\n",
              "      <td>Средство для удаления цемента Prosept Cement Cleaner 1 л</td>\n",
              "      <td>401</td>\n",
              "      <td>Удалитель цемента CEMENT CLEANER концентрат 1:2 / 1 л</td>\n",
              "      <td>удаления цемента  cement cleaner 1 л</td>\n",
              "      <td>удалитель цемента cement cleaner    1 л</td>\n",
              "    </tr>\n",
              "    <tr>\n",
              "      <th>6991</th>\n",
              "      <td>Жидкое средство для стирки PROSEPT CRYSTAL для стирки спортивной одежды, 3 л</td>\n",
              "      <td>153</td>\n",
              "      <td>Жидкое моющее средство для стирки спортивной одежды, обуви и пуховиковCrystal Sportконцентрат / 3 л</td>\n",
              "      <td>стирки  crystal  стирки спортивной одежды 3 л</td>\n",
              "      <td>стирки спортивной одежды обуви и пуховиков crystal sport   3 л</td>\n",
              "    </tr>\n",
              "    <tr>\n",
              "      <th>1769</th>\n",
              "      <td>Шпатлевка для плит OSB PROSEPT Proplast 1,3 кг 081-1</td>\n",
              "      <td>234</td>\n",
              "      <td>Шпатлевка для плит OSBProplast / 1,3 кг</td>\n",
              "      <td>шпатлевка  плит osbproplast 1300 г</td>\n",
              "      <td>шпатлевка  плит osbproplast  1300 г</td>\n",
              "    </tr>\n",
              "    <tr>\n",
              "      <th>1085</th>\n",
              "      <td>АнтисептикProseptECOULTRAкор5л</td>\n",
              "      <td>275</td>\n",
              "      <td>Антисептик ECO ULTRA коричневый / 5 л</td>\n",
              "      <td>антисептик ecoultra коричневый 5 л</td>\n",
              "      <td>антисептик ecoultra коричневый  5 л</td>\n",
              "    </tr>\n",
              "    <tr>\n",
              "      <th>16322</th>\n",
              "      <td>Антисептик PROSEPT АНТИПЛЕСЕНЬ, 5 литров, против грибка и плесени (025-5)</td>\n",
              "      <td>290</td>\n",
              "      <td>Антисептик против грибка и плесени АНТИПЛЕСЕНЬ готовый состав / 5 л</td>\n",
              "      <td>антисептик  антиплесень 5 л против грибка и плесени</td>\n",
              "      <td>антисептик против грибка и плесени антиплесень   5 л</td>\n",
              "    </tr>\n",
              "    <tr>\n",
              "      <th>3115</th>\n",
              "      <td>Жидкое мыло PROSEPT Diona Сitrus Е цитрусовый аромат, 5л, ПЭТ</td>\n",
              "      <td>178</td>\n",
              "      <td>жидкое гель-мыло эконом-класса. C ароматом яблокаDiona Citrus Eготовое средство / 5 л ПЭТ</td>\n",
              "      <td>мыло  diona citrus е цитрусовый аромат 5 л</td>\n",
              "      <td>-мыло эконом-класса c ароматом яблока diona citrus e    5 л</td>\n",
              "    </tr>\n",
              "    <tr>\n",
              "      <th>3379</th>\n",
              "      <td>Просепт Professional Cooky Grill Gel концентрат гелеобразный для чистки гриля и духовых шкафов (500 мл)</td>\n",
              "      <td>74</td>\n",
              "      <td>Средство для чистки гриля и духовых шкафовCooky Grill Gelконцентрированное средство 1:1 – 1:50 / 0,5 л</td>\n",
              "      <td>cooky grill gel     жироудалитель 500 мл</td>\n",
              "      <td>жироудалитель cooky grill gel       500 мл</td>\n",
              "    </tr>\n",
              "    <tr>\n",
              "      <th>8256</th>\n",
              "      <td>Просепт Bio Lasur антисептик лессирующий защитно-декоративный (2.7 л)</td>\n",
              "      <td>332</td>\n",
              "      <td>Антисептик лессирующий BiO LASUR / белый люкс / 2,7 л</td>\n",
              "      <td>bio lasur антисептик лессирующий защитно-декоративный 2700 мл</td>\n",
              "      <td>антисептик лессирующий bio lasur  белый люкс  2700 мл</td>\n",
              "    </tr>\n",
              "    <tr>\n",
              "      <th>2830</th>\n",
              "      <td>Жироудалитель Prosept 0,5 л спрей</td>\n",
              "      <td>72</td>\n",
              "      <td>Средство для чистки гриля и духовых шкафовCooky Grill концентрированное средство / 0,55 л</td>\n",
              "      <td>жироудалитель  500 мл</td>\n",
              "      <td>жироудалитель cooky grill    550 мл</td>\n",
              "    </tr>\n",
              "    <tr>\n",
              "      <th>3800</th>\n",
              "      <td>Концентрат для мытья полов и стен Полевые цветы PROSEPT Multipower 284-08</td>\n",
              "      <td>43</td>\n",
              "      <td>Средство для мытья полов и стенMultipower \"Полевые цветы\"концентрат  1:10 – 1:120 / 0,8 л</td>\n",
              "      <td>мытья полов и стен полевые цветы  multipower</td>\n",
              "      <td>мытья полов и стен multipower полевые цветы      800 мл</td>\n",
              "    </tr>\n",
              "    <tr>\n",
              "      <th>2140</th>\n",
              "      <td>Антисептик для внутренних работ Prosept Interior концентрат 1:10 5л</td>\n",
              "      <td>258</td>\n",
              "      <td>Антисептик для внутренних работPROSEPT INTERIORконцентрат 1:10 / 5 л</td>\n",
              "      <td>антисептик  внутренних работ  interior   5 л</td>\n",
              "      <td>антисептик  внутренних работ  interior    5 л</td>\n",
              "    </tr>\n",
              "    <tr>\n",
              "      <th>14922</th>\n",
              "      <td>Шампунь для чистки ковров и мягкой мебели Carpet Shampoo. Концентрат, 5л</td>\n",
              "      <td>167</td>\n",
              "      <td>Шампунь для чистки ковров и мягкой мебелиCarpet Shampooконцентрат 1:20-1:120 / 5 л</td>\n",
              "      <td>шампунь   ковров и мягкой мебели carpet shampoo  5 л</td>\n",
              "      <td>шампунь   ковров и мягкой мебели carpet shampoo   5 л</td>\n",
              "    </tr>\n",
              "    <tr>\n",
              "      <th>4375</th>\n",
              "      <td>Мыло-гель жидкое д/рук PROSEPT Diona 5л</td>\n",
              "      <td>175</td>\n",
              "      <td>Жидкое гель-мыло эконом-класса. Без красителей и ароматизаторовDiona Eготовый состав / 5 л ПЭТ</td>\n",
              "      <td>мыло-    diona 5 л</td>\n",
              "      <td>-мыло эконом-класса без красителей и ароматизаторов diona e   5 л</td>\n",
              "    </tr>\n",
              "    <tr>\n",
              "      <th>3120</th>\n",
              "      <td>Жидкое мыло PROSEPT Diona Сitrus Е цитрусовый аромат, 5л, ПЭТ</td>\n",
              "      <td>178</td>\n",
              "      <td>жидкое гель-мыло эконом-класса. C ароматом яблокаDiona Citrus Eготовое средство / 5 л ПЭТ</td>\n",
              "      <td>мыло  diona citrus е цитрусовый аромат 5 л</td>\n",
              "      <td>-мыло эконом-класса c ароматом яблока diona citrus e    5 л</td>\n",
              "    </tr>\n",
              "    <tr>\n",
              "      <th>9617</th>\n",
              "      <td>Грунтовка универсальная Prosept 050-10, 10 л</td>\n",
              "      <td>389</td>\n",
              "      <td>Грунт УНИВЕРСАЛЬНЫЙ, пропиточныйготовый состав / 10 л</td>\n",
              "      <td>грунтовка    10 л</td>\n",
              "      <td>грунтовка  10 л</td>\n",
              "    </tr>\n",
              "    <tr>\n",
              "      <th>10237</th>\n",
              "      <td>Краска резиновая Prosept SuperRubber коричневый Ral 8017 3 кг</td>\n",
              "      <td>431</td>\n",
              "      <td>Краска резиновая коричневый Ral 8017 / 3 кг</td>\n",
              "      <td>краска резиновая   коричневый ral 8017 3 кг</td>\n",
              "      <td>краска резиновая коричневый ral 8017  3 кг</td>\n",
              "    </tr>\n",
              "    <tr>\n",
              "      <th>3402</th>\n",
              "      <td>Средство для удаления пригоревших жиров PROSEPT 500 мл</td>\n",
              "      <td>74</td>\n",
              "      <td>Средство для чистки гриля и духовых шкафовCooky Grill Gelконцентрированное средство 1:1 – 1:50 / 0,5 л</td>\n",
              "      <td>жироудалитель  500 мл</td>\n",
              "      <td>жироудалитель cooky grill gel       500 мл</td>\n",
              "    </tr>\n",
              "    <tr>\n",
              "      <th>12455</th>\n",
              "      <td>Огнебиозащита для древесины PROSEPT ОГНЕБИО PROF 2-ая группа, 65 л 006-65</td>\n",
              "      <td>297</td>\n",
              "      <td>Огнебиозащита ОГНЕБИО PROF 2 группа, бесцветный готовый состав / 65 л</td>\n",
              "      <td>огнебиозащита  древесины  огнебио prof 2-ая группа 65 л</td>\n",
              "      <td>огнебиозащита огнебио prof 2-ая группа бесцветный   65 л</td>\n",
              "    </tr>\n",
              "    <tr>\n",
              "      <th>16354</th>\n",
              "      <td>Универсальный антисептик против грибка и плесени PROSEPT АНТИПЛЕСЕНЬ 5 л 025-5</td>\n",
              "      <td>290</td>\n",
              "      <td>Антисептик против грибка и плесени АНТИПЛЕСЕНЬ готовый состав / 5 л</td>\n",
              "      <td>антисептик против грибка и плесени  антиплесень 5 л</td>\n",
              "      <td>антисептик против грибка и плесени антиплесень   5 л</td>\n",
              "    </tr>\n",
              "  </tbody>\n",
              "</table>\n",
              "</div>\n",
              "    <div class=\"colab-df-buttons\">\n",
              "\n",
              "  <div class=\"colab-df-container\">\n",
              "    <button class=\"colab-df-convert\" onclick=\"convertToInteractive('df-e9e7ca9c-3f9b-46cd-a930-3b27642a3afd')\"\n",
              "            title=\"Convert this dataframe to an interactive table.\"\n",
              "            style=\"display:none;\">\n",
              "\n",
              "  <svg xmlns=\"http://www.w3.org/2000/svg\" height=\"24px\" viewBox=\"0 -960 960 960\">\n",
              "    <path d=\"M120-120v-720h720v720H120Zm60-500h600v-160H180v160Zm220 220h160v-160H400v160Zm0 220h160v-160H400v160ZM180-400h160v-160H180v160Zm440 0h160v-160H620v160ZM180-180h160v-160H180v160Zm440 0h160v-160H620v160Z\"/>\n",
              "  </svg>\n",
              "    </button>\n",
              "\n",
              "  <style>\n",
              "    .colab-df-container {\n",
              "      display:flex;\n",
              "      gap: 12px;\n",
              "    }\n",
              "\n",
              "    .colab-df-convert {\n",
              "      background-color: #E8F0FE;\n",
              "      border: none;\n",
              "      border-radius: 50%;\n",
              "      cursor: pointer;\n",
              "      display: none;\n",
              "      fill: #1967D2;\n",
              "      height: 32px;\n",
              "      padding: 0 0 0 0;\n",
              "      width: 32px;\n",
              "    }\n",
              "\n",
              "    .colab-df-convert:hover {\n",
              "      background-color: #E2EBFA;\n",
              "      box-shadow: 0px 1px 2px rgba(60, 64, 67, 0.3), 0px 1px 3px 1px rgba(60, 64, 67, 0.15);\n",
              "      fill: #174EA6;\n",
              "    }\n",
              "\n",
              "    .colab-df-buttons div {\n",
              "      margin-bottom: 4px;\n",
              "    }\n",
              "\n",
              "    [theme=dark] .colab-df-convert {\n",
              "      background-color: #3B4455;\n",
              "      fill: #D2E3FC;\n",
              "    }\n",
              "\n",
              "    [theme=dark] .colab-df-convert:hover {\n",
              "      background-color: #434B5C;\n",
              "      box-shadow: 0px 1px 3px 1px rgba(0, 0, 0, 0.15);\n",
              "      filter: drop-shadow(0px 1px 2px rgba(0, 0, 0, 0.3));\n",
              "      fill: #FFFFFF;\n",
              "    }\n",
              "  </style>\n",
              "\n",
              "    <script>\n",
              "      const buttonEl =\n",
              "        document.querySelector('#df-e9e7ca9c-3f9b-46cd-a930-3b27642a3afd button.colab-df-convert');\n",
              "      buttonEl.style.display =\n",
              "        google.colab.kernel.accessAllowed ? 'block' : 'none';\n",
              "\n",
              "      async function convertToInteractive(key) {\n",
              "        const element = document.querySelector('#df-e9e7ca9c-3f9b-46cd-a930-3b27642a3afd');\n",
              "        const dataTable =\n",
              "          await google.colab.kernel.invokeFunction('convertToInteractive',\n",
              "                                                    [key], {});\n",
              "        if (!dataTable) return;\n",
              "\n",
              "        const docLinkHtml = 'Like what you see? Visit the ' +\n",
              "          '<a target=\"_blank\" href=https://colab.research.google.com/notebooks/data_table.ipynb>data table notebook</a>'\n",
              "          + ' to learn more about interactive tables.';\n",
              "        element.innerHTML = '';\n",
              "        dataTable['output_type'] = 'display_data';\n",
              "        await google.colab.output.renderOutput(dataTable, element);\n",
              "        const docLink = document.createElement('div');\n",
              "        docLink.innerHTML = docLinkHtml;\n",
              "        element.appendChild(docLink);\n",
              "      }\n",
              "    </script>\n",
              "  </div>\n",
              "\n",
              "\n",
              "<div id=\"df-e9095e5a-38ec-44a2-a531-5463d8a19bd4\">\n",
              "  <button class=\"colab-df-quickchart\" onclick=\"quickchart('df-e9095e5a-38ec-44a2-a531-5463d8a19bd4')\"\n",
              "            title=\"Suggest charts\"\n",
              "            style=\"display:none;\">\n",
              "\n",
              "<svg xmlns=\"http://www.w3.org/2000/svg\" height=\"24px\"viewBox=\"0 0 24 24\"\n",
              "     width=\"24px\">\n",
              "    <g>\n",
              "        <path d=\"M19 3H5c-1.1 0-2 .9-2 2v14c0 1.1.9 2 2 2h14c1.1 0 2-.9 2-2V5c0-1.1-.9-2-2-2zM9 17H7v-7h2v7zm4 0h-2V7h2v10zm4 0h-2v-4h2v4z\"/>\n",
              "    </g>\n",
              "</svg>\n",
              "  </button>\n",
              "\n",
              "<style>\n",
              "  .colab-df-quickchart {\n",
              "      --bg-color: #E8F0FE;\n",
              "      --fill-color: #1967D2;\n",
              "      --hover-bg-color: #E2EBFA;\n",
              "      --hover-fill-color: #174EA6;\n",
              "      --disabled-fill-color: #AAA;\n",
              "      --disabled-bg-color: #DDD;\n",
              "  }\n",
              "\n",
              "  [theme=dark] .colab-df-quickchart {\n",
              "      --bg-color: #3B4455;\n",
              "      --fill-color: #D2E3FC;\n",
              "      --hover-bg-color: #434B5C;\n",
              "      --hover-fill-color: #FFFFFF;\n",
              "      --disabled-bg-color: #3B4455;\n",
              "      --disabled-fill-color: #666;\n",
              "  }\n",
              "\n",
              "  .colab-df-quickchart {\n",
              "    background-color: var(--bg-color);\n",
              "    border: none;\n",
              "    border-radius: 50%;\n",
              "    cursor: pointer;\n",
              "    display: none;\n",
              "    fill: var(--fill-color);\n",
              "    height: 32px;\n",
              "    padding: 0;\n",
              "    width: 32px;\n",
              "  }\n",
              "\n",
              "  .colab-df-quickchart:hover {\n",
              "    background-color: var(--hover-bg-color);\n",
              "    box-shadow: 0 1px 2px rgba(60, 64, 67, 0.3), 0 1px 3px 1px rgba(60, 64, 67, 0.15);\n",
              "    fill: var(--button-hover-fill-color);\n",
              "  }\n",
              "\n",
              "  .colab-df-quickchart-complete:disabled,\n",
              "  .colab-df-quickchart-complete:disabled:hover {\n",
              "    background-color: var(--disabled-bg-color);\n",
              "    fill: var(--disabled-fill-color);\n",
              "    box-shadow: none;\n",
              "  }\n",
              "\n",
              "  .colab-df-spinner {\n",
              "    border: 2px solid var(--fill-color);\n",
              "    border-color: transparent;\n",
              "    border-bottom-color: var(--fill-color);\n",
              "    animation:\n",
              "      spin 1s steps(1) infinite;\n",
              "  }\n",
              "\n",
              "  @keyframes spin {\n",
              "    0% {\n",
              "      border-color: transparent;\n",
              "      border-bottom-color: var(--fill-color);\n",
              "      border-left-color: var(--fill-color);\n",
              "    }\n",
              "    20% {\n",
              "      border-color: transparent;\n",
              "      border-left-color: var(--fill-color);\n",
              "      border-top-color: var(--fill-color);\n",
              "    }\n",
              "    30% {\n",
              "      border-color: transparent;\n",
              "      border-left-color: var(--fill-color);\n",
              "      border-top-color: var(--fill-color);\n",
              "      border-right-color: var(--fill-color);\n",
              "    }\n",
              "    40% {\n",
              "      border-color: transparent;\n",
              "      border-right-color: var(--fill-color);\n",
              "      border-top-color: var(--fill-color);\n",
              "    }\n",
              "    60% {\n",
              "      border-color: transparent;\n",
              "      border-right-color: var(--fill-color);\n",
              "    }\n",
              "    80% {\n",
              "      border-color: transparent;\n",
              "      border-right-color: var(--fill-color);\n",
              "      border-bottom-color: var(--fill-color);\n",
              "    }\n",
              "    90% {\n",
              "      border-color: transparent;\n",
              "      border-bottom-color: var(--fill-color);\n",
              "    }\n",
              "  }\n",
              "</style>\n",
              "\n",
              "  <script>\n",
              "    async function quickchart(key) {\n",
              "      const quickchartButtonEl =\n",
              "        document.querySelector('#' + key + ' button');\n",
              "      quickchartButtonEl.disabled = true;  // To prevent multiple clicks.\n",
              "      quickchartButtonEl.classList.add('colab-df-spinner');\n",
              "      try {\n",
              "        const charts = await google.colab.kernel.invokeFunction(\n",
              "            'suggestCharts', [key], {});\n",
              "      } catch (error) {\n",
              "        console.error('Error during call to suggestCharts:', error);\n",
              "      }\n",
              "      quickchartButtonEl.classList.remove('colab-df-spinner');\n",
              "      quickchartButtonEl.classList.add('colab-df-quickchart-complete');\n",
              "    }\n",
              "    (() => {\n",
              "      let quickchartButtonEl =\n",
              "        document.querySelector('#df-e9095e5a-38ec-44a2-a531-5463d8a19bd4 button');\n",
              "      quickchartButtonEl.style.display =\n",
              "        google.colab.kernel.accessAllowed ? 'block' : 'none';\n",
              "    })();\n",
              "  </script>\n",
              "</div>\n",
              "    </div>\n",
              "  </div>\n"
            ]
          },
          "metadata": {},
          "execution_count": 28
        }
      ]
    },
    {
      "cell_type": "code",
      "source": [
        "df.sample(20)"
      ],
      "metadata": {
        "colab": {
          "base_uri": "https://localhost:8080/",
          "height": 919
        },
        "id": "MHbE_CZWQ0Ih",
        "outputId": "eabda44b-6b04-4be6-a60b-ee0fd1198b8a"
      },
      "execution_count": 29,
      "outputs": [
        {
          "output_type": "execute_result",
          "data": {
            "text/plain": [
              "                                                                                      product_name  \\\n",
              "13280               Просепт Professional Cooky White средство для мытья и отбеливания посуды (5 л)   \n",
              "16747               Кондиционер для белья  PROSEPT Crystal Rinser \"Лепестки Сакуры\" концентрат 2 л   \n",
              "6592   Средство для удаления граффити, маркера, краски PROSEPT Duty Graffiti аэрозоль 0.4 л 153-04   \n",
              "14572          Гель д/удаления ржавчины, минеральных отложений PROSEPT Bath Extra 0,75л концентрат   \n",
              "14112                       Гель для чистки гриля и духовых шкафов Cooky Grill Gel. Концентрат, 5л   \n",
              "11115                     Просепт Professional Flox Prof нейтрализатор неприятных запахов (500 мл)   \n",
              "17225                                   Противогололедное средство PROSEPT Антилед-32 12 кг 242-12   \n",
              "6774                           Средство эконом-класса для мытья полов Multipower E, концентрат, 5л   \n",
              "14359                           Антисептик PROSEPT FUNGI STOP Защита от плесени, концентрат, 1.0 л   \n",
              "8587                          Антисептик лессирующий декоративный Prosept Biolasur белый люкс 0.9л   \n",
              "12423                                    Огнебиозащитный состав PROSEPT ОГНЕБИО PROF 2, 20л 006-20   \n",
              "13514     Просепт Professional Splash Soft средство для мытья посуды в посудомоечной машине (20 л)   \n",
              "11645                 PROSEPT ECO SAUNA - антисептик для защиты древесины в саунах и банях 10л (1)   \n",
              "6213                  Средство для удаления строительных растворов Duty Extra. Суперконцентрат, 5л   \n",
              "16296                                                    СредстводляудаленияплесениProsept025-5,5л   \n",
              "5867                                                                Средство от плесени Bath Fungi   \n",
              "14171       Просепт Professional Cooky Stuff концентрат для чистки и антимикробной обработки (5 л)   \n",
              "14308                                       Чистящее средство Crystal Lux отбеливающий эффект 400г   \n",
              "3173                                               Просепт Sauna антисептик для бани и сауны (1 л)   \n",
              "10143                                     Краска резиновая Prosept SuperRubber белый Ral 9003 3 кг   \n",
              "\n",
              "       product_id  \\\n",
              "13280         107   \n",
              "16747         145   \n",
              "6592          130   \n",
              "14572          56   \n",
              "14112          76   \n",
              "11115         193   \n",
              "17225           3   \n",
              "6774           31   \n",
              "14359         394   \n",
              "8587          331   \n",
              "12423         296   \n",
              "13514          99   \n",
              "11645         287   \n",
              "6213          124   \n",
              "16296         290   \n",
              "5867           67   \n",
              "14171          70   \n",
              "14308         165   \n",
              "3173          263   \n",
              "10143         419   \n",
              "\n",
              "                                                                                                                         original_name  \\\n",
              "13280                        Средство для мытья и отбеливания посуды с дезинфицирующим эффектом.Cooky Whiteконцентрат 1:50-1:100 / 5 л   \n",
              "16747                                                 Кондиционер для белья с ароматом лепестков СакурыCrystal Rinserконцентрат / 2 л    \n",
              "6592                                     Средство для удаления граффити, маркера, краскиDuty Graffiti готовый состав, аэрозоль / 0,4 л   \n",
              "14572  Гелеобразное средство усиленного действия для удаления ржавчины и минеральных отложенийBath Extraконцентрат 1:10-1:100 / 0,75 л   \n",
              "14112                             Средство для чистки гриля и духовых шкафовCooky Grill Gelконцентрированное средство 1:1 – 1:50 / 5 л   \n",
              "11115                                                                 Нейтрализатор неприятных запаховFLOX PROFготовый состав / 0,5 л    \n",
              "17225                                                                                   Антигололед - 32 PROSEPTготовый состав / 12 кг   \n",
              "6774                                                    Концентрат эконом-класса для мытья половMultipower Eконцентрат 1:5-1:150 / 5 л   \n",
              "14359                                                                              Защита от плесени FUNGI STOP концентрат  1:10 / 1 л   \n",
              "8587                                                                             Антисептик лессирующий BiO LASUR / белый люкс / 0,9 л   \n",
              "12423                                                            Огнебиозащита ОГНЕБИО PROF 2 группа, бесцветный готовый состав / 20 л   \n",
              "13514                Средство для мытья посуды в посудомоечной машине. Для жесткой водыCooky Splash Softконцентрат 1:200-1:2000 / 20 л   \n",
              "11645                                                                       Антисептик для бани и сауны ECO SAUNAготовый состав / 10 л   \n",
              "6213                                                      Средство для уборки после строительстваDuty Extraконцентрат 1:2-1:100 / 5 л    \n",
              "16296                                                              Антисептик против грибка и плесени АНТИПЛЕСЕНЬ готовый состав / 5 л   \n",
              "5867                                 Средство для удаления плесени  с дезинфицирующим эффектомBath Fungi концентрат 1:50-1:100 / 0,5 л   \n",
              "14171   Концентрат для чистки и антимикробной обработки пищевого технологического оборудования Cooky Stuff концентрат 1:20-1:200 / 5 л   \n",
              "14308                                                         Чистящее средство, отбеливающий эффектCrystal Lux готовый состав / 0,4 л   \n",
              "3173                                                                 Антисептик для внутренних работPROSEPT SAUNAконцентрат 1:10 / 1 л   \n",
              "10143                                                                                           Краска резиновая белый Ral 9003 / 3 кг   \n",
              "\n",
              "                                                  product_name_normalized  \\\n",
              "13280                        cooky white   мытья и отбеливания посуды 5 л   \n",
              "16747            кондиционер  белья   crystal rinser лепестки сакуры  2 л   \n",
              "6592     удаления граффити маркера краски  duty graffiti аэрозоль 400 мл    \n",
              "14572                  ржавчины минеральных отложений  bath extra 750 мл    \n",
              "14112                                  жироудалитель cooky grill gel  5 л   \n",
              "11115                   flox prof нейтрализатор неприятных запахов 500 мл   \n",
              "17225                               противогололедное   антилед-32 12 кг    \n",
              "6774                         эконом-класса  мытья полов multipower e  5 л   \n",
              "14359                   антисептик  fungi stop защита от плесени  1000 мл   \n",
              "8587      антисептик лессирующий декоративный  biolasur белый люкс 900 мл   \n",
              "12423                        огнебиозащитный состав  огнебио prof 2 20 л    \n",
              "13514              splash soft   мытья посуды в посудомоечной машине 20 л   \n",
              "11645       eco sauna антисептик  защиты древесины в саунах и банях 10 л    \n",
              "6213                 удаления строительных растворов duty extra супер 5 л   \n",
              "16296                                                удаленияплесени   мл   \n",
              "5867                                                от плесени bath fungi   \n",
              "14171                        cooky stuff    и антимикробной обработки 5 л   \n",
              "14308                               crystal lux отбеливающий эффект 400 г   \n",
              "3173                                   sauna антисептик  бани и сауны 1 л   \n",
              "10143                              краска резиновая   белый ral 9003 3 кг   \n",
              "\n",
              "                                                                               original_name_normalized  \n",
              "13280                                         мытья и отбеливания посуды с дезинфицирующим  white   5 л  \n",
              "16747                              кондиционер  белья с ароматом лепестков сакуры crystal rinser   2 л   \n",
              "6592                                   удаления граффити маркера краски duty graffiti  аэрозоль  400 мл  \n",
              "14572  гелеобразное  усиленного действия  удаления ржавчины и минеральных отложений bath extra   750 мл  \n",
              "14112                                                           жироудалитель cooky grill gel       5 л  \n",
              "11115                                              нейтрализатор неприятных запахов flox prof   500 мл   \n",
              "17225                                                                           антигололед 32    12 кг  \n",
              "6774                                                      эконом-класса  мытья полов multipower e   5 л  \n",
              "14359                                                              защита от плесени fungi stop     1 л  \n",
              "8587                                               антисептик лессирующий bio lasur  белый люкс  900 мл  \n",
              "12423                                          огнебиозащита огнебио prof 2-ая группа бесцветный   20 л  \n",
              "13514                        мытья посуды в посудомоечной машине  жесткой воды cooky splash soft   20 л  \n",
              "11645                                                         антисептик  бани и сауны eco sauna   10 л  \n",
              "6213                                                       уборки после строительства duty extra   5 л   \n",
              "16296                                              антисептик против грибка и плесени антиплесень   5 л  \n",
              "5867                                   удаления плесени  с дезинфицирующим эффектом bath fungi   500 мл  \n",
              "14171                и антимикробной обработки пищевого технологического оборудования cooky stuff   5 л  \n",
              "14308                                                          отбеливающий эффект crystal lux   400 мл  \n",
              "3173                                                         антисептик  внутренних работ  sauna    1 л  \n",
              "10143                                                             краска резиновая белый ral 9003  3 кг  "
            ],
            "text/html": [
              "\n",
              "  <div id=\"df-5bc463d1-d2cc-4ec4-aee7-d59a4f6f8a34\" class=\"colab-df-container\">\n",
              "    <div>\n",
              "<style scoped>\n",
              "    .dataframe tbody tr th:only-of-type {\n",
              "        vertical-align: middle;\n",
              "    }\n",
              "\n",
              "    .dataframe tbody tr th {\n",
              "        vertical-align: top;\n",
              "    }\n",
              "\n",
              "    .dataframe thead th {\n",
              "        text-align: right;\n",
              "    }\n",
              "</style>\n",
              "<table border=\"1\" class=\"dataframe\">\n",
              "  <thead>\n",
              "    <tr style=\"text-align: right;\">\n",
              "      <th></th>\n",
              "      <th>product_name</th>\n",
              "      <th>product_id</th>\n",
              "      <th>original_name</th>\n",
              "      <th>product_name_normalized</th>\n",
              "      <th>original_name_normalized</th>\n",
              "    </tr>\n",
              "  </thead>\n",
              "  <tbody>\n",
              "    <tr>\n",
              "      <th>13280</th>\n",
              "      <td>Просепт Professional Cooky White средство для мытья и отбеливания посуды (5 л)</td>\n",
              "      <td>107</td>\n",
              "      <td>Средство для мытья и отбеливания посуды с дезинфицирующим эффектом.Cooky Whiteконцентрат 1:50-1:100 / 5 л</td>\n",
              "      <td>cooky white   мытья и отбеливания посуды 5 л</td>\n",
              "      <td>мытья и отбеливания посуды с дезинфицирующим  white   5 л</td>\n",
              "    </tr>\n",
              "    <tr>\n",
              "      <th>16747</th>\n",
              "      <td>Кондиционер для белья  PROSEPT Crystal Rinser \"Лепестки Сакуры\" концентрат 2 л</td>\n",
              "      <td>145</td>\n",
              "      <td>Кондиционер для белья с ароматом лепестков СакурыCrystal Rinserконцентрат / 2 л</td>\n",
              "      <td>кондиционер  белья   crystal rinser лепестки сакуры  2 л</td>\n",
              "      <td>кондиционер  белья с ароматом лепестков сакуры crystal rinser   2 л</td>\n",
              "    </tr>\n",
              "    <tr>\n",
              "      <th>6592</th>\n",
              "      <td>Средство для удаления граффити, маркера, краски PROSEPT Duty Graffiti аэрозоль 0.4 л 153-04</td>\n",
              "      <td>130</td>\n",
              "      <td>Средство для удаления граффити, маркера, краскиDuty Graffiti готовый состав, аэрозоль / 0,4 л</td>\n",
              "      <td>удаления граффити маркера краски  duty graffiti аэрозоль 400 мл</td>\n",
              "      <td>удаления граффити маркера краски duty graffiti  аэрозоль  400 мл</td>\n",
              "    </tr>\n",
              "    <tr>\n",
              "      <th>14572</th>\n",
              "      <td>Гель д/удаления ржавчины, минеральных отложений PROSEPT Bath Extra 0,75л концентрат</td>\n",
              "      <td>56</td>\n",
              "      <td>Гелеобразное средство усиленного действия для удаления ржавчины и минеральных отложенийBath Extraконцентрат 1:10-1:100 / 0,75 л</td>\n",
              "      <td>ржавчины минеральных отложений  bath extra 750 мл</td>\n",
              "      <td>гелеобразное  усиленного действия  удаления ржавчины и минеральных отложений bath extra   750 мл</td>\n",
              "    </tr>\n",
              "    <tr>\n",
              "      <th>14112</th>\n",
              "      <td>Гель для чистки гриля и духовых шкафов Cooky Grill Gel. Концентрат, 5л</td>\n",
              "      <td>76</td>\n",
              "      <td>Средство для чистки гриля и духовых шкафовCooky Grill Gelконцентрированное средство 1:1 – 1:50 / 5 л</td>\n",
              "      <td>жироудалитель cooky grill gel  5 л</td>\n",
              "      <td>жироудалитель cooky grill gel       5 л</td>\n",
              "    </tr>\n",
              "    <tr>\n",
              "      <th>11115</th>\n",
              "      <td>Просепт Professional Flox Prof нейтрализатор неприятных запахов (500 мл)</td>\n",
              "      <td>193</td>\n",
              "      <td>Нейтрализатор неприятных запаховFLOX PROFготовый состав / 0,5 л</td>\n",
              "      <td>flox prof нейтрализатор неприятных запахов 500 мл</td>\n",
              "      <td>нейтрализатор неприятных запахов flox prof   500 мл</td>\n",
              "    </tr>\n",
              "    <tr>\n",
              "      <th>17225</th>\n",
              "      <td>Противогололедное средство PROSEPT Антилед-32 12 кг 242-12</td>\n",
              "      <td>3</td>\n",
              "      <td>Антигололед - 32 PROSEPTготовый состав / 12 кг</td>\n",
              "      <td>противогололедное   антилед-32 12 кг</td>\n",
              "      <td>антигололед 32    12 кг</td>\n",
              "    </tr>\n",
              "    <tr>\n",
              "      <th>6774</th>\n",
              "      <td>Средство эконом-класса для мытья полов Multipower E, концентрат, 5л</td>\n",
              "      <td>31</td>\n",
              "      <td>Концентрат эконом-класса для мытья половMultipower Eконцентрат 1:5-1:150 / 5 л</td>\n",
              "      <td>эконом-класса  мытья полов multipower e  5 л</td>\n",
              "      <td>эконом-класса  мытья полов multipower e   5 л</td>\n",
              "    </tr>\n",
              "    <tr>\n",
              "      <th>14359</th>\n",
              "      <td>Антисептик PROSEPT FUNGI STOP Защита от плесени, концентрат, 1.0 л</td>\n",
              "      <td>394</td>\n",
              "      <td>Защита от плесени FUNGI STOP концентрат  1:10 / 1 л</td>\n",
              "      <td>антисептик  fungi stop защита от плесени  1000 мл</td>\n",
              "      <td>защита от плесени fungi stop     1 л</td>\n",
              "    </tr>\n",
              "    <tr>\n",
              "      <th>8587</th>\n",
              "      <td>Антисептик лессирующий декоративный Prosept Biolasur белый люкс 0.9л</td>\n",
              "      <td>331</td>\n",
              "      <td>Антисептик лессирующий BiO LASUR / белый люкс / 0,9 л</td>\n",
              "      <td>антисептик лессирующий декоративный  biolasur белый люкс 900 мл</td>\n",
              "      <td>антисептик лессирующий bio lasur  белый люкс  900 мл</td>\n",
              "    </tr>\n",
              "    <tr>\n",
              "      <th>12423</th>\n",
              "      <td>Огнебиозащитный состав PROSEPT ОГНЕБИО PROF 2, 20л 006-20</td>\n",
              "      <td>296</td>\n",
              "      <td>Огнебиозащита ОГНЕБИО PROF 2 группа, бесцветный готовый состав / 20 л</td>\n",
              "      <td>огнебиозащитный состав  огнебио prof 2 20 л</td>\n",
              "      <td>огнебиозащита огнебио prof 2-ая группа бесцветный   20 л</td>\n",
              "    </tr>\n",
              "    <tr>\n",
              "      <th>13514</th>\n",
              "      <td>Просепт Professional Splash Soft средство для мытья посуды в посудомоечной машине (20 л)</td>\n",
              "      <td>99</td>\n",
              "      <td>Средство для мытья посуды в посудомоечной машине. Для жесткой водыCooky Splash Softконцентрат 1:200-1:2000 / 20 л</td>\n",
              "      <td>splash soft   мытья посуды в посудомоечной машине 20 л</td>\n",
              "      <td>мытья посуды в посудомоечной машине  жесткой воды cooky splash soft   20 л</td>\n",
              "    </tr>\n",
              "    <tr>\n",
              "      <th>11645</th>\n",
              "      <td>PROSEPT ECO SAUNA - антисептик для защиты древесины в саунах и банях 10л (1)</td>\n",
              "      <td>287</td>\n",
              "      <td>Антисептик для бани и сауны ECO SAUNAготовый состав / 10 л</td>\n",
              "      <td>eco sauna антисептик  защиты древесины в саунах и банях 10 л</td>\n",
              "      <td>антисептик  бани и сауны eco sauna   10 л</td>\n",
              "    </tr>\n",
              "    <tr>\n",
              "      <th>6213</th>\n",
              "      <td>Средство для удаления строительных растворов Duty Extra. Суперконцентрат, 5л</td>\n",
              "      <td>124</td>\n",
              "      <td>Средство для уборки после строительстваDuty Extraконцентрат 1:2-1:100 / 5 л</td>\n",
              "      <td>удаления строительных растворов duty extra супер 5 л</td>\n",
              "      <td>уборки после строительства duty extra   5 л</td>\n",
              "    </tr>\n",
              "    <tr>\n",
              "      <th>16296</th>\n",
              "      <td>СредстводляудаленияплесениProsept025-5,5л</td>\n",
              "      <td>290</td>\n",
              "      <td>Антисептик против грибка и плесени АНТИПЛЕСЕНЬ готовый состав / 5 л</td>\n",
              "      <td>удаленияплесени   мл</td>\n",
              "      <td>антисептик против грибка и плесени антиплесень   5 л</td>\n",
              "    </tr>\n",
              "    <tr>\n",
              "      <th>5867</th>\n",
              "      <td>Средство от плесени Bath Fungi</td>\n",
              "      <td>67</td>\n",
              "      <td>Средство для удаления плесени  с дезинфицирующим эффектомBath Fungi концентрат 1:50-1:100 / 0,5 л</td>\n",
              "      <td>от плесени bath fungi</td>\n",
              "      <td>удаления плесени  с дезинфицирующим эффектом bath fungi   500 мл</td>\n",
              "    </tr>\n",
              "    <tr>\n",
              "      <th>14171</th>\n",
              "      <td>Просепт Professional Cooky Stuff концентрат для чистки и антимикробной обработки (5 л)</td>\n",
              "      <td>70</td>\n",
              "      <td>Концентрат для чистки и антимикробной обработки пищевого технологического оборудования Cooky Stuff концентрат 1:20-1:200 / 5 л</td>\n",
              "      <td>cooky stuff    и антимикробной обработки 5 л</td>\n",
              "      <td>и антимикробной обработки пищевого технологического оборудования cooky stuff   5 л</td>\n",
              "    </tr>\n",
              "    <tr>\n",
              "      <th>14308</th>\n",
              "      <td>Чистящее средство Crystal Lux отбеливающий эффект 400г</td>\n",
              "      <td>165</td>\n",
              "      <td>Чистящее средство, отбеливающий эффектCrystal Lux готовый состав / 0,4 л</td>\n",
              "      <td>crystal lux отбеливающий эффект 400 г</td>\n",
              "      <td>отбеливающий эффект crystal lux   400 мл</td>\n",
              "    </tr>\n",
              "    <tr>\n",
              "      <th>3173</th>\n",
              "      <td>Просепт Sauna антисептик для бани и сауны (1 л)</td>\n",
              "      <td>263</td>\n",
              "      <td>Антисептик для внутренних работPROSEPT SAUNAконцентрат 1:10 / 1 л</td>\n",
              "      <td>sauna антисептик  бани и сауны 1 л</td>\n",
              "      <td>антисептик  внутренних работ  sauna    1 л</td>\n",
              "    </tr>\n",
              "    <tr>\n",
              "      <th>10143</th>\n",
              "      <td>Краска резиновая Prosept SuperRubber белый Ral 9003 3 кг</td>\n",
              "      <td>419</td>\n",
              "      <td>Краска резиновая белый Ral 9003 / 3 кг</td>\n",
              "      <td>краска резиновая   белый ral 9003 3 кг</td>\n",
              "      <td>краска резиновая белый ral 9003  3 кг</td>\n",
              "    </tr>\n",
              "  </tbody>\n",
              "</table>\n",
              "</div>\n",
              "    <div class=\"colab-df-buttons\">\n",
              "\n",
              "  <div class=\"colab-df-container\">\n",
              "    <button class=\"colab-df-convert\" onclick=\"convertToInteractive('df-5bc463d1-d2cc-4ec4-aee7-d59a4f6f8a34')\"\n",
              "            title=\"Convert this dataframe to an interactive table.\"\n",
              "            style=\"display:none;\">\n",
              "\n",
              "  <svg xmlns=\"http://www.w3.org/2000/svg\" height=\"24px\" viewBox=\"0 -960 960 960\">\n",
              "    <path d=\"M120-120v-720h720v720H120Zm60-500h600v-160H180v160Zm220 220h160v-160H400v160Zm0 220h160v-160H400v160ZM180-400h160v-160H180v160Zm440 0h160v-160H620v160ZM180-180h160v-160H180v160Zm440 0h160v-160H620v160Z\"/>\n",
              "  </svg>\n",
              "    </button>\n",
              "\n",
              "  <style>\n",
              "    .colab-df-container {\n",
              "      display:flex;\n",
              "      gap: 12px;\n",
              "    }\n",
              "\n",
              "    .colab-df-convert {\n",
              "      background-color: #E8F0FE;\n",
              "      border: none;\n",
              "      border-radius: 50%;\n",
              "      cursor: pointer;\n",
              "      display: none;\n",
              "      fill: #1967D2;\n",
              "      height: 32px;\n",
              "      padding: 0 0 0 0;\n",
              "      width: 32px;\n",
              "    }\n",
              "\n",
              "    .colab-df-convert:hover {\n",
              "      background-color: #E2EBFA;\n",
              "      box-shadow: 0px 1px 2px rgba(60, 64, 67, 0.3), 0px 1px 3px 1px rgba(60, 64, 67, 0.15);\n",
              "      fill: #174EA6;\n",
              "    }\n",
              "\n",
              "    .colab-df-buttons div {\n",
              "      margin-bottom: 4px;\n",
              "    }\n",
              "\n",
              "    [theme=dark] .colab-df-convert {\n",
              "      background-color: #3B4455;\n",
              "      fill: #D2E3FC;\n",
              "    }\n",
              "\n",
              "    [theme=dark] .colab-df-convert:hover {\n",
              "      background-color: #434B5C;\n",
              "      box-shadow: 0px 1px 3px 1px rgba(0, 0, 0, 0.15);\n",
              "      filter: drop-shadow(0px 1px 2px rgba(0, 0, 0, 0.3));\n",
              "      fill: #FFFFFF;\n",
              "    }\n",
              "  </style>\n",
              "\n",
              "    <script>\n",
              "      const buttonEl =\n",
              "        document.querySelector('#df-5bc463d1-d2cc-4ec4-aee7-d59a4f6f8a34 button.colab-df-convert');\n",
              "      buttonEl.style.display =\n",
              "        google.colab.kernel.accessAllowed ? 'block' : 'none';\n",
              "\n",
              "      async function convertToInteractive(key) {\n",
              "        const element = document.querySelector('#df-5bc463d1-d2cc-4ec4-aee7-d59a4f6f8a34');\n",
              "        const dataTable =\n",
              "          await google.colab.kernel.invokeFunction('convertToInteractive',\n",
              "                                                    [key], {});\n",
              "        if (!dataTable) return;\n",
              "\n",
              "        const docLinkHtml = 'Like what you see? Visit the ' +\n",
              "          '<a target=\"_blank\" href=https://colab.research.google.com/notebooks/data_table.ipynb>data table notebook</a>'\n",
              "          + ' to learn more about interactive tables.';\n",
              "        element.innerHTML = '';\n",
              "        dataTable['output_type'] = 'display_data';\n",
              "        await google.colab.output.renderOutput(dataTable, element);\n",
              "        const docLink = document.createElement('div');\n",
              "        docLink.innerHTML = docLinkHtml;\n",
              "        element.appendChild(docLink);\n",
              "      }\n",
              "    </script>\n",
              "  </div>\n",
              "\n",
              "\n",
              "<div id=\"df-53255aca-a379-4d00-bbd3-9fcdf4e899e9\">\n",
              "  <button class=\"colab-df-quickchart\" onclick=\"quickchart('df-53255aca-a379-4d00-bbd3-9fcdf4e899e9')\"\n",
              "            title=\"Suggest charts\"\n",
              "            style=\"display:none;\">\n",
              "\n",
              "<svg xmlns=\"http://www.w3.org/2000/svg\" height=\"24px\"viewBox=\"0 0 24 24\"\n",
              "     width=\"24px\">\n",
              "    <g>\n",
              "        <path d=\"M19 3H5c-1.1 0-2 .9-2 2v14c0 1.1.9 2 2 2h14c1.1 0 2-.9 2-2V5c0-1.1-.9-2-2-2zM9 17H7v-7h2v7zm4 0h-2V7h2v10zm4 0h-2v-4h2v4z\"/>\n",
              "    </g>\n",
              "</svg>\n",
              "  </button>\n",
              "\n",
              "<style>\n",
              "  .colab-df-quickchart {\n",
              "      --bg-color: #E8F0FE;\n",
              "      --fill-color: #1967D2;\n",
              "      --hover-bg-color: #E2EBFA;\n",
              "      --hover-fill-color: #174EA6;\n",
              "      --disabled-fill-color: #AAA;\n",
              "      --disabled-bg-color: #DDD;\n",
              "  }\n",
              "\n",
              "  [theme=dark] .colab-df-quickchart {\n",
              "      --bg-color: #3B4455;\n",
              "      --fill-color: #D2E3FC;\n",
              "      --hover-bg-color: #434B5C;\n",
              "      --hover-fill-color: #FFFFFF;\n",
              "      --disabled-bg-color: #3B4455;\n",
              "      --disabled-fill-color: #666;\n",
              "  }\n",
              "\n",
              "  .colab-df-quickchart {\n",
              "    background-color: var(--bg-color);\n",
              "    border: none;\n",
              "    border-radius: 50%;\n",
              "    cursor: pointer;\n",
              "    display: none;\n",
              "    fill: var(--fill-color);\n",
              "    height: 32px;\n",
              "    padding: 0;\n",
              "    width: 32px;\n",
              "  }\n",
              "\n",
              "  .colab-df-quickchart:hover {\n",
              "    background-color: var(--hover-bg-color);\n",
              "    box-shadow: 0 1px 2px rgba(60, 64, 67, 0.3), 0 1px 3px 1px rgba(60, 64, 67, 0.15);\n",
              "    fill: var(--button-hover-fill-color);\n",
              "  }\n",
              "\n",
              "  .colab-df-quickchart-complete:disabled,\n",
              "  .colab-df-quickchart-complete:disabled:hover {\n",
              "    background-color: var(--disabled-bg-color);\n",
              "    fill: var(--disabled-fill-color);\n",
              "    box-shadow: none;\n",
              "  }\n",
              "\n",
              "  .colab-df-spinner {\n",
              "    border: 2px solid var(--fill-color);\n",
              "    border-color: transparent;\n",
              "    border-bottom-color: var(--fill-color);\n",
              "    animation:\n",
              "      spin 1s steps(1) infinite;\n",
              "  }\n",
              "\n",
              "  @keyframes spin {\n",
              "    0% {\n",
              "      border-color: transparent;\n",
              "      border-bottom-color: var(--fill-color);\n",
              "      border-left-color: var(--fill-color);\n",
              "    }\n",
              "    20% {\n",
              "      border-color: transparent;\n",
              "      border-left-color: var(--fill-color);\n",
              "      border-top-color: var(--fill-color);\n",
              "    }\n",
              "    30% {\n",
              "      border-color: transparent;\n",
              "      border-left-color: var(--fill-color);\n",
              "      border-top-color: var(--fill-color);\n",
              "      border-right-color: var(--fill-color);\n",
              "    }\n",
              "    40% {\n",
              "      border-color: transparent;\n",
              "      border-right-color: var(--fill-color);\n",
              "      border-top-color: var(--fill-color);\n",
              "    }\n",
              "    60% {\n",
              "      border-color: transparent;\n",
              "      border-right-color: var(--fill-color);\n",
              "    }\n",
              "    80% {\n",
              "      border-color: transparent;\n",
              "      border-right-color: var(--fill-color);\n",
              "      border-bottom-color: var(--fill-color);\n",
              "    }\n",
              "    90% {\n",
              "      border-color: transparent;\n",
              "      border-bottom-color: var(--fill-color);\n",
              "    }\n",
              "  }\n",
              "</style>\n",
              "\n",
              "  <script>\n",
              "    async function quickchart(key) {\n",
              "      const quickchartButtonEl =\n",
              "        document.querySelector('#' + key + ' button');\n",
              "      quickchartButtonEl.disabled = true;  // To prevent multiple clicks.\n",
              "      quickchartButtonEl.classList.add('colab-df-spinner');\n",
              "      try {\n",
              "        const charts = await google.colab.kernel.invokeFunction(\n",
              "            'suggestCharts', [key], {});\n",
              "      } catch (error) {\n",
              "        console.error('Error during call to suggestCharts:', error);\n",
              "      }\n",
              "      quickchartButtonEl.classList.remove('colab-df-spinner');\n",
              "      quickchartButtonEl.classList.add('colab-df-quickchart-complete');\n",
              "    }\n",
              "    (() => {\n",
              "      let quickchartButtonEl =\n",
              "        document.querySelector('#df-53255aca-a379-4d00-bbd3-9fcdf4e899e9 button');\n",
              "      quickchartButtonEl.style.display =\n",
              "        google.colab.kernel.accessAllowed ? 'block' : 'none';\n",
              "    })();\n",
              "  </script>\n",
              "</div>\n",
              "    </div>\n",
              "  </div>\n"
            ]
          },
          "metadata": {},
          "execution_count": 29
        }
      ]
    },
    {
      "cell_type": "code",
      "source": [
        "df.info()"
      ],
      "metadata": {
        "colab": {
          "base_uri": "https://localhost:8080/"
        },
        "id": "wBR2IJ4KRc4O",
        "outputId": "fc120812-bcbc-4fed-bead-838ecdbe2e41"
      },
      "execution_count": 30,
      "outputs": [
        {
          "output_type": "stream",
          "name": "stdout",
          "text": [
            "<class 'pandas.core.frame.DataFrame'>\n",
            "Int64Index: 17567 entries, 0 to 17566\n",
            "Data columns (total 5 columns):\n",
            " #   Column                    Non-Null Count  Dtype \n",
            "---  ------                    --------------  ----- \n",
            " 0   product_name              17567 non-null  object\n",
            " 1   product_id                17567 non-null  int64 \n",
            " 2   original_name             17567 non-null  object\n",
            " 3   product_name_normalized   17567 non-null  object\n",
            " 4   original_name_normalized  17567 non-null  object\n",
            "dtypes: int64(1), object(4)\n",
            "memory usage: 823.5+ KB\n"
          ]
        }
      ]
    },
    {
      "cell_type": "code",
      "source": [
        "# Подсчет количества дубликатов\n",
        "num_duplicates = df.duplicated().sum()\n",
        "\n",
        "print(f\"Количество дубликатов в датафрейме: {num_duplicates}\")"
      ],
      "metadata": {
        "colab": {
          "base_uri": "https://localhost:8080/"
        },
        "id": "8TFLYJJKg_vC",
        "outputId": "2162c642-2e0f-4882-d0b5-6a560b44056a"
      },
      "execution_count": 31,
      "outputs": [
        {
          "output_type": "stream",
          "name": "stdout",
          "text": [
            "Количество дубликатов в датафрейме: 15877\n"
          ]
        }
      ]
    },
    {
      "cell_type": "code",
      "source": [
        "# Удаление полных дубликатов\n",
        "df = df.drop_duplicates()"
      ],
      "metadata": {
        "id": "awmwyHYQjTdw"
      },
      "execution_count": 32,
      "outputs": []
    },
    {
      "cell_type": "markdown",
      "source": [
        "## Создаем эмбеддинги наименований при помощи двуязычной версии BERT."
      ],
      "metadata": {
        "id": "Y6L0EOxyRVNB"
      }
    },
    {
      "cell_type": "code",
      "source": [
        "# Загрузка мультиязычного токенизатора и модели\n",
        "tokenizer = AutoTokenizer.from_pretrained(\"bert-base-multilingual-cased\")\n",
        "model = AutoModel.from_pretrained(\"bert-base-multilingual-cased\")"
      ],
      "metadata": {
        "id": "pnJBN74_RatB"
      },
      "execution_count": 33,
      "outputs": []
    },
    {
      "cell_type": "code",
      "source": [
        "# Функция для подсчета длин токенов\n",
        "def get_token_lengths(column):\n",
        "    token_lengths = [len(tokenizer.tokenize(text)) for text in df[column]]\n",
        "    return np.mean(token_lengths), np.median(token_lengths), np.max(token_lengths)\n",
        "\n",
        "# Подсчитываем длину токенизированных текстов для каждого столбца\n",
        "avg_length_product, median_length_product, max_length_product = get_token_lengths('product_name_normalized')\n",
        "avg_length_original, median_length_original, max_length_original = get_token_lengths('original_name_normalized')\n",
        "\n",
        "# Вывод статистики\n",
        "print(f\"Для 'product_name_normalized': Средняя длина: {avg_length_product}, Медианная длина: {median_length_product}, Максимальная длина: {max_length_product}\")\n",
        "print(f\"Для 'original_name_normalized': Средняя длина: {avg_length_original}, Медианная длина: {median_length_original}, Максимальная длина: {max_length_original}\")"
      ],
      "metadata": {
        "colab": {
          "base_uri": "https://localhost:8080/"
        },
        "id": "DLGsGqNASYPc",
        "outputId": "d200a7a5-cc5b-47a8-bcaf-0789944d5bbf"
      },
      "execution_count": 34,
      "outputs": [
        {
          "output_type": "stream",
          "name": "stdout",
          "text": [
            "Для 'product_name_normalized': Средняя длина: 15.228402366863905, Медианная длина: 15.0, Максимальная длина: 36\n",
            "Для 'original_name_normalized': Средняя длина: 15.662130177514793, Медианная длина: 15.0, Максимальная длина: 32\n"
          ]
        }
      ]
    },
    {
      "cell_type": "code",
      "source": [
        "# Функция для генерации эмбеддингов\n",
        "def generate_embeddings(text):\n",
        "    encoded_input = tokenizer(text, return_tensors='pt', max_length=36, padding='max_length',\n",
        "                              truncation=True, add_special_tokens=True, return_attention_mask=True)\n",
        "    # Выключение расчета градиентов для ускорения процесса\n",
        "    with torch.no_grad():\n",
        "        # Получение выходных данных модели\n",
        "        output = model(**encoded_input)\n",
        "    # Возвращение усредненных эмбеддингов последнего слоя\n",
        "    return output.last_hidden_state.mean(dim=1).squeeze().numpy()"
      ],
      "metadata": {
        "id": "yfHuogFjUBzk"
      },
      "execution_count": 35,
      "outputs": []
    },
    {
      "cell_type": "code",
      "source": [
        "%%time\n",
        "\n",
        "# Генерация эмбеддингов для каждого столбца с индикатором прогресса\n",
        "df['product_name_embeddings'] = df['product_name_normalized'].progress_apply(generate_embeddings)\n",
        "df['original_name_embeddings'] = df['original_name_normalized'].progress_apply(generate_embeddings)"
      ],
      "metadata": {
        "colab": {
          "base_uri": "https://localhost:8080/"
        },
        "id": "CNRMV-ZaUDNW",
        "outputId": "f4f4d101-66be-4d86-cc6a-62fe9af8b8a7"
      },
      "execution_count": 36,
      "outputs": [
        {
          "output_type": "stream",
          "name": "stderr",
          "text": [
            "100%|██████████| 1690/1690 [02:22<00:00, 11.88it/s]\n",
            "100%|██████████| 1690/1690 [02:21<00:00, 11.92it/s]"
          ]
        },
        {
          "output_type": "stream",
          "name": "stdout",
          "text": [
            "CPU times: user 18min 53s, sys: 2.65 s, total: 18min 56s\n",
            "Wall time: 4min 44s\n"
          ]
        },
        {
          "output_type": "stream",
          "name": "stderr",
          "text": [
            "\n"
          ]
        }
      ]
    },
    {
      "cell_type": "code",
      "source": [
        "# Проверка результатов\n",
        "print(df[['product_name_embeddings', 'original_name_embeddings']].head())"
      ],
      "metadata": {
        "colab": {
          "base_uri": "https://localhost:8080/"
        },
        "id": "r8GpURN1UV49",
        "outputId": "e124d30d-d516-4b24-9d90-dd2d432b4dd9"
      },
      "execution_count": 37,
      "outputs": [
        {
          "output_type": "stream",
          "name": "stdout",
          "text": [
            "                                                                                                                                                                                                                                                                                                                                                                                                                                                                                                                                                                                                                                                                                                                                                                                                                                                                                                                                                                                                                                                                                                                                                                                                                                                                          product_name_embeddings  \\\n",
            "0    [-0.09449593, -0.2068447, 0.7157502, 0.3689307, -0.10248303, 0.025246983, -0.3843652, 0.025373481, -0.0453447, 0.53463566, 0.073404476, -0.029202325, 0.23685792, 0.1785842, 0.30879328, -0.30808258, 0.17122045, 0.47893417, -0.027122838, 0.03393151, -0.3787078, 0.012310833, 0.16452092, -0.16911304, 0.3458879, 0.27066284, -0.54470104, 0.11410447, -0.23784526, -0.36121866, 0.20818132, 0.5421738, -0.04255489, -0.06965002, -0.33268112, 0.16813025, 0.060547337, -0.07234011, 0.4726702, -0.28773472, -0.032350972, -0.10143335, 0.45857275, -0.20392525, 0.28628013, -0.023960412, -0.027611488, 0.23170383, -0.17032047, -0.33253685, 0.26652077, -0.04675232, 0.4015568, 0.24587637, -0.615154, 0.22148107, 0.5042326, -0.22755623, -0.070528, 0.241705, -0.27547285, -0.19817291, -0.16631757, -0.0921829, -0.31438294, -0.4220865, -0.40157562, 0.045609936, -0.29542315, 0.596335, 0.05505249, 0.34258848, 0.052203014, -0.1595166, -0.22839445, 0.80319446, 0.15007146, -0.019732714, 0.4722277, -0.68533885, 0.1906283, -0.061472364, 0.27289873, 0.35690072, -0.31518868, 0.02446121, -0.06723377, -0.00090664957, -0.24791697, -0.55222195, -0.1256383, -0.08394185, 0.5005623, 0.1154582, -0.50967723, 0.33847883, -0.03242627, 0.58377224, 0.5016644, -0.4970744, ...]   \n",
            "6       [0.3369211, -0.6108322, 0.64247286, 0.10037869, -0.44141832, -0.08749892, -0.37122357, 0.2570695, -0.1199264, 0.71508414, 0.44922632, 0.069221735, -0.16066122, -0.002021746, 0.16639669, -0.55437076, 0.5415815, 0.76673526, -0.2180563, 0.27964294, 0.36362034, -0.038930904, -0.123538285, 0.09551243, -0.060832117, -0.31884435, -0.54767126, 0.082700685, -0.09133962, -0.47431454, 0.25257573, 0.5853857, 0.38238657, 0.1632523, -0.26031125, 0.26804125, -0.044997953, 0.008393013, 0.5067872, -0.37849155, -0.4817866, 0.20954876, -0.15215108, 0.1372198, 0.21941479, -0.05160046, -0.040051393, -0.01825454, -0.34381858, -0.18801652, 0.58362156, -0.53973466, 0.44992977, 0.008110817, -0.46575838, 0.490464, -0.14794675, -0.12947112, 0.20735121, 0.26772076, 0.37183404, 0.28446195, -0.13257703, -0.16165587, -0.6350389, -0.19577998, -0.15843111, 0.33043268, -0.26566952, 0.25242242, 0.48355955, 0.5890981, 0.01566788, -0.017140128, -0.24101877, 0.680927, 0.68094033, 0.44263068, 0.6515557, -0.093552284, 0.12865551, 0.2572033, 0.4984069, 0.4426616, 0.016193287, 0.0732505, 0.001961076, -0.028642468, -0.20838732, -0.5914828, -0.30453765, 0.2841612, 0.20149465, 0.236074, -0.15576379, 0.16118386, -0.068006046, 0.32114494, -0.03834677, 0.20608039, ...]   \n",
            "20  [-0.16241436, 0.080634154, 0.9158512, 0.3843122, -0.20115477, 0.24821366, -0.25028002, 0.01500488, -0.038847968, 0.61871415, 0.16501273, 0.3110416, 0.002436086, -0.33326647, 0.33546922, -0.51049286, 0.15968974, 0.09652528, -0.07797074, -0.051402066, -0.56947446, 0.2179461, 0.3610063, -0.14936592, 0.49791586, 0.3266455, -0.44097075, 0.26006663, -0.25740725, -0.62833977, 0.36122012, 0.74906784, 0.008115021, -0.1270104, -0.19594908, 0.22719651, 0.32765293, -0.2561701, 0.5714907, -0.59675866, -0.09413214, 0.09450446, 0.06257734, -0.44952652, 0.13341151, -0.091751166, 0.0864711, 0.27081445, -0.035740186, -0.36298084, 0.21077493, -0.0028709306, 0.4981004, 0.43450254, -0.33369192, 0.2919328, 0.68922967, -0.45648146, -0.034214772, 0.43171662, -0.1803239, -0.37194565, -0.02815189, -0.4443587, -0.11837396, -0.14952213, -0.43492898, -0.024452427, -0.19390938, 0.7183639, -0.18561327, 0.20663284, 0.01744235, -0.090982795, -0.16755976, 0.64855146, 0.1324033, -0.02521438, 0.2789105, -0.6031535, 0.19414914, 0.08890681, 0.5304736, 0.56465703, -0.38452154, -0.11454447, -0.13435282, 0.15807255, -0.37629187, -0.3509426, -0.025294723, 0.18939656, 0.9159438, 0.12948819, -0.40887552, 0.64576817, -0.121456295, 0.3547033, 0.26803356, -0.3000475, ...]   \n",
            "33   [-0.09449593, -0.2068447, 0.7157502, 0.3689307, -0.10248303, 0.025246983, -0.3843652, 0.025373481, -0.0453447, 0.53463566, 0.073404476, -0.029202325, 0.23685792, 0.1785842, 0.30879328, -0.30808258, 0.17122045, 0.47893417, -0.027122838, 0.03393151, -0.3787078, 0.012310833, 0.16452092, -0.16911304, 0.3458879, 0.27066284, -0.54470104, 0.11410447, -0.23784526, -0.36121866, 0.20818132, 0.5421738, -0.04255489, -0.06965002, -0.33268112, 0.16813025, 0.060547337, -0.07234011, 0.4726702, -0.28773472, -0.032350972, -0.10143335, 0.45857275, -0.20392525, 0.28628013, -0.023960412, -0.027611488, 0.23170383, -0.17032047, -0.33253685, 0.26652077, -0.04675232, 0.4015568, 0.24587637, -0.615154, 0.22148107, 0.5042326, -0.22755623, -0.070528, 0.241705, -0.27547285, -0.19817291, -0.16631757, -0.0921829, -0.31438294, -0.4220865, -0.40157562, 0.045609936, -0.29542315, 0.596335, 0.05505249, 0.34258848, 0.052203014, -0.1595166, -0.22839445, 0.80319446, 0.15007146, -0.019732714, 0.4722277, -0.68533885, 0.1906283, -0.061472364, 0.27289873, 0.35690072, -0.31518868, 0.02446121, -0.06723377, -0.00090664957, -0.24791697, -0.55222195, -0.1256383, -0.08394185, 0.5005623, 0.1154582, -0.50967723, 0.33847883, -0.03242627, 0.58377224, 0.5016644, -0.4970744, ...]   \n",
            "44                 [-0.13770092, -0.2715376, 1.3895961, 0.5657468, 0.251472, -0.071863644, 0.2377507, -0.105072, 0.12415893, -0.25348037, -0.062818825, 0.071567476, 0.5939202, 0.41803774, -0.24001482, -0.36282662, 0.34021157, 0.31996936, -0.292927, 0.4058671, -0.03717507, 0.14146055, -0.016400628, -0.17318586, 0.34917462, -0.20143193, -0.43265465, 0.4058219, -0.07780344, 0.110229194, 0.264087, 0.28679708, -0.1511303, -0.028037455, -0.45130655, 0.5357126, -0.4447678, 0.20951182, 0.3464134, 0.22000048, 0.039651696, 0.05802085, 0.5298016, -0.2198438, 0.39738074, -0.4381018, -0.59167564, 0.5042038, 0.065604776, -0.26811683, 0.32696858, -0.11122431, 0.47257054, 0.4652379, -0.22494751, -0.6532922, 0.56821865, 0.4394108, -0.45550007, -0.27379248, -0.017731264, -0.5055692, 0.03750958, -0.1052983, -0.50600076, 0.115330406, -0.008421065, -0.057357505, 0.007304032, 0.743205, -0.1786176, 0.2621567, 0.50593877, -0.20532179, -0.19744629, 0.6885121, 0.65732026, 0.34913394, 0.46218288, -0.5805635, -0.08682313, 0.44908926, -0.3696548, 0.40778884, -0.2064624, -0.20488545, -0.05492528, -0.05848791, -0.0025137195, -0.08326032, -0.5055217, 0.15065919, 0.4140753, -0.29251352, -0.6825441, 0.15736681, -0.21799508, 0.7761198, 0.679059, -0.039574377, ...]   \n",
            "\n",
            "                                                                                                                                                                                                                                                                                                                                                                                                                                                                                                                                                                                                                                                                                                                                                                                                                                                                                                                                                                                                                                                                                                                                                                                                                                                                           original_name_embeddings  \n",
            "0   [-0.1864025, -0.00028391473, 0.5896658, 0.21545254, -0.02783637, 0.054042306, -0.19895618, -0.009177055, -0.12078852, 0.13265382, 0.04615696, 0.13144146, 0.080394164, -0.27900386, 0.22209165, -0.26882625, 0.4218556, -0.08388747, 0.08803951, 0.106909506, -0.54988617, 0.038700506, 0.18339533, 0.05266044, 0.4738305, 0.33305562, -0.6113017, 0.105284706, -0.18873256, -0.52514607, 0.41815695, 0.48115742, -0.10622634, 0.13247381, -0.2232212, 0.22170414, 0.30065215, -0.10982618, 0.17734933, -0.4376961, -0.032351453, 0.2786216, 0.3158602, -0.3825004, 0.09322427, -0.21943691, -0.09363023, 0.33312565, -0.29340702, -0.42528716, 0.23514774, 0.06075945, 0.36175504, 0.42035833, -0.31655616, 0.124470435, 0.57829905, -0.1948579, -0.024260709, 0.17621653, -0.1200852, -0.33311045, -0.037840858, -0.29397452, -0.2776145, -0.20284325, -0.33134758, -0.22240125, -0.12535836, 0.7293885, -0.16965501, 0.4099665, 0.32138813, -0.09238793, 0.08080552, 0.76476234, 0.362104, 0.085236356, -0.10662836, -0.56931907, -0.011409293, 0.14104658, 0.3607346, 0.36267433, -0.376412, -0.08286192, 0.19195876, 0.15441091, -0.3199775, -0.47575134, 0.038936496, 0.34504163, 0.7873717, -0.0057251165, -0.19159359, 0.6043112, -0.07552879, 0.57800204, 0.2475645, -0.12302952, ...]  \n",
            "6   [-0.1864025, -0.00028391473, 0.5896658, 0.21545254, -0.02783637, 0.054042306, -0.19895618, -0.009177055, -0.12078852, 0.13265382, 0.04615696, 0.13144146, 0.080394164, -0.27900386, 0.22209165, -0.26882625, 0.4218556, -0.08388747, 0.08803951, 0.106909506, -0.54988617, 0.038700506, 0.18339533, 0.05266044, 0.4738305, 0.33305562, -0.6113017, 0.105284706, -0.18873256, -0.52514607, 0.41815695, 0.48115742, -0.10622634, 0.13247381, -0.2232212, 0.22170414, 0.30065215, -0.10982618, 0.17734933, -0.4376961, -0.032351453, 0.2786216, 0.3158602, -0.3825004, 0.09322427, -0.21943691, -0.09363023, 0.33312565, -0.29340702, -0.42528716, 0.23514774, 0.06075945, 0.36175504, 0.42035833, -0.31655616, 0.124470435, 0.57829905, -0.1948579, -0.024260709, 0.17621653, -0.1200852, -0.33311045, -0.037840858, -0.29397452, -0.2776145, -0.20284325, -0.33134758, -0.22240125, -0.12535836, 0.7293885, -0.16965501, 0.4099665, 0.32138813, -0.09238793, 0.08080552, 0.76476234, 0.362104, 0.085236356, -0.10662836, -0.56931907, -0.011409293, 0.14104658, 0.3607346, 0.36267433, -0.376412, -0.08286192, 0.19195876, 0.15441091, -0.3199775, -0.47575134, 0.038936496, 0.34504163, 0.7873717, -0.0057251165, -0.19159359, 0.6043112, -0.07552879, 0.57800204, 0.2475645, -0.12302952, ...]  \n",
            "20  [-0.1864025, -0.00028391473, 0.5896658, 0.21545254, -0.02783637, 0.054042306, -0.19895618, -0.009177055, -0.12078852, 0.13265382, 0.04615696, 0.13144146, 0.080394164, -0.27900386, 0.22209165, -0.26882625, 0.4218556, -0.08388747, 0.08803951, 0.106909506, -0.54988617, 0.038700506, 0.18339533, 0.05266044, 0.4738305, 0.33305562, -0.6113017, 0.105284706, -0.18873256, -0.52514607, 0.41815695, 0.48115742, -0.10622634, 0.13247381, -0.2232212, 0.22170414, 0.30065215, -0.10982618, 0.17734933, -0.4376961, -0.032351453, 0.2786216, 0.3158602, -0.3825004, 0.09322427, -0.21943691, -0.09363023, 0.33312565, -0.29340702, -0.42528716, 0.23514774, 0.06075945, 0.36175504, 0.42035833, -0.31655616, 0.124470435, 0.57829905, -0.1948579, -0.024260709, 0.17621653, -0.1200852, -0.33311045, -0.037840858, -0.29397452, -0.2776145, -0.20284325, -0.33134758, -0.22240125, -0.12535836, 0.7293885, -0.16965501, 0.4099665, 0.32138813, -0.09238793, 0.08080552, 0.76476234, 0.362104, 0.085236356, -0.10662836, -0.56931907, -0.011409293, 0.14104658, 0.3607346, 0.36267433, -0.376412, -0.08286192, 0.19195876, 0.15441091, -0.3199775, -0.47575134, 0.038936496, 0.34504163, 0.7873717, -0.0057251165, -0.19159359, 0.6043112, -0.07552879, 0.57800204, 0.2475645, -0.12302952, ...]  \n",
            "33  [-0.1864025, -0.00028391473, 0.5896658, 0.21545254, -0.02783637, 0.054042306, -0.19895618, -0.009177055, -0.12078852, 0.13265382, 0.04615696, 0.13144146, 0.080394164, -0.27900386, 0.22209165, -0.26882625, 0.4218556, -0.08388747, 0.08803951, 0.106909506, -0.54988617, 0.038700506, 0.18339533, 0.05266044, 0.4738305, 0.33305562, -0.6113017, 0.105284706, -0.18873256, -0.52514607, 0.41815695, 0.48115742, -0.10622634, 0.13247381, -0.2232212, 0.22170414, 0.30065215, -0.10982618, 0.17734933, -0.4376961, -0.032351453, 0.2786216, 0.3158602, -0.3825004, 0.09322427, -0.21943691, -0.09363023, 0.33312565, -0.29340702, -0.42528716, 0.23514774, 0.06075945, 0.36175504, 0.42035833, -0.31655616, 0.124470435, 0.57829905, -0.1948579, -0.024260709, 0.17621653, -0.1200852, -0.33311045, -0.037840858, -0.29397452, -0.2776145, -0.20284325, -0.33134758, -0.22240125, -0.12535836, 0.7293885, -0.16965501, 0.4099665, 0.32138813, -0.09238793, 0.08080552, 0.76476234, 0.362104, 0.085236356, -0.10662836, -0.56931907, -0.011409293, 0.14104658, 0.3607346, 0.36267433, -0.376412, -0.08286192, 0.19195876, 0.15441091, -0.3199775, -0.47575134, 0.038936496, 0.34504163, 0.7873717, -0.0057251165, -0.19159359, 0.6043112, -0.07552879, 0.57800204, 0.2475645, -0.12302952, ...]  \n",
            "44  [-0.1864025, -0.00028391473, 0.5896658, 0.21545254, -0.02783637, 0.054042306, -0.19895618, -0.009177055, -0.12078852, 0.13265382, 0.04615696, 0.13144146, 0.080394164, -0.27900386, 0.22209165, -0.26882625, 0.4218556, -0.08388747, 0.08803951, 0.106909506, -0.54988617, 0.038700506, 0.18339533, 0.05266044, 0.4738305, 0.33305562, -0.6113017, 0.105284706, -0.18873256, -0.52514607, 0.41815695, 0.48115742, -0.10622634, 0.13247381, -0.2232212, 0.22170414, 0.30065215, -0.10982618, 0.17734933, -0.4376961, -0.032351453, 0.2786216, 0.3158602, -0.3825004, 0.09322427, -0.21943691, -0.09363023, 0.33312565, -0.29340702, -0.42528716, 0.23514774, 0.06075945, 0.36175504, 0.42035833, -0.31655616, 0.124470435, 0.57829905, -0.1948579, -0.024260709, 0.17621653, -0.1200852, -0.33311045, -0.037840858, -0.29397452, -0.2776145, -0.20284325, -0.33134758, -0.22240125, -0.12535836, 0.7293885, -0.16965501, 0.4099665, 0.32138813, -0.09238793, 0.08080552, 0.76476234, 0.362104, 0.085236356, -0.10662836, -0.56931907, -0.011409293, 0.14104658, 0.3607346, 0.36267433, -0.376412, -0.08286192, 0.19195876, 0.15441091, -0.3199775, -0.47575134, 0.038936496, 0.34504163, 0.7873717, -0.0057251165, -0.19159359, 0.6043112, -0.07552879, 0.57800204, 0.2475645, -0.12302952, ...]  \n"
          ]
        }
      ]
    },
    {
      "cell_type": "code",
      "source": [
        "df.info()"
      ],
      "metadata": {
        "colab": {
          "base_uri": "https://localhost:8080/"
        },
        "id": "nQRlPY2umNpv",
        "outputId": "8d961f09-9c87-4c20-baac-f77e633c6d35"
      },
      "execution_count": 38,
      "outputs": [
        {
          "output_type": "stream",
          "name": "stdout",
          "text": [
            "<class 'pandas.core.frame.DataFrame'>\n",
            "Int64Index: 1690 entries, 0 to 17564\n",
            "Data columns (total 7 columns):\n",
            " #   Column                    Non-Null Count  Dtype \n",
            "---  ------                    --------------  ----- \n",
            " 0   product_name              1690 non-null   object\n",
            " 1   product_id                1690 non-null   int64 \n",
            " 2   original_name             1690 non-null   object\n",
            " 3   product_name_normalized   1690 non-null   object\n",
            " 4   original_name_normalized  1690 non-null   object\n",
            " 5   product_name_embeddings   1690 non-null   object\n",
            " 6   original_name_embeddings  1690 non-null   object\n",
            "dtypes: int64(1), object(6)\n",
            "memory usage: 105.6+ KB\n"
          ]
        }
      ]
    },
    {
      "cell_type": "markdown",
      "source": [
        "## Создание модели ранжирования и расчет ее точности."
      ],
      "metadata": {
        "id": "trASLeQQqN_W"
      }
    },
    {
      "cell_type": "markdown",
      "source": [
        "Поскольку нам важно, чтобы в предложенных вариантах (желательно на первом месте) оказался верный вариант, то метрикой качества должна быть recall."
      ],
      "metadata": {
        "id": "8ZPnJ4oszvfa"
      }
    },
    {
      "cell_type": "code",
      "source": [
        "# Функция для расчета Recall at K\n",
        "def recall_at_k(predicted, correct, k=5):\n",
        "    return int(correct in predicted[:k])"
      ],
      "metadata": {
        "id": "1KKZyVCGzB1I"
      },
      "execution_count": 55,
      "outputs": []
    },
    {
      "cell_type": "code",
      "source": [
        "%%time\n",
        "# Собираем все уникальные эмбеддинги товаров с сайта заказчика\n",
        "unique_original_embeddings = df.drop_duplicates(subset=['product_id'])[['product_id', 'original_name_embeddings']]\n",
        "unique_embeddings_matrix = np.stack(unique_original_embeddings['original_name_embeddings'].values)\n",
        "\n",
        "# Ранжирование товаров и подсчет Recall at 5\n",
        "total_recall = 0\n",
        "for index, row in df.iterrows():\n",
        "    # Расчет расстояний\n",
        "    distances = pdist(np.vstack([row['product_name_embeddings'], unique_embeddings_matrix]), 'cosine')\n",
        "    distance_matrix = squareform(distances)[0, 1:]\n",
        "    top_5_indices = np.argsort(distance_matrix)[:5]  # Топ-5 индексов с наименьшими расстояниями\n",
        "\n",
        "    # Получаем ID топ-5 товаров\n",
        "    top_5_products_ids = unique_original_embeddings.iloc[top_5_indices]['product_id'].values\n",
        "\n",
        "    # Добавляем recall для текущего товара\n",
        "    total_recall += recall_at_k(top_5_products_ids, row['product_id'])\n",
        "\n",
        "average_recall = total_recall / len(df)\n",
        "print(f\"Средний Recall на Топ-5: {average_recall}\")"
      ],
      "metadata": {
        "colab": {
          "base_uri": "https://localhost:8080/"
        },
        "id": "UAdBWdkTzC0a",
        "outputId": "9768c198-f926-4a29-8187-6ba5047427e3"
      },
      "execution_count": 58,
      "outputs": [
        {
          "output_type": "stream",
          "name": "stdout",
          "text": [
            "Средний Recall на Топ-5: 0.8201183431952662\n",
            "CPU times: user 1min 26s, sys: 63.2 ms, total: 1min 26s\n",
            "Wall time: 1min 26s\n"
          ]
        }
      ]
    },
    {
      "cell_type": "markdown",
      "source": [
        "## Лемматизация"
      ],
      "metadata": {
        "id": "LgHTDS4egl-o"
      }
    },
    {
      "cell_type": "code",
      "source": [
        "# %%time\n",
        "\n",
        "# # Downloading stop words and list of names\n",
        "# nltk.download('punkt', quiet=True)\n",
        "# nltk.download('stopwords', quiet=True)"
      ],
      "metadata": {
        "id": "OyOG93IDgcDi"
      },
      "execution_count": 44,
      "outputs": []
    },
    {
      "cell_type": "code",
      "source": [
        "# # Загрузка модели для русского языка\n",
        "# spacy_model = \"ru_core_news_sm\"\n",
        "# nlp = spacy.load(spacy_model)"
      ],
      "metadata": {
        "id": "H_LaAtg8gdC7"
      },
      "execution_count": 45,
      "outputs": []
    },
    {
      "cell_type": "code",
      "source": [
        "# %%time\n",
        "\n",
        "# def lem_text(txt):\n",
        "\n",
        "#     # Processing the text with SpaCy\n",
        "#     doc = nlp(txt)\n",
        "\n",
        "#     # Filtering out stop words and names, and lemmatizing the remaining words\n",
        "#     txt = [token.lemma_ for token in doc if not token.is_stop]\n",
        "\n",
        "#     # Joining the words back into a string\n",
        "#     txt = ' '.join(txt)\n",
        "\n",
        "#     # Removing spaces at the beginning of the string\n",
        "#     txt = txt.lstrip()\n",
        "\n",
        "#     return txt\n",
        "\n",
        "# # Применяем нормализацию к столбцам product_name и original_name\n",
        "# df['product_name_lemmatized'] = df['product_name_normalized'].apply(lem_text)\n",
        "# df['original_name_lemmatized'] = df['original_name_normalized'].apply(lem_text)"
      ],
      "metadata": {
        "id": "0ytSkKTfghH9"
      },
      "execution_count": 46,
      "outputs": []
    },
    {
      "cell_type": "code",
      "source": [
        "# df.sample(20, random_state=42)"
      ],
      "metadata": {
        "id": "5PRQRYQPgkQa"
      },
      "execution_count": 47,
      "outputs": []
    }
  ],
  "metadata": {
    "ExecuteTimeLog": [
      {
        "duration": 46,
        "start_time": "2022-12-16T07:29:39.891Z"
      },
      {
        "duration": 1062,
        "start_time": "2022-12-16T07:29:51.422Z"
      },
      {
        "duration": 105,
        "start_time": "2022-12-16T07:29:52.486Z"
      },
      {
        "duration": 17,
        "start_time": "2022-12-16T07:30:28.117Z"
      },
      {
        "duration": 13,
        "start_time": "2022-12-16T07:32:02.067Z"
      },
      {
        "duration": 100,
        "start_time": "2022-12-16T08:50:08.611Z"
      },
      {
        "duration": 13,
        "start_time": "2022-12-16T08:51:06.537Z"
      },
      {
        "duration": 9,
        "start_time": "2022-12-16T09:09:38.388Z"
      },
      {
        "duration": 15,
        "start_time": "2022-12-16T09:09:45.299Z"
      },
      {
        "duration": 8,
        "start_time": "2022-12-16T09:12:12.701Z"
      },
      {
        "duration": 7,
        "start_time": "2022-12-16T09:12:18.267Z"
      },
      {
        "duration": 3,
        "start_time": "2022-12-16T09:19:05.464Z"
      },
      {
        "duration": 7,
        "start_time": "2022-12-16T09:19:16.779Z"
      },
      {
        "duration": 1030,
        "start_time": "2022-12-16T09:19:27.227Z"
      },
      {
        "duration": 40,
        "start_time": "2022-12-16T09:19:28.259Z"
      },
      {
        "duration": 19,
        "start_time": "2022-12-16T09:19:28.301Z"
      },
      {
        "duration": 12,
        "start_time": "2022-12-16T09:19:28.321Z"
      },
      {
        "duration": 11,
        "start_time": "2022-12-16T09:19:28.334Z"
      },
      {
        "duration": 19,
        "start_time": "2022-12-16T09:19:28.347Z"
      },
      {
        "duration": 7,
        "start_time": "2022-12-16T09:19:28.368Z"
      },
      {
        "duration": 9,
        "start_time": "2022-12-16T09:19:28.376Z"
      },
      {
        "duration": 10,
        "start_time": "2022-12-16T09:19:28.386Z"
      },
      {
        "duration": 3,
        "start_time": "2022-12-16T09:21:18.005Z"
      },
      {
        "duration": 4,
        "start_time": "2022-12-16T09:22:00.717Z"
      },
      {
        "duration": 5,
        "start_time": "2022-12-16T09:24:17.819Z"
      },
      {
        "duration": 6,
        "start_time": "2022-12-16T09:24:57.168Z"
      },
      {
        "duration": 4,
        "start_time": "2022-12-16T09:25:55.518Z"
      },
      {
        "duration": 6,
        "start_time": "2022-12-16T09:26:05.329Z"
      },
      {
        "duration": 55,
        "start_time": "2022-12-16T09:37:16.943Z"
      },
      {
        "duration": 58,
        "start_time": "2022-12-16T09:37:21.825Z"
      },
      {
        "duration": 3,
        "start_time": "2022-12-16T09:40:01.616Z"
      },
      {
        "duration": 5,
        "start_time": "2022-12-16T09:40:27.820Z"
      },
      {
        "duration": 4,
        "start_time": "2022-12-16T09:40:40.906Z"
      },
      {
        "duration": 5,
        "start_time": "2022-12-16T09:40:56.598Z"
      },
      {
        "duration": 7,
        "start_time": "2022-12-16T09:41:41.442Z"
      },
      {
        "duration": 5,
        "start_time": "2022-12-16T09:42:25.293Z"
      },
      {
        "duration": 6,
        "start_time": "2022-12-16T09:42:45.875Z"
      },
      {
        "duration": 9,
        "start_time": "2022-12-16T09:43:02.565Z"
      },
      {
        "duration": 4,
        "start_time": "2022-12-16T09:43:22.249Z"
      },
      {
        "duration": 5,
        "start_time": "2022-12-16T09:43:35.436Z"
      },
      {
        "duration": 4,
        "start_time": "2022-12-16T09:43:56.341Z"
      },
      {
        "duration": 12,
        "start_time": "2022-12-16T09:44:08.612Z"
      },
      {
        "duration": 1026,
        "start_time": "2022-12-16T09:44:22.463Z"
      },
      {
        "duration": 39,
        "start_time": "2022-12-16T09:44:23.491Z"
      },
      {
        "duration": 17,
        "start_time": "2022-12-16T09:44:23.532Z"
      },
      {
        "duration": 21,
        "start_time": "2022-12-16T09:44:23.550Z"
      },
      {
        "duration": 11,
        "start_time": "2022-12-16T09:44:23.573Z"
      },
      {
        "duration": 14,
        "start_time": "2022-12-16T09:44:23.585Z"
      },
      {
        "duration": 111,
        "start_time": "2022-12-16T09:44:23.600Z"
      },
      {
        "duration": 0,
        "start_time": "2022-12-16T09:44:23.712Z"
      },
      {
        "duration": 0,
        "start_time": "2022-12-16T09:44:23.714Z"
      },
      {
        "duration": 0,
        "start_time": "2022-12-16T09:44:23.721Z"
      },
      {
        "duration": 0,
        "start_time": "2022-12-16T09:44:23.721Z"
      },
      {
        "duration": 6,
        "start_time": "2022-12-16T09:45:03.385Z"
      },
      {
        "duration": 4,
        "start_time": "2022-12-16T09:45:14.561Z"
      },
      {
        "duration": 7,
        "start_time": "2022-12-16T09:45:27.165Z"
      },
      {
        "duration": 1053,
        "start_time": "2022-12-16T09:46:47.030Z"
      },
      {
        "duration": 42,
        "start_time": "2022-12-16T09:46:48.084Z"
      },
      {
        "duration": 19,
        "start_time": "2022-12-16T09:46:48.127Z"
      },
      {
        "duration": 14,
        "start_time": "2022-12-16T09:46:48.148Z"
      },
      {
        "duration": 16,
        "start_time": "2022-12-16T09:46:48.164Z"
      },
      {
        "duration": 14,
        "start_time": "2022-12-16T09:46:48.181Z"
      },
      {
        "duration": 4,
        "start_time": "2022-12-16T09:46:48.197Z"
      },
      {
        "duration": 23,
        "start_time": "2022-12-16T09:46:48.203Z"
      },
      {
        "duration": 26,
        "start_time": "2022-12-16T09:46:48.228Z"
      },
      {
        "duration": 12,
        "start_time": "2022-12-16T09:46:48.256Z"
      },
      {
        "duration": 57,
        "start_time": "2022-12-16T09:49:30.426Z"
      },
      {
        "duration": 4,
        "start_time": "2022-12-16T09:56:20.193Z"
      },
      {
        "duration": 95,
        "start_time": "2022-12-16T09:58:04.667Z"
      },
      {
        "duration": 22,
        "start_time": "2022-12-16T09:58:14.555Z"
      },
      {
        "duration": 8,
        "start_time": "2022-12-16T09:59:27.543Z"
      },
      {
        "duration": 505,
        "start_time": "2022-12-16T09:59:33.834Z"
      },
      {
        "duration": 1269,
        "start_time": "2022-12-16T10:00:18.255Z"
      },
      {
        "duration": 52,
        "start_time": "2022-12-16T10:00:19.526Z"
      },
      {
        "duration": 17,
        "start_time": "2022-12-16T10:00:19.579Z"
      },
      {
        "duration": 12,
        "start_time": "2022-12-16T10:00:19.597Z"
      },
      {
        "duration": 12,
        "start_time": "2022-12-16T10:00:19.610Z"
      },
      {
        "duration": 22,
        "start_time": "2022-12-16T10:00:19.623Z"
      },
      {
        "duration": 12,
        "start_time": "2022-12-16T10:00:19.647Z"
      },
      {
        "duration": 10,
        "start_time": "2022-12-16T10:00:19.660Z"
      },
      {
        "duration": 98,
        "start_time": "2022-12-16T10:00:19.672Z"
      },
      {
        "duration": 4,
        "start_time": "2022-12-16T10:00:19.772Z"
      },
      {
        "duration": 10,
        "start_time": "2022-12-16T10:00:19.777Z"
      },
      {
        "duration": 85,
        "start_time": "2022-12-16T10:00:32.155Z"
      },
      {
        "duration": 7,
        "start_time": "2022-12-16T10:03:26.766Z"
      },
      {
        "duration": 7,
        "start_time": "2022-12-16T10:04:18.098Z"
      },
      {
        "duration": 8,
        "start_time": "2022-12-16T10:04:34.712Z"
      },
      {
        "duration": 6,
        "start_time": "2022-12-16T10:04:50.775Z"
      },
      {
        "duration": 8,
        "start_time": "2022-12-16T10:04:53.337Z"
      },
      {
        "duration": 45,
        "start_time": "2022-12-16T17:38:10.885Z"
      },
      {
        "duration": 1496,
        "start_time": "2022-12-16T17:38:17.845Z"
      },
      {
        "duration": 188,
        "start_time": "2022-12-16T17:38:19.343Z"
      },
      {
        "duration": 16,
        "start_time": "2022-12-16T17:38:19.532Z"
      },
      {
        "duration": 11,
        "start_time": "2022-12-16T17:38:19.550Z"
      },
      {
        "duration": 12,
        "start_time": "2022-12-16T17:38:19.562Z"
      },
      {
        "duration": 6,
        "start_time": "2022-12-16T17:38:19.576Z"
      },
      {
        "duration": 5,
        "start_time": "2022-12-16T17:38:19.584Z"
      },
      {
        "duration": 4,
        "start_time": "2022-12-16T17:38:19.591Z"
      },
      {
        "duration": 99,
        "start_time": "2022-12-16T17:38:19.596Z"
      },
      {
        "duration": 8,
        "start_time": "2022-12-16T17:38:19.697Z"
      },
      {
        "duration": 94,
        "start_time": "2022-12-16T17:38:19.706Z"
      },
      {
        "duration": 7,
        "start_time": "2022-12-16T17:38:19.802Z"
      },
      {
        "duration": 6,
        "start_time": "2022-12-16T17:40:34.743Z"
      },
      {
        "duration": 5,
        "start_time": "2022-12-16T17:40:53.640Z"
      },
      {
        "duration": 5,
        "start_time": "2022-12-16T17:40:59.610Z"
      },
      {
        "duration": 6,
        "start_time": "2022-12-16T17:41:50.800Z"
      },
      {
        "duration": 6,
        "start_time": "2022-12-16T17:41:54.230Z"
      },
      {
        "duration": 7,
        "start_time": "2022-12-16T17:43:20.701Z"
      },
      {
        "duration": 9,
        "start_time": "2022-12-16T17:44:36.796Z"
      },
      {
        "duration": 3,
        "start_time": "2022-12-16T17:45:46.429Z"
      },
      {
        "duration": 8,
        "start_time": "2022-12-16T17:45:48.183Z"
      },
      {
        "duration": 97,
        "start_time": "2022-12-16T17:46:46.753Z"
      },
      {
        "duration": 101,
        "start_time": "2022-12-16T17:47:01.316Z"
      },
      {
        "duration": 97,
        "start_time": "2022-12-16T17:47:57.742Z"
      },
      {
        "duration": 7,
        "start_time": "2022-12-16T17:48:37.599Z"
      },
      {
        "duration": 8,
        "start_time": "2022-12-16T17:48:44.901Z"
      },
      {
        "duration": 6,
        "start_time": "2022-12-16T17:48:52.859Z"
      },
      {
        "duration": 8,
        "start_time": "2022-12-16T17:48:55.391Z"
      },
      {
        "duration": 1369,
        "start_time": "2022-12-16T17:49:14.650Z"
      },
      {
        "duration": 53,
        "start_time": "2022-12-16T17:49:16.021Z"
      },
      {
        "duration": 19,
        "start_time": "2022-12-16T17:49:16.076Z"
      },
      {
        "duration": 23,
        "start_time": "2022-12-16T17:49:16.097Z"
      },
      {
        "duration": 23,
        "start_time": "2022-12-16T17:49:16.122Z"
      },
      {
        "duration": 20,
        "start_time": "2022-12-16T17:49:16.147Z"
      },
      {
        "duration": 9,
        "start_time": "2022-12-16T17:49:16.169Z"
      },
      {
        "duration": 7,
        "start_time": "2022-12-16T17:49:16.180Z"
      },
      {
        "duration": 17,
        "start_time": "2022-12-16T17:49:16.188Z"
      },
      {
        "duration": 10,
        "start_time": "2022-12-16T17:49:16.206Z"
      },
      {
        "duration": 112,
        "start_time": "2022-12-16T17:49:16.217Z"
      },
      {
        "duration": 6,
        "start_time": "2022-12-16T17:49:16.331Z"
      },
      {
        "duration": 31,
        "start_time": "2022-12-16T17:49:16.338Z"
      },
      {
        "duration": 118,
        "start_time": "2022-12-16T17:49:16.372Z"
      },
      {
        "duration": 5,
        "start_time": "2022-12-16T17:49:16.492Z"
      },
      {
        "duration": 39,
        "start_time": "2022-12-16T17:49:16.498Z"
      },
      {
        "duration": 7,
        "start_time": "2022-12-16T17:49:36.105Z"
      },
      {
        "duration": 9,
        "start_time": "2022-12-16T17:49:39.230Z"
      },
      {
        "duration": 1411,
        "start_time": "2022-12-16T17:49:49.292Z"
      },
      {
        "duration": 51,
        "start_time": "2022-12-16T17:49:50.706Z"
      },
      {
        "duration": 16,
        "start_time": "2022-12-16T17:49:50.759Z"
      },
      {
        "duration": 11,
        "start_time": "2022-12-16T17:49:50.778Z"
      },
      {
        "duration": 11,
        "start_time": "2022-12-16T17:49:50.791Z"
      },
      {
        "duration": 9,
        "start_time": "2022-12-16T17:49:50.804Z"
      },
      {
        "duration": 13,
        "start_time": "2022-12-16T17:49:50.815Z"
      },
      {
        "duration": 15,
        "start_time": "2022-12-16T17:49:50.829Z"
      },
      {
        "duration": 15,
        "start_time": "2022-12-16T17:49:50.845Z"
      },
      {
        "duration": 13,
        "start_time": "2022-12-16T17:49:50.862Z"
      },
      {
        "duration": 104,
        "start_time": "2022-12-16T17:49:50.877Z"
      },
      {
        "duration": 6,
        "start_time": "2022-12-16T17:49:50.982Z"
      },
      {
        "duration": 28,
        "start_time": "2022-12-16T17:49:50.989Z"
      },
      {
        "duration": 100,
        "start_time": "2022-12-16T17:49:51.018Z"
      },
      {
        "duration": 6,
        "start_time": "2022-12-16T17:49:51.119Z"
      },
      {
        "duration": 16,
        "start_time": "2022-12-16T17:49:51.126Z"
      },
      {
        "duration": 1483,
        "start_time": "2022-12-16T17:50:03.853Z"
      },
      {
        "duration": 56,
        "start_time": "2022-12-16T17:50:05.338Z"
      },
      {
        "duration": 16,
        "start_time": "2022-12-16T17:50:05.395Z"
      },
      {
        "duration": 15,
        "start_time": "2022-12-16T17:50:05.413Z"
      },
      {
        "duration": 12,
        "start_time": "2022-12-16T17:50:05.429Z"
      },
      {
        "duration": 5,
        "start_time": "2022-12-16T17:50:05.443Z"
      },
      {
        "duration": 11,
        "start_time": "2022-12-16T17:50:05.449Z"
      },
      {
        "duration": 20,
        "start_time": "2022-12-16T17:50:05.461Z"
      },
      {
        "duration": 12,
        "start_time": "2022-12-16T17:50:05.482Z"
      },
      {
        "duration": 9,
        "start_time": "2022-12-16T17:50:05.496Z"
      },
      {
        "duration": 115,
        "start_time": "2022-12-16T17:50:05.507Z"
      },
      {
        "duration": 6,
        "start_time": "2022-12-16T17:50:05.624Z"
      },
      {
        "duration": 9,
        "start_time": "2022-12-16T17:50:05.631Z"
      },
      {
        "duration": 133,
        "start_time": "2022-12-16T17:50:05.642Z"
      },
      {
        "duration": 7,
        "start_time": "2022-12-16T17:50:05.778Z"
      },
      {
        "duration": 13,
        "start_time": "2022-12-16T17:50:05.786Z"
      },
      {
        "duration": 8,
        "start_time": "2022-12-16T17:50:50.107Z"
      },
      {
        "duration": 1364,
        "start_time": "2022-12-16T17:51:04.844Z"
      },
      {
        "duration": 55,
        "start_time": "2022-12-16T17:51:06.211Z"
      },
      {
        "duration": 17,
        "start_time": "2022-12-16T17:51:06.267Z"
      },
      {
        "duration": 40,
        "start_time": "2022-12-16T17:51:06.285Z"
      },
      {
        "duration": 47,
        "start_time": "2022-12-16T17:51:06.327Z"
      },
      {
        "duration": 31,
        "start_time": "2022-12-16T17:51:06.376Z"
      },
      {
        "duration": 31,
        "start_time": "2022-12-16T17:51:06.409Z"
      },
      {
        "duration": 24,
        "start_time": "2022-12-16T17:51:06.442Z"
      },
      {
        "duration": 54,
        "start_time": "2022-12-16T17:51:06.468Z"
      },
      {
        "duration": 31,
        "start_time": "2022-12-16T17:51:06.524Z"
      },
      {
        "duration": 124,
        "start_time": "2022-12-16T17:51:06.556Z"
      },
      {
        "duration": 6,
        "start_time": "2022-12-16T17:51:06.682Z"
      },
      {
        "duration": 40,
        "start_time": "2022-12-16T17:51:06.690Z"
      },
      {
        "duration": 121,
        "start_time": "2022-12-16T17:51:06.732Z"
      },
      {
        "duration": 6,
        "start_time": "2022-12-16T17:51:06.855Z"
      },
      {
        "duration": 44,
        "start_time": "2022-12-16T17:51:06.862Z"
      },
      {
        "duration": 3,
        "start_time": "2022-12-16T17:53:33.344Z"
      },
      {
        "duration": 69,
        "start_time": "2022-12-16T17:53:58.406Z"
      },
      {
        "duration": 6,
        "start_time": "2022-12-16T17:55:15.166Z"
      },
      {
        "duration": 4,
        "start_time": "2022-12-16T17:56:36.594Z"
      },
      {
        "duration": 109,
        "start_time": "2022-12-16T18:05:33.306Z"
      },
      {
        "duration": 1244,
        "start_time": "2022-12-16T18:05:47.627Z"
      },
      {
        "duration": 56,
        "start_time": "2022-12-16T18:05:48.872Z"
      },
      {
        "duration": 18,
        "start_time": "2022-12-16T18:05:48.929Z"
      },
      {
        "duration": 14,
        "start_time": "2022-12-16T18:05:48.950Z"
      },
      {
        "duration": 13,
        "start_time": "2022-12-16T18:05:48.966Z"
      },
      {
        "duration": 30,
        "start_time": "2022-12-16T18:05:48.981Z"
      },
      {
        "duration": 11,
        "start_time": "2022-12-16T18:05:49.012Z"
      },
      {
        "duration": 6,
        "start_time": "2022-12-16T18:05:49.024Z"
      },
      {
        "duration": 9,
        "start_time": "2022-12-16T18:05:49.032Z"
      },
      {
        "duration": 9,
        "start_time": "2022-12-16T18:05:49.044Z"
      },
      {
        "duration": 116,
        "start_time": "2022-12-16T18:05:49.055Z"
      },
      {
        "duration": 9,
        "start_time": "2022-12-16T18:05:49.173Z"
      },
      {
        "duration": 15,
        "start_time": "2022-12-16T18:05:49.184Z"
      },
      {
        "duration": 12,
        "start_time": "2022-12-16T18:05:49.201Z"
      },
      {
        "duration": 4,
        "start_time": "2022-12-16T18:05:49.214Z"
      },
      {
        "duration": 114,
        "start_time": "2022-12-16T18:05:49.220Z"
      },
      {
        "duration": 87,
        "start_time": "2022-12-17T04:21:52.383Z"
      },
      {
        "duration": 2007,
        "start_time": "2022-12-17T04:22:04.184Z"
      },
      {
        "duration": 132,
        "start_time": "2022-12-17T04:22:06.194Z"
      },
      {
        "duration": 30,
        "start_time": "2022-12-17T04:22:06.329Z"
      },
      {
        "duration": 22,
        "start_time": "2022-12-17T04:22:06.363Z"
      },
      {
        "duration": 22,
        "start_time": "2022-12-17T04:22:06.389Z"
      },
      {
        "duration": 29,
        "start_time": "2022-12-17T04:22:06.413Z"
      },
      {
        "duration": 23,
        "start_time": "2022-12-17T04:22:06.446Z"
      },
      {
        "duration": 16,
        "start_time": "2022-12-17T04:22:06.472Z"
      },
      {
        "duration": 31,
        "start_time": "2022-12-17T04:22:06.490Z"
      },
      {
        "duration": 60,
        "start_time": "2022-12-17T04:22:06.525Z"
      },
      {
        "duration": 169,
        "start_time": "2022-12-17T04:22:06.586Z"
      },
      {
        "duration": 9,
        "start_time": "2022-12-17T04:22:06.758Z"
      },
      {
        "duration": 44,
        "start_time": "2022-12-17T04:22:06.770Z"
      },
      {
        "duration": 9,
        "start_time": "2022-12-17T04:22:06.818Z"
      },
      {
        "duration": 21,
        "start_time": "2022-12-17T04:22:06.830Z"
      },
      {
        "duration": 59,
        "start_time": "2022-12-17T04:22:06.855Z"
      },
      {
        "duration": 142,
        "start_time": "2022-12-17T04:22:06.916Z"
      },
      {
        "duration": 27,
        "start_time": "2022-12-17T04:22:58.716Z"
      },
      {
        "duration": 1395,
        "start_time": "2022-12-17T04:23:09.581Z"
      },
      {
        "duration": 59,
        "start_time": "2022-12-17T04:23:10.978Z"
      },
      {
        "duration": 20,
        "start_time": "2022-12-17T04:23:11.039Z"
      },
      {
        "duration": 21,
        "start_time": "2022-12-17T04:23:11.061Z"
      },
      {
        "duration": 19,
        "start_time": "2022-12-17T04:23:11.085Z"
      },
      {
        "duration": 30,
        "start_time": "2022-12-17T04:23:11.106Z"
      },
      {
        "duration": 27,
        "start_time": "2022-12-17T04:23:11.139Z"
      },
      {
        "duration": 18,
        "start_time": "2022-12-17T04:23:11.169Z"
      },
      {
        "duration": 43,
        "start_time": "2022-12-17T04:23:11.190Z"
      },
      {
        "duration": 55,
        "start_time": "2022-12-17T04:23:11.236Z"
      },
      {
        "duration": 128,
        "start_time": "2022-12-17T04:23:11.294Z"
      },
      {
        "duration": 14,
        "start_time": "2022-12-17T04:23:11.424Z"
      },
      {
        "duration": 12,
        "start_time": "2022-12-17T04:23:11.440Z"
      },
      {
        "duration": 11,
        "start_time": "2022-12-17T04:23:11.456Z"
      },
      {
        "duration": 21,
        "start_time": "2022-12-17T04:23:11.470Z"
      },
      {
        "duration": 65,
        "start_time": "2022-12-17T04:23:11.494Z"
      },
      {
        "duration": 149,
        "start_time": "2022-12-17T04:23:11.562Z"
      },
      {
        "duration": 16,
        "start_time": "2022-12-17T04:23:46.874Z"
      },
      {
        "duration": 1527,
        "start_time": "2022-12-17T04:24:00.594Z"
      },
      {
        "duration": 77,
        "start_time": "2022-12-17T04:24:02.125Z"
      },
      {
        "duration": 29,
        "start_time": "2022-12-17T04:24:02.204Z"
      },
      {
        "duration": 21,
        "start_time": "2022-12-17T04:24:02.236Z"
      },
      {
        "duration": 17,
        "start_time": "2022-12-17T04:24:02.261Z"
      },
      {
        "duration": 11,
        "start_time": "2022-12-17T04:24:02.280Z"
      },
      {
        "duration": 20,
        "start_time": "2022-12-17T04:24:02.293Z"
      },
      {
        "duration": 29,
        "start_time": "2022-12-17T04:24:02.315Z"
      },
      {
        "duration": 18,
        "start_time": "2022-12-17T04:24:02.346Z"
      },
      {
        "duration": 14,
        "start_time": "2022-12-17T04:24:02.366Z"
      },
      {
        "duration": 188,
        "start_time": "2022-12-17T04:24:02.382Z"
      },
      {
        "duration": 8,
        "start_time": "2022-12-17T04:24:02.573Z"
      },
      {
        "duration": 52,
        "start_time": "2022-12-17T04:24:02.582Z"
      },
      {
        "duration": 10,
        "start_time": "2022-12-17T04:24:02.637Z"
      },
      {
        "duration": 21,
        "start_time": "2022-12-17T04:24:02.650Z"
      },
      {
        "duration": 44,
        "start_time": "2022-12-17T04:24:02.673Z"
      },
      {
        "duration": 58,
        "start_time": "2022-12-17T04:24:02.719Z"
      },
      {
        "duration": 51,
        "start_time": "2022-12-17T07:57:43.676Z"
      },
      {
        "duration": 1745,
        "start_time": "2022-12-17T07:57:52.212Z"
      },
      {
        "duration": 199,
        "start_time": "2022-12-17T07:57:53.960Z"
      },
      {
        "duration": 24,
        "start_time": "2022-12-17T07:57:54.161Z"
      },
      {
        "duration": 15,
        "start_time": "2022-12-17T07:57:54.188Z"
      },
      {
        "duration": 14,
        "start_time": "2022-12-17T07:57:54.206Z"
      },
      {
        "duration": 30,
        "start_time": "2022-12-17T07:57:54.223Z"
      },
      {
        "duration": 12,
        "start_time": "2022-12-17T07:57:54.256Z"
      },
      {
        "duration": 7,
        "start_time": "2022-12-17T07:57:54.270Z"
      },
      {
        "duration": 11,
        "start_time": "2022-12-17T07:57:54.279Z"
      },
      {
        "duration": 9,
        "start_time": "2022-12-17T07:57:54.292Z"
      },
      {
        "duration": 167,
        "start_time": "2022-12-17T07:57:54.303Z"
      },
      {
        "duration": 6,
        "start_time": "2022-12-17T07:57:54.472Z"
      },
      {
        "duration": 12,
        "start_time": "2022-12-17T07:57:54.480Z"
      },
      {
        "duration": 6,
        "start_time": "2022-12-17T07:57:54.495Z"
      },
      {
        "duration": 9,
        "start_time": "2022-12-17T07:57:54.503Z"
      },
      {
        "duration": 46,
        "start_time": "2022-12-17T07:57:54.514Z"
      },
      {
        "duration": 16,
        "start_time": "2022-12-17T07:57:54.562Z"
      },
      {
        "duration": 19,
        "start_time": "2022-12-17T07:57:54.580Z"
      },
      {
        "duration": 140,
        "start_time": "2022-12-17T08:50:16.556Z"
      },
      {
        "duration": 1494,
        "start_time": "2022-12-17T08:50:26.814Z"
      },
      {
        "duration": 59,
        "start_time": "2022-12-17T08:50:28.310Z"
      },
      {
        "duration": 18,
        "start_time": "2022-12-17T08:50:28.370Z"
      },
      {
        "duration": 12,
        "start_time": "2022-12-17T08:50:28.390Z"
      },
      {
        "duration": 14,
        "start_time": "2022-12-17T08:50:28.405Z"
      },
      {
        "duration": 31,
        "start_time": "2022-12-17T08:50:28.421Z"
      },
      {
        "duration": 19,
        "start_time": "2022-12-17T08:50:28.454Z"
      },
      {
        "duration": 13,
        "start_time": "2022-12-17T08:50:28.475Z"
      },
      {
        "duration": 14,
        "start_time": "2022-12-17T08:50:28.490Z"
      },
      {
        "duration": 12,
        "start_time": "2022-12-17T08:50:28.506Z"
      },
      {
        "duration": 117,
        "start_time": "2022-12-17T08:50:28.520Z"
      },
      {
        "duration": 14,
        "start_time": "2022-12-17T08:50:28.639Z"
      },
      {
        "duration": 10,
        "start_time": "2022-12-17T08:50:28.655Z"
      },
      {
        "duration": 6,
        "start_time": "2022-12-17T08:50:28.668Z"
      },
      {
        "duration": 9,
        "start_time": "2022-12-17T08:50:28.676Z"
      },
      {
        "duration": 13,
        "start_time": "2022-12-17T08:50:28.686Z"
      },
      {
        "duration": 11,
        "start_time": "2022-12-17T08:50:28.701Z"
      },
      {
        "duration": 38,
        "start_time": "2022-12-17T08:50:28.714Z"
      },
      {
        "duration": 6,
        "start_time": "2022-12-17T08:50:28.754Z"
      },
      {
        "duration": 127,
        "start_time": "2022-12-17T08:50:28.762Z"
      },
      {
        "duration": 10,
        "start_time": "2022-12-17T08:51:06.642Z"
      },
      {
        "duration": 22,
        "start_time": "2022-12-17T08:54:37.865Z"
      },
      {
        "duration": 211,
        "start_time": "2022-12-17T08:54:45.604Z"
      },
      {
        "duration": 74,
        "start_time": "2022-12-17T08:56:57.509Z"
      },
      {
        "duration": 4944,
        "start_time": "2022-12-17T08:58:43.005Z"
      },
      {
        "duration": 1471,
        "start_time": "2022-12-17T08:59:08.870Z"
      },
      {
        "duration": 56,
        "start_time": "2022-12-17T08:59:10.344Z"
      },
      {
        "duration": 17,
        "start_time": "2022-12-17T08:59:10.401Z"
      },
      {
        "duration": 13,
        "start_time": "2022-12-17T08:59:10.420Z"
      },
      {
        "duration": 15,
        "start_time": "2022-12-17T08:59:10.435Z"
      },
      {
        "duration": 4,
        "start_time": "2022-12-17T08:59:10.453Z"
      },
      {
        "duration": 7,
        "start_time": "2022-12-17T08:59:10.458Z"
      },
      {
        "duration": 6,
        "start_time": "2022-12-17T08:59:10.467Z"
      },
      {
        "duration": 13,
        "start_time": "2022-12-17T08:59:10.475Z"
      },
      {
        "duration": 10,
        "start_time": "2022-12-17T08:59:10.490Z"
      },
      {
        "duration": 149,
        "start_time": "2022-12-17T08:59:10.502Z"
      },
      {
        "duration": 7,
        "start_time": "2022-12-17T08:59:10.653Z"
      },
      {
        "duration": 21,
        "start_time": "2022-12-17T08:59:10.662Z"
      },
      {
        "duration": 8,
        "start_time": "2022-12-17T08:59:10.686Z"
      },
      {
        "duration": 7,
        "start_time": "2022-12-17T08:59:10.697Z"
      },
      {
        "duration": 13,
        "start_time": "2022-12-17T08:59:10.705Z"
      },
      {
        "duration": 37,
        "start_time": "2022-12-17T08:59:10.720Z"
      },
      {
        "duration": 8,
        "start_time": "2022-12-17T08:59:10.759Z"
      },
      {
        "duration": 7,
        "start_time": "2022-12-17T08:59:10.768Z"
      },
      {
        "duration": 25,
        "start_time": "2022-12-17T08:59:10.776Z"
      },
      {
        "duration": 210,
        "start_time": "2022-12-17T08:59:10.803Z"
      },
      {
        "duration": 4766,
        "start_time": "2022-12-17T08:59:11.015Z"
      },
      {
        "duration": 598,
        "start_time": "2022-12-17T09:01:22.754Z"
      },
      {
        "duration": 412,
        "start_time": "2022-12-17T09:06:59.250Z"
      },
      {
        "duration": 372,
        "start_time": "2022-12-17T09:07:06.390Z"
      },
      {
        "duration": 375,
        "start_time": "2022-12-17T09:07:12.091Z"
      },
      {
        "duration": 1649,
        "start_time": "2022-12-17T09:40:40.104Z"
      },
      {
        "duration": 428,
        "start_time": "2022-12-17T09:41:04.828Z"
      },
      {
        "duration": 5205,
        "start_time": "2022-12-17T09:41:15.544Z"
      },
      {
        "duration": 5222,
        "start_time": "2022-12-17T09:41:47.487Z"
      },
      {
        "duration": 234,
        "start_time": "2022-12-17T09:42:08.675Z"
      },
      {
        "duration": 215,
        "start_time": "2022-12-17T09:42:13.327Z"
      },
      {
        "duration": 1487,
        "start_time": "2022-12-17T09:42:20.412Z"
      },
      {
        "duration": 55,
        "start_time": "2022-12-17T09:42:21.902Z"
      },
      {
        "duration": 18,
        "start_time": "2022-12-17T09:42:21.959Z"
      },
      {
        "duration": 25,
        "start_time": "2022-12-17T09:42:21.979Z"
      },
      {
        "duration": 21,
        "start_time": "2022-12-17T09:42:22.007Z"
      },
      {
        "duration": 24,
        "start_time": "2022-12-17T09:42:22.029Z"
      },
      {
        "duration": 33,
        "start_time": "2022-12-17T09:42:22.055Z"
      },
      {
        "duration": 14,
        "start_time": "2022-12-17T09:42:22.089Z"
      },
      {
        "duration": 11,
        "start_time": "2022-12-17T09:42:22.105Z"
      },
      {
        "duration": 10,
        "start_time": "2022-12-17T09:42:22.120Z"
      },
      {
        "duration": 150,
        "start_time": "2022-12-17T09:42:22.132Z"
      },
      {
        "duration": 8,
        "start_time": "2022-12-17T09:42:22.283Z"
      },
      {
        "duration": 11,
        "start_time": "2022-12-17T09:42:22.292Z"
      },
      {
        "duration": 7,
        "start_time": "2022-12-17T09:42:22.305Z"
      },
      {
        "duration": 8,
        "start_time": "2022-12-17T09:42:22.314Z"
      },
      {
        "duration": 40,
        "start_time": "2022-12-17T09:42:22.324Z"
      },
      {
        "duration": 11,
        "start_time": "2022-12-17T09:42:22.367Z"
      },
      {
        "duration": 7,
        "start_time": "2022-12-17T09:42:22.380Z"
      },
      {
        "duration": 12,
        "start_time": "2022-12-17T09:42:22.389Z"
      },
      {
        "duration": 13,
        "start_time": "2022-12-17T09:42:22.403Z"
      },
      {
        "duration": 224,
        "start_time": "2022-12-17T09:42:22.418Z"
      },
      {
        "duration": 5291,
        "start_time": "2022-12-17T09:42:22.644Z"
      },
      {
        "duration": 1217,
        "start_time": "2022-12-17T09:42:27.937Z"
      },
      {
        "duration": 208,
        "start_time": "2022-12-17T09:42:37.189Z"
      },
      {
        "duration": 1503,
        "start_time": "2022-12-17T09:42:48.346Z"
      },
      {
        "duration": 69,
        "start_time": "2022-12-17T09:42:49.852Z"
      },
      {
        "duration": 27,
        "start_time": "2022-12-17T09:42:49.924Z"
      },
      {
        "duration": 19,
        "start_time": "2022-12-17T09:42:49.954Z"
      },
      {
        "duration": 19,
        "start_time": "2022-12-17T09:42:49.975Z"
      },
      {
        "duration": 6,
        "start_time": "2022-12-17T09:42:49.996Z"
      },
      {
        "duration": 14,
        "start_time": "2022-12-17T09:42:50.004Z"
      },
      {
        "duration": 35,
        "start_time": "2022-12-17T09:42:50.020Z"
      },
      {
        "duration": 27,
        "start_time": "2022-12-17T09:42:50.056Z"
      },
      {
        "duration": 36,
        "start_time": "2022-12-17T09:42:50.086Z"
      },
      {
        "duration": 141,
        "start_time": "2022-12-17T09:42:50.124Z"
      },
      {
        "duration": 6,
        "start_time": "2022-12-17T09:42:50.267Z"
      },
      {
        "duration": 29,
        "start_time": "2022-12-17T09:42:50.275Z"
      },
      {
        "duration": 17,
        "start_time": "2022-12-17T09:42:50.306Z"
      },
      {
        "duration": 17,
        "start_time": "2022-12-17T09:42:50.325Z"
      },
      {
        "duration": 29,
        "start_time": "2022-12-17T09:42:50.344Z"
      },
      {
        "duration": 16,
        "start_time": "2022-12-17T09:42:50.375Z"
      },
      {
        "duration": 24,
        "start_time": "2022-12-17T09:42:50.392Z"
      },
      {
        "duration": 10,
        "start_time": "2022-12-17T09:42:50.418Z"
      },
      {
        "duration": 21,
        "start_time": "2022-12-17T09:42:50.430Z"
      },
      {
        "duration": 260,
        "start_time": "2022-12-17T09:42:50.453Z"
      },
      {
        "duration": 5015,
        "start_time": "2022-12-17T09:42:50.715Z"
      },
      {
        "duration": 720,
        "start_time": "2022-12-17T09:42:55.732Z"
      },
      {
        "duration": 238,
        "start_time": "2022-12-17T09:43:09.457Z"
      },
      {
        "duration": 1485,
        "start_time": "2022-12-17T09:43:25.371Z"
      },
      {
        "duration": 58,
        "start_time": "2022-12-17T09:43:26.858Z"
      },
      {
        "duration": 19,
        "start_time": "2022-12-17T09:43:26.918Z"
      },
      {
        "duration": 17,
        "start_time": "2022-12-17T09:43:26.938Z"
      },
      {
        "duration": 17,
        "start_time": "2022-12-17T09:43:26.958Z"
      },
      {
        "duration": 8,
        "start_time": "2022-12-17T09:43:26.976Z"
      },
      {
        "duration": 7,
        "start_time": "2022-12-17T09:43:26.986Z"
      },
      {
        "duration": 6,
        "start_time": "2022-12-17T09:43:26.995Z"
      },
      {
        "duration": 10,
        "start_time": "2022-12-17T09:43:27.003Z"
      },
      {
        "duration": 40,
        "start_time": "2022-12-17T09:43:27.015Z"
      },
      {
        "duration": 134,
        "start_time": "2022-12-17T09:43:27.057Z"
      },
      {
        "duration": 6,
        "start_time": "2022-12-17T09:43:27.194Z"
      },
      {
        "duration": 13,
        "start_time": "2022-12-17T09:43:27.202Z"
      },
      {
        "duration": 6,
        "start_time": "2022-12-17T09:43:27.218Z"
      },
      {
        "duration": 26,
        "start_time": "2022-12-17T09:43:27.226Z"
      },
      {
        "duration": 15,
        "start_time": "2022-12-17T09:43:27.254Z"
      },
      {
        "duration": 14,
        "start_time": "2022-12-17T09:43:27.272Z"
      },
      {
        "duration": 8,
        "start_time": "2022-12-17T09:43:27.289Z"
      },
      {
        "duration": 10,
        "start_time": "2022-12-17T09:43:27.298Z"
      },
      {
        "duration": 41,
        "start_time": "2022-12-17T09:43:27.310Z"
      },
      {
        "duration": 208,
        "start_time": "2022-12-17T09:43:27.353Z"
      },
      {
        "duration": 4953,
        "start_time": "2022-12-17T09:43:27.563Z"
      },
      {
        "duration": 1944,
        "start_time": "2022-12-17T09:43:32.519Z"
      },
      {
        "duration": 209,
        "start_time": "2022-12-17T09:53:58.441Z"
      },
      {
        "duration": 1385,
        "start_time": "2022-12-17T09:54:08.141Z"
      },
      {
        "duration": 68,
        "start_time": "2022-12-17T09:54:09.528Z"
      },
      {
        "duration": 27,
        "start_time": "2022-12-17T09:54:09.599Z"
      },
      {
        "duration": 34,
        "start_time": "2022-12-17T09:54:09.628Z"
      },
      {
        "duration": 33,
        "start_time": "2022-12-17T09:54:09.664Z"
      },
      {
        "duration": 18,
        "start_time": "2022-12-17T09:54:09.699Z"
      },
      {
        "duration": 15,
        "start_time": "2022-12-17T09:54:09.719Z"
      },
      {
        "duration": 17,
        "start_time": "2022-12-17T09:54:09.736Z"
      },
      {
        "duration": 22,
        "start_time": "2022-12-17T09:54:09.755Z"
      },
      {
        "duration": 20,
        "start_time": "2022-12-17T09:54:09.781Z"
      },
      {
        "duration": 150,
        "start_time": "2022-12-17T09:54:09.804Z"
      },
      {
        "duration": 7,
        "start_time": "2022-12-17T09:54:09.956Z"
      },
      {
        "duration": 10,
        "start_time": "2022-12-17T09:54:09.965Z"
      },
      {
        "duration": 12,
        "start_time": "2022-12-17T09:54:09.977Z"
      },
      {
        "duration": 5,
        "start_time": "2022-12-17T09:54:09.991Z"
      },
      {
        "duration": 13,
        "start_time": "2022-12-17T09:54:09.997Z"
      },
      {
        "duration": 38,
        "start_time": "2022-12-17T09:54:10.013Z"
      },
      {
        "duration": 7,
        "start_time": "2022-12-17T09:54:10.053Z"
      },
      {
        "duration": 6,
        "start_time": "2022-12-17T09:54:10.062Z"
      },
      {
        "duration": 11,
        "start_time": "2022-12-17T09:54:10.070Z"
      },
      {
        "duration": 221,
        "start_time": "2022-12-17T09:54:10.082Z"
      },
      {
        "duration": 4729,
        "start_time": "2022-12-17T09:54:10.304Z"
      },
      {
        "duration": 1116,
        "start_time": "2022-12-17T09:54:15.035Z"
      },
      {
        "duration": 304,
        "start_time": "2022-12-17T09:54:16.153Z"
      },
      {
        "duration": 1740,
        "start_time": "2022-12-17T09:54:39.011Z"
      },
      {
        "duration": 63,
        "start_time": "2022-12-17T09:54:40.753Z"
      },
      {
        "duration": 25,
        "start_time": "2022-12-17T09:54:40.818Z"
      },
      {
        "duration": 20,
        "start_time": "2022-12-17T09:54:40.845Z"
      },
      {
        "duration": 19,
        "start_time": "2022-12-17T09:54:40.868Z"
      },
      {
        "duration": 9,
        "start_time": "2022-12-17T09:54:40.889Z"
      },
      {
        "duration": 9,
        "start_time": "2022-12-17T09:54:40.899Z"
      },
      {
        "duration": 10,
        "start_time": "2022-12-17T09:54:40.910Z"
      },
      {
        "duration": 34,
        "start_time": "2022-12-17T09:54:40.922Z"
      },
      {
        "duration": 9,
        "start_time": "2022-12-17T09:54:40.958Z"
      },
      {
        "duration": 137,
        "start_time": "2022-12-17T09:54:40.970Z"
      },
      {
        "duration": 7,
        "start_time": "2022-12-17T09:54:41.109Z"
      },
      {
        "duration": 13,
        "start_time": "2022-12-17T09:54:41.118Z"
      },
      {
        "duration": 8,
        "start_time": "2022-12-17T09:54:41.150Z"
      },
      {
        "duration": 5,
        "start_time": "2022-12-17T09:54:41.160Z"
      },
      {
        "duration": 17,
        "start_time": "2022-12-17T09:54:41.168Z"
      },
      {
        "duration": 12,
        "start_time": "2022-12-17T09:54:41.187Z"
      },
      {
        "duration": 7,
        "start_time": "2022-12-17T09:54:41.202Z"
      },
      {
        "duration": 6,
        "start_time": "2022-12-17T09:54:41.250Z"
      },
      {
        "duration": 15,
        "start_time": "2022-12-17T09:54:41.258Z"
      },
      {
        "duration": 225,
        "start_time": "2022-12-17T09:54:41.275Z"
      },
      {
        "duration": 4986,
        "start_time": "2022-12-17T09:54:41.502Z"
      },
      {
        "duration": 1571,
        "start_time": "2022-12-17T09:54:46.490Z"
      },
      {
        "duration": 317,
        "start_time": "2022-12-17T09:54:48.151Z"
      },
      {
        "duration": 4845,
        "start_time": "2022-12-17T09:57:52.914Z"
      },
      {
        "duration": 5004,
        "start_time": "2022-12-17T09:58:26.583Z"
      },
      {
        "duration": 1442,
        "start_time": "2022-12-17T09:58:55.767Z"
      },
      {
        "duration": 58,
        "start_time": "2022-12-17T09:58:57.211Z"
      },
      {
        "duration": 19,
        "start_time": "2022-12-17T09:58:57.271Z"
      },
      {
        "duration": 27,
        "start_time": "2022-12-17T09:58:57.292Z"
      },
      {
        "duration": 15,
        "start_time": "2022-12-17T09:58:57.321Z"
      },
      {
        "duration": 17,
        "start_time": "2022-12-17T09:58:57.338Z"
      },
      {
        "duration": 27,
        "start_time": "2022-12-17T09:58:57.356Z"
      },
      {
        "duration": 39,
        "start_time": "2022-12-17T09:58:57.384Z"
      },
      {
        "duration": 33,
        "start_time": "2022-12-17T09:58:57.424Z"
      },
      {
        "duration": 18,
        "start_time": "2022-12-17T09:58:57.460Z"
      },
      {
        "duration": 127,
        "start_time": "2022-12-17T09:58:57.480Z"
      },
      {
        "duration": 8,
        "start_time": "2022-12-17T09:58:57.609Z"
      },
      {
        "duration": 19,
        "start_time": "2022-12-17T09:58:57.618Z"
      },
      {
        "duration": 15,
        "start_time": "2022-12-17T09:58:57.638Z"
      },
      {
        "duration": 5,
        "start_time": "2022-12-17T09:58:57.655Z"
      },
      {
        "duration": 11,
        "start_time": "2022-12-17T09:58:57.661Z"
      },
      {
        "duration": 25,
        "start_time": "2022-12-17T09:58:57.674Z"
      },
      {
        "duration": 6,
        "start_time": "2022-12-17T09:58:57.701Z"
      },
      {
        "duration": 8,
        "start_time": "2022-12-17T09:58:57.709Z"
      },
      {
        "duration": 34,
        "start_time": "2022-12-17T09:58:57.719Z"
      },
      {
        "duration": 201,
        "start_time": "2022-12-17T09:58:57.755Z"
      },
      {
        "duration": 4992,
        "start_time": "2022-12-17T09:58:57.958Z"
      },
      {
        "duration": 603,
        "start_time": "2022-12-17T09:59:02.952Z"
      },
      {
        "duration": 334,
        "start_time": "2022-12-17T09:59:03.558Z"
      },
      {
        "duration": 4781,
        "start_time": "2022-12-17T09:59:03.894Z"
      },
      {
        "duration": 776,
        "start_time": "2022-12-17T10:05:28.589Z"
      },
      {
        "duration": 121,
        "start_time": "2022-12-17T10:17:24.023Z"
      },
      {
        "duration": 20,
        "start_time": "2022-12-17T10:17:35.721Z"
      },
      {
        "duration": 4,
        "start_time": "2022-12-17T10:18:17.881Z"
      },
      {
        "duration": 1630,
        "start_time": "2022-12-17T10:18:24.086Z"
      },
      {
        "duration": 72,
        "start_time": "2022-12-17T10:18:25.721Z"
      },
      {
        "duration": 22,
        "start_time": "2022-12-17T10:18:25.795Z"
      },
      {
        "duration": 21,
        "start_time": "2022-12-17T10:18:25.820Z"
      },
      {
        "duration": 22,
        "start_time": "2022-12-17T10:18:25.853Z"
      },
      {
        "duration": 7,
        "start_time": "2022-12-17T10:18:25.878Z"
      },
      {
        "duration": 11,
        "start_time": "2022-12-17T10:18:25.888Z"
      },
      {
        "duration": 14,
        "start_time": "2022-12-17T10:18:25.902Z"
      },
      {
        "duration": 40,
        "start_time": "2022-12-17T10:18:25.920Z"
      },
      {
        "duration": 9,
        "start_time": "2022-12-17T10:18:25.964Z"
      },
      {
        "duration": 138,
        "start_time": "2022-12-17T10:18:25.974Z"
      },
      {
        "duration": 9,
        "start_time": "2022-12-17T10:18:26.114Z"
      },
      {
        "duration": 26,
        "start_time": "2022-12-17T10:18:26.125Z"
      },
      {
        "duration": 7,
        "start_time": "2022-12-17T10:18:26.154Z"
      },
      {
        "duration": 7,
        "start_time": "2022-12-17T10:18:26.164Z"
      },
      {
        "duration": 16,
        "start_time": "2022-12-17T10:18:26.173Z"
      },
      {
        "duration": 25,
        "start_time": "2022-12-17T10:18:26.191Z"
      },
      {
        "duration": 19,
        "start_time": "2022-12-17T10:18:26.218Z"
      },
      {
        "duration": 23,
        "start_time": "2022-12-17T10:18:26.238Z"
      },
      {
        "duration": 14,
        "start_time": "2022-12-17T10:18:26.263Z"
      },
      {
        "duration": 241,
        "start_time": "2022-12-17T10:18:26.280Z"
      },
      {
        "duration": 5514,
        "start_time": "2022-12-17T10:18:26.524Z"
      },
      {
        "duration": 811,
        "start_time": "2022-12-17T10:18:32.040Z"
      },
      {
        "duration": 316,
        "start_time": "2022-12-17T10:18:32.856Z"
      },
      {
        "duration": 5176,
        "start_time": "2022-12-17T10:18:33.174Z"
      },
      {
        "duration": 709,
        "start_time": "2022-12-17T10:18:38.353Z"
      },
      {
        "duration": 107,
        "start_time": "2022-12-17T10:18:39.153Z"
      },
      {
        "duration": 14,
        "start_time": "2022-12-17T10:23:10.350Z"
      },
      {
        "duration": 10,
        "start_time": "2022-12-17T10:23:56.783Z"
      },
      {
        "duration": 9,
        "start_time": "2022-12-17T10:23:58.893Z"
      },
      {
        "duration": 262,
        "start_time": "2022-12-17T10:26:46.885Z"
      },
      {
        "duration": 5754,
        "start_time": "2022-12-17T10:31:17.987Z"
      },
      {
        "duration": 10,
        "start_time": "2022-12-17T10:33:09.093Z"
      },
      {
        "duration": 1436,
        "start_time": "2022-12-17T10:33:44.768Z"
      },
      {
        "duration": 58,
        "start_time": "2022-12-17T10:33:46.206Z"
      },
      {
        "duration": 18,
        "start_time": "2022-12-17T10:33:46.266Z"
      },
      {
        "duration": 17,
        "start_time": "2022-12-17T10:33:46.286Z"
      },
      {
        "duration": 23,
        "start_time": "2022-12-17T10:33:46.304Z"
      },
      {
        "duration": 9,
        "start_time": "2022-12-17T10:33:46.329Z"
      },
      {
        "duration": 27,
        "start_time": "2022-12-17T10:33:46.339Z"
      },
      {
        "duration": 26,
        "start_time": "2022-12-17T10:33:46.368Z"
      },
      {
        "duration": 17,
        "start_time": "2022-12-17T10:33:46.396Z"
      },
      {
        "duration": 16,
        "start_time": "2022-12-17T10:33:46.416Z"
      },
      {
        "duration": 109,
        "start_time": "2022-12-17T10:33:46.433Z"
      },
      {
        "duration": 12,
        "start_time": "2022-12-17T10:33:46.544Z"
      },
      {
        "duration": 27,
        "start_time": "2022-12-17T10:33:46.557Z"
      },
      {
        "duration": 33,
        "start_time": "2022-12-17T10:33:46.586Z"
      },
      {
        "duration": 29,
        "start_time": "2022-12-17T10:33:46.621Z"
      },
      {
        "duration": 50,
        "start_time": "2022-12-17T10:33:46.652Z"
      },
      {
        "duration": 34,
        "start_time": "2022-12-17T10:33:46.704Z"
      },
      {
        "duration": 33,
        "start_time": "2022-12-17T10:33:46.740Z"
      },
      {
        "duration": 31,
        "start_time": "2022-12-17T10:33:46.775Z"
      },
      {
        "duration": 30,
        "start_time": "2022-12-17T10:33:46.808Z"
      },
      {
        "duration": 227,
        "start_time": "2022-12-17T10:33:46.840Z"
      },
      {
        "duration": 4974,
        "start_time": "2022-12-17T10:33:47.069Z"
      },
      {
        "duration": 802,
        "start_time": "2022-12-17T10:33:52.050Z"
      },
      {
        "duration": 298,
        "start_time": "2022-12-17T10:33:52.854Z"
      },
      {
        "duration": 4720,
        "start_time": "2022-12-17T10:33:53.154Z"
      },
      {
        "duration": 776,
        "start_time": "2022-12-17T10:33:57.876Z"
      },
      {
        "duration": 107,
        "start_time": "2022-12-17T10:33:58.654Z"
      },
      {
        "duration": 9,
        "start_time": "2022-12-17T10:33:58.764Z"
      },
      {
        "duration": 8,
        "start_time": "2022-12-17T10:33:58.774Z"
      },
      {
        "duration": 247,
        "start_time": "2022-12-17T10:33:58.784Z"
      },
      {
        "duration": 5853,
        "start_time": "2022-12-17T10:33:59.034Z"
      },
      {
        "duration": 224,
        "start_time": "2022-12-17T10:36:39.636Z"
      },
      {
        "duration": 13,
        "start_time": "2022-12-17T10:43:50.232Z"
      },
      {
        "duration": 140,
        "start_time": "2022-12-17T10:45:45.483Z"
      },
      {
        "duration": 7,
        "start_time": "2022-12-17T10:46:33.722Z"
      },
      {
        "duration": 6,
        "start_time": "2022-12-17T10:46:36.721Z"
      },
      {
        "duration": 124,
        "start_time": "2022-12-17T10:48:23.113Z"
      },
      {
        "duration": 2604,
        "start_time": "2022-12-17T10:51:36.716Z"
      },
      {
        "duration": 242,
        "start_time": "2022-12-17T10:53:47.115Z"
      },
      {
        "duration": 1484,
        "start_time": "2022-12-17T10:54:29.655Z"
      },
      {
        "duration": 58,
        "start_time": "2022-12-17T10:54:31.141Z"
      },
      {
        "duration": 18,
        "start_time": "2022-12-17T10:54:31.201Z"
      },
      {
        "duration": 17,
        "start_time": "2022-12-17T10:54:31.222Z"
      },
      {
        "duration": 21,
        "start_time": "2022-12-17T10:54:31.242Z"
      },
      {
        "duration": 28,
        "start_time": "2022-12-17T10:54:31.264Z"
      },
      {
        "duration": 22,
        "start_time": "2022-12-17T10:54:31.294Z"
      },
      {
        "duration": 14,
        "start_time": "2022-12-17T10:54:31.318Z"
      },
      {
        "duration": 15,
        "start_time": "2022-12-17T10:54:31.334Z"
      },
      {
        "duration": 14,
        "start_time": "2022-12-17T10:54:31.351Z"
      },
      {
        "duration": 121,
        "start_time": "2022-12-17T10:54:31.366Z"
      },
      {
        "duration": 7,
        "start_time": "2022-12-17T10:54:31.488Z"
      },
      {
        "duration": 17,
        "start_time": "2022-12-17T10:54:31.496Z"
      },
      {
        "duration": 7,
        "start_time": "2022-12-17T10:54:31.517Z"
      },
      {
        "duration": 26,
        "start_time": "2022-12-17T10:54:31.526Z"
      },
      {
        "duration": 19,
        "start_time": "2022-12-17T10:54:31.555Z"
      },
      {
        "duration": 19,
        "start_time": "2022-12-17T10:54:31.576Z"
      },
      {
        "duration": 9,
        "start_time": "2022-12-17T10:54:31.597Z"
      },
      {
        "duration": 15,
        "start_time": "2022-12-17T10:54:31.608Z"
      },
      {
        "duration": 10,
        "start_time": "2022-12-17T10:54:31.625Z"
      },
      {
        "duration": 214,
        "start_time": "2022-12-17T10:54:31.637Z"
      },
      {
        "duration": 5066,
        "start_time": "2022-12-17T10:54:31.852Z"
      },
      {
        "duration": 641,
        "start_time": "2022-12-17T10:54:36.920Z"
      },
      {
        "duration": 389,
        "start_time": "2022-12-17T10:54:37.564Z"
      },
      {
        "duration": 5067,
        "start_time": "2022-12-17T10:54:37.956Z"
      },
      {
        "duration": 327,
        "start_time": "2022-12-17T10:54:43.025Z"
      },
      {
        "duration": 104,
        "start_time": "2022-12-17T10:54:43.354Z"
      },
      {
        "duration": 10,
        "start_time": "2022-12-17T10:54:43.460Z"
      },
      {
        "duration": 8,
        "start_time": "2022-12-17T10:54:43.472Z"
      },
      {
        "duration": 254,
        "start_time": "2022-12-17T10:54:43.482Z"
      },
      {
        "duration": 5873,
        "start_time": "2022-12-17T10:54:43.738Z"
      },
      {
        "duration": 839,
        "start_time": "2022-12-17T10:54:49.613Z"
      },
      {
        "duration": 101,
        "start_time": "2022-12-17T10:54:50.454Z"
      },
      {
        "duration": 12,
        "start_time": "2022-12-17T10:54:50.556Z"
      },
      {
        "duration": 19,
        "start_time": "2022-12-17T10:54:50.570Z"
      },
      {
        "duration": 120,
        "start_time": "2022-12-17T10:54:50.591Z"
      },
      {
        "duration": 2643,
        "start_time": "2022-12-17T10:54:50.713Z"
      },
      {
        "duration": 395,
        "start_time": "2022-12-17T10:54:53.358Z"
      },
      {
        "duration": 1562,
        "start_time": "2022-12-17T14:23:32.842Z"
      },
      {
        "duration": 181,
        "start_time": "2022-12-17T14:23:34.406Z"
      },
      {
        "duration": 17,
        "start_time": "2022-12-17T14:23:34.589Z"
      },
      {
        "duration": 17,
        "start_time": "2022-12-17T14:23:34.608Z"
      },
      {
        "duration": 17,
        "start_time": "2022-12-17T14:23:34.627Z"
      },
      {
        "duration": 27,
        "start_time": "2022-12-17T14:23:34.646Z"
      },
      {
        "duration": 13,
        "start_time": "2022-12-17T14:23:34.674Z"
      },
      {
        "duration": 32,
        "start_time": "2022-12-17T14:23:34.689Z"
      },
      {
        "duration": 22,
        "start_time": "2022-12-17T14:23:34.723Z"
      },
      {
        "duration": 32,
        "start_time": "2022-12-17T14:23:34.748Z"
      },
      {
        "duration": 114,
        "start_time": "2022-12-17T14:23:34.781Z"
      },
      {
        "duration": 6,
        "start_time": "2022-12-17T14:23:34.896Z"
      },
      {
        "duration": 22,
        "start_time": "2022-12-17T14:23:34.904Z"
      },
      {
        "duration": 22,
        "start_time": "2022-12-17T14:23:34.927Z"
      },
      {
        "duration": 34,
        "start_time": "2022-12-17T14:23:34.951Z"
      },
      {
        "duration": 20,
        "start_time": "2022-12-17T14:23:34.987Z"
      },
      {
        "duration": 29,
        "start_time": "2022-12-17T14:23:35.008Z"
      },
      {
        "duration": 16,
        "start_time": "2022-12-17T14:23:35.038Z"
      },
      {
        "duration": 24,
        "start_time": "2022-12-17T14:23:35.056Z"
      },
      {
        "duration": 35,
        "start_time": "2022-12-17T14:23:35.082Z"
      },
      {
        "duration": 186,
        "start_time": "2022-12-17T14:23:35.118Z"
      },
      {
        "duration": 4400,
        "start_time": "2022-12-17T14:23:35.306Z"
      },
      {
        "duration": 1023,
        "start_time": "2022-12-17T14:23:39.708Z"
      },
      {
        "duration": 387,
        "start_time": "2022-12-17T14:23:40.733Z"
      },
      {
        "duration": 4669,
        "start_time": "2022-12-17T14:23:41.123Z"
      },
      {
        "duration": 539,
        "start_time": "2022-12-17T14:23:45.794Z"
      },
      {
        "duration": 100,
        "start_time": "2022-12-17T14:23:46.425Z"
      },
      {
        "duration": 10,
        "start_time": "2022-12-17T14:23:46.528Z"
      },
      {
        "duration": 8,
        "start_time": "2022-12-17T14:23:46.540Z"
      },
      {
        "duration": 225,
        "start_time": "2022-12-17T14:23:46.550Z"
      },
      {
        "duration": 5443,
        "start_time": "2022-12-17T14:23:46.777Z"
      },
      {
        "duration": 313,
        "start_time": "2022-12-17T14:23:52.223Z"
      },
      {
        "duration": 102,
        "start_time": "2022-12-17T14:23:52.624Z"
      },
      {
        "duration": 7,
        "start_time": "2022-12-17T14:23:52.728Z"
      },
      {
        "duration": 8,
        "start_time": "2022-12-17T14:23:52.736Z"
      },
      {
        "duration": 103,
        "start_time": "2022-12-17T14:23:52.745Z"
      },
      {
        "duration": 2499,
        "start_time": "2022-12-17T14:23:52.849Z"
      },
      {
        "duration": 378,
        "start_time": "2022-12-17T14:23:55.349Z"
      },
      {
        "duration": 212,
        "start_time": "2022-12-17T14:23:55.729Z"
      },
      {
        "duration": 1387,
        "start_time": "2022-12-17T14:25:25.638Z"
      },
      {
        "duration": 55,
        "start_time": "2022-12-17T14:25:27.027Z"
      },
      {
        "duration": 17,
        "start_time": "2022-12-17T14:25:27.085Z"
      },
      {
        "duration": 14,
        "start_time": "2022-12-17T14:25:27.104Z"
      },
      {
        "duration": 18,
        "start_time": "2022-12-17T14:25:27.121Z"
      },
      {
        "duration": 9,
        "start_time": "2022-12-17T14:25:27.141Z"
      },
      {
        "duration": 18,
        "start_time": "2022-12-17T14:25:27.152Z"
      },
      {
        "duration": 5,
        "start_time": "2022-12-17T14:25:27.173Z"
      },
      {
        "duration": 17,
        "start_time": "2022-12-17T14:25:27.180Z"
      },
      {
        "duration": 24,
        "start_time": "2022-12-17T14:25:27.199Z"
      },
      {
        "duration": 112,
        "start_time": "2022-12-17T14:25:27.226Z"
      },
      {
        "duration": 8,
        "start_time": "2022-12-17T14:25:27.340Z"
      },
      {
        "duration": 17,
        "start_time": "2022-12-17T14:25:27.350Z"
      },
      {
        "duration": 13,
        "start_time": "2022-12-17T14:25:27.370Z"
      },
      {
        "duration": 7,
        "start_time": "2022-12-17T14:25:27.385Z"
      },
      {
        "duration": 29,
        "start_time": "2022-12-17T14:25:27.393Z"
      },
      {
        "duration": 9,
        "start_time": "2022-12-17T14:25:27.424Z"
      },
      {
        "duration": 10,
        "start_time": "2022-12-17T14:25:27.434Z"
      },
      {
        "duration": 7,
        "start_time": "2022-12-17T14:25:27.445Z"
      },
      {
        "duration": 10,
        "start_time": "2022-12-17T14:25:27.454Z"
      },
      {
        "duration": 203,
        "start_time": "2022-12-17T14:25:27.466Z"
      },
      {
        "duration": 4468,
        "start_time": "2022-12-17T14:25:27.671Z"
      },
      {
        "duration": 1281,
        "start_time": "2022-12-17T14:25:32.141Z"
      },
      {
        "duration": 287,
        "start_time": "2022-12-17T14:25:33.425Z"
      },
      {
        "duration": 4582,
        "start_time": "2022-12-17T14:25:33.714Z"
      },
      {
        "duration": 827,
        "start_time": "2022-12-17T14:25:38.298Z"
      },
      {
        "duration": 102,
        "start_time": "2022-12-17T14:25:39.128Z"
      },
      {
        "duration": 20,
        "start_time": "2022-12-17T14:25:39.232Z"
      },
      {
        "duration": 32,
        "start_time": "2022-12-17T14:25:39.254Z"
      },
      {
        "duration": 221,
        "start_time": "2022-12-17T14:25:39.288Z"
      },
      {
        "duration": 5366,
        "start_time": "2022-12-17T14:25:39.511Z"
      },
      {
        "duration": 550,
        "start_time": "2022-12-17T14:25:44.879Z"
      },
      {
        "duration": 103,
        "start_time": "2022-12-17T14:25:45.431Z"
      },
      {
        "duration": 127,
        "start_time": "2022-12-17T14:25:45.537Z"
      },
      {
        "duration": 29,
        "start_time": "2022-12-17T14:25:45.666Z"
      },
      {
        "duration": 105,
        "start_time": "2022-12-17T14:25:45.697Z"
      },
      {
        "duration": 2431,
        "start_time": "2022-12-17T14:25:45.804Z"
      },
      {
        "duration": 186,
        "start_time": "2022-12-17T14:25:48.237Z"
      },
      {
        "duration": 199,
        "start_time": "2022-12-17T14:25:48.425Z"
      },
      {
        "duration": 28825,
        "start_time": "2022-12-17T14:26:46.766Z"
      },
      {
        "duration": 12719,
        "start_time": "2022-12-17T14:29:05.328Z"
      },
      {
        "duration": 1322,
        "start_time": "2022-12-17T14:30:12.304Z"
      },
      {
        "duration": 55,
        "start_time": "2022-12-17T14:30:13.628Z"
      },
      {
        "duration": 16,
        "start_time": "2022-12-17T14:30:13.685Z"
      },
      {
        "duration": 16,
        "start_time": "2022-12-17T14:30:13.703Z"
      },
      {
        "duration": 18,
        "start_time": "2022-12-17T14:30:13.722Z"
      },
      {
        "duration": 8,
        "start_time": "2022-12-17T14:30:13.742Z"
      },
      {
        "duration": 8,
        "start_time": "2022-12-17T14:30:13.751Z"
      },
      {
        "duration": 9,
        "start_time": "2022-12-17T14:30:13.761Z"
      },
      {
        "duration": 8,
        "start_time": "2022-12-17T14:30:13.772Z"
      },
      {
        "duration": 8,
        "start_time": "2022-12-17T14:30:13.781Z"
      },
      {
        "duration": 146,
        "start_time": "2022-12-17T14:30:13.791Z"
      },
      {
        "duration": 6,
        "start_time": "2022-12-17T14:30:13.938Z"
      },
      {
        "duration": 8,
        "start_time": "2022-12-17T14:30:13.945Z"
      },
      {
        "duration": 6,
        "start_time": "2022-12-17T14:30:13.956Z"
      },
      {
        "duration": 5,
        "start_time": "2022-12-17T14:30:13.963Z"
      },
      {
        "duration": 12,
        "start_time": "2022-12-17T14:30:13.970Z"
      },
      {
        "duration": 42,
        "start_time": "2022-12-17T14:30:13.984Z"
      },
      {
        "duration": 11,
        "start_time": "2022-12-17T14:30:14.029Z"
      },
      {
        "duration": 11,
        "start_time": "2022-12-17T14:30:14.042Z"
      },
      {
        "duration": 14,
        "start_time": "2022-12-17T14:30:14.055Z"
      },
      {
        "duration": 225,
        "start_time": "2022-12-17T14:30:14.074Z"
      },
      {
        "duration": 4496,
        "start_time": "2022-12-17T14:30:14.300Z"
      },
      {
        "duration": 626,
        "start_time": "2022-12-17T14:30:18.797Z"
      },
      {
        "duration": 288,
        "start_time": "2022-12-17T14:30:19.426Z"
      },
      {
        "duration": 4602,
        "start_time": "2022-12-17T14:30:19.716Z"
      },
      {
        "duration": 501,
        "start_time": "2022-12-17T14:30:24.322Z"
      },
      {
        "duration": 105,
        "start_time": "2022-12-17T14:30:24.825Z"
      },
      {
        "duration": 33,
        "start_time": "2022-12-17T14:30:24.933Z"
      },
      {
        "duration": 35,
        "start_time": "2022-12-17T14:30:24.967Z"
      },
      {
        "duration": 236,
        "start_time": "2022-12-17T14:30:25.003Z"
      },
      {
        "duration": 28746,
        "start_time": "2022-12-17T14:30:25.241Z"
      },
      {
        "duration": 637,
        "start_time": "2022-12-17T14:30:53.989Z"
      },
      {
        "duration": 103,
        "start_time": "2022-12-17T14:30:54.628Z"
      },
      {
        "duration": 6,
        "start_time": "2022-12-17T14:30:54.732Z"
      },
      {
        "duration": 7,
        "start_time": "2022-12-17T14:30:54.739Z"
      },
      {
        "duration": 107,
        "start_time": "2022-12-17T14:30:54.748Z"
      },
      {
        "duration": 12873,
        "start_time": "2022-12-17T14:30:54.856Z"
      },
      {
        "duration": 301,
        "start_time": "2022-12-17T14:31:07.731Z"
      },
      {
        "duration": 741,
        "start_time": "2022-12-17T14:31:08.122Z"
      },
      {
        "duration": 1448,
        "start_time": "2022-12-17T14:31:52.745Z"
      },
      {
        "duration": 64,
        "start_time": "2022-12-17T14:31:54.196Z"
      },
      {
        "duration": 22,
        "start_time": "2022-12-17T14:31:54.261Z"
      },
      {
        "duration": 35,
        "start_time": "2022-12-17T14:31:54.286Z"
      },
      {
        "duration": 15,
        "start_time": "2022-12-17T14:31:54.323Z"
      },
      {
        "duration": 4,
        "start_time": "2022-12-17T14:31:54.340Z"
      },
      {
        "duration": 6,
        "start_time": "2022-12-17T14:31:54.345Z"
      },
      {
        "duration": 5,
        "start_time": "2022-12-17T14:31:54.353Z"
      },
      {
        "duration": 9,
        "start_time": "2022-12-17T14:31:54.359Z"
      },
      {
        "duration": 7,
        "start_time": "2022-12-17T14:31:54.371Z"
      },
      {
        "duration": 131,
        "start_time": "2022-12-17T14:31:54.380Z"
      },
      {
        "duration": 12,
        "start_time": "2022-12-17T14:31:54.512Z"
      },
      {
        "duration": 16,
        "start_time": "2022-12-17T14:31:54.526Z"
      },
      {
        "duration": 6,
        "start_time": "2022-12-17T14:31:54.543Z"
      },
      {
        "duration": 5,
        "start_time": "2022-12-17T14:31:54.551Z"
      },
      {
        "duration": 14,
        "start_time": "2022-12-17T14:31:54.557Z"
      },
      {
        "duration": 10,
        "start_time": "2022-12-17T14:31:54.573Z"
      },
      {
        "duration": 5,
        "start_time": "2022-12-17T14:31:54.585Z"
      },
      {
        "duration": 31,
        "start_time": "2022-12-17T14:31:54.591Z"
      },
      {
        "duration": 8,
        "start_time": "2022-12-17T14:31:54.624Z"
      },
      {
        "duration": 209,
        "start_time": "2022-12-17T14:31:54.634Z"
      },
      {
        "duration": 4498,
        "start_time": "2022-12-17T14:31:54.845Z"
      },
      {
        "duration": 585,
        "start_time": "2022-12-17T14:31:59.345Z"
      },
      {
        "duration": 379,
        "start_time": "2022-12-17T14:31:59.932Z"
      },
      {
        "duration": 4696,
        "start_time": "2022-12-17T14:32:00.312Z"
      },
      {
        "duration": 622,
        "start_time": "2022-12-17T14:32:05.010Z"
      },
      {
        "duration": 107,
        "start_time": "2022-12-17T14:32:05.724Z"
      },
      {
        "duration": 11,
        "start_time": "2022-12-17T14:32:05.836Z"
      },
      {
        "duration": 10,
        "start_time": "2022-12-17T14:32:05.849Z"
      },
      {
        "duration": 246,
        "start_time": "2022-12-17T14:32:05.861Z"
      },
      {
        "duration": 28601,
        "start_time": "2022-12-17T14:32:06.108Z"
      },
      {
        "duration": 512,
        "start_time": "2022-12-17T14:32:34.711Z"
      },
      {
        "duration": 104,
        "start_time": "2022-12-17T14:32:35.226Z"
      },
      {
        "duration": 7,
        "start_time": "2022-12-17T14:32:35.332Z"
      },
      {
        "duration": 7,
        "start_time": "2022-12-17T14:32:35.341Z"
      },
      {
        "duration": 119,
        "start_time": "2022-12-17T14:32:35.350Z"
      },
      {
        "duration": 12680,
        "start_time": "2022-12-17T14:32:35.471Z"
      },
      {
        "duration": 80,
        "start_time": "2022-12-17T14:32:48.153Z"
      },
      {
        "duration": 810,
        "start_time": "2022-12-17T14:32:48.236Z"
      },
      {
        "duration": 1407,
        "start_time": "2022-12-17T14:33:50.207Z"
      },
      {
        "duration": 61,
        "start_time": "2022-12-17T14:33:51.617Z"
      },
      {
        "duration": 22,
        "start_time": "2022-12-17T14:33:51.681Z"
      },
      {
        "duration": 14,
        "start_time": "2022-12-17T14:33:51.704Z"
      },
      {
        "duration": 15,
        "start_time": "2022-12-17T14:33:51.720Z"
      },
      {
        "duration": 19,
        "start_time": "2022-12-17T14:33:51.737Z"
      },
      {
        "duration": 15,
        "start_time": "2022-12-17T14:33:51.758Z"
      },
      {
        "duration": 11,
        "start_time": "2022-12-17T14:33:51.775Z"
      },
      {
        "duration": 17,
        "start_time": "2022-12-17T14:33:51.788Z"
      },
      {
        "duration": 10,
        "start_time": "2022-12-17T14:33:51.807Z"
      },
      {
        "duration": 122,
        "start_time": "2022-12-17T14:33:51.818Z"
      },
      {
        "duration": 6,
        "start_time": "2022-12-17T14:33:51.941Z"
      },
      {
        "duration": 16,
        "start_time": "2022-12-17T14:33:51.949Z"
      },
      {
        "duration": 14,
        "start_time": "2022-12-17T14:33:51.966Z"
      },
      {
        "duration": 9,
        "start_time": "2022-12-17T14:33:51.982Z"
      },
      {
        "duration": 14,
        "start_time": "2022-12-17T14:33:51.992Z"
      },
      {
        "duration": 20,
        "start_time": "2022-12-17T14:33:52.008Z"
      },
      {
        "duration": 6,
        "start_time": "2022-12-17T14:33:52.030Z"
      },
      {
        "duration": 16,
        "start_time": "2022-12-17T14:33:52.038Z"
      },
      {
        "duration": 9,
        "start_time": "2022-12-17T14:33:52.056Z"
      },
      {
        "duration": 197,
        "start_time": "2022-12-17T14:33:52.067Z"
      },
      {
        "duration": 4544,
        "start_time": "2022-12-17T14:33:52.265Z"
      },
      {
        "duration": 417,
        "start_time": "2022-12-17T14:33:56.811Z"
      },
      {
        "duration": 388,
        "start_time": "2022-12-17T14:33:57.230Z"
      },
      {
        "duration": 4676,
        "start_time": "2022-12-17T14:33:57.622Z"
      },
      {
        "duration": 724,
        "start_time": "2022-12-17T14:34:02.299Z"
      },
      {
        "duration": 100,
        "start_time": "2022-12-17T14:34:03.025Z"
      },
      {
        "duration": 11,
        "start_time": "2022-12-17T14:34:03.129Z"
      },
      {
        "duration": 8,
        "start_time": "2022-12-17T14:34:03.142Z"
      },
      {
        "duration": 227,
        "start_time": "2022-12-17T14:34:03.152Z"
      },
      {
        "duration": 28861,
        "start_time": "2022-12-17T14:34:03.381Z"
      },
      {
        "duration": 1383,
        "start_time": "2022-12-17T14:34:32.244Z"
      },
      {
        "duration": 98,
        "start_time": "2022-12-17T14:34:33.628Z"
      },
      {
        "duration": 11,
        "start_time": "2022-12-17T14:34:33.728Z"
      },
      {
        "duration": 81,
        "start_time": "2022-12-17T14:34:33.741Z"
      },
      {
        "duration": 99,
        "start_time": "2022-12-17T14:34:33.824Z"
      },
      {
        "duration": 12989,
        "start_time": "2022-12-17T14:34:33.925Z"
      },
      {
        "duration": 214,
        "start_time": "2022-12-17T14:34:46.916Z"
      },
      {
        "duration": 817,
        "start_time": "2022-12-17T14:34:47.132Z"
      },
      {
        "duration": 584,
        "start_time": "2022-12-17T14:36:16.218Z"
      },
      {
        "duration": 940,
        "start_time": "2022-12-17T14:36:44.878Z"
      },
      {
        "duration": 822,
        "start_time": "2022-12-17T14:36:57.941Z"
      },
      {
        "duration": 1287,
        "start_time": "2022-12-17T14:44:26.147Z"
      },
      {
        "duration": 53,
        "start_time": "2022-12-17T14:44:27.436Z"
      },
      {
        "duration": 16,
        "start_time": "2022-12-17T14:44:27.491Z"
      },
      {
        "duration": 23,
        "start_time": "2022-12-17T14:44:27.509Z"
      },
      {
        "duration": 32,
        "start_time": "2022-12-17T14:44:27.535Z"
      },
      {
        "duration": 26,
        "start_time": "2022-12-17T14:44:27.569Z"
      },
      {
        "duration": 13,
        "start_time": "2022-12-17T14:44:27.597Z"
      },
      {
        "duration": 18,
        "start_time": "2022-12-17T14:44:27.612Z"
      },
      {
        "duration": 19,
        "start_time": "2022-12-17T14:44:27.632Z"
      },
      {
        "duration": 26,
        "start_time": "2022-12-17T14:44:27.653Z"
      },
      {
        "duration": 135,
        "start_time": "2022-12-17T14:44:27.681Z"
      },
      {
        "duration": 8,
        "start_time": "2022-12-17T14:44:27.818Z"
      },
      {
        "duration": 50,
        "start_time": "2022-12-17T14:44:27.828Z"
      },
      {
        "duration": 31,
        "start_time": "2022-12-17T14:44:27.882Z"
      },
      {
        "duration": 27,
        "start_time": "2022-12-17T14:44:27.914Z"
      },
      {
        "duration": 15,
        "start_time": "2022-12-17T14:44:27.943Z"
      },
      {
        "duration": 11,
        "start_time": "2022-12-17T14:44:27.960Z"
      },
      {
        "duration": 6,
        "start_time": "2022-12-17T14:44:27.973Z"
      },
      {
        "duration": 5,
        "start_time": "2022-12-17T14:44:27.980Z"
      },
      {
        "duration": 10,
        "start_time": "2022-12-17T14:44:27.987Z"
      },
      {
        "duration": 201,
        "start_time": "2022-12-17T14:44:27.999Z"
      },
      {
        "duration": 4612,
        "start_time": "2022-12-17T14:44:28.201Z"
      },
      {
        "duration": 608,
        "start_time": "2022-12-17T14:44:32.815Z"
      },
      {
        "duration": 289,
        "start_time": "2022-12-17T14:44:33.425Z"
      },
      {
        "duration": 4502,
        "start_time": "2022-12-17T14:44:33.715Z"
      },
      {
        "duration": 804,
        "start_time": "2022-12-17T14:44:38.221Z"
      },
      {
        "duration": 107,
        "start_time": "2022-12-17T14:44:39.027Z"
      },
      {
        "duration": 9,
        "start_time": "2022-12-17T14:44:39.135Z"
      },
      {
        "duration": 8,
        "start_time": "2022-12-17T14:44:39.145Z"
      },
      {
        "duration": 235,
        "start_time": "2022-12-17T14:44:39.155Z"
      },
      {
        "duration": 29007,
        "start_time": "2022-12-17T14:44:39.392Z"
      },
      {
        "duration": 2726,
        "start_time": "2022-12-17T14:45:08.401Z"
      },
      {
        "duration": 103,
        "start_time": "2022-12-17T14:45:11.129Z"
      },
      {
        "duration": 7,
        "start_time": "2022-12-17T14:45:11.234Z"
      },
      {
        "duration": 8,
        "start_time": "2022-12-17T14:45:11.243Z"
      },
      {
        "duration": 115,
        "start_time": "2022-12-17T14:45:11.253Z"
      },
      {
        "duration": 13040,
        "start_time": "2022-12-17T14:45:11.370Z"
      },
      {
        "duration": 210,
        "start_time": "2022-12-17T14:45:24.412Z"
      },
      {
        "duration": 952,
        "start_time": "2022-12-17T14:45:24.626Z"
      },
      {
        "duration": 29137,
        "start_time": "2022-12-17T14:46:12.658Z"
      },
      {
        "duration": 1865,
        "start_time": "2022-12-17T14:47:05.482Z"
      },
      {
        "duration": 54,
        "start_time": "2022-12-17T14:47:07.348Z"
      },
      {
        "duration": 16,
        "start_time": "2022-12-17T14:47:07.404Z"
      },
      {
        "duration": 457,
        "start_time": "2022-12-17T14:47:07.423Z"
      },
      {
        "duration": 15,
        "start_time": "2022-12-17T14:47:07.882Z"
      },
      {
        "duration": 6,
        "start_time": "2022-12-17T14:47:07.899Z"
      },
      {
        "duration": 6,
        "start_time": "2022-12-17T14:47:07.907Z"
      },
      {
        "duration": 10,
        "start_time": "2022-12-17T14:47:07.914Z"
      },
      {
        "duration": 8,
        "start_time": "2022-12-17T14:47:07.926Z"
      },
      {
        "duration": 8,
        "start_time": "2022-12-17T14:47:07.937Z"
      },
      {
        "duration": 119,
        "start_time": "2022-12-17T14:47:07.947Z"
      },
      {
        "duration": 6,
        "start_time": "2022-12-17T14:47:08.068Z"
      },
      {
        "duration": 9,
        "start_time": "2022-12-17T14:47:08.076Z"
      },
      {
        "duration": 5,
        "start_time": "2022-12-17T14:47:08.086Z"
      },
      {
        "duration": 6,
        "start_time": "2022-12-17T14:47:08.093Z"
      },
      {
        "duration": 30,
        "start_time": "2022-12-17T14:47:08.100Z"
      },
      {
        "duration": 10,
        "start_time": "2022-12-17T14:47:08.132Z"
      },
      {
        "duration": 5,
        "start_time": "2022-12-17T14:47:08.144Z"
      },
      {
        "duration": 8,
        "start_time": "2022-12-17T14:47:08.151Z"
      },
      {
        "duration": 11,
        "start_time": "2022-12-17T14:47:08.160Z"
      },
      {
        "duration": 216,
        "start_time": "2022-12-17T14:47:08.172Z"
      },
      {
        "duration": 4531,
        "start_time": "2022-12-17T14:47:08.390Z"
      },
      {
        "duration": 504,
        "start_time": "2022-12-17T14:47:12.922Z"
      },
      {
        "duration": 371,
        "start_time": "2022-12-17T14:47:13.427Z"
      },
      {
        "duration": 4555,
        "start_time": "2022-12-17T14:47:13.800Z"
      },
      {
        "duration": 1768,
        "start_time": "2022-12-17T14:47:18.356Z"
      },
      {
        "duration": 98,
        "start_time": "2022-12-17T14:47:20.125Z"
      },
      {
        "duration": 26,
        "start_time": "2022-12-17T14:47:20.226Z"
      },
      {
        "duration": 16,
        "start_time": "2022-12-17T14:47:20.254Z"
      },
      {
        "duration": 215,
        "start_time": "2022-12-17T14:47:20.271Z"
      },
      {
        "duration": 30124,
        "start_time": "2022-12-17T14:47:20.488Z"
      },
      {
        "duration": 513,
        "start_time": "2022-12-17T14:47:50.614Z"
      },
      {
        "duration": 102,
        "start_time": "2022-12-17T14:47:51.129Z"
      },
      {
        "duration": 14,
        "start_time": "2022-12-17T14:47:51.233Z"
      },
      {
        "duration": 7,
        "start_time": "2022-12-17T14:47:51.248Z"
      },
      {
        "duration": 106,
        "start_time": "2022-12-17T14:47:51.257Z"
      },
      {
        "duration": 12967,
        "start_time": "2022-12-17T14:47:51.365Z"
      },
      {
        "duration": 287,
        "start_time": "2022-12-17T14:48:04.334Z"
      },
      {
        "duration": 973,
        "start_time": "2022-12-17T14:48:04.623Z"
      },
      {
        "duration": 952,
        "start_time": "2022-12-17T14:48:24.940Z"
      },
      {
        "duration": 923,
        "start_time": "2022-12-17T14:48:36.883Z"
      },
      {
        "duration": 902,
        "start_time": "2022-12-17T14:48:42.493Z"
      },
      {
        "duration": 29163,
        "start_time": "2022-12-17T14:49:16.196Z"
      },
      {
        "duration": 112,
        "start_time": "2022-12-17T14:50:00.638Z"
      },
      {
        "duration": 1388,
        "start_time": "2022-12-17T14:50:13.471Z"
      },
      {
        "duration": 53,
        "start_time": "2022-12-17T14:50:14.861Z"
      },
      {
        "duration": 18,
        "start_time": "2022-12-17T14:50:14.915Z"
      },
      {
        "duration": 14,
        "start_time": "2022-12-17T14:50:14.939Z"
      },
      {
        "duration": 14,
        "start_time": "2022-12-17T14:50:14.955Z"
      },
      {
        "duration": 5,
        "start_time": "2022-12-17T14:50:14.971Z"
      },
      {
        "duration": 7,
        "start_time": "2022-12-17T14:50:14.978Z"
      },
      {
        "duration": 36,
        "start_time": "2022-12-17T14:50:14.986Z"
      },
      {
        "duration": 9,
        "start_time": "2022-12-17T14:50:15.024Z"
      },
      {
        "duration": 9,
        "start_time": "2022-12-17T14:50:15.036Z"
      },
      {
        "duration": 125,
        "start_time": "2022-12-17T14:50:15.046Z"
      },
      {
        "duration": 6,
        "start_time": "2022-12-17T14:50:15.172Z"
      },
      {
        "duration": 17,
        "start_time": "2022-12-17T14:50:15.180Z"
      },
      {
        "duration": 8,
        "start_time": "2022-12-17T14:50:15.198Z"
      },
      {
        "duration": 15,
        "start_time": "2022-12-17T14:50:15.207Z"
      },
      {
        "duration": 15,
        "start_time": "2022-12-17T14:50:15.224Z"
      },
      {
        "duration": 16,
        "start_time": "2022-12-17T14:50:15.240Z"
      },
      {
        "duration": 15,
        "start_time": "2022-12-17T14:50:15.258Z"
      },
      {
        "duration": 12,
        "start_time": "2022-12-17T14:50:15.274Z"
      },
      {
        "duration": 20,
        "start_time": "2022-12-17T14:50:15.287Z"
      },
      {
        "duration": 187,
        "start_time": "2022-12-17T14:50:15.308Z"
      },
      {
        "duration": 4535,
        "start_time": "2022-12-17T14:50:15.497Z"
      },
      {
        "duration": 591,
        "start_time": "2022-12-17T14:50:20.035Z"
      },
      {
        "duration": 375,
        "start_time": "2022-12-17T14:50:20.628Z"
      },
      {
        "duration": 4584,
        "start_time": "2022-12-17T14:50:21.005Z"
      },
      {
        "duration": 539,
        "start_time": "2022-12-17T14:50:25.591Z"
      },
      {
        "duration": 191,
        "start_time": "2022-12-17T14:50:26.131Z"
      },
      {
        "duration": 13,
        "start_time": "2022-12-17T14:50:26.325Z"
      },
      {
        "duration": 11,
        "start_time": "2022-12-17T14:50:26.340Z"
      },
      {
        "duration": 218,
        "start_time": "2022-12-17T14:50:26.352Z"
      },
      {
        "duration": 29148,
        "start_time": "2022-12-17T14:50:26.572Z"
      },
      {
        "duration": 705,
        "start_time": "2022-12-17T14:50:55.722Z"
      },
      {
        "duration": 93,
        "start_time": "2022-12-17T14:50:56.429Z"
      },
      {
        "duration": 10,
        "start_time": "2022-12-17T14:50:56.526Z"
      },
      {
        "duration": 15,
        "start_time": "2022-12-17T14:50:56.538Z"
      },
      {
        "duration": 116,
        "start_time": "2022-12-17T14:50:56.555Z"
      },
      {
        "duration": 13022,
        "start_time": "2022-12-17T14:50:56.672Z"
      },
      {
        "duration": 234,
        "start_time": "2022-12-17T14:51:09.696Z"
      },
      {
        "duration": 1085,
        "start_time": "2022-12-17T14:51:09.932Z"
      },
      {
        "duration": 556,
        "start_time": "2022-12-17T14:51:43.067Z"
      },
      {
        "duration": 570,
        "start_time": "2022-12-17T14:52:39.523Z"
      },
      {
        "duration": 95,
        "start_time": "2022-12-17T14:54:16.785Z"
      },
      {
        "duration": 211,
        "start_time": "2022-12-17T14:56:32.675Z"
      },
      {
        "duration": 9,
        "start_time": "2022-12-17T15:00:38.317Z"
      },
      {
        "duration": 10,
        "start_time": "2022-12-17T15:00:54.173Z"
      },
      {
        "duration": 76,
        "start_time": "2022-12-19T12:29:23.074Z"
      },
      {
        "duration": 871,
        "start_time": "2022-12-19T12:29:45.097Z"
      },
      {
        "duration": 757,
        "start_time": "2022-12-19T12:29:57.046Z"
      },
      {
        "duration": 68,
        "start_time": "2022-12-19T12:33:29.716Z"
      },
      {
        "duration": 92,
        "start_time": "2022-12-19T12:33:50.500Z"
      },
      {
        "duration": 4,
        "start_time": "2022-12-19T12:33:57.710Z"
      },
      {
        "duration": 97,
        "start_time": "2022-12-19T12:37:37.209Z"
      },
      {
        "duration": 43,
        "start_time": "2022-12-19T12:43:12.927Z"
      },
      {
        "duration": 10,
        "start_time": "2022-12-19T12:45:36.854Z"
      },
      {
        "duration": 1378,
        "start_time": "2022-12-19T12:46:09.198Z"
      },
      {
        "duration": 168,
        "start_time": "2022-12-19T12:46:10.578Z"
      },
      {
        "duration": 16,
        "start_time": "2022-12-19T12:46:10.748Z"
      },
      {
        "duration": 13,
        "start_time": "2022-12-19T12:46:10.766Z"
      },
      {
        "duration": 12,
        "start_time": "2022-12-19T12:46:10.781Z"
      },
      {
        "duration": 4,
        "start_time": "2022-12-19T12:46:10.795Z"
      },
      {
        "duration": 26,
        "start_time": "2022-12-19T12:46:10.801Z"
      },
      {
        "duration": 10,
        "start_time": "2022-12-19T12:46:10.829Z"
      },
      {
        "duration": 8,
        "start_time": "2022-12-19T12:46:10.841Z"
      },
      {
        "duration": 8,
        "start_time": "2022-12-19T12:46:10.851Z"
      },
      {
        "duration": 128,
        "start_time": "2022-12-19T12:46:10.861Z"
      },
      {
        "duration": 6,
        "start_time": "2022-12-19T12:46:10.991Z"
      },
      {
        "duration": 24,
        "start_time": "2022-12-19T12:46:10.999Z"
      },
      {
        "duration": 7,
        "start_time": "2022-12-19T12:46:11.028Z"
      },
      {
        "duration": 10,
        "start_time": "2022-12-19T12:46:11.037Z"
      },
      {
        "duration": 12,
        "start_time": "2022-12-19T12:46:11.048Z"
      },
      {
        "duration": 9,
        "start_time": "2022-12-19T12:46:11.062Z"
      },
      {
        "duration": 5,
        "start_time": "2022-12-19T12:46:11.073Z"
      },
      {
        "duration": 7,
        "start_time": "2022-12-19T12:46:11.080Z"
      },
      {
        "duration": 9,
        "start_time": "2022-12-19T12:46:11.088Z"
      },
      {
        "duration": 212,
        "start_time": "2022-12-19T12:46:11.098Z"
      },
      {
        "duration": 36,
        "start_time": "2022-12-19T12:46:11.312Z"
      },
      {
        "duration": 5686,
        "start_time": "2022-12-19T12:46:11.350Z"
      },
      {
        "duration": 302,
        "start_time": "2022-12-19T12:46:17.038Z"
      },
      {
        "duration": 362,
        "start_time": "2022-12-19T12:46:17.342Z"
      },
      {
        "duration": 4815,
        "start_time": "2022-12-19T12:46:17.706Z"
      },
      {
        "duration": 607,
        "start_time": "2022-12-19T12:46:22.523Z"
      },
      {
        "duration": 105,
        "start_time": "2022-12-19T12:46:23.135Z"
      },
      {
        "duration": 97,
        "start_time": "2022-12-19T12:46:23.246Z"
      },
      {
        "duration": 8,
        "start_time": "2022-12-19T12:46:23.344Z"
      },
      {
        "duration": 218,
        "start_time": "2022-12-19T12:46:23.353Z"
      },
      {
        "duration": 30008,
        "start_time": "2022-12-19T12:46:23.573Z"
      },
      {
        "duration": 645,
        "start_time": "2022-12-19T12:46:53.583Z"
      },
      {
        "duration": 88,
        "start_time": "2022-12-19T12:46:54.250Z"
      },
      {
        "duration": 28,
        "start_time": "2022-12-19T12:46:54.340Z"
      },
      {
        "duration": 16,
        "start_time": "2022-12-19T12:46:54.370Z"
      },
      {
        "duration": 114,
        "start_time": "2022-12-19T12:46:54.388Z"
      },
      {
        "duration": 13494,
        "start_time": "2022-12-19T12:46:54.503Z"
      },
      {
        "duration": 138,
        "start_time": "2022-12-19T12:47:07.998Z"
      },
      {
        "duration": 782,
        "start_time": "2022-12-19T12:47:08.139Z"
      },
      {
        "duration": 230,
        "start_time": "2022-12-19T12:47:08.930Z"
      },
      {
        "duration": 8,
        "start_time": "2022-12-19T12:47:09.162Z"
      },
      {
        "duration": 6,
        "start_time": "2022-12-19T12:50:46.159Z"
      },
      {
        "duration": 1425,
        "start_time": "2022-12-19T12:50:58.304Z"
      },
      {
        "duration": 58,
        "start_time": "2022-12-19T12:50:59.732Z"
      },
      {
        "duration": 18,
        "start_time": "2022-12-19T12:50:59.791Z"
      },
      {
        "duration": 13,
        "start_time": "2022-12-19T12:50:59.810Z"
      },
      {
        "duration": 26,
        "start_time": "2022-12-19T12:50:59.825Z"
      },
      {
        "duration": 8,
        "start_time": "2022-12-19T12:50:59.854Z"
      },
      {
        "duration": 8,
        "start_time": "2022-12-19T12:50:59.865Z"
      },
      {
        "duration": 8,
        "start_time": "2022-12-19T12:50:59.876Z"
      },
      {
        "duration": 12,
        "start_time": "2022-12-19T12:50:59.886Z"
      },
      {
        "duration": 23,
        "start_time": "2022-12-19T12:50:59.899Z"
      },
      {
        "duration": 128,
        "start_time": "2022-12-19T12:50:59.924Z"
      },
      {
        "duration": 8,
        "start_time": "2022-12-19T12:51:00.054Z"
      },
      {
        "duration": 31,
        "start_time": "2022-12-19T12:51:00.064Z"
      },
      {
        "duration": 29,
        "start_time": "2022-12-19T12:51:00.098Z"
      },
      {
        "duration": 30,
        "start_time": "2022-12-19T12:51:00.129Z"
      },
      {
        "duration": 43,
        "start_time": "2022-12-19T12:51:00.161Z"
      },
      {
        "duration": 36,
        "start_time": "2022-12-19T12:51:00.206Z"
      },
      {
        "duration": 27,
        "start_time": "2022-12-19T12:51:00.243Z"
      },
      {
        "duration": 24,
        "start_time": "2022-12-19T12:51:00.272Z"
      },
      {
        "duration": 30,
        "start_time": "2022-12-19T12:51:00.298Z"
      },
      {
        "duration": 223,
        "start_time": "2022-12-19T12:51:00.331Z"
      },
      {
        "duration": 146,
        "start_time": "2022-12-19T12:51:00.556Z"
      },
      {
        "duration": 0,
        "start_time": "2022-12-19T12:51:00.705Z"
      },
      {
        "duration": 0,
        "start_time": "2022-12-19T12:51:00.706Z"
      },
      {
        "duration": 0,
        "start_time": "2022-12-19T12:51:00.707Z"
      },
      {
        "duration": 0,
        "start_time": "2022-12-19T12:51:00.708Z"
      },
      {
        "duration": 0,
        "start_time": "2022-12-19T12:51:00.709Z"
      },
      {
        "duration": 0,
        "start_time": "2022-12-19T12:51:00.710Z"
      },
      {
        "duration": 0,
        "start_time": "2022-12-19T12:51:00.721Z"
      },
      {
        "duration": 0,
        "start_time": "2022-12-19T12:51:00.723Z"
      },
      {
        "duration": 0,
        "start_time": "2022-12-19T12:51:00.724Z"
      },
      {
        "duration": 0,
        "start_time": "2022-12-19T12:51:00.725Z"
      },
      {
        "duration": 0,
        "start_time": "2022-12-19T12:51:00.727Z"
      },
      {
        "duration": 0,
        "start_time": "2022-12-19T12:51:00.728Z"
      },
      {
        "duration": 0,
        "start_time": "2022-12-19T12:51:00.729Z"
      },
      {
        "duration": 0,
        "start_time": "2022-12-19T12:51:00.730Z"
      },
      {
        "duration": 0,
        "start_time": "2022-12-19T12:51:00.731Z"
      },
      {
        "duration": 0,
        "start_time": "2022-12-19T12:51:00.732Z"
      },
      {
        "duration": 0,
        "start_time": "2022-12-19T12:51:00.734Z"
      },
      {
        "duration": 0,
        "start_time": "2022-12-19T12:51:00.735Z"
      },
      {
        "duration": 0,
        "start_time": "2022-12-19T12:51:00.736Z"
      },
      {
        "duration": 0,
        "start_time": "2022-12-19T12:51:00.738Z"
      },
      {
        "duration": 0,
        "start_time": "2022-12-19T12:51:00.739Z"
      },
      {
        "duration": 4,
        "start_time": "2022-12-19T12:51:10.860Z"
      },
      {
        "duration": 28,
        "start_time": "2022-12-19T12:51:33.713Z"
      },
      {
        "duration": 1374,
        "start_time": "2022-12-19T12:51:40.471Z"
      },
      {
        "duration": 53,
        "start_time": "2022-12-19T12:51:41.848Z"
      },
      {
        "duration": 20,
        "start_time": "2022-12-19T12:51:41.904Z"
      },
      {
        "duration": 15,
        "start_time": "2022-12-19T12:51:41.926Z"
      },
      {
        "duration": 17,
        "start_time": "2022-12-19T12:51:41.943Z"
      },
      {
        "duration": 8,
        "start_time": "2022-12-19T12:51:41.962Z"
      },
      {
        "duration": 8,
        "start_time": "2022-12-19T12:51:41.972Z"
      },
      {
        "duration": 12,
        "start_time": "2022-12-19T12:51:41.982Z"
      },
      {
        "duration": 33,
        "start_time": "2022-12-19T12:51:41.996Z"
      },
      {
        "duration": 10,
        "start_time": "2022-12-19T12:51:42.033Z"
      },
      {
        "duration": 132,
        "start_time": "2022-12-19T12:51:42.047Z"
      },
      {
        "duration": 7,
        "start_time": "2022-12-19T12:51:42.181Z"
      },
      {
        "duration": 24,
        "start_time": "2022-12-19T12:51:42.190Z"
      },
      {
        "duration": 12,
        "start_time": "2022-12-19T12:51:42.216Z"
      },
      {
        "duration": 19,
        "start_time": "2022-12-19T12:51:42.230Z"
      },
      {
        "duration": 17,
        "start_time": "2022-12-19T12:51:42.251Z"
      },
      {
        "duration": 13,
        "start_time": "2022-12-19T12:51:42.270Z"
      },
      {
        "duration": 15,
        "start_time": "2022-12-19T12:51:42.288Z"
      },
      {
        "duration": 18,
        "start_time": "2022-12-19T12:51:42.305Z"
      },
      {
        "duration": 29,
        "start_time": "2022-12-19T12:51:42.325Z"
      },
      {
        "duration": 197,
        "start_time": "2022-12-19T12:51:42.356Z"
      },
      {
        "duration": 26,
        "start_time": "2022-12-19T12:51:42.555Z"
      },
      {
        "duration": 142,
        "start_time": "2022-12-19T12:51:42.583Z"
      },
      {
        "duration": 0,
        "start_time": "2022-12-19T12:51:42.727Z"
      },
      {
        "duration": 0,
        "start_time": "2022-12-19T12:51:42.728Z"
      },
      {
        "duration": 0,
        "start_time": "2022-12-19T12:51:42.730Z"
      },
      {
        "duration": 0,
        "start_time": "2022-12-19T12:51:42.731Z"
      },
      {
        "duration": 0,
        "start_time": "2022-12-19T12:51:42.732Z"
      },
      {
        "duration": 0,
        "start_time": "2022-12-19T12:51:42.733Z"
      },
      {
        "duration": 0,
        "start_time": "2022-12-19T12:51:42.735Z"
      },
      {
        "duration": 0,
        "start_time": "2022-12-19T12:51:42.736Z"
      },
      {
        "duration": 0,
        "start_time": "2022-12-19T12:51:42.737Z"
      },
      {
        "duration": 0,
        "start_time": "2022-12-19T12:51:42.739Z"
      },
      {
        "duration": 0,
        "start_time": "2022-12-19T12:51:42.740Z"
      },
      {
        "duration": 0,
        "start_time": "2022-12-19T12:51:42.741Z"
      },
      {
        "duration": 0,
        "start_time": "2022-12-19T12:51:42.743Z"
      },
      {
        "duration": 0,
        "start_time": "2022-12-19T12:51:42.744Z"
      },
      {
        "duration": 0,
        "start_time": "2022-12-19T12:51:42.745Z"
      },
      {
        "duration": 0,
        "start_time": "2022-12-19T12:51:42.746Z"
      },
      {
        "duration": 0,
        "start_time": "2022-12-19T12:51:42.747Z"
      },
      {
        "duration": 0,
        "start_time": "2022-12-19T12:51:42.748Z"
      },
      {
        "duration": 0,
        "start_time": "2022-12-19T12:51:42.750Z"
      },
      {
        "duration": 0,
        "start_time": "2022-12-19T12:51:42.751Z"
      },
      {
        "duration": 6,
        "start_time": "2022-12-19T12:52:01.866Z"
      },
      {
        "duration": 26,
        "start_time": "2022-12-19T12:53:58.897Z"
      },
      {
        "duration": 6,
        "start_time": "2022-12-19T12:54:01.158Z"
      },
      {
        "duration": 4702,
        "start_time": "2022-12-19T12:54:52.907Z"
      },
      {
        "duration": 30,
        "start_time": "2022-12-19T12:56:00.884Z"
      },
      {
        "duration": 254,
        "start_time": "2022-12-19T12:56:33.537Z"
      },
      {
        "duration": 64,
        "start_time": "2022-12-19T12:56:57.493Z"
      },
      {
        "duration": 1464,
        "start_time": "2022-12-19T13:00:52.104Z"
      },
      {
        "duration": 58,
        "start_time": "2022-12-19T13:00:53.571Z"
      },
      {
        "duration": 19,
        "start_time": "2022-12-19T13:00:53.631Z"
      },
      {
        "duration": 17,
        "start_time": "2022-12-19T13:00:53.652Z"
      },
      {
        "duration": 12,
        "start_time": "2022-12-19T13:00:53.672Z"
      },
      {
        "duration": 6,
        "start_time": "2022-12-19T13:00:53.686Z"
      },
      {
        "duration": 28,
        "start_time": "2022-12-19T13:00:53.694Z"
      },
      {
        "duration": 7,
        "start_time": "2022-12-19T13:00:53.724Z"
      },
      {
        "duration": 18,
        "start_time": "2022-12-19T13:00:53.732Z"
      },
      {
        "duration": 7,
        "start_time": "2022-12-19T13:00:53.752Z"
      },
      {
        "duration": 119,
        "start_time": "2022-12-19T13:00:53.761Z"
      },
      {
        "duration": 6,
        "start_time": "2022-12-19T13:00:53.881Z"
      },
      {
        "duration": 15,
        "start_time": "2022-12-19T13:00:53.889Z"
      },
      {
        "duration": 6,
        "start_time": "2022-12-19T13:00:53.907Z"
      },
      {
        "duration": 5,
        "start_time": "2022-12-19T13:00:53.922Z"
      },
      {
        "duration": 23,
        "start_time": "2022-12-19T13:00:53.928Z"
      },
      {
        "duration": 9,
        "start_time": "2022-12-19T13:00:53.953Z"
      },
      {
        "duration": 5,
        "start_time": "2022-12-19T13:00:53.964Z"
      },
      {
        "duration": 7,
        "start_time": "2022-12-19T13:00:53.971Z"
      },
      {
        "duration": 9,
        "start_time": "2022-12-19T13:00:53.980Z"
      },
      {
        "duration": 225,
        "start_time": "2022-12-19T13:00:53.991Z"
      },
      {
        "duration": 41,
        "start_time": "2022-12-19T13:00:54.217Z"
      },
      {
        "duration": 4643,
        "start_time": "2022-12-19T13:00:54.260Z"
      },
      {
        "duration": 74,
        "start_time": "2022-12-19T13:00:58.905Z"
      },
      {
        "duration": 359,
        "start_time": "2022-12-19T13:00:58.981Z"
      },
      {
        "duration": 399,
        "start_time": "2022-12-19T13:00:59.343Z"
      },
      {
        "duration": 382,
        "start_time": "2022-12-19T13:00:59.750Z"
      },
      {
        "duration": 4977,
        "start_time": "2022-12-19T13:01:00.139Z"
      },
      {
        "duration": 202,
        "start_time": "2022-12-19T13:01:05.121Z"
      },
      {
        "duration": 106,
        "start_time": "2022-12-19T13:01:05.325Z"
      },
      {
        "duration": 13,
        "start_time": "2022-12-19T13:01:05.436Z"
      },
      {
        "duration": 12,
        "start_time": "2022-12-19T13:01:05.451Z"
      },
      {
        "duration": 225,
        "start_time": "2022-12-19T13:01:05.464Z"
      },
      {
        "duration": 42,
        "start_time": "2022-12-19T13:11:26.516Z"
      },
      {
        "duration": 1384,
        "start_time": "2022-12-19T13:11:36.696Z"
      },
      {
        "duration": 95,
        "start_time": "2022-12-19T13:11:38.082Z"
      },
      {
        "duration": 15,
        "start_time": "2022-12-19T13:11:38.178Z"
      },
      {
        "duration": 30,
        "start_time": "2022-12-19T13:11:38.194Z"
      },
      {
        "duration": 11,
        "start_time": "2022-12-19T13:11:38.226Z"
      },
      {
        "duration": 5,
        "start_time": "2022-12-19T13:11:38.239Z"
      },
      {
        "duration": 7,
        "start_time": "2022-12-19T13:11:38.245Z"
      },
      {
        "duration": 9,
        "start_time": "2022-12-19T13:11:38.254Z"
      },
      {
        "duration": 9,
        "start_time": "2022-12-19T13:11:38.264Z"
      },
      {
        "duration": 7,
        "start_time": "2022-12-19T13:11:38.274Z"
      },
      {
        "duration": 97,
        "start_time": "2022-12-19T13:11:38.282Z"
      },
      {
        "duration": 5,
        "start_time": "2022-12-19T13:11:38.381Z"
      },
      {
        "duration": 11,
        "start_time": "2022-12-19T13:11:38.388Z"
      },
      {
        "duration": 12,
        "start_time": "2022-12-19T13:11:38.402Z"
      },
      {
        "duration": 4,
        "start_time": "2022-12-19T13:11:38.415Z"
      },
      {
        "duration": 13,
        "start_time": "2022-12-19T13:11:38.421Z"
      },
      {
        "duration": 12,
        "start_time": "2022-12-19T13:11:38.435Z"
      },
      {
        "duration": 4,
        "start_time": "2022-12-19T13:11:38.449Z"
      },
      {
        "duration": 5,
        "start_time": "2022-12-19T13:11:38.455Z"
      },
      {
        "duration": 10,
        "start_time": "2022-12-19T13:11:38.461Z"
      },
      {
        "duration": 188,
        "start_time": "2022-12-19T13:11:38.472Z"
      },
      {
        "duration": 23,
        "start_time": "2022-12-19T13:11:38.662Z"
      },
      {
        "duration": 4166,
        "start_time": "2022-12-19T13:11:38.686Z"
      },
      {
        "duration": 65,
        "start_time": "2022-12-19T13:11:42.853Z"
      },
      {
        "duration": 685,
        "start_time": "2022-12-19T13:11:42.920Z"
      },
      {
        "duration": 896,
        "start_time": "2022-12-19T13:11:43.606Z"
      },
      {
        "duration": 383,
        "start_time": "2022-12-19T13:11:44.505Z"
      },
      {
        "duration": 5266,
        "start_time": "2022-12-19T13:11:44.890Z"
      },
      {
        "duration": 545,
        "start_time": "2022-12-19T13:11:50.158Z"
      },
      {
        "duration": 198,
        "start_time": "2022-12-19T13:11:50.706Z"
      },
      {
        "duration": 12,
        "start_time": "2022-12-19T13:11:50.907Z"
      },
      {
        "duration": 8,
        "start_time": "2022-12-19T13:11:50.921Z"
      },
      {
        "duration": 222,
        "start_time": "2022-12-19T13:11:50.931Z"
      },
      {
        "duration": 26745,
        "start_time": "2022-12-19T13:11:51.154Z"
      },
      {
        "duration": 698,
        "start_time": "2022-12-19T13:12:17.900Z"
      },
      {
        "duration": 103,
        "start_time": "2022-12-19T13:12:18.600Z"
      },
      {
        "duration": 5,
        "start_time": "2022-12-19T13:12:18.705Z"
      },
      {
        "duration": 5,
        "start_time": "2022-12-19T13:12:18.711Z"
      },
      {
        "duration": 90,
        "start_time": "2022-12-19T13:12:18.718Z"
      },
      {
        "duration": 11800,
        "start_time": "2022-12-19T13:12:18.809Z"
      },
      {
        "duration": 298,
        "start_time": "2022-12-19T13:12:30.612Z"
      },
      {
        "duration": 649,
        "start_time": "2022-12-19T13:12:30.998Z"
      },
      {
        "duration": 211,
        "start_time": "2022-12-19T13:12:31.649Z"
      },
      {
        "duration": 7,
        "start_time": "2022-12-19T13:12:31.862Z"
      },
      {
        "duration": 25,
        "start_time": "2022-12-19T13:12:31.935Z"
      },
      {
        "duration": 85,
        "start_time": "2022-12-20T06:25:49.975Z"
      },
      {
        "duration": 2001,
        "start_time": "2022-12-20T06:26:03.199Z"
      },
      {
        "duration": 234,
        "start_time": "2022-12-20T06:26:05.203Z"
      },
      {
        "duration": 37,
        "start_time": "2022-12-20T06:26:05.439Z"
      },
      {
        "duration": 24,
        "start_time": "2022-12-20T06:26:05.478Z"
      },
      {
        "duration": 17,
        "start_time": "2022-12-20T06:26:05.505Z"
      },
      {
        "duration": 10,
        "start_time": "2022-12-20T06:26:05.525Z"
      },
      {
        "duration": 17,
        "start_time": "2022-12-20T06:26:05.537Z"
      },
      {
        "duration": 24,
        "start_time": "2022-12-20T06:26:05.558Z"
      },
      {
        "duration": 19,
        "start_time": "2022-12-20T06:26:05.584Z"
      },
      {
        "duration": 12,
        "start_time": "2022-12-20T06:26:05.605Z"
      },
      {
        "duration": 172,
        "start_time": "2022-12-20T06:26:05.619Z"
      },
      {
        "duration": 12,
        "start_time": "2022-12-20T06:26:05.795Z"
      },
      {
        "duration": 20,
        "start_time": "2022-12-20T06:26:05.809Z"
      },
      {
        "duration": 21,
        "start_time": "2022-12-20T06:26:05.834Z"
      },
      {
        "duration": 25,
        "start_time": "2022-12-20T06:26:05.864Z"
      },
      {
        "duration": 22,
        "start_time": "2022-12-20T06:26:05.891Z"
      },
      {
        "duration": 20,
        "start_time": "2022-12-20T06:26:05.915Z"
      },
      {
        "duration": 7,
        "start_time": "2022-12-20T06:26:05.937Z"
      },
      {
        "duration": 31,
        "start_time": "2022-12-20T06:26:05.945Z"
      },
      {
        "duration": 15,
        "start_time": "2022-12-20T06:26:05.978Z"
      },
      {
        "duration": 215,
        "start_time": "2022-12-20T06:26:05.996Z"
      },
      {
        "duration": 61,
        "start_time": "2022-12-20T06:26:06.220Z"
      },
      {
        "duration": 7837,
        "start_time": "2022-12-20T06:26:06.283Z"
      },
      {
        "duration": 373,
        "start_time": "2022-12-20T06:26:14.122Z"
      },
      {
        "duration": 1378,
        "start_time": "2022-12-20T06:26:14.498Z"
      },
      {
        "duration": 1709,
        "start_time": "2022-12-20T06:26:15.957Z"
      },
      {
        "duration": 289,
        "start_time": "2022-12-20T06:26:17.675Z"
      },
      {
        "duration": 41,
        "start_time": "2022-12-20T06:26:17.971Z"
      },
      {
        "duration": 6647,
        "start_time": "2022-12-20T06:26:18.016Z"
      },
      {
        "duration": 1695,
        "start_time": "2022-12-20T06:26:24.665Z"
      },
      {
        "duration": 106,
        "start_time": "2022-12-20T06:26:26.370Z"
      },
      {
        "duration": 21,
        "start_time": "2022-12-20T06:26:26.481Z"
      },
      {
        "duration": 11,
        "start_time": "2022-12-20T06:26:26.505Z"
      },
      {
        "duration": 307,
        "start_time": "2022-12-20T06:26:26.518Z"
      },
      {
        "duration": 38731,
        "start_time": "2022-12-20T06:26:26.828Z"
      },
      {
        "duration": 1509,
        "start_time": "2022-12-20T06:27:05.561Z"
      },
      {
        "duration": 108,
        "start_time": "2022-12-20T06:27:07.077Z"
      },
      {
        "duration": 8,
        "start_time": "2022-12-20T06:27:07.187Z"
      },
      {
        "duration": 8,
        "start_time": "2022-12-20T06:27:07.197Z"
      },
      {
        "duration": 180,
        "start_time": "2022-12-20T06:27:07.207Z"
      },
      {
        "duration": 1867,
        "start_time": "2022-12-20T06:27:17.090Z"
      },
      {
        "duration": 77,
        "start_time": "2022-12-20T06:27:18.962Z"
      },
      {
        "duration": 28,
        "start_time": "2022-12-20T06:27:19.041Z"
      },
      {
        "duration": 33,
        "start_time": "2022-12-20T06:27:19.071Z"
      },
      {
        "duration": 22,
        "start_time": "2022-12-20T06:27:19.107Z"
      },
      {
        "duration": 56,
        "start_time": "2022-12-20T06:27:19.133Z"
      },
      {
        "duration": 14,
        "start_time": "2022-12-20T06:27:19.192Z"
      },
      {
        "duration": 36,
        "start_time": "2022-12-20T06:27:19.208Z"
      },
      {
        "duration": 51,
        "start_time": "2022-12-20T06:27:19.247Z"
      },
      {
        "duration": 18,
        "start_time": "2022-12-20T06:27:19.300Z"
      },
      {
        "duration": 174,
        "start_time": "2022-12-20T06:27:19.320Z"
      },
      {
        "duration": 9,
        "start_time": "2022-12-20T06:27:19.496Z"
      },
      {
        "duration": 29,
        "start_time": "2022-12-20T06:27:19.508Z"
      },
      {
        "duration": 51,
        "start_time": "2022-12-20T06:27:19.542Z"
      },
      {
        "duration": 14,
        "start_time": "2022-12-20T06:27:19.595Z"
      },
      {
        "duration": 64,
        "start_time": "2022-12-20T06:27:19.611Z"
      },
      {
        "duration": 35,
        "start_time": "2022-12-20T06:27:19.683Z"
      },
      {
        "duration": 16,
        "start_time": "2022-12-20T06:27:19.721Z"
      },
      {
        "duration": 56,
        "start_time": "2022-12-20T06:27:19.739Z"
      },
      {
        "duration": 26,
        "start_time": "2022-12-20T06:27:19.797Z"
      },
      {
        "duration": 274,
        "start_time": "2022-12-20T06:27:19.826Z"
      },
      {
        "duration": 31,
        "start_time": "2022-12-20T06:27:20.108Z"
      },
      {
        "duration": 7827,
        "start_time": "2022-12-20T06:27:20.142Z"
      },
      {
        "duration": 352,
        "start_time": "2022-12-20T06:27:27.980Z"
      },
      {
        "duration": 956,
        "start_time": "2022-12-20T06:27:28.334Z"
      },
      {
        "duration": 1010,
        "start_time": "2022-12-20T06:27:29.299Z"
      },
      {
        "duration": 441,
        "start_time": "2022-12-20T06:27:30.351Z"
      },
      {
        "duration": 73,
        "start_time": "2022-12-20T06:27:30.795Z"
      },
      {
        "duration": 6053,
        "start_time": "2022-12-20T06:27:30.870Z"
      },
      {
        "duration": 951,
        "start_time": "2022-12-20T06:27:36.925Z"
      },
      {
        "duration": 29,
        "start_time": "2022-12-20T06:27:37.953Z"
      },
      {
        "duration": 32,
        "start_time": "2022-12-20T06:27:37.991Z"
      },
      {
        "duration": 35,
        "start_time": "2022-12-20T06:27:38.027Z"
      },
      {
        "duration": 307,
        "start_time": "2022-12-20T06:27:38.066Z"
      },
      {
        "duration": 37294,
        "start_time": "2022-12-20T06:27:38.375Z"
      },
      {
        "duration": 697,
        "start_time": "2022-12-20T06:28:15.675Z"
      },
      {
        "duration": 114,
        "start_time": "2022-12-20T06:28:16.378Z"
      },
      {
        "duration": 62,
        "start_time": "2022-12-20T06:28:16.494Z"
      },
      {
        "duration": 26,
        "start_time": "2022-12-20T06:28:16.562Z"
      },
      {
        "duration": 133,
        "start_time": "2022-12-20T06:28:16.591Z"
      },
      {
        "duration": 16691,
        "start_time": "2022-12-20T06:28:16.730Z"
      },
      {
        "duration": 248,
        "start_time": "2022-12-20T06:28:33.423Z"
      },
      {
        "duration": 890,
        "start_time": "2022-12-20T06:28:33.679Z"
      },
      {
        "duration": 253,
        "start_time": "2022-12-20T06:28:34.572Z"
      },
      {
        "duration": 9,
        "start_time": "2022-12-20T06:28:34.827Z"
      },
      {
        "duration": 39,
        "start_time": "2022-12-20T06:28:48.086Z"
      },
      {
        "duration": 285,
        "start_time": "2022-12-20T06:32:42.851Z"
      },
      {
        "duration": 1969,
        "start_time": "2022-12-20T06:38:38.737Z"
      },
      {
        "duration": 1329,
        "start_time": "2022-12-20T06:39:02.034Z"
      },
      {
        "duration": 14,
        "start_time": "2022-12-20T06:50:18.335Z"
      },
      {
        "duration": 11,
        "start_time": "2022-12-20T06:50:20.389Z"
      },
      {
        "duration": 23,
        "start_time": "2022-12-20T06:56:35.345Z"
      },
      {
        "duration": 1526,
        "start_time": "2022-12-20T06:59:34.301Z"
      },
      {
        "duration": 75,
        "start_time": "2022-12-20T06:59:35.829Z"
      },
      {
        "duration": 18,
        "start_time": "2022-12-20T06:59:35.906Z"
      },
      {
        "duration": 52,
        "start_time": "2022-12-20T06:59:35.925Z"
      },
      {
        "duration": 32,
        "start_time": "2022-12-20T06:59:35.979Z"
      },
      {
        "duration": 33,
        "start_time": "2022-12-20T06:59:36.013Z"
      },
      {
        "duration": 28,
        "start_time": "2022-12-20T06:59:36.048Z"
      },
      {
        "duration": 38,
        "start_time": "2022-12-20T06:59:36.078Z"
      },
      {
        "duration": 64,
        "start_time": "2022-12-20T06:59:36.118Z"
      },
      {
        "duration": 25,
        "start_time": "2022-12-20T06:59:36.184Z"
      },
      {
        "duration": 160,
        "start_time": "2022-12-20T06:59:36.211Z"
      },
      {
        "duration": 8,
        "start_time": "2022-12-20T06:59:36.375Z"
      },
      {
        "duration": 24,
        "start_time": "2022-12-20T06:59:36.385Z"
      },
      {
        "duration": 24,
        "start_time": "2022-12-20T06:59:36.414Z"
      },
      {
        "duration": 65,
        "start_time": "2022-12-20T06:59:36.440Z"
      },
      {
        "duration": 33,
        "start_time": "2022-12-20T06:59:36.507Z"
      },
      {
        "duration": 42,
        "start_time": "2022-12-20T06:59:36.542Z"
      },
      {
        "duration": 28,
        "start_time": "2022-12-20T06:59:36.586Z"
      },
      {
        "duration": 29,
        "start_time": "2022-12-20T06:59:36.616Z"
      },
      {
        "duration": 50,
        "start_time": "2022-12-20T06:59:36.647Z"
      },
      {
        "duration": 253,
        "start_time": "2022-12-20T06:59:36.699Z"
      },
      {
        "duration": 39,
        "start_time": "2022-12-20T06:59:36.955Z"
      },
      {
        "duration": 5394,
        "start_time": "2022-12-20T06:59:36.996Z"
      },
      {
        "duration": 295,
        "start_time": "2022-12-20T06:59:42.393Z"
      },
      {
        "duration": 2574,
        "start_time": "2022-12-20T06:59:42.689Z"
      },
      {
        "duration": 2314,
        "start_time": "2022-12-20T06:59:45.350Z"
      },
      {
        "duration": 403,
        "start_time": "2022-12-20T06:59:47.666Z"
      },
      {
        "duration": 29,
        "start_time": "2022-12-20T06:59:48.070Z"
      },
      {
        "duration": 5364,
        "start_time": "2022-12-20T06:59:48.100Z"
      },
      {
        "duration": 276,
        "start_time": "2022-12-20T06:59:53.466Z"
      },
      {
        "duration": 1618,
        "start_time": "2022-12-20T06:59:53.744Z"
      },
      {
        "duration": 1690,
        "start_time": "2022-12-20T06:59:55.365Z"
      },
      {
        "duration": 94,
        "start_time": "2022-12-20T06:59:57.066Z"
      },
      {
        "duration": 16,
        "start_time": "2022-12-20T06:59:57.163Z"
      },
      {
        "duration": 13,
        "start_time": "2022-12-20T06:59:57.180Z"
      },
      {
        "duration": 230,
        "start_time": "2022-12-20T06:59:57.194Z"
      },
      {
        "duration": 31821,
        "start_time": "2022-12-20T06:59:57.426Z"
      },
      {
        "duration": 1604,
        "start_time": "2022-12-20T07:00:29.251Z"
      },
      {
        "duration": 99,
        "start_time": "2022-12-20T07:00:30.857Z"
      },
      {
        "duration": 67,
        "start_time": "2022-12-20T07:00:30.964Z"
      },
      {
        "duration": 45,
        "start_time": "2022-12-20T07:00:31.035Z"
      },
      {
        "duration": 191,
        "start_time": "2022-12-20T07:00:31.082Z"
      },
      {
        "duration": 14600,
        "start_time": "2022-12-20T07:00:31.275Z"
      },
      {
        "duration": 878,
        "start_time": "2022-12-20T07:00:45.878Z"
      },
      {
        "duration": 540,
        "start_time": "2022-12-20T07:00:46.766Z"
      },
      {
        "duration": 218,
        "start_time": "2022-12-20T07:00:47.307Z"
      },
      {
        "duration": 8,
        "start_time": "2022-12-20T07:00:47.527Z"
      },
      {
        "duration": 94,
        "start_time": "2022-12-20T07:03:23.659Z"
      },
      {
        "duration": 120,
        "start_time": "2022-12-20T07:09:22.920Z"
      },
      {
        "duration": 10,
        "start_time": "2022-12-20T07:09:46.208Z"
      },
      {
        "duration": 8,
        "start_time": "2022-12-20T07:09:48.427Z"
      },
      {
        "duration": 13,
        "start_time": "2022-12-20T07:09:50.912Z"
      },
      {
        "duration": 218,
        "start_time": "2022-12-20T07:09:54.156Z"
      },
      {
        "duration": 25,
        "start_time": "2022-12-20T07:12:34.302Z"
      },
      {
        "duration": 28586,
        "start_time": "2022-12-20T07:14:00.665Z"
      },
      {
        "duration": 1426,
        "start_time": "2022-12-20T07:19:43.566Z"
      },
      {
        "duration": 59,
        "start_time": "2022-12-20T07:19:44.994Z"
      },
      {
        "duration": 19,
        "start_time": "2022-12-20T07:19:45.055Z"
      },
      {
        "duration": 16,
        "start_time": "2022-12-20T07:19:45.075Z"
      },
      {
        "duration": 36,
        "start_time": "2022-12-20T07:19:45.094Z"
      },
      {
        "duration": 17,
        "start_time": "2022-12-20T07:19:45.133Z"
      },
      {
        "duration": 18,
        "start_time": "2022-12-20T07:19:45.151Z"
      },
      {
        "duration": 40,
        "start_time": "2022-12-20T07:19:45.171Z"
      },
      {
        "duration": 44,
        "start_time": "2022-12-20T07:19:45.213Z"
      },
      {
        "duration": 10,
        "start_time": "2022-12-20T07:19:45.259Z"
      },
      {
        "duration": 121,
        "start_time": "2022-12-20T07:19:45.271Z"
      },
      {
        "duration": 6,
        "start_time": "2022-12-20T07:19:45.394Z"
      },
      {
        "duration": 12,
        "start_time": "2022-12-20T07:19:45.402Z"
      },
      {
        "duration": 6,
        "start_time": "2022-12-20T07:19:45.419Z"
      },
      {
        "duration": 25,
        "start_time": "2022-12-20T07:19:45.427Z"
      },
      {
        "duration": 13,
        "start_time": "2022-12-20T07:19:45.454Z"
      },
      {
        "duration": 12,
        "start_time": "2022-12-20T07:19:45.469Z"
      },
      {
        "duration": 7,
        "start_time": "2022-12-20T07:19:45.483Z"
      },
      {
        "duration": 6,
        "start_time": "2022-12-20T07:19:45.492Z"
      },
      {
        "duration": 11,
        "start_time": "2022-12-20T07:19:45.500Z"
      },
      {
        "duration": 232,
        "start_time": "2022-12-20T07:19:45.512Z"
      },
      {
        "duration": 30,
        "start_time": "2022-12-20T07:19:45.751Z"
      },
      {
        "duration": 5058,
        "start_time": "2022-12-20T07:19:45.782Z"
      },
      {
        "duration": 267,
        "start_time": "2022-12-20T07:19:50.842Z"
      },
      {
        "duration": 742,
        "start_time": "2022-12-20T07:19:51.110Z"
      },
      {
        "duration": 807,
        "start_time": "2022-12-20T07:19:51.854Z"
      },
      {
        "duration": 324,
        "start_time": "2022-12-20T07:19:52.752Z"
      },
      {
        "duration": 29,
        "start_time": "2022-12-20T07:19:53.078Z"
      },
      {
        "duration": 4928,
        "start_time": "2022-12-20T07:19:53.109Z"
      },
      {
        "duration": 279,
        "start_time": "2022-12-20T07:19:58.039Z"
      },
      {
        "duration": 736,
        "start_time": "2022-12-20T07:19:58.320Z"
      },
      {
        "duration": 603,
        "start_time": "2022-12-20T07:19:59.058Z"
      },
      {
        "duration": 101,
        "start_time": "2022-12-20T07:19:59.752Z"
      },
      {
        "duration": 11,
        "start_time": "2022-12-20T07:19:59.855Z"
      },
      {
        "duration": 29,
        "start_time": "2022-12-20T07:19:59.868Z"
      },
      {
        "duration": 234,
        "start_time": "2022-12-20T07:19:59.900Z"
      },
      {
        "duration": 36,
        "start_time": "2022-12-20T07:20:00.136Z"
      },
      {
        "duration": 30417,
        "start_time": "2022-12-20T07:20:00.174Z"
      },
      {
        "duration": 95,
        "start_time": "2022-12-20T07:20:30.593Z"
      },
      {
        "duration": 0,
        "start_time": "2022-12-20T07:20:30.691Z"
      },
      {
        "duration": 0,
        "start_time": "2022-12-20T07:20:30.692Z"
      },
      {
        "duration": 0,
        "start_time": "2022-12-20T07:20:30.694Z"
      },
      {
        "duration": 0,
        "start_time": "2022-12-20T07:20:30.695Z"
      },
      {
        "duration": 0,
        "start_time": "2022-12-20T07:20:30.697Z"
      },
      {
        "duration": 0,
        "start_time": "2022-12-20T07:20:30.698Z"
      },
      {
        "duration": 0,
        "start_time": "2022-12-20T07:20:30.699Z"
      },
      {
        "duration": 0,
        "start_time": "2022-12-20T07:20:30.700Z"
      },
      {
        "duration": 0,
        "start_time": "2022-12-20T07:20:30.701Z"
      },
      {
        "duration": 0,
        "start_time": "2022-12-20T07:20:30.702Z"
      },
      {
        "duration": 147,
        "start_time": "2022-12-20T07:22:08.363Z"
      },
      {
        "duration": 8,
        "start_time": "2022-12-20T07:22:35.946Z"
      },
      {
        "duration": 4685,
        "start_time": "2022-12-20T07:24:02.548Z"
      },
      {
        "duration": 84,
        "start_time": "2022-12-20T07:24:11.234Z"
      },
      {
        "duration": 14,
        "start_time": "2022-12-20T07:24:40.552Z"
      },
      {
        "duration": 13,
        "start_time": "2022-12-20T07:24:50.765Z"
      },
      {
        "duration": 4763,
        "start_time": "2022-12-20T07:24:58.091Z"
      },
      {
        "duration": 14,
        "start_time": "2022-12-20T07:25:07.044Z"
      },
      {
        "duration": 1430,
        "start_time": "2022-12-20T07:25:37.874Z"
      },
      {
        "duration": 57,
        "start_time": "2022-12-20T07:25:39.306Z"
      },
      {
        "duration": 18,
        "start_time": "2022-12-20T07:25:39.365Z"
      },
      {
        "duration": 26,
        "start_time": "2022-12-20T07:25:39.385Z"
      },
      {
        "duration": 25,
        "start_time": "2022-12-20T07:25:39.413Z"
      },
      {
        "duration": 34,
        "start_time": "2022-12-20T07:25:39.440Z"
      },
      {
        "duration": 45,
        "start_time": "2022-12-20T07:25:39.476Z"
      },
      {
        "duration": 18,
        "start_time": "2022-12-20T07:25:39.523Z"
      },
      {
        "duration": 31,
        "start_time": "2022-12-20T07:25:39.543Z"
      },
      {
        "duration": 14,
        "start_time": "2022-12-20T07:25:39.576Z"
      },
      {
        "duration": 144,
        "start_time": "2022-12-20T07:25:39.593Z"
      },
      {
        "duration": 15,
        "start_time": "2022-12-20T07:25:39.740Z"
      },
      {
        "duration": 20,
        "start_time": "2022-12-20T07:25:39.759Z"
      },
      {
        "duration": 13,
        "start_time": "2022-12-20T07:25:39.783Z"
      },
      {
        "duration": 12,
        "start_time": "2022-12-20T07:25:39.798Z"
      },
      {
        "duration": 20,
        "start_time": "2022-12-20T07:25:39.812Z"
      },
      {
        "duration": 25,
        "start_time": "2022-12-20T07:25:39.835Z"
      },
      {
        "duration": 12,
        "start_time": "2022-12-20T07:25:39.863Z"
      },
      {
        "duration": 8,
        "start_time": "2022-12-20T07:25:39.877Z"
      },
      {
        "duration": 11,
        "start_time": "2022-12-20T07:25:39.888Z"
      },
      {
        "duration": 225,
        "start_time": "2022-12-20T07:25:39.900Z"
      },
      {
        "duration": 131,
        "start_time": "2022-12-20T07:25:40.127Z"
      },
      {
        "duration": 0,
        "start_time": "2022-12-20T07:25:40.260Z"
      },
      {
        "duration": 0,
        "start_time": "2022-12-20T07:25:40.261Z"
      },
      {
        "duration": 0,
        "start_time": "2022-12-20T07:25:40.262Z"
      },
      {
        "duration": 0,
        "start_time": "2022-12-20T07:25:40.263Z"
      },
      {
        "duration": 0,
        "start_time": "2022-12-20T07:25:40.264Z"
      },
      {
        "duration": 0,
        "start_time": "2022-12-20T07:25:40.265Z"
      },
      {
        "duration": 0,
        "start_time": "2022-12-20T07:25:40.267Z"
      },
      {
        "duration": 0,
        "start_time": "2022-12-20T07:25:40.268Z"
      },
      {
        "duration": 0,
        "start_time": "2022-12-20T07:25:40.269Z"
      },
      {
        "duration": 0,
        "start_time": "2022-12-20T07:25:40.270Z"
      },
      {
        "duration": 0,
        "start_time": "2022-12-20T07:25:40.271Z"
      },
      {
        "duration": 0,
        "start_time": "2022-12-20T07:25:40.272Z"
      },
      {
        "duration": 0,
        "start_time": "2022-12-20T07:25:40.273Z"
      },
      {
        "duration": 0,
        "start_time": "2022-12-20T07:25:40.274Z"
      },
      {
        "duration": 0,
        "start_time": "2022-12-20T07:25:40.275Z"
      },
      {
        "duration": 0,
        "start_time": "2022-12-20T07:25:40.276Z"
      },
      {
        "duration": 0,
        "start_time": "2022-12-20T07:25:40.277Z"
      },
      {
        "duration": 0,
        "start_time": "2022-12-20T07:25:40.278Z"
      },
      {
        "duration": 0,
        "start_time": "2022-12-20T07:25:40.279Z"
      },
      {
        "duration": 0,
        "start_time": "2022-12-20T07:25:40.280Z"
      },
      {
        "duration": 0,
        "start_time": "2022-12-20T07:25:40.281Z"
      },
      {
        "duration": 0,
        "start_time": "2022-12-20T07:25:40.283Z"
      },
      {
        "duration": 0,
        "start_time": "2022-12-20T07:25:40.283Z"
      },
      {
        "duration": 0,
        "start_time": "2022-12-20T07:25:40.285Z"
      },
      {
        "duration": 0,
        "start_time": "2022-12-20T07:25:40.285Z"
      },
      {
        "duration": 0,
        "start_time": "2022-12-20T07:25:40.286Z"
      },
      {
        "duration": 0,
        "start_time": "2022-12-20T07:25:40.287Z"
      },
      {
        "duration": 25,
        "start_time": "2022-12-20T07:26:21.139Z"
      },
      {
        "duration": 12,
        "start_time": "2022-12-20T07:27:00.175Z"
      },
      {
        "duration": 4807,
        "start_time": "2022-12-20T07:27:12.418Z"
      },
      {
        "duration": 87,
        "start_time": "2022-12-20T07:27:17.227Z"
      },
      {
        "duration": 873,
        "start_time": "2022-12-20T07:27:35.983Z"
      },
      {
        "duration": 989,
        "start_time": "2022-12-20T07:27:41.868Z"
      },
      {
        "duration": 584,
        "start_time": "2022-12-20T07:27:58.967Z"
      },
      {
        "duration": 226,
        "start_time": "2022-12-20T07:29:47.145Z"
      },
      {
        "duration": 5009,
        "start_time": "2022-12-20T07:34:42.454Z"
      },
      {
        "duration": 80,
        "start_time": "2022-12-20T07:35:25.245Z"
      },
      {
        "duration": 2128,
        "start_time": "2022-12-20T07:36:02.529Z"
      },
      {
        "duration": 1503,
        "start_time": "2022-12-20T07:36:33.518Z"
      },
      {
        "duration": 58,
        "start_time": "2022-12-20T07:36:35.024Z"
      },
      {
        "duration": 19,
        "start_time": "2022-12-20T07:36:35.085Z"
      },
      {
        "duration": 30,
        "start_time": "2022-12-20T07:36:35.106Z"
      },
      {
        "duration": 26,
        "start_time": "2022-12-20T07:36:35.139Z"
      },
      {
        "duration": 32,
        "start_time": "2022-12-20T07:36:35.167Z"
      },
      {
        "duration": 22,
        "start_time": "2022-12-20T07:36:35.201Z"
      },
      {
        "duration": 31,
        "start_time": "2022-12-20T07:36:35.225Z"
      },
      {
        "duration": 30,
        "start_time": "2022-12-20T07:36:35.258Z"
      },
      {
        "duration": 37,
        "start_time": "2022-12-20T07:36:35.292Z"
      },
      {
        "duration": 133,
        "start_time": "2022-12-20T07:36:35.331Z"
      },
      {
        "duration": 7,
        "start_time": "2022-12-20T07:36:35.466Z"
      },
      {
        "duration": 17,
        "start_time": "2022-12-20T07:36:35.474Z"
      },
      {
        "duration": 22,
        "start_time": "2022-12-20T07:36:35.493Z"
      },
      {
        "duration": 22,
        "start_time": "2022-12-20T07:36:35.517Z"
      },
      {
        "duration": 36,
        "start_time": "2022-12-20T07:36:35.542Z"
      },
      {
        "duration": 20,
        "start_time": "2022-12-20T07:36:35.581Z"
      },
      {
        "duration": 19,
        "start_time": "2022-12-20T07:36:35.603Z"
      },
      {
        "duration": 32,
        "start_time": "2022-12-20T07:36:35.624Z"
      },
      {
        "duration": 40,
        "start_time": "2022-12-20T07:36:35.658Z"
      },
      {
        "duration": 259,
        "start_time": "2022-12-20T07:36:35.701Z"
      },
      {
        "duration": 5273,
        "start_time": "2022-12-20T07:36:35.962Z"
      },
      {
        "duration": 1723,
        "start_time": "2022-12-20T07:36:41.238Z"
      },
      {
        "duration": 393,
        "start_time": "2022-12-20T07:36:42.964Z"
      },
      {
        "duration": 28,
        "start_time": "2022-12-20T07:36:43.358Z"
      },
      {
        "duration": 5034,
        "start_time": "2022-12-20T07:36:43.389Z"
      },
      {
        "duration": 275,
        "start_time": "2022-12-20T07:36:48.425Z"
      },
      {
        "duration": 461,
        "start_time": "2022-12-20T07:36:48.703Z"
      },
      {
        "duration": 794,
        "start_time": "2022-12-20T07:36:49.166Z"
      },
      {
        "duration": 95,
        "start_time": "2022-12-20T07:36:49.962Z"
      },
      {
        "duration": 109,
        "start_time": "2022-12-20T07:36:50.060Z"
      },
      {
        "duration": 20,
        "start_time": "2022-12-20T07:36:50.171Z"
      },
      {
        "duration": 230,
        "start_time": "2022-12-20T07:36:50.193Z"
      },
      {
        "duration": 34,
        "start_time": "2022-12-20T07:36:50.425Z"
      },
      {
        "duration": 30878,
        "start_time": "2022-12-20T07:36:50.461Z"
      },
      {
        "duration": 83,
        "start_time": "2022-12-20T07:37:21.341Z"
      },
      {
        "duration": 0,
        "start_time": "2022-12-20T07:37:21.426Z"
      },
      {
        "duration": 0,
        "start_time": "2022-12-20T07:37:21.428Z"
      },
      {
        "duration": 0,
        "start_time": "2022-12-20T07:37:21.429Z"
      },
      {
        "duration": 0,
        "start_time": "2022-12-20T07:37:21.431Z"
      },
      {
        "duration": 0,
        "start_time": "2022-12-20T07:37:21.433Z"
      },
      {
        "duration": 0,
        "start_time": "2022-12-20T07:37:21.434Z"
      },
      {
        "duration": 0,
        "start_time": "2022-12-20T07:37:21.436Z"
      },
      {
        "duration": 0,
        "start_time": "2022-12-20T07:37:21.437Z"
      },
      {
        "duration": 0,
        "start_time": "2022-12-20T07:37:21.438Z"
      },
      {
        "duration": 0,
        "start_time": "2022-12-20T07:37:21.440Z"
      },
      {
        "duration": 251,
        "start_time": "2022-12-20T07:38:52.377Z"
      },
      {
        "duration": 27,
        "start_time": "2022-12-20T07:38:58.683Z"
      },
      {
        "duration": 5216,
        "start_time": "2022-12-20T07:40:32.617Z"
      },
      {
        "duration": 258,
        "start_time": "2022-12-20T07:40:50.954Z"
      },
      {
        "duration": 181,
        "start_time": "2022-12-20T07:41:53.287Z"
      },
      {
        "duration": 718,
        "start_time": "2022-12-20T07:42:47.643Z"
      },
      {
        "duration": 706,
        "start_time": "2022-12-20T07:43:49.245Z"
      },
      {
        "duration": 235,
        "start_time": "2022-12-20T07:47:15.343Z"
      },
      {
        "duration": 27,
        "start_time": "2022-12-20T07:47:20.518Z"
      },
      {
        "duration": 28,
        "start_time": "2022-12-20T07:47:31.475Z"
      },
      {
        "duration": 28927,
        "start_time": "2022-12-20T07:50:52.187Z"
      },
      {
        "duration": 29785,
        "start_time": "2022-12-20T07:51:38.944Z"
      },
      {
        "duration": 425,
        "start_time": "2022-12-20T07:53:03.955Z"
      },
      {
        "duration": 660,
        "start_time": "2022-12-20T07:57:21.599Z"
      },
      {
        "duration": 1516,
        "start_time": "2022-12-20T07:58:33.577Z"
      },
      {
        "duration": 62,
        "start_time": "2022-12-20T07:58:35.095Z"
      },
      {
        "duration": 27,
        "start_time": "2022-12-20T07:58:35.160Z"
      },
      {
        "duration": 19,
        "start_time": "2022-12-20T07:58:35.190Z"
      },
      {
        "duration": 14,
        "start_time": "2022-12-20T07:58:35.213Z"
      },
      {
        "duration": 8,
        "start_time": "2022-12-20T07:58:35.252Z"
      },
      {
        "duration": 15,
        "start_time": "2022-12-20T07:58:35.262Z"
      },
      {
        "duration": 7,
        "start_time": "2022-12-20T07:58:35.279Z"
      },
      {
        "duration": 24,
        "start_time": "2022-12-20T07:58:35.288Z"
      },
      {
        "duration": 19,
        "start_time": "2022-12-20T07:58:35.314Z"
      },
      {
        "duration": 139,
        "start_time": "2022-12-20T07:58:35.335Z"
      },
      {
        "duration": 6,
        "start_time": "2022-12-20T07:58:35.476Z"
      },
      {
        "duration": 11,
        "start_time": "2022-12-20T07:58:35.484Z"
      },
      {
        "duration": 6,
        "start_time": "2022-12-20T07:58:35.498Z"
      },
      {
        "duration": 6,
        "start_time": "2022-12-20T07:58:35.506Z"
      },
      {
        "duration": 51,
        "start_time": "2022-12-20T07:58:35.515Z"
      },
      {
        "duration": 13,
        "start_time": "2022-12-20T07:58:35.568Z"
      },
      {
        "duration": 7,
        "start_time": "2022-12-20T07:58:35.582Z"
      },
      {
        "duration": 7,
        "start_time": "2022-12-20T07:58:35.591Z"
      },
      {
        "duration": 14,
        "start_time": "2022-12-20T07:58:35.600Z"
      },
      {
        "duration": 272,
        "start_time": "2022-12-20T07:58:35.615Z"
      },
      {
        "duration": 5627,
        "start_time": "2022-12-20T07:58:35.889Z"
      },
      {
        "duration": 839,
        "start_time": "2022-12-20T07:58:41.518Z"
      },
      {
        "duration": 420,
        "start_time": "2022-12-20T07:58:42.359Z"
      },
      {
        "duration": 5642,
        "start_time": "2022-12-20T07:58:42.781Z"
      },
      {
        "duration": 532,
        "start_time": "2022-12-20T07:58:48.425Z"
      },
      {
        "duration": 96,
        "start_time": "2022-12-20T07:58:48.960Z"
      },
      {
        "duration": 101,
        "start_time": "2022-12-20T07:58:49.061Z"
      },
      {
        "duration": 20,
        "start_time": "2022-12-20T07:58:49.164Z"
      },
      {
        "duration": 334,
        "start_time": "2022-12-20T07:58:49.186Z"
      },
      {
        "duration": 33524,
        "start_time": "2022-12-20T07:58:49.522Z"
      },
      {
        "duration": 224,
        "start_time": "2022-12-20T07:59:23.051Z"
      },
      {
        "duration": 88,
        "start_time": "2022-12-20T07:59:23.277Z"
      },
      {
        "duration": 14,
        "start_time": "2022-12-20T07:59:23.451Z"
      },
      {
        "duration": 8,
        "start_time": "2022-12-20T07:59:23.467Z"
      },
      {
        "duration": 117,
        "start_time": "2022-12-20T07:59:23.477Z"
      },
      {
        "duration": 14781,
        "start_time": "2022-12-20T07:59:23.597Z"
      },
      {
        "duration": 282,
        "start_time": "2022-12-20T07:59:38.380Z"
      },
      {
        "duration": 211,
        "start_time": "2022-12-20T07:59:38.665Z"
      },
      {
        "duration": 0,
        "start_time": "2022-12-20T07:59:38.878Z"
      },
      {
        "duration": 0,
        "start_time": "2022-12-20T07:59:38.879Z"
      },
      {
        "duration": 1490,
        "start_time": "2022-12-20T08:01:10.470Z"
      },
      {
        "duration": 61,
        "start_time": "2022-12-20T08:01:11.962Z"
      },
      {
        "duration": 18,
        "start_time": "2022-12-20T08:01:12.025Z"
      },
      {
        "duration": 33,
        "start_time": "2022-12-20T08:01:12.045Z"
      },
      {
        "duration": 37,
        "start_time": "2022-12-20T08:01:12.081Z"
      },
      {
        "duration": 17,
        "start_time": "2022-12-20T08:01:12.120Z"
      },
      {
        "duration": 24,
        "start_time": "2022-12-20T08:01:12.140Z"
      },
      {
        "duration": 42,
        "start_time": "2022-12-20T08:01:12.166Z"
      },
      {
        "duration": 35,
        "start_time": "2022-12-20T08:01:12.210Z"
      },
      {
        "duration": 38,
        "start_time": "2022-12-20T08:01:12.247Z"
      },
      {
        "duration": 133,
        "start_time": "2022-12-20T08:01:12.286Z"
      },
      {
        "duration": 7,
        "start_time": "2022-12-20T08:01:12.420Z"
      },
      {
        "duration": 38,
        "start_time": "2022-12-20T08:01:12.429Z"
      },
      {
        "duration": 16,
        "start_time": "2022-12-20T08:01:12.471Z"
      },
      {
        "duration": 34,
        "start_time": "2022-12-20T08:01:12.489Z"
      },
      {
        "duration": 23,
        "start_time": "2022-12-20T08:01:12.525Z"
      },
      {
        "duration": 25,
        "start_time": "2022-12-20T08:01:12.551Z"
      },
      {
        "duration": 14,
        "start_time": "2022-12-20T08:01:12.578Z"
      },
      {
        "duration": 20,
        "start_time": "2022-12-20T08:01:12.594Z"
      },
      {
        "duration": 34,
        "start_time": "2022-12-20T08:01:12.616Z"
      },
      {
        "duration": 268,
        "start_time": "2022-12-20T08:01:12.652Z"
      },
      {
        "duration": 5217,
        "start_time": "2022-12-20T08:01:12.924Z"
      },
      {
        "duration": 708,
        "start_time": "2022-12-20T08:01:18.143Z"
      },
      {
        "duration": 367,
        "start_time": "2022-12-20T08:01:18.853Z"
      },
      {
        "duration": 5211,
        "start_time": "2022-12-20T08:01:19.222Z"
      },
      {
        "duration": 1317,
        "start_time": "2022-12-20T08:01:24.435Z"
      },
      {
        "duration": 97,
        "start_time": "2022-12-20T08:01:25.756Z"
      },
      {
        "duration": 13,
        "start_time": "2022-12-20T08:01:25.856Z"
      },
      {
        "duration": 17,
        "start_time": "2022-12-20T08:01:25.871Z"
      },
      {
        "duration": 271,
        "start_time": "2022-12-20T08:01:25.890Z"
      },
      {
        "duration": 31945,
        "start_time": "2022-12-20T08:01:26.164Z"
      },
      {
        "duration": 1040,
        "start_time": "2022-12-20T08:01:58.111Z"
      },
      {
        "duration": 98,
        "start_time": "2022-12-20T08:01:59.153Z"
      },
      {
        "duration": 9,
        "start_time": "2022-12-20T08:01:59.253Z"
      },
      {
        "duration": 7,
        "start_time": "2022-12-20T08:01:59.264Z"
      },
      {
        "duration": 112,
        "start_time": "2022-12-20T08:01:59.273Z"
      },
      {
        "duration": 14390,
        "start_time": "2022-12-20T08:01:59.387Z"
      },
      {
        "duration": 283,
        "start_time": "2022-12-20T08:02:13.780Z"
      },
      {
        "duration": 303,
        "start_time": "2022-12-20T08:02:14.065Z"
      },
      {
        "duration": 0,
        "start_time": "2022-12-20T08:02:14.370Z"
      },
      {
        "duration": 0,
        "start_time": "2022-12-20T08:02:14.371Z"
      },
      {
        "duration": 32609,
        "start_time": "2022-12-20T08:03:30.742Z"
      },
      {
        "duration": 261,
        "start_time": "2022-12-20T08:05:25.006Z"
      },
      {
        "duration": 234,
        "start_time": "2022-12-20T08:05:28.039Z"
      },
      {
        "duration": 260,
        "start_time": "2022-12-20T08:05:30.796Z"
      },
      {
        "duration": 31857,
        "start_time": "2022-12-20T08:05:35.913Z"
      },
      {
        "duration": 11,
        "start_time": "2022-12-20T08:08:19.876Z"
      },
      {
        "duration": 150,
        "start_time": "2022-12-20T08:09:37.156Z"
      },
      {
        "duration": 96,
        "start_time": "2022-12-20T08:11:29.733Z"
      },
      {
        "duration": 238,
        "start_time": "2022-12-20T08:12:07.257Z"
      },
      {
        "duration": 5212,
        "start_time": "2022-12-20T08:12:11.640Z"
      },
      {
        "duration": 53,
        "start_time": "2022-12-20T13:59:36.308Z"
      },
      {
        "duration": 1522,
        "start_time": "2022-12-20T13:59:54.884Z"
      },
      {
        "duration": 99,
        "start_time": "2022-12-20T13:59:56.408Z"
      },
      {
        "duration": 18,
        "start_time": "2022-12-20T13:59:56.509Z"
      },
      {
        "duration": 13,
        "start_time": "2022-12-20T13:59:56.529Z"
      },
      {
        "duration": 16,
        "start_time": "2022-12-20T13:59:56.544Z"
      },
      {
        "duration": 18,
        "start_time": "2022-12-20T13:59:56.562Z"
      },
      {
        "duration": 28,
        "start_time": "2022-12-20T13:59:56.582Z"
      },
      {
        "duration": 14,
        "start_time": "2022-12-20T13:59:56.612Z"
      },
      {
        "duration": 22,
        "start_time": "2022-12-20T13:59:56.628Z"
      },
      {
        "duration": 23,
        "start_time": "2022-12-20T13:59:56.653Z"
      },
      {
        "duration": 113,
        "start_time": "2022-12-20T13:59:56.678Z"
      },
      {
        "duration": 8,
        "start_time": "2022-12-20T13:59:56.793Z"
      },
      {
        "duration": 13,
        "start_time": "2022-12-20T13:59:56.802Z"
      },
      {
        "duration": 7,
        "start_time": "2022-12-20T13:59:56.817Z"
      },
      {
        "duration": 5,
        "start_time": "2022-12-20T13:59:56.826Z"
      },
      {
        "duration": 11,
        "start_time": "2022-12-20T13:59:56.855Z"
      },
      {
        "duration": 12,
        "start_time": "2022-12-20T13:59:56.867Z"
      },
      {
        "duration": 5,
        "start_time": "2022-12-20T13:59:56.881Z"
      },
      {
        "duration": 20,
        "start_time": "2022-12-20T13:59:56.888Z"
      },
      {
        "duration": 13,
        "start_time": "2022-12-20T13:59:56.909Z"
      },
      {
        "duration": 231,
        "start_time": "2022-12-20T13:59:56.924Z"
      },
      {
        "duration": 4943,
        "start_time": "2022-12-20T13:59:57.157Z"
      },
      {
        "duration": 1056,
        "start_time": "2022-12-20T14:00:02.101Z"
      },
      {
        "duration": 329,
        "start_time": "2022-12-20T14:00:03.160Z"
      },
      {
        "duration": 5133,
        "start_time": "2022-12-20T14:00:03.491Z"
      },
      {
        "duration": 635,
        "start_time": "2022-12-20T14:00:08.626Z"
      },
      {
        "duration": 92,
        "start_time": "2022-12-20T14:00:09.263Z"
      },
      {
        "duration": 11,
        "start_time": "2022-12-20T14:00:09.359Z"
      },
      {
        "duration": 15,
        "start_time": "2022-12-20T14:00:09.372Z"
      },
      {
        "duration": 274,
        "start_time": "2022-12-20T14:00:09.389Z"
      },
      {
        "duration": 29415,
        "start_time": "2022-12-20T14:00:09.665Z"
      },
      {
        "duration": 873,
        "start_time": "2022-12-20T14:00:39.082Z"
      },
      {
        "duration": 94,
        "start_time": "2022-12-20T14:00:39.962Z"
      },
      {
        "duration": 153,
        "start_time": "2022-12-20T14:00:40.059Z"
      },
      {
        "duration": 170,
        "start_time": "2022-12-20T14:00:40.214Z"
      },
      {
        "duration": 0,
        "start_time": "2022-12-20T14:00:40.386Z"
      },
      {
        "duration": 0,
        "start_time": "2022-12-20T14:00:40.388Z"
      },
      {
        "duration": 0,
        "start_time": "2022-12-20T14:00:40.390Z"
      },
      {
        "duration": 0,
        "start_time": "2022-12-20T14:00:40.392Z"
      },
      {
        "duration": 103,
        "start_time": "2022-12-20T14:06:12.010Z"
      },
      {
        "duration": 14022,
        "start_time": "2022-12-20T14:08:33.360Z"
      },
      {
        "duration": 14566,
        "start_time": "2022-12-20T14:08:53.122Z"
      },
      {
        "duration": 314,
        "start_time": "2022-12-20T14:10:59.642Z"
      },
      {
        "duration": 485,
        "start_time": "2022-12-20T14:11:34.987Z"
      },
      {
        "duration": 1394,
        "start_time": "2022-12-20T14:15:21.485Z"
      },
      {
        "duration": 57,
        "start_time": "2022-12-20T14:15:22.881Z"
      },
      {
        "duration": 18,
        "start_time": "2022-12-20T14:15:22.940Z"
      },
      {
        "duration": 14,
        "start_time": "2022-12-20T14:15:22.960Z"
      },
      {
        "duration": 19,
        "start_time": "2022-12-20T14:15:22.978Z"
      },
      {
        "duration": 5,
        "start_time": "2022-12-20T14:15:22.999Z"
      },
      {
        "duration": 9,
        "start_time": "2022-12-20T14:15:23.005Z"
      },
      {
        "duration": 40,
        "start_time": "2022-12-20T14:15:23.016Z"
      },
      {
        "duration": 11,
        "start_time": "2022-12-20T14:15:23.058Z"
      },
      {
        "duration": 12,
        "start_time": "2022-12-20T14:15:23.071Z"
      },
      {
        "duration": 141,
        "start_time": "2022-12-20T14:15:23.085Z"
      },
      {
        "duration": 7,
        "start_time": "2022-12-20T14:15:23.228Z"
      },
      {
        "duration": 26,
        "start_time": "2022-12-20T14:15:23.237Z"
      },
      {
        "duration": 16,
        "start_time": "2022-12-20T14:15:23.268Z"
      },
      {
        "duration": 14,
        "start_time": "2022-12-20T14:15:23.286Z"
      },
      {
        "duration": 29,
        "start_time": "2022-12-20T14:15:23.302Z"
      },
      {
        "duration": 18,
        "start_time": "2022-12-20T14:15:23.334Z"
      },
      {
        "duration": 19,
        "start_time": "2022-12-20T14:15:23.354Z"
      },
      {
        "duration": 21,
        "start_time": "2022-12-20T14:15:23.375Z"
      },
      {
        "duration": 29,
        "start_time": "2022-12-20T14:15:23.399Z"
      },
      {
        "duration": 231,
        "start_time": "2022-12-20T14:15:23.430Z"
      },
      {
        "duration": 4801,
        "start_time": "2022-12-20T14:15:23.663Z"
      },
      {
        "duration": 790,
        "start_time": "2022-12-20T14:15:28.466Z"
      },
      {
        "duration": 326,
        "start_time": "2022-12-20T14:15:29.258Z"
      },
      {
        "duration": 4711,
        "start_time": "2022-12-20T14:15:29.586Z"
      },
      {
        "duration": 670,
        "start_time": "2022-12-20T14:15:34.299Z"
      },
      {
        "duration": 98,
        "start_time": "2022-12-20T14:15:35.057Z"
      },
      {
        "duration": 8,
        "start_time": "2022-12-20T14:15:35.157Z"
      },
      {
        "duration": 23,
        "start_time": "2022-12-20T14:15:35.167Z"
      },
      {
        "duration": 235,
        "start_time": "2022-12-20T14:15:35.192Z"
      },
      {
        "duration": 28369,
        "start_time": "2022-12-20T14:15:35.429Z"
      },
      {
        "duration": 1356,
        "start_time": "2022-12-20T14:16:03.799Z"
      },
      {
        "duration": 15,
        "start_time": "2022-12-20T14:16:05.157Z"
      },
      {
        "duration": 117,
        "start_time": "2022-12-20T14:16:05.256Z"
      },
      {
        "duration": 14243,
        "start_time": "2022-12-20T14:16:05.375Z"
      },
      {
        "duration": 342,
        "start_time": "2022-12-20T14:16:19.620Z"
      },
      {
        "duration": 297,
        "start_time": "2022-12-20T14:16:19.964Z"
      },
      {
        "duration": 0,
        "start_time": "2022-12-20T14:16:20.263Z"
      },
      {
        "duration": 0,
        "start_time": "2022-12-20T14:16:20.264Z"
      },
      {
        "duration": 124,
        "start_time": "2022-12-20T14:28:40.039Z"
      },
      {
        "duration": 114,
        "start_time": "2022-12-20T14:28:45.137Z"
      },
      {
        "duration": 14421,
        "start_time": "2022-12-20T14:28:49.413Z"
      },
      {
        "duration": 1355,
        "start_time": "2022-12-20T14:35:38.625Z"
      },
      {
        "duration": 58,
        "start_time": "2022-12-20T14:35:39.982Z"
      },
      {
        "duration": 22,
        "start_time": "2022-12-20T14:35:40.043Z"
      },
      {
        "duration": 14,
        "start_time": "2022-12-20T14:35:40.067Z"
      },
      {
        "duration": 12,
        "start_time": "2022-12-20T14:35:40.082Z"
      },
      {
        "duration": 8,
        "start_time": "2022-12-20T14:35:40.096Z"
      },
      {
        "duration": 7,
        "start_time": "2022-12-20T14:35:40.106Z"
      },
      {
        "duration": 6,
        "start_time": "2022-12-20T14:35:40.114Z"
      },
      {
        "duration": 38,
        "start_time": "2022-12-20T14:35:40.121Z"
      },
      {
        "duration": 8,
        "start_time": "2022-12-20T14:35:40.162Z"
      },
      {
        "duration": 114,
        "start_time": "2022-12-20T14:35:40.171Z"
      },
      {
        "duration": 6,
        "start_time": "2022-12-20T14:35:40.286Z"
      },
      {
        "duration": 11,
        "start_time": "2022-12-20T14:35:40.294Z"
      },
      {
        "duration": 7,
        "start_time": "2022-12-20T14:35:40.306Z"
      },
      {
        "duration": 5,
        "start_time": "2022-12-20T14:35:40.315Z"
      },
      {
        "duration": 33,
        "start_time": "2022-12-20T14:35:40.322Z"
      },
      {
        "duration": 11,
        "start_time": "2022-12-20T14:35:40.357Z"
      },
      {
        "duration": 6,
        "start_time": "2022-12-20T14:35:40.369Z"
      },
      {
        "duration": 9,
        "start_time": "2022-12-20T14:35:40.377Z"
      },
      {
        "duration": 11,
        "start_time": "2022-12-20T14:35:40.388Z"
      },
      {
        "duration": 227,
        "start_time": "2022-12-20T14:35:40.400Z"
      },
      {
        "duration": 4699,
        "start_time": "2022-12-20T14:35:40.629Z"
      },
      {
        "duration": 1131,
        "start_time": "2022-12-20T14:35:45.330Z"
      },
      {
        "duration": 400,
        "start_time": "2022-12-20T14:35:46.463Z"
      },
      {
        "duration": 4686,
        "start_time": "2022-12-20T14:35:46.865Z"
      },
      {
        "duration": 408,
        "start_time": "2022-12-20T14:35:51.552Z"
      },
      {
        "duration": 97,
        "start_time": "2022-12-20T14:35:51.962Z"
      },
      {
        "duration": 9,
        "start_time": "2022-12-20T14:35:52.062Z"
      },
      {
        "duration": 90,
        "start_time": "2022-12-20T14:35:52.073Z"
      },
      {
        "duration": 245,
        "start_time": "2022-12-20T14:35:52.166Z"
      },
      {
        "duration": 30668,
        "start_time": "2022-12-20T14:35:52.413Z"
      },
      {
        "duration": 578,
        "start_time": "2022-12-20T14:36:23.083Z"
      },
      {
        "duration": 100,
        "start_time": "2022-12-20T14:36:23.664Z"
      },
      {
        "duration": 194,
        "start_time": "2022-12-20T14:36:23.766Z"
      },
      {
        "duration": 13893,
        "start_time": "2022-12-20T14:36:23.962Z"
      },
      {
        "duration": 300,
        "start_time": "2022-12-20T14:36:37.856Z"
      },
      {
        "duration": 210,
        "start_time": "2022-12-20T14:36:38.159Z"
      },
      {
        "duration": 0,
        "start_time": "2022-12-20T14:36:38.371Z"
      },
      {
        "duration": 0,
        "start_time": "2022-12-20T14:36:38.372Z"
      },
      {
        "duration": 12,
        "start_time": "2022-12-20T14:50:49.039Z"
      },
      {
        "duration": 14,
        "start_time": "2022-12-20T14:50:58.335Z"
      },
      {
        "duration": 821,
        "start_time": "2022-12-20T14:51:00.487Z"
      },
      {
        "duration": 1476,
        "start_time": "2022-12-20T14:51:39.236Z"
      },
      {
        "duration": 62,
        "start_time": "2022-12-20T14:51:40.715Z"
      },
      {
        "duration": 19,
        "start_time": "2022-12-20T14:51:40.779Z"
      },
      {
        "duration": 17,
        "start_time": "2022-12-20T14:51:40.800Z"
      },
      {
        "duration": 15,
        "start_time": "2022-12-20T14:51:40.819Z"
      },
      {
        "duration": 21,
        "start_time": "2022-12-20T14:51:40.836Z"
      },
      {
        "duration": 12,
        "start_time": "2022-12-20T14:51:40.859Z"
      },
      {
        "duration": 8,
        "start_time": "2022-12-20T14:51:40.872Z"
      },
      {
        "duration": 12,
        "start_time": "2022-12-20T14:51:40.882Z"
      },
      {
        "duration": 9,
        "start_time": "2022-12-20T14:51:40.898Z"
      },
      {
        "duration": 156,
        "start_time": "2022-12-20T14:51:40.909Z"
      },
      {
        "duration": 7,
        "start_time": "2022-12-20T14:51:41.066Z"
      },
      {
        "duration": 17,
        "start_time": "2022-12-20T14:51:41.075Z"
      },
      {
        "duration": 7,
        "start_time": "2022-12-20T14:51:41.094Z"
      },
      {
        "duration": 7,
        "start_time": "2022-12-20T14:51:41.103Z"
      },
      {
        "duration": 13,
        "start_time": "2022-12-20T14:51:41.112Z"
      },
      {
        "duration": 36,
        "start_time": "2022-12-20T14:51:41.127Z"
      },
      {
        "duration": 6,
        "start_time": "2022-12-20T14:51:41.165Z"
      },
      {
        "duration": 6,
        "start_time": "2022-12-20T14:51:41.172Z"
      },
      {
        "duration": 10,
        "start_time": "2022-12-20T14:51:41.180Z"
      },
      {
        "duration": 243,
        "start_time": "2022-12-20T14:51:41.191Z"
      },
      {
        "duration": 5023,
        "start_time": "2022-12-20T14:51:41.436Z"
      },
      {
        "duration": 800,
        "start_time": "2022-12-20T14:51:46.461Z"
      },
      {
        "duration": 430,
        "start_time": "2022-12-20T14:51:47.263Z"
      },
      {
        "duration": 4932,
        "start_time": "2022-12-20T14:51:47.695Z"
      },
      {
        "duration": 644,
        "start_time": "2022-12-20T14:51:52.629Z"
      },
      {
        "duration": 104,
        "start_time": "2022-12-20T14:51:53.356Z"
      },
      {
        "duration": 11,
        "start_time": "2022-12-20T14:51:53.465Z"
      },
      {
        "duration": 19,
        "start_time": "2022-12-20T14:51:53.479Z"
      },
      {
        "duration": 304,
        "start_time": "2022-12-20T14:51:53.500Z"
      },
      {
        "duration": 30429,
        "start_time": "2022-12-20T14:51:53.806Z"
      },
      {
        "duration": 923,
        "start_time": "2022-12-20T14:52:24.237Z"
      },
      {
        "duration": 101,
        "start_time": "2022-12-20T14:52:25.163Z"
      },
      {
        "duration": 155,
        "start_time": "2022-12-20T14:52:25.266Z"
      },
      {
        "duration": 14549,
        "start_time": "2022-12-20T14:52:25.423Z"
      },
      {
        "duration": 482,
        "start_time": "2022-12-20T14:52:39.974Z"
      },
      {
        "duration": 106,
        "start_time": "2022-12-20T14:52:40.462Z"
      },
      {
        "duration": 119,
        "start_time": "2022-12-20T14:52:40.570Z"
      },
      {
        "duration": 154,
        "start_time": "2022-12-20T14:52:40.691Z"
      },
      {
        "duration": 9,
        "start_time": "2022-12-20T14:52:40.846Z"
      },
      {
        "duration": 15,
        "start_time": "2022-12-20T14:56:47.902Z"
      },
      {
        "duration": 108,
        "start_time": "2022-12-20T14:56:50.493Z"
      },
      {
        "duration": 102,
        "start_time": "2022-12-20T14:57:02.970Z"
      },
      {
        "duration": 100,
        "start_time": "2022-12-20T14:57:44.635Z"
      },
      {
        "duration": 1470,
        "start_time": "2022-12-20T14:58:09.427Z"
      },
      {
        "duration": 60,
        "start_time": "2022-12-20T14:58:10.899Z"
      },
      {
        "duration": 18,
        "start_time": "2022-12-20T14:58:10.961Z"
      },
      {
        "duration": 14,
        "start_time": "2022-12-20T14:58:10.981Z"
      },
      {
        "duration": 13,
        "start_time": "2022-12-20T14:58:10.997Z"
      },
      {
        "duration": 5,
        "start_time": "2022-12-20T14:58:11.012Z"
      },
      {
        "duration": 36,
        "start_time": "2022-12-20T14:58:11.019Z"
      },
      {
        "duration": 6,
        "start_time": "2022-12-20T14:58:11.057Z"
      },
      {
        "duration": 18,
        "start_time": "2022-12-20T14:58:11.065Z"
      },
      {
        "duration": 7,
        "start_time": "2022-12-20T14:58:11.086Z"
      },
      {
        "duration": 128,
        "start_time": "2022-12-20T14:58:11.095Z"
      },
      {
        "duration": 7,
        "start_time": "2022-12-20T14:58:11.224Z"
      },
      {
        "duration": 22,
        "start_time": "2022-12-20T14:58:11.233Z"
      },
      {
        "duration": 6,
        "start_time": "2022-12-20T14:58:11.257Z"
      },
      {
        "duration": 21,
        "start_time": "2022-12-20T14:58:11.265Z"
      },
      {
        "duration": 16,
        "start_time": "2022-12-20T14:58:11.288Z"
      },
      {
        "duration": 11,
        "start_time": "2022-12-20T14:58:11.306Z"
      },
      {
        "duration": 6,
        "start_time": "2022-12-20T14:58:11.318Z"
      },
      {
        "duration": 9,
        "start_time": "2022-12-20T14:58:11.325Z"
      },
      {
        "duration": 24,
        "start_time": "2022-12-20T14:58:11.335Z"
      },
      {
        "duration": 230,
        "start_time": "2022-12-20T14:58:11.361Z"
      },
      {
        "duration": 5052,
        "start_time": "2022-12-20T14:58:11.593Z"
      },
      {
        "duration": 510,
        "start_time": "2022-12-20T14:58:16.647Z"
      },
      {
        "duration": 323,
        "start_time": "2022-12-20T14:58:17.165Z"
      },
      {
        "duration": 4754,
        "start_time": "2022-12-20T14:58:17.490Z"
      },
      {
        "duration": 710,
        "start_time": "2022-12-20T14:58:22.245Z"
      },
      {
        "duration": 99,
        "start_time": "2022-12-20T14:58:22.959Z"
      },
      {
        "duration": 10,
        "start_time": "2022-12-20T14:58:23.062Z"
      },
      {
        "duration": 14,
        "start_time": "2022-12-20T14:58:23.074Z"
      },
      {
        "duration": 240,
        "start_time": "2022-12-20T14:58:23.090Z"
      },
      {
        "duration": 28715,
        "start_time": "2022-12-20T14:58:23.332Z"
      },
      {
        "duration": 712,
        "start_time": "2022-12-20T14:58:52.049Z"
      },
      {
        "duration": 93,
        "start_time": "2022-12-20T14:58:52.763Z"
      },
      {
        "duration": 216,
        "start_time": "2022-12-20T14:58:52.858Z"
      },
      {
        "duration": 13672,
        "start_time": "2022-12-20T14:58:53.075Z"
      },
      {
        "duration": 408,
        "start_time": "2022-12-20T14:59:06.749Z"
      },
      {
        "duration": 102,
        "start_time": "2022-12-20T14:59:07.160Z"
      },
      {
        "duration": 335,
        "start_time": "2022-12-20T14:59:07.264Z"
      },
      {
        "duration": 206,
        "start_time": "2022-12-20T14:59:07.601Z"
      },
      {
        "duration": 9,
        "start_time": "2022-12-20T14:59:07.809Z"
      },
      {
        "duration": 62,
        "start_time": "2022-12-20T15:17:58.533Z"
      },
      {
        "duration": 1501,
        "start_time": "2022-12-20T15:18:11.212Z"
      },
      {
        "duration": 94,
        "start_time": "2022-12-20T15:18:12.715Z"
      },
      {
        "duration": 18,
        "start_time": "2022-12-20T15:18:12.810Z"
      },
      {
        "duration": 22,
        "start_time": "2022-12-20T15:18:12.829Z"
      },
      {
        "duration": 14,
        "start_time": "2022-12-20T15:18:12.853Z"
      },
      {
        "duration": 12,
        "start_time": "2022-12-20T15:18:12.868Z"
      },
      {
        "duration": 9,
        "start_time": "2022-12-20T15:18:12.882Z"
      },
      {
        "duration": 12,
        "start_time": "2022-12-20T15:18:12.892Z"
      },
      {
        "duration": 15,
        "start_time": "2022-12-20T15:18:12.906Z"
      },
      {
        "duration": 9,
        "start_time": "2022-12-20T15:18:12.923Z"
      },
      {
        "duration": 131,
        "start_time": "2022-12-20T15:18:12.933Z"
      },
      {
        "duration": 11,
        "start_time": "2022-12-20T15:18:13.066Z"
      },
      {
        "duration": 11,
        "start_time": "2022-12-20T15:18:13.079Z"
      },
      {
        "duration": 6,
        "start_time": "2022-12-20T15:18:13.094Z"
      },
      {
        "duration": 5,
        "start_time": "2022-12-20T15:18:13.102Z"
      },
      {
        "duration": 12,
        "start_time": "2022-12-20T15:18:13.109Z"
      },
      {
        "duration": 14,
        "start_time": "2022-12-20T15:18:13.123Z"
      },
      {
        "duration": 5,
        "start_time": "2022-12-20T15:18:13.139Z"
      },
      {
        "duration": 36,
        "start_time": "2022-12-20T15:18:13.146Z"
      },
      {
        "duration": 15,
        "start_time": "2022-12-20T15:18:13.183Z"
      },
      {
        "duration": 214,
        "start_time": "2022-12-20T15:18:13.200Z"
      },
      {
        "duration": 4811,
        "start_time": "2022-12-20T15:18:13.416Z"
      },
      {
        "duration": 557,
        "start_time": "2022-12-20T15:18:18.228Z"
      },
      {
        "duration": 418,
        "start_time": "2022-12-20T15:18:18.787Z"
      },
      {
        "duration": 4871,
        "start_time": "2022-12-20T15:18:19.206Z"
      },
      {
        "duration": 603,
        "start_time": "2022-12-20T15:18:24.079Z"
      },
      {
        "duration": 100,
        "start_time": "2022-12-20T15:18:24.684Z"
      },
      {
        "duration": 7,
        "start_time": "2022-12-20T15:18:24.787Z"
      },
      {
        "duration": 92,
        "start_time": "2022-12-20T15:18:24.796Z"
      },
      {
        "duration": 238,
        "start_time": "2022-12-20T15:18:24.890Z"
      },
      {
        "duration": 29139,
        "start_time": "2022-12-20T15:18:25.129Z"
      },
      {
        "duration": 312,
        "start_time": "2022-12-20T15:18:54.270Z"
      },
      {
        "duration": 94,
        "start_time": "2022-12-20T15:18:54.584Z"
      },
      {
        "duration": 187,
        "start_time": "2022-12-20T15:18:54.680Z"
      },
      {
        "duration": 13830,
        "start_time": "2022-12-20T15:18:54.869Z"
      },
      {
        "duration": 182,
        "start_time": "2022-12-20T15:19:08.701Z"
      },
      {
        "duration": 93,
        "start_time": "2022-12-20T15:19:08.885Z"
      },
      {
        "duration": 960,
        "start_time": "2022-12-20T15:19:08.980Z"
      },
      {
        "duration": 280,
        "start_time": "2022-12-20T15:19:09.942Z"
      },
      {
        "duration": 8,
        "start_time": "2022-12-20T15:19:10.224Z"
      },
      {
        "duration": 1408,
        "start_time": "2022-12-20T15:20:21.915Z"
      },
      {
        "duration": 58,
        "start_time": "2022-12-20T15:20:23.325Z"
      },
      {
        "duration": 24,
        "start_time": "2022-12-20T15:20:23.384Z"
      },
      {
        "duration": 27,
        "start_time": "2022-12-20T15:20:23.410Z"
      },
      {
        "duration": 28,
        "start_time": "2022-12-20T15:20:23.439Z"
      },
      {
        "duration": 13,
        "start_time": "2022-12-20T15:20:23.468Z"
      },
      {
        "duration": 27,
        "start_time": "2022-12-20T15:20:23.483Z"
      },
      {
        "duration": 31,
        "start_time": "2022-12-20T15:20:23.512Z"
      },
      {
        "duration": 26,
        "start_time": "2022-12-20T15:20:23.545Z"
      },
      {
        "duration": 35,
        "start_time": "2022-12-20T15:20:23.573Z"
      },
      {
        "duration": 108,
        "start_time": "2022-12-20T15:20:23.610Z"
      },
      {
        "duration": 7,
        "start_time": "2022-12-20T15:20:23.720Z"
      },
      {
        "duration": 30,
        "start_time": "2022-12-20T15:20:23.728Z"
      },
      {
        "duration": 22,
        "start_time": "2022-12-20T15:20:23.761Z"
      },
      {
        "duration": 22,
        "start_time": "2022-12-20T15:20:23.784Z"
      },
      {
        "duration": 40,
        "start_time": "2022-12-20T15:20:23.808Z"
      },
      {
        "duration": 38,
        "start_time": "2022-12-20T15:20:23.850Z"
      },
      {
        "duration": 10,
        "start_time": "2022-12-20T15:20:23.890Z"
      },
      {
        "duration": 22,
        "start_time": "2022-12-20T15:20:23.901Z"
      },
      {
        "duration": 27,
        "start_time": "2022-12-20T15:20:23.925Z"
      },
      {
        "duration": 234,
        "start_time": "2022-12-20T15:20:23.954Z"
      },
      {
        "duration": 4965,
        "start_time": "2022-12-20T15:20:24.190Z"
      },
      {
        "duration": 426,
        "start_time": "2022-12-20T15:20:29.157Z"
      },
      {
        "duration": 350,
        "start_time": "2022-12-20T15:20:29.585Z"
      },
      {
        "duration": 5071,
        "start_time": "2022-12-20T15:20:29.937Z"
      },
      {
        "duration": 569,
        "start_time": "2022-12-20T15:20:35.010Z"
      },
      {
        "duration": 98,
        "start_time": "2022-12-20T15:20:35.582Z"
      },
      {
        "duration": 7,
        "start_time": "2022-12-20T15:20:35.682Z"
      },
      {
        "duration": 31,
        "start_time": "2022-12-20T15:20:35.691Z"
      },
      {
        "duration": 253,
        "start_time": "2022-12-20T15:20:35.725Z"
      },
      {
        "duration": 28343,
        "start_time": "2022-12-20T15:20:35.980Z"
      },
      {
        "duration": 557,
        "start_time": "2022-12-20T15:21:04.325Z"
      },
      {
        "duration": 100,
        "start_time": "2022-12-20T15:21:04.884Z"
      },
      {
        "duration": 197,
        "start_time": "2022-12-20T15:21:04.987Z"
      },
      {
        "duration": 14105,
        "start_time": "2022-12-20T15:21:05.186Z"
      },
      {
        "duration": 290,
        "start_time": "2022-12-20T15:21:19.293Z"
      },
      {
        "duration": 105,
        "start_time": "2022-12-20T15:21:19.584Z"
      },
      {
        "duration": 497,
        "start_time": "2022-12-20T15:21:19.691Z"
      },
      {
        "duration": 211,
        "start_time": "2022-12-20T15:21:20.190Z"
      },
      {
        "duration": 8,
        "start_time": "2022-12-20T15:21:20.403Z"
      },
      {
        "duration": 454,
        "start_time": "2022-12-20T15:23:39.257Z"
      },
      {
        "duration": 1376,
        "start_time": "2022-12-20T15:23:50.638Z"
      },
      {
        "duration": 57,
        "start_time": "2022-12-20T15:23:52.015Z"
      },
      {
        "duration": 19,
        "start_time": "2022-12-20T15:23:52.073Z"
      },
      {
        "duration": 33,
        "start_time": "2022-12-20T15:23:52.094Z"
      },
      {
        "duration": 21,
        "start_time": "2022-12-20T15:23:52.129Z"
      },
      {
        "duration": 33,
        "start_time": "2022-12-20T15:23:52.151Z"
      },
      {
        "duration": 22,
        "start_time": "2022-12-20T15:23:52.185Z"
      },
      {
        "duration": 16,
        "start_time": "2022-12-20T15:23:52.209Z"
      },
      {
        "duration": 25,
        "start_time": "2022-12-20T15:23:52.227Z"
      },
      {
        "duration": 28,
        "start_time": "2022-12-20T15:23:52.255Z"
      },
      {
        "duration": 133,
        "start_time": "2022-12-20T15:23:52.285Z"
      },
      {
        "duration": 7,
        "start_time": "2022-12-20T15:23:52.419Z"
      },
      {
        "duration": 21,
        "start_time": "2022-12-20T15:23:52.427Z"
      },
      {
        "duration": 38,
        "start_time": "2022-12-20T15:23:52.449Z"
      },
      {
        "duration": 29,
        "start_time": "2022-12-20T15:23:52.490Z"
      },
      {
        "duration": 16,
        "start_time": "2022-12-20T15:23:52.520Z"
      },
      {
        "duration": 18,
        "start_time": "2022-12-20T15:23:52.538Z"
      },
      {
        "duration": 18,
        "start_time": "2022-12-20T15:23:52.558Z"
      },
      {
        "duration": 15,
        "start_time": "2022-12-20T15:23:52.577Z"
      },
      {
        "duration": 35,
        "start_time": "2022-12-20T15:23:52.594Z"
      },
      {
        "duration": 218,
        "start_time": "2022-12-20T15:23:52.631Z"
      },
      {
        "duration": 4669,
        "start_time": "2022-12-20T15:23:52.850Z"
      },
      {
        "duration": 460,
        "start_time": "2022-12-20T15:23:57.522Z"
      },
      {
        "duration": 434,
        "start_time": "2022-12-20T15:23:57.984Z"
      },
      {
        "duration": 4954,
        "start_time": "2022-12-20T15:23:58.420Z"
      },
      {
        "duration": 505,
        "start_time": "2022-12-20T15:24:03.378Z"
      },
      {
        "duration": 101,
        "start_time": "2022-12-20T15:24:03.885Z"
      },
      {
        "duration": 33,
        "start_time": "2022-12-20T15:24:04.080Z"
      },
      {
        "duration": 26,
        "start_time": "2022-12-20T15:24:04.115Z"
      },
      {
        "duration": 233,
        "start_time": "2022-12-20T15:24:04.143Z"
      },
      {
        "duration": 28816,
        "start_time": "2022-12-20T15:24:04.377Z"
      },
      {
        "duration": 592,
        "start_time": "2022-12-20T15:24:33.194Z"
      },
      {
        "duration": 99,
        "start_time": "2022-12-20T15:24:33.879Z"
      },
      {
        "duration": 159,
        "start_time": "2022-12-20T15:24:33.980Z"
      },
      {
        "duration": 14118,
        "start_time": "2022-12-20T15:24:34.141Z"
      },
      {
        "duration": 231,
        "start_time": "2022-12-20T15:24:48.261Z"
      },
      {
        "duration": 222,
        "start_time": "2022-12-20T15:24:48.578Z"
      },
      {
        "duration": 0,
        "start_time": "2022-12-20T15:24:48.802Z"
      },
      {
        "duration": 0,
        "start_time": "2022-12-20T15:24:48.803Z"
      },
      {
        "duration": 522,
        "start_time": "2022-12-20T15:26:49.917Z"
      },
      {
        "duration": 506,
        "start_time": "2022-12-20T15:27:44.778Z"
      },
      {
        "duration": 569,
        "start_time": "2022-12-20T15:28:02.141Z"
      },
      {
        "duration": 1402,
        "start_time": "2022-12-20T15:28:17.107Z"
      },
      {
        "duration": 56,
        "start_time": "2022-12-20T15:28:18.512Z"
      },
      {
        "duration": 19,
        "start_time": "2022-12-20T15:28:18.570Z"
      },
      {
        "duration": 14,
        "start_time": "2022-12-20T15:28:18.591Z"
      },
      {
        "duration": 15,
        "start_time": "2022-12-20T15:28:18.606Z"
      },
      {
        "duration": 42,
        "start_time": "2022-12-20T15:28:18.623Z"
      },
      {
        "duration": 22,
        "start_time": "2022-12-20T15:28:18.666Z"
      },
      {
        "duration": 25,
        "start_time": "2022-12-20T15:28:18.690Z"
      },
      {
        "duration": 23,
        "start_time": "2022-12-20T15:28:18.717Z"
      },
      {
        "duration": 13,
        "start_time": "2022-12-20T15:28:18.743Z"
      },
      {
        "duration": 132,
        "start_time": "2022-12-20T15:28:18.757Z"
      },
      {
        "duration": 6,
        "start_time": "2022-12-20T15:28:18.890Z"
      },
      {
        "duration": 22,
        "start_time": "2022-12-20T15:28:18.898Z"
      },
      {
        "duration": 30,
        "start_time": "2022-12-20T15:28:18.921Z"
      },
      {
        "duration": 22,
        "start_time": "2022-12-20T15:28:18.952Z"
      },
      {
        "duration": 35,
        "start_time": "2022-12-20T15:28:18.976Z"
      },
      {
        "duration": 25,
        "start_time": "2022-12-20T15:28:19.013Z"
      },
      {
        "duration": 28,
        "start_time": "2022-12-20T15:28:19.040Z"
      },
      {
        "duration": 17,
        "start_time": "2022-12-20T15:28:19.070Z"
      },
      {
        "duration": 19,
        "start_time": "2022-12-20T15:28:19.089Z"
      },
      {
        "duration": 241,
        "start_time": "2022-12-20T15:28:19.109Z"
      },
      {
        "duration": 4780,
        "start_time": "2022-12-20T15:28:19.352Z"
      },
      {
        "duration": 549,
        "start_time": "2022-12-20T15:28:24.134Z"
      },
      {
        "duration": 409,
        "start_time": "2022-12-20T15:28:24.685Z"
      },
      {
        "duration": 4832,
        "start_time": "2022-12-20T15:28:25.096Z"
      },
      {
        "duration": 650,
        "start_time": "2022-12-20T15:28:29.929Z"
      },
      {
        "duration": 96,
        "start_time": "2022-12-20T15:28:30.582Z"
      },
      {
        "duration": 13,
        "start_time": "2022-12-20T15:28:30.682Z"
      },
      {
        "duration": 16,
        "start_time": "2022-12-20T15:28:30.696Z"
      },
      {
        "duration": 248,
        "start_time": "2022-12-20T15:28:30.713Z"
      },
      {
        "duration": 29241,
        "start_time": "2022-12-20T15:28:30.963Z"
      },
      {
        "duration": 678,
        "start_time": "2022-12-20T15:29:00.205Z"
      },
      {
        "duration": 103,
        "start_time": "2022-12-20T15:29:00.885Z"
      },
      {
        "duration": 207,
        "start_time": "2022-12-20T15:29:00.990Z"
      },
      {
        "duration": 14169,
        "start_time": "2022-12-20T15:29:01.199Z"
      },
      {
        "duration": 313,
        "start_time": "2022-12-20T15:29:15.369Z"
      },
      {
        "duration": 808,
        "start_time": "2022-12-20T15:29:15.684Z"
      },
      {
        "duration": 116,
        "start_time": "2022-12-20T15:29:16.494Z"
      },
      {
        "duration": 0,
        "start_time": "2022-12-20T15:29:16.611Z"
      },
      {
        "duration": 1348,
        "start_time": "2022-12-20T15:30:41.867Z"
      },
      {
        "duration": 54,
        "start_time": "2022-12-20T15:30:43.217Z"
      },
      {
        "duration": 19,
        "start_time": "2022-12-20T15:30:43.273Z"
      },
      {
        "duration": 13,
        "start_time": "2022-12-20T15:30:43.293Z"
      },
      {
        "duration": 13,
        "start_time": "2022-12-20T15:30:43.308Z"
      },
      {
        "duration": 7,
        "start_time": "2022-12-20T15:30:43.322Z"
      },
      {
        "duration": 8,
        "start_time": "2022-12-20T15:30:43.330Z"
      },
      {
        "duration": 8,
        "start_time": "2022-12-20T15:30:43.339Z"
      },
      {
        "duration": 36,
        "start_time": "2022-12-20T15:30:43.348Z"
      },
      {
        "duration": 11,
        "start_time": "2022-12-20T15:30:43.386Z"
      },
      {
        "duration": 129,
        "start_time": "2022-12-20T15:30:43.399Z"
      },
      {
        "duration": 8,
        "start_time": "2022-12-20T15:30:43.529Z"
      },
      {
        "duration": 12,
        "start_time": "2022-12-20T15:30:43.539Z"
      },
      {
        "duration": 23,
        "start_time": "2022-12-20T15:30:43.554Z"
      },
      {
        "duration": 5,
        "start_time": "2022-12-20T15:30:43.579Z"
      },
      {
        "duration": 16,
        "start_time": "2022-12-20T15:30:43.585Z"
      },
      {
        "duration": 11,
        "start_time": "2022-12-20T15:30:43.603Z"
      },
      {
        "duration": 7,
        "start_time": "2022-12-20T15:30:43.616Z"
      },
      {
        "duration": 7,
        "start_time": "2022-12-20T15:30:43.625Z"
      },
      {
        "duration": 13,
        "start_time": "2022-12-20T15:30:43.634Z"
      },
      {
        "duration": 261,
        "start_time": "2022-12-20T15:30:43.649Z"
      },
      {
        "duration": 4726,
        "start_time": "2022-12-20T15:30:43.912Z"
      },
      {
        "duration": 545,
        "start_time": "2022-12-20T15:30:48.641Z"
      },
      {
        "duration": 400,
        "start_time": "2022-12-20T15:30:49.188Z"
      },
      {
        "duration": 4868,
        "start_time": "2022-12-20T15:30:49.590Z"
      },
      {
        "duration": 521,
        "start_time": "2022-12-20T15:30:54.460Z"
      },
      {
        "duration": 96,
        "start_time": "2022-12-20T15:30:54.983Z"
      },
      {
        "duration": 7,
        "start_time": "2022-12-20T15:30:55.081Z"
      },
      {
        "duration": 14,
        "start_time": "2022-12-20T15:30:55.090Z"
      },
      {
        "duration": 230,
        "start_time": "2022-12-20T15:30:55.106Z"
      },
      {
        "duration": 28420,
        "start_time": "2022-12-20T15:30:55.337Z"
      },
      {
        "duration": 520,
        "start_time": "2022-12-20T15:31:23.759Z"
      },
      {
        "duration": 98,
        "start_time": "2022-12-20T15:31:24.280Z"
      },
      {
        "duration": 108,
        "start_time": "2022-12-20T15:31:24.380Z"
      },
      {
        "duration": 13800,
        "start_time": "2022-12-20T15:31:24.490Z"
      },
      {
        "duration": 291,
        "start_time": "2022-12-20T15:31:38.291Z"
      },
      {
        "duration": 444,
        "start_time": "2022-12-20T15:31:38.584Z"
      },
      {
        "duration": 118,
        "start_time": "2022-12-20T15:31:39.030Z"
      },
      {
        "duration": 0,
        "start_time": "2022-12-20T15:31:39.149Z"
      },
      {
        "duration": 159,
        "start_time": "2022-12-20T15:34:27.919Z"
      },
      {
        "duration": 7,
        "start_time": "2022-12-20T15:34:47.608Z"
      },
      {
        "duration": 231,
        "start_time": "2022-12-20T15:39:11.852Z"
      },
      {
        "duration": 19,
        "start_time": "2022-12-20T15:39:26.417Z"
      },
      {
        "duration": 7,
        "start_time": "2022-12-20T15:39:53.281Z"
      },
      {
        "duration": 1295,
        "start_time": "2022-12-20T15:42:28.588Z"
      },
      {
        "duration": 62,
        "start_time": "2022-12-20T15:42:29.885Z"
      },
      {
        "duration": 17,
        "start_time": "2022-12-20T15:42:29.949Z"
      },
      {
        "duration": 13,
        "start_time": "2022-12-20T15:42:29.968Z"
      },
      {
        "duration": 13,
        "start_time": "2022-12-20T15:42:29.982Z"
      },
      {
        "duration": 6,
        "start_time": "2022-12-20T15:42:29.996Z"
      },
      {
        "duration": 39,
        "start_time": "2022-12-20T15:42:30.003Z"
      },
      {
        "duration": 14,
        "start_time": "2022-12-20T15:42:30.044Z"
      },
      {
        "duration": 29,
        "start_time": "2022-12-20T15:42:30.060Z"
      },
      {
        "duration": 57,
        "start_time": "2022-12-20T15:42:30.092Z"
      },
      {
        "duration": 122,
        "start_time": "2022-12-20T15:42:30.150Z"
      },
      {
        "duration": 8,
        "start_time": "2022-12-20T15:42:30.273Z"
      },
      {
        "duration": 32,
        "start_time": "2022-12-20T15:42:30.283Z"
      },
      {
        "duration": 33,
        "start_time": "2022-12-20T15:42:30.317Z"
      },
      {
        "duration": 31,
        "start_time": "2022-12-20T15:42:30.352Z"
      },
      {
        "duration": 33,
        "start_time": "2022-12-20T15:42:30.385Z"
      },
      {
        "duration": 27,
        "start_time": "2022-12-20T15:42:30.419Z"
      },
      {
        "duration": 28,
        "start_time": "2022-12-20T15:42:30.447Z"
      },
      {
        "duration": 23,
        "start_time": "2022-12-20T15:42:30.477Z"
      },
      {
        "duration": 25,
        "start_time": "2022-12-20T15:42:30.502Z"
      },
      {
        "duration": 243,
        "start_time": "2022-12-20T15:42:30.529Z"
      },
      {
        "duration": 4791,
        "start_time": "2022-12-20T15:42:30.777Z"
      },
      {
        "duration": 817,
        "start_time": "2022-12-20T15:42:35.570Z"
      },
      {
        "duration": 319,
        "start_time": "2022-12-20T15:42:36.478Z"
      },
      {
        "duration": 4837,
        "start_time": "2022-12-20T15:42:36.799Z"
      },
      {
        "duration": 849,
        "start_time": "2022-12-20T15:42:41.638Z"
      },
      {
        "duration": 97,
        "start_time": "2022-12-20T15:42:42.488Z"
      },
      {
        "duration": 19,
        "start_time": "2022-12-20T15:42:42.679Z"
      },
      {
        "duration": 32,
        "start_time": "2022-12-20T15:42:42.700Z"
      },
      {
        "duration": 218,
        "start_time": "2022-12-20T15:42:42.734Z"
      },
      {
        "duration": 28330,
        "start_time": "2022-12-20T15:42:42.954Z"
      },
      {
        "duration": 597,
        "start_time": "2022-12-20T15:43:11.286Z"
      },
      {
        "duration": 102,
        "start_time": "2022-12-20T15:43:11.886Z"
      },
      {
        "duration": 199,
        "start_time": "2022-12-20T15:43:11.990Z"
      },
      {
        "duration": 14141,
        "start_time": "2022-12-20T15:43:12.191Z"
      },
      {
        "duration": 348,
        "start_time": "2022-12-20T15:43:26.334Z"
      },
      {
        "duration": 337,
        "start_time": "2022-12-20T15:43:26.684Z"
      },
      {
        "duration": 131,
        "start_time": "2022-12-20T15:43:27.023Z"
      },
      {
        "duration": 6,
        "start_time": "2022-12-20T15:43:27.156Z"
      },
      {
        "duration": 74,
        "start_time": "2022-12-20T15:48:44.483Z"
      },
      {
        "duration": 247,
        "start_time": "2022-12-20T15:48:56.036Z"
      },
      {
        "duration": 1468,
        "start_time": "2022-12-20T15:52:16.889Z"
      },
      {
        "duration": 61,
        "start_time": "2022-12-20T15:52:18.360Z"
      },
      {
        "duration": 22,
        "start_time": "2022-12-20T15:52:18.423Z"
      },
      {
        "duration": 38,
        "start_time": "2022-12-20T15:52:18.448Z"
      },
      {
        "duration": 33,
        "start_time": "2022-12-20T15:52:18.489Z"
      },
      {
        "duration": 37,
        "start_time": "2022-12-20T15:52:18.524Z"
      },
      {
        "duration": 29,
        "start_time": "2022-12-20T15:52:18.564Z"
      },
      {
        "duration": 97,
        "start_time": "2022-12-20T15:52:18.596Z"
      },
      {
        "duration": 61,
        "start_time": "2022-12-20T15:52:18.695Z"
      },
      {
        "duration": 104,
        "start_time": "2022-12-20T15:52:18.759Z"
      },
      {
        "duration": 207,
        "start_time": "2022-12-20T15:52:18.865Z"
      },
      {
        "duration": 8,
        "start_time": "2022-12-20T15:52:19.077Z"
      },
      {
        "duration": 56,
        "start_time": "2022-12-20T15:52:19.087Z"
      },
      {
        "duration": 29,
        "start_time": "2022-12-20T15:52:19.146Z"
      },
      {
        "duration": 47,
        "start_time": "2022-12-20T15:52:19.177Z"
      },
      {
        "duration": 32,
        "start_time": "2022-12-20T15:52:19.226Z"
      },
      {
        "duration": 24,
        "start_time": "2022-12-20T15:52:19.260Z"
      },
      {
        "duration": 16,
        "start_time": "2022-12-20T15:52:19.286Z"
      },
      {
        "duration": 32,
        "start_time": "2022-12-20T15:52:19.304Z"
      },
      {
        "duration": 27,
        "start_time": "2022-12-20T15:52:19.338Z"
      },
      {
        "duration": 222,
        "start_time": "2022-12-20T15:52:19.368Z"
      },
      {
        "duration": 5209,
        "start_time": "2022-12-20T15:52:19.592Z"
      },
      {
        "duration": 780,
        "start_time": "2022-12-20T15:52:24.803Z"
      },
      {
        "duration": 437,
        "start_time": "2022-12-20T15:52:25.585Z"
      },
      {
        "duration": 5443,
        "start_time": "2022-12-20T15:52:26.025Z"
      },
      {
        "duration": 909,
        "start_time": "2022-12-20T15:52:31.470Z"
      },
      {
        "duration": 97,
        "start_time": "2022-12-20T15:52:32.381Z"
      },
      {
        "duration": 32,
        "start_time": "2022-12-20T15:52:32.482Z"
      },
      {
        "duration": 68,
        "start_time": "2022-12-20T15:52:32.516Z"
      },
      {
        "duration": 288,
        "start_time": "2022-12-20T15:52:32.586Z"
      },
      {
        "duration": 31263,
        "start_time": "2022-12-20T15:52:32.877Z"
      },
      {
        "duration": 735,
        "start_time": "2022-12-20T15:53:04.143Z"
      },
      {
        "duration": 98,
        "start_time": "2022-12-20T15:53:04.886Z"
      },
      {
        "duration": 200,
        "start_time": "2022-12-20T15:53:04.986Z"
      },
      {
        "duration": 14563,
        "start_time": "2022-12-20T15:53:05.189Z"
      },
      {
        "duration": 328,
        "start_time": "2022-12-20T15:53:19.754Z"
      },
      {
        "duration": 421,
        "start_time": "2022-12-20T15:53:20.084Z"
      },
      {
        "duration": 148,
        "start_time": "2022-12-20T15:53:20.507Z"
      },
      {
        "duration": 21,
        "start_time": "2022-12-20T15:53:20.657Z"
      },
      {
        "duration": 384,
        "start_time": "2022-12-20T16:02:51.800Z"
      },
      {
        "duration": 1372,
        "start_time": "2022-12-20T16:03:05.510Z"
      },
      {
        "duration": 53,
        "start_time": "2022-12-20T16:03:06.885Z"
      },
      {
        "duration": 17,
        "start_time": "2022-12-20T16:03:06.940Z"
      },
      {
        "duration": 12,
        "start_time": "2022-12-20T16:03:06.959Z"
      },
      {
        "duration": 14,
        "start_time": "2022-12-20T16:03:06.974Z"
      },
      {
        "duration": 6,
        "start_time": "2022-12-20T16:03:06.990Z"
      },
      {
        "duration": 7,
        "start_time": "2022-12-20T16:03:06.998Z"
      },
      {
        "duration": 7,
        "start_time": "2022-12-20T16:03:07.006Z"
      },
      {
        "duration": 8,
        "start_time": "2022-12-20T16:03:07.015Z"
      },
      {
        "duration": 8,
        "start_time": "2022-12-20T16:03:07.025Z"
      },
      {
        "duration": 135,
        "start_time": "2022-12-20T16:03:07.035Z"
      },
      {
        "duration": 10,
        "start_time": "2022-12-20T16:03:07.172Z"
      },
      {
        "duration": 22,
        "start_time": "2022-12-20T16:03:07.183Z"
      },
      {
        "duration": 6,
        "start_time": "2022-12-20T16:03:07.208Z"
      },
      {
        "duration": 9,
        "start_time": "2022-12-20T16:03:07.216Z"
      },
      {
        "duration": 12,
        "start_time": "2022-12-20T16:03:07.227Z"
      },
      {
        "duration": 14,
        "start_time": "2022-12-20T16:03:07.241Z"
      },
      {
        "duration": 5,
        "start_time": "2022-12-20T16:03:07.256Z"
      },
      {
        "duration": 16,
        "start_time": "2022-12-20T16:03:07.263Z"
      },
      {
        "duration": 13,
        "start_time": "2022-12-20T16:03:07.281Z"
      },
      {
        "duration": 218,
        "start_time": "2022-12-20T16:03:07.296Z"
      },
      {
        "duration": 4949,
        "start_time": "2022-12-20T16:03:07.516Z"
      },
      {
        "duration": 611,
        "start_time": "2022-12-20T16:03:12.467Z"
      },
      {
        "duration": 323,
        "start_time": "2022-12-20T16:03:13.081Z"
      },
      {
        "duration": 4947,
        "start_time": "2022-12-20T16:03:13.406Z"
      },
      {
        "duration": 631,
        "start_time": "2022-12-20T16:03:18.356Z"
      },
      {
        "duration": 96,
        "start_time": "2022-12-20T16:03:18.990Z"
      },
      {
        "duration": 106,
        "start_time": "2022-12-20T16:03:19.089Z"
      },
      {
        "duration": 17,
        "start_time": "2022-12-20T16:03:19.197Z"
      },
      {
        "duration": 289,
        "start_time": "2022-12-20T16:03:19.216Z"
      },
      {
        "duration": 28534,
        "start_time": "2022-12-20T16:03:19.507Z"
      },
      {
        "duration": 446,
        "start_time": "2022-12-20T16:03:48.042Z"
      },
      {
        "duration": 99,
        "start_time": "2022-12-20T16:03:48.579Z"
      },
      {
        "duration": 128,
        "start_time": "2022-12-20T16:03:48.681Z"
      },
      {
        "duration": 13881,
        "start_time": "2022-12-20T16:03:48.811Z"
      },
      {
        "duration": 96,
        "start_time": "2022-12-20T16:04:02.694Z"
      },
      {
        "duration": 826,
        "start_time": "2022-12-20T16:04:02.878Z"
      },
      {
        "duration": 166,
        "start_time": "2022-12-20T16:04:03.706Z"
      },
      {
        "duration": 7,
        "start_time": "2022-12-20T16:04:03.874Z"
      },
      {
        "duration": 50,
        "start_time": "2022-12-20T16:11:11.183Z"
      },
      {
        "duration": 162,
        "start_time": "2022-12-20T16:11:24.270Z"
      },
      {
        "duration": 14,
        "start_time": "2022-12-20T16:15:05.858Z"
      },
      {
        "duration": 4,
        "start_time": "2022-12-20T16:15:31.373Z"
      },
      {
        "duration": 13,
        "start_time": "2022-12-20T16:15:54.982Z"
      },
      {
        "duration": 205,
        "start_time": "2022-12-20T16:18:17.728Z"
      },
      {
        "duration": 4272,
        "start_time": "2022-12-20T16:20:40.233Z"
      },
      {
        "duration": 322,
        "start_time": "2022-12-20T16:22:18.469Z"
      },
      {
        "duration": 205,
        "start_time": "2022-12-20T16:24:39.095Z"
      },
      {
        "duration": 4816,
        "start_time": "2022-12-20T16:29:04.409Z"
      },
      {
        "duration": 1431,
        "start_time": "2022-12-20T16:29:32.393Z"
      },
      {
        "duration": 58,
        "start_time": "2022-12-20T16:29:33.827Z"
      },
      {
        "duration": 18,
        "start_time": "2022-12-20T16:29:33.887Z"
      },
      {
        "duration": 14,
        "start_time": "2022-12-20T16:29:33.908Z"
      },
      {
        "duration": 14,
        "start_time": "2022-12-20T16:29:33.924Z"
      },
      {
        "duration": 6,
        "start_time": "2022-12-20T16:29:33.940Z"
      },
      {
        "duration": 34,
        "start_time": "2022-12-20T16:29:33.947Z"
      },
      {
        "duration": 13,
        "start_time": "2022-12-20T16:29:33.983Z"
      },
      {
        "duration": 15,
        "start_time": "2022-12-20T16:29:33.997Z"
      },
      {
        "duration": 9,
        "start_time": "2022-12-20T16:29:34.015Z"
      },
      {
        "duration": 124,
        "start_time": "2022-12-20T16:29:34.026Z"
      },
      {
        "duration": 7,
        "start_time": "2022-12-20T16:29:34.151Z"
      },
      {
        "duration": 20,
        "start_time": "2022-12-20T16:29:34.160Z"
      },
      {
        "duration": 6,
        "start_time": "2022-12-20T16:29:34.182Z"
      },
      {
        "duration": 7,
        "start_time": "2022-12-20T16:29:34.189Z"
      },
      {
        "duration": 12,
        "start_time": "2022-12-20T16:29:34.197Z"
      },
      {
        "duration": 10,
        "start_time": "2022-12-20T16:29:34.211Z"
      },
      {
        "duration": 5,
        "start_time": "2022-12-20T16:29:34.222Z"
      },
      {
        "duration": 8,
        "start_time": "2022-12-20T16:29:34.228Z"
      },
      {
        "duration": 45,
        "start_time": "2022-12-20T16:29:34.237Z"
      },
      {
        "duration": 187,
        "start_time": "2022-12-20T16:29:34.283Z"
      },
      {
        "duration": 4141,
        "start_time": "2022-12-20T16:29:34.478Z"
      },
      {
        "duration": 461,
        "start_time": "2022-12-20T16:29:38.621Z"
      },
      {
        "duration": 366,
        "start_time": "2022-12-20T16:29:39.084Z"
      },
      {
        "duration": 4299,
        "start_time": "2022-12-20T16:29:39.452Z"
      },
      {
        "duration": 125,
        "start_time": "2022-12-20T16:29:43.752Z"
      },
      {
        "duration": 0,
        "start_time": "2022-12-20T16:29:43.880Z"
      },
      {
        "duration": 0,
        "start_time": "2022-12-20T16:29:43.881Z"
      },
      {
        "duration": 0,
        "start_time": "2022-12-20T16:29:43.882Z"
      },
      {
        "duration": 0,
        "start_time": "2022-12-20T16:29:43.883Z"
      },
      {
        "duration": 0,
        "start_time": "2022-12-20T16:29:43.885Z"
      },
      {
        "duration": 0,
        "start_time": "2022-12-20T16:29:43.887Z"
      },
      {
        "duration": 0,
        "start_time": "2022-12-20T16:29:43.888Z"
      },
      {
        "duration": 0,
        "start_time": "2022-12-20T16:29:43.890Z"
      },
      {
        "duration": 0,
        "start_time": "2022-12-20T16:29:43.891Z"
      },
      {
        "duration": 0,
        "start_time": "2022-12-20T16:29:43.892Z"
      },
      {
        "duration": 1,
        "start_time": "2022-12-20T16:29:43.893Z"
      },
      {
        "duration": 0,
        "start_time": "2022-12-20T16:29:43.894Z"
      },
      {
        "duration": 0,
        "start_time": "2022-12-20T16:29:43.896Z"
      },
      {
        "duration": 417,
        "start_time": "2022-12-20T16:34:40.165Z"
      },
      {
        "duration": 14,
        "start_time": "2022-12-20T16:35:28.713Z"
      },
      {
        "duration": 1342,
        "start_time": "2022-12-20T16:38:02.387Z"
      },
      {
        "duration": 53,
        "start_time": "2022-12-20T16:38:03.732Z"
      },
      {
        "duration": 18,
        "start_time": "2022-12-20T16:38:03.787Z"
      },
      {
        "duration": 23,
        "start_time": "2022-12-20T16:38:03.806Z"
      },
      {
        "duration": 15,
        "start_time": "2022-12-20T16:38:03.832Z"
      },
      {
        "duration": 11,
        "start_time": "2022-12-20T16:38:03.849Z"
      },
      {
        "duration": 8,
        "start_time": "2022-12-20T16:38:03.862Z"
      },
      {
        "duration": 13,
        "start_time": "2022-12-20T16:38:03.878Z"
      },
      {
        "duration": 11,
        "start_time": "2022-12-20T16:38:03.892Z"
      },
      {
        "duration": 9,
        "start_time": "2022-12-20T16:38:03.905Z"
      },
      {
        "duration": 125,
        "start_time": "2022-12-20T16:38:03.916Z"
      },
      {
        "duration": 7,
        "start_time": "2022-12-20T16:38:04.043Z"
      },
      {
        "duration": 29,
        "start_time": "2022-12-20T16:38:04.052Z"
      },
      {
        "duration": 7,
        "start_time": "2022-12-20T16:38:04.086Z"
      },
      {
        "duration": 11,
        "start_time": "2022-12-20T16:38:04.095Z"
      },
      {
        "duration": 15,
        "start_time": "2022-12-20T16:38:04.108Z"
      },
      {
        "duration": 12,
        "start_time": "2022-12-20T16:38:04.125Z"
      },
      {
        "duration": 6,
        "start_time": "2022-12-20T16:38:04.139Z"
      },
      {
        "duration": 31,
        "start_time": "2022-12-20T16:38:04.147Z"
      },
      {
        "duration": 14,
        "start_time": "2022-12-20T16:38:04.180Z"
      },
      {
        "duration": 196,
        "start_time": "2022-12-20T16:38:04.196Z"
      },
      {
        "duration": 4207,
        "start_time": "2022-12-20T16:38:04.394Z"
      },
      {
        "duration": 582,
        "start_time": "2022-12-20T16:38:08.603Z"
      },
      {
        "duration": 269,
        "start_time": "2022-12-20T16:38:09.277Z"
      },
      {
        "duration": 4395,
        "start_time": "2022-12-20T16:38:09.548Z"
      },
      {
        "duration": 534,
        "start_time": "2022-12-20T16:38:13.944Z"
      },
      {
        "duration": 106,
        "start_time": "2022-12-20T16:38:14.480Z"
      },
      {
        "duration": 236,
        "start_time": "2022-12-20T16:38:14.588Z"
      },
      {
        "duration": 28381,
        "start_time": "2022-12-20T16:38:14.826Z"
      },
      {
        "duration": 373,
        "start_time": "2022-12-20T16:38:43.209Z"
      },
      {
        "duration": 99,
        "start_time": "2022-12-20T16:38:43.584Z"
      },
      {
        "duration": 183,
        "start_time": "2022-12-20T16:38:43.686Z"
      },
      {
        "duration": 13886,
        "start_time": "2022-12-20T16:38:43.877Z"
      },
      {
        "duration": 213,
        "start_time": "2022-12-20T16:38:57.765Z"
      },
      {
        "duration": 200,
        "start_time": "2022-12-20T16:38:57.980Z"
      },
      {
        "duration": 0,
        "start_time": "2022-12-20T16:38:58.182Z"
      },
      {
        "duration": 0,
        "start_time": "2022-12-20T16:38:58.183Z"
      },
      {
        "duration": 11,
        "start_time": "2022-12-20T16:54:33.421Z"
      },
      {
        "duration": 11,
        "start_time": "2022-12-20T16:55:00.105Z"
      },
      {
        "duration": 201,
        "start_time": "2022-12-20T16:55:14.920Z"
      },
      {
        "duration": 645,
        "start_time": "2022-12-20T16:55:58.680Z"
      },
      {
        "duration": 10,
        "start_time": "2022-12-20T16:56:30.809Z"
      },
      {
        "duration": 157,
        "start_time": "2022-12-20T16:56:40.411Z"
      },
      {
        "duration": 7,
        "start_time": "2022-12-20T16:56:43.177Z"
      },
      {
        "duration": 1362,
        "start_time": "2022-12-20T16:56:58.461Z"
      },
      {
        "duration": 60,
        "start_time": "2022-12-20T16:56:59.825Z"
      },
      {
        "duration": 19,
        "start_time": "2022-12-20T16:56:59.887Z"
      },
      {
        "duration": 27,
        "start_time": "2022-12-20T16:56:59.908Z"
      },
      {
        "duration": 32,
        "start_time": "2022-12-20T16:56:59.937Z"
      },
      {
        "duration": 17,
        "start_time": "2022-12-20T16:56:59.971Z"
      },
      {
        "duration": 30,
        "start_time": "2022-12-20T16:56:59.989Z"
      },
      {
        "duration": 27,
        "start_time": "2022-12-20T16:57:00.021Z"
      },
      {
        "duration": 34,
        "start_time": "2022-12-20T16:57:00.050Z"
      },
      {
        "duration": 26,
        "start_time": "2022-12-20T16:57:00.087Z"
      },
      {
        "duration": 149,
        "start_time": "2022-12-20T16:57:00.115Z"
      },
      {
        "duration": 7,
        "start_time": "2022-12-20T16:57:00.266Z"
      },
      {
        "duration": 28,
        "start_time": "2022-12-20T16:57:00.277Z"
      },
      {
        "duration": 17,
        "start_time": "2022-12-20T16:57:00.307Z"
      },
      {
        "duration": 20,
        "start_time": "2022-12-20T16:57:00.326Z"
      },
      {
        "duration": 48,
        "start_time": "2022-12-20T16:57:00.348Z"
      },
      {
        "duration": 36,
        "start_time": "2022-12-20T16:57:00.398Z"
      },
      {
        "duration": 27,
        "start_time": "2022-12-20T16:57:00.436Z"
      },
      {
        "duration": 28,
        "start_time": "2022-12-20T16:57:00.464Z"
      },
      {
        "duration": 40,
        "start_time": "2022-12-20T16:57:00.494Z"
      },
      {
        "duration": 197,
        "start_time": "2022-12-20T16:57:00.536Z"
      },
      {
        "duration": 4357,
        "start_time": "2022-12-20T16:57:00.735Z"
      },
      {
        "duration": 488,
        "start_time": "2022-12-20T16:57:05.094Z"
      },
      {
        "duration": 397,
        "start_time": "2022-12-20T16:57:05.585Z"
      },
      {
        "duration": 4232,
        "start_time": "2022-12-20T16:57:05.984Z"
      },
      {
        "duration": 368,
        "start_time": "2022-12-20T16:57:10.217Z"
      },
      {
        "duration": 191,
        "start_time": "2022-12-20T16:57:10.587Z"
      },
      {
        "duration": 239,
        "start_time": "2022-12-20T16:57:10.782Z"
      },
      {
        "duration": 28289,
        "start_time": "2022-12-20T16:57:11.023Z"
      },
      {
        "duration": 665,
        "start_time": "2022-12-20T16:57:39.314Z"
      },
      {
        "duration": 96,
        "start_time": "2022-12-20T16:57:39.986Z"
      },
      {
        "duration": 117,
        "start_time": "2022-12-20T16:57:40.084Z"
      },
      {
        "duration": 14122,
        "start_time": "2022-12-20T16:57:40.203Z"
      },
      {
        "duration": 355,
        "start_time": "2022-12-20T16:57:54.327Z"
      },
      {
        "duration": 260,
        "start_time": "2022-12-20T16:57:54.684Z"
      },
      {
        "duration": 148,
        "start_time": "2022-12-20T16:57:54.945Z"
      },
      {
        "duration": 8,
        "start_time": "2022-12-20T16:57:55.094Z"
      },
      {
        "duration": 46,
        "start_time": "2022-12-20T17:00:40.127Z"
      },
      {
        "duration": 210,
        "start_time": "2022-12-20T17:01:07.064Z"
      },
      {
        "duration": 1354,
        "start_time": "2022-12-20T17:01:43.180Z"
      },
      {
        "duration": 56,
        "start_time": "2022-12-20T17:01:44.536Z"
      },
      {
        "duration": 17,
        "start_time": "2022-12-20T17:01:44.593Z"
      },
      {
        "duration": 27,
        "start_time": "2022-12-20T17:01:44.612Z"
      },
      {
        "duration": 15,
        "start_time": "2022-12-20T17:01:44.641Z"
      },
      {
        "duration": 31,
        "start_time": "2022-12-20T17:01:44.657Z"
      },
      {
        "duration": 11,
        "start_time": "2022-12-20T17:01:44.690Z"
      },
      {
        "duration": 20,
        "start_time": "2022-12-20T17:01:44.703Z"
      },
      {
        "duration": 25,
        "start_time": "2022-12-20T17:01:44.725Z"
      },
      {
        "duration": 14,
        "start_time": "2022-12-20T17:01:44.753Z"
      },
      {
        "duration": 122,
        "start_time": "2022-12-20T17:01:44.769Z"
      },
      {
        "duration": 6,
        "start_time": "2022-12-20T17:01:44.893Z"
      },
      {
        "duration": 21,
        "start_time": "2022-12-20T17:01:44.901Z"
      },
      {
        "duration": 22,
        "start_time": "2022-12-20T17:01:44.924Z"
      },
      {
        "duration": 8,
        "start_time": "2022-12-20T17:01:44.947Z"
      },
      {
        "duration": 15,
        "start_time": "2022-12-20T17:01:44.957Z"
      },
      {
        "duration": 10,
        "start_time": "2022-12-20T17:01:44.974Z"
      },
      {
        "duration": 5,
        "start_time": "2022-12-20T17:01:44.986Z"
      },
      {
        "duration": 5,
        "start_time": "2022-12-20T17:01:44.993Z"
      },
      {
        "duration": 14,
        "start_time": "2022-12-20T17:01:44.999Z"
      },
      {
        "duration": 194,
        "start_time": "2022-12-20T17:01:45.015Z"
      },
      {
        "duration": 4259,
        "start_time": "2022-12-20T17:01:45.210Z"
      },
      {
        "duration": 512,
        "start_time": "2022-12-20T17:01:49.470Z"
      },
      {
        "duration": 351,
        "start_time": "2022-12-20T17:01:49.984Z"
      },
      {
        "duration": 4270,
        "start_time": "2022-12-20T17:01:50.337Z"
      },
      {
        "duration": 473,
        "start_time": "2022-12-20T17:01:54.609Z"
      },
      {
        "duration": 102,
        "start_time": "2022-12-20T17:01:55.084Z"
      },
      {
        "duration": 297,
        "start_time": "2022-12-20T17:01:55.189Z"
      },
      {
        "duration": 28728,
        "start_time": "2022-12-20T17:01:55.488Z"
      },
      {
        "duration": 560,
        "start_time": "2022-12-20T17:02:24.218Z"
      },
      {
        "duration": 99,
        "start_time": "2022-12-20T17:02:24.781Z"
      },
      {
        "duration": 123,
        "start_time": "2022-12-20T17:02:24.881Z"
      },
      {
        "duration": 13712,
        "start_time": "2022-12-20T17:02:25.005Z"
      },
      {
        "duration": 267,
        "start_time": "2022-12-20T17:02:38.718Z"
      },
      {
        "duration": 392,
        "start_time": "2022-12-20T17:02:38.987Z"
      },
      {
        "duration": 146,
        "start_time": "2022-12-20T17:02:39.381Z"
      },
      {
        "duration": 6,
        "start_time": "2022-12-20T17:02:39.528Z"
      },
      {
        "duration": 227,
        "start_time": "2022-12-20T17:04:38.843Z"
      },
      {
        "duration": 602,
        "start_time": "2022-12-20T17:04:58.921Z"
      },
      {
        "duration": 1359,
        "start_time": "2022-12-20T17:05:18.724Z"
      },
      {
        "duration": 55,
        "start_time": "2022-12-20T17:05:20.085Z"
      },
      {
        "duration": 18,
        "start_time": "2022-12-20T17:05:20.142Z"
      },
      {
        "duration": 13,
        "start_time": "2022-12-20T17:05:20.161Z"
      },
      {
        "duration": 13,
        "start_time": "2022-12-20T17:05:20.177Z"
      },
      {
        "duration": 6,
        "start_time": "2022-12-20T17:05:20.192Z"
      },
      {
        "duration": 7,
        "start_time": "2022-12-20T17:05:20.199Z"
      },
      {
        "duration": 9,
        "start_time": "2022-12-20T17:05:20.208Z"
      },
      {
        "duration": 10,
        "start_time": "2022-12-20T17:05:20.218Z"
      },
      {
        "duration": 8,
        "start_time": "2022-12-20T17:05:20.229Z"
      },
      {
        "duration": 136,
        "start_time": "2022-12-20T17:05:20.239Z"
      },
      {
        "duration": 6,
        "start_time": "2022-12-20T17:05:20.378Z"
      },
      {
        "duration": 18,
        "start_time": "2022-12-20T17:05:20.385Z"
      },
      {
        "duration": 6,
        "start_time": "2022-12-20T17:05:20.406Z"
      },
      {
        "duration": 7,
        "start_time": "2022-12-20T17:05:20.413Z"
      },
      {
        "duration": 12,
        "start_time": "2022-12-20T17:05:20.422Z"
      },
      {
        "duration": 10,
        "start_time": "2022-12-20T17:05:20.435Z"
      },
      {
        "duration": 5,
        "start_time": "2022-12-20T17:05:20.447Z"
      },
      {
        "duration": 4,
        "start_time": "2022-12-20T17:05:20.478Z"
      },
      {
        "duration": 15,
        "start_time": "2022-12-20T17:05:20.484Z"
      },
      {
        "duration": 201,
        "start_time": "2022-12-20T17:05:20.501Z"
      },
      {
        "duration": 4047,
        "start_time": "2022-12-20T17:05:20.704Z"
      },
      {
        "duration": 333,
        "start_time": "2022-12-20T17:05:24.753Z"
      },
      {
        "duration": 285,
        "start_time": "2022-12-20T17:05:25.179Z"
      },
      {
        "duration": 4240,
        "start_time": "2022-12-20T17:05:25.466Z"
      },
      {
        "duration": 470,
        "start_time": "2022-12-20T17:05:29.708Z"
      },
      {
        "duration": 104,
        "start_time": "2022-12-20T17:05:30.184Z"
      },
      {
        "duration": 228,
        "start_time": "2022-12-20T17:05:30.290Z"
      },
      {
        "duration": 27757,
        "start_time": "2022-12-20T17:05:30.520Z"
      },
      {
        "duration": 499,
        "start_time": "2022-12-20T17:05:58.279Z"
      },
      {
        "duration": 97,
        "start_time": "2022-12-20T17:05:58.781Z"
      },
      {
        "duration": 130,
        "start_time": "2022-12-20T17:05:58.880Z"
      },
      {
        "duration": 13737,
        "start_time": "2022-12-20T17:05:59.012Z"
      },
      {
        "duration": 234,
        "start_time": "2022-12-20T17:06:12.751Z"
      },
      {
        "duration": 336,
        "start_time": "2022-12-20T17:06:12.987Z"
      },
      {
        "duration": 160,
        "start_time": "2022-12-20T17:06:13.325Z"
      },
      {
        "duration": 7,
        "start_time": "2022-12-20T17:06:13.486Z"
      },
      {
        "duration": 229,
        "start_time": "2022-12-20T17:07:22.288Z"
      },
      {
        "duration": 1367,
        "start_time": "2022-12-20T17:07:41.647Z"
      },
      {
        "duration": 58,
        "start_time": "2022-12-20T17:07:43.016Z"
      },
      {
        "duration": 18,
        "start_time": "2022-12-20T17:07:43.076Z"
      },
      {
        "duration": 31,
        "start_time": "2022-12-20T17:07:43.096Z"
      },
      {
        "duration": 26,
        "start_time": "2022-12-20T17:07:43.129Z"
      },
      {
        "duration": 27,
        "start_time": "2022-12-20T17:07:43.156Z"
      },
      {
        "duration": 21,
        "start_time": "2022-12-20T17:07:43.184Z"
      },
      {
        "duration": 22,
        "start_time": "2022-12-20T17:07:43.207Z"
      },
      {
        "duration": 32,
        "start_time": "2022-12-20T17:07:43.231Z"
      },
      {
        "duration": 21,
        "start_time": "2022-12-20T17:07:43.266Z"
      },
      {
        "duration": 131,
        "start_time": "2022-12-20T17:07:43.288Z"
      },
      {
        "duration": 7,
        "start_time": "2022-12-20T17:07:43.421Z"
      },
      {
        "duration": 16,
        "start_time": "2022-12-20T17:07:43.429Z"
      },
      {
        "duration": 24,
        "start_time": "2022-12-20T17:07:43.447Z"
      },
      {
        "duration": 14,
        "start_time": "2022-12-20T17:07:43.472Z"
      },
      {
        "duration": 20,
        "start_time": "2022-12-20T17:07:43.488Z"
      },
      {
        "duration": 17,
        "start_time": "2022-12-20T17:07:43.510Z"
      },
      {
        "duration": 9,
        "start_time": "2022-12-20T17:07:43.529Z"
      },
      {
        "duration": 26,
        "start_time": "2022-12-20T17:07:43.539Z"
      },
      {
        "duration": 40,
        "start_time": "2022-12-20T17:07:43.567Z"
      },
      {
        "duration": 196,
        "start_time": "2022-12-20T17:07:43.609Z"
      },
      {
        "duration": 4231,
        "start_time": "2022-12-20T17:07:43.807Z"
      },
      {
        "duration": 544,
        "start_time": "2022-12-20T17:07:48.040Z"
      },
      {
        "duration": 381,
        "start_time": "2022-12-20T17:07:48.586Z"
      },
      {
        "duration": 4229,
        "start_time": "2022-12-20T17:07:48.969Z"
      },
      {
        "duration": 586,
        "start_time": "2022-12-20T17:07:53.200Z"
      },
      {
        "duration": 102,
        "start_time": "2022-12-20T17:07:53.879Z"
      },
      {
        "duration": 256,
        "start_time": "2022-12-20T17:07:53.985Z"
      },
      {
        "duration": 28643,
        "start_time": "2022-12-20T17:07:54.243Z"
      },
      {
        "duration": 691,
        "start_time": "2022-12-20T17:08:22.887Z"
      },
      {
        "duration": 98,
        "start_time": "2022-12-20T17:08:23.580Z"
      },
      {
        "duration": 113,
        "start_time": "2022-12-20T17:08:23.680Z"
      },
      {
        "duration": 13819,
        "start_time": "2022-12-20T17:08:23.794Z"
      },
      {
        "duration": 363,
        "start_time": "2022-12-20T17:08:37.616Z"
      },
      {
        "duration": 280,
        "start_time": "2022-12-20T17:08:37.981Z"
      },
      {
        "duration": 180,
        "start_time": "2022-12-20T17:08:38.263Z"
      },
      {
        "duration": 8,
        "start_time": "2022-12-20T17:08:38.445Z"
      },
      {
        "duration": 288,
        "start_time": "2022-12-20T17:09:38.982Z"
      },
      {
        "duration": 14063,
        "start_time": "2022-12-21T13:03:03.903Z"
      },
      {
        "duration": 44,
        "start_time": "2022-12-21T13:03:52.520Z"
      },
      {
        "duration": 2553,
        "start_time": "2022-12-21T13:05:17.362Z"
      },
      {
        "duration": 1553,
        "start_time": "2022-12-21T13:05:19.917Z"
      },
      {
        "duration": 178,
        "start_time": "2022-12-21T13:05:21.472Z"
      },
      {
        "duration": 16,
        "start_time": "2022-12-21T13:05:21.652Z"
      },
      {
        "duration": 53,
        "start_time": "2022-12-21T13:05:21.670Z"
      },
      {
        "duration": 120,
        "start_time": "2022-12-21T13:05:21.725Z"
      },
      {
        "duration": 0,
        "start_time": "2022-12-21T13:05:21.847Z"
      },
      {
        "duration": 0,
        "start_time": "2022-12-21T13:05:21.849Z"
      },
      {
        "duration": 0,
        "start_time": "2022-12-21T13:05:21.850Z"
      },
      {
        "duration": 0,
        "start_time": "2022-12-21T13:05:21.851Z"
      },
      {
        "duration": 0,
        "start_time": "2022-12-21T13:05:21.852Z"
      },
      {
        "duration": 0,
        "start_time": "2022-12-21T13:05:21.853Z"
      },
      {
        "duration": 0,
        "start_time": "2022-12-21T13:05:21.855Z"
      },
      {
        "duration": 0,
        "start_time": "2022-12-21T13:05:21.856Z"
      },
      {
        "duration": 0,
        "start_time": "2022-12-21T13:05:21.858Z"
      },
      {
        "duration": 0,
        "start_time": "2022-12-21T13:05:21.860Z"
      },
      {
        "duration": 0,
        "start_time": "2022-12-21T13:05:21.862Z"
      },
      {
        "duration": 0,
        "start_time": "2022-12-21T13:05:21.863Z"
      },
      {
        "duration": 0,
        "start_time": "2022-12-21T13:05:21.865Z"
      },
      {
        "duration": 0,
        "start_time": "2022-12-21T13:05:21.866Z"
      },
      {
        "duration": 0,
        "start_time": "2022-12-21T13:05:21.868Z"
      },
      {
        "duration": 0,
        "start_time": "2022-12-21T13:05:21.869Z"
      },
      {
        "duration": 0,
        "start_time": "2022-12-21T13:05:21.870Z"
      },
      {
        "duration": 0,
        "start_time": "2022-12-21T13:05:21.872Z"
      },
      {
        "duration": 0,
        "start_time": "2022-12-21T13:05:21.873Z"
      },
      {
        "duration": 0,
        "start_time": "2022-12-21T13:05:21.875Z"
      },
      {
        "duration": 0,
        "start_time": "2022-12-21T13:05:21.876Z"
      },
      {
        "duration": 0,
        "start_time": "2022-12-21T13:05:21.877Z"
      },
      {
        "duration": 0,
        "start_time": "2022-12-21T13:05:21.878Z"
      },
      {
        "duration": 0,
        "start_time": "2022-12-21T13:05:21.880Z"
      },
      {
        "duration": 0,
        "start_time": "2022-12-21T13:05:21.881Z"
      },
      {
        "duration": 0,
        "start_time": "2022-12-21T13:05:21.938Z"
      },
      {
        "duration": 0,
        "start_time": "2022-12-21T13:05:21.939Z"
      },
      {
        "duration": 0,
        "start_time": "2022-12-21T13:05:21.940Z"
      },
      {
        "duration": 0,
        "start_time": "2022-12-21T13:05:21.941Z"
      },
      {
        "duration": 0,
        "start_time": "2022-12-21T13:05:21.943Z"
      },
      {
        "duration": 0,
        "start_time": "2022-12-21T13:05:21.944Z"
      },
      {
        "duration": 0,
        "start_time": "2022-12-21T13:05:21.947Z"
      },
      {
        "duration": 0,
        "start_time": "2022-12-21T13:05:21.948Z"
      },
      {
        "duration": 693,
        "start_time": "2022-12-21T14:01:45.892Z"
      },
      {
        "duration": 2375,
        "start_time": "2022-12-21T14:02:31.187Z"
      },
      {
        "duration": 17525,
        "start_time": "2022-12-21T14:04:10.819Z"
      },
      {
        "duration": 85,
        "start_time": "2022-12-21T14:16:48.247Z"
      },
      {
        "duration": 2014,
        "start_time": "2022-12-21T14:17:11.200Z"
      },
      {
        "duration": 63,
        "start_time": "2022-12-21T14:17:13.216Z"
      },
      {
        "duration": 18,
        "start_time": "2022-12-21T14:17:13.280Z"
      },
      {
        "duration": 18,
        "start_time": "2022-12-21T14:17:13.301Z"
      },
      {
        "duration": 18702,
        "start_time": "2022-12-21T14:17:13.321Z"
      },
      {
        "duration": 20,
        "start_time": "2022-12-21T14:17:32.024Z"
      },
      {
        "duration": 28,
        "start_time": "2022-12-21T14:17:32.046Z"
      },
      {
        "duration": 65,
        "start_time": "2022-12-21T14:17:32.076Z"
      },
      {
        "duration": 6,
        "start_time": "2022-12-21T14:17:32.143Z"
      },
      {
        "duration": 15,
        "start_time": "2022-12-21T14:17:32.151Z"
      },
      {
        "duration": 12,
        "start_time": "2022-12-21T14:17:32.168Z"
      },
      {
        "duration": 506,
        "start_time": "2022-12-21T14:17:32.182Z"
      },
      {
        "duration": 6,
        "start_time": "2022-12-21T14:17:32.690Z"
      },
      {
        "duration": 38,
        "start_time": "2022-12-21T14:17:32.697Z"
      },
      {
        "duration": 9,
        "start_time": "2022-12-21T14:17:32.738Z"
      },
      {
        "duration": 8,
        "start_time": "2022-12-21T14:17:32.749Z"
      },
      {
        "duration": 28,
        "start_time": "2022-12-21T14:17:32.759Z"
      },
      {
        "duration": 6,
        "start_time": "2022-12-21T14:17:32.788Z"
      },
      {
        "duration": 14,
        "start_time": "2022-12-21T14:17:32.795Z"
      },
      {
        "duration": 7,
        "start_time": "2022-12-21T14:17:32.811Z"
      },
      {
        "duration": 7,
        "start_time": "2022-12-21T14:17:32.819Z"
      },
      {
        "duration": 18,
        "start_time": "2022-12-21T14:17:32.828Z"
      },
      {
        "duration": 192,
        "start_time": "2022-12-21T14:17:32.847Z"
      },
      {
        "duration": 4288,
        "start_time": "2022-12-21T14:17:33.041Z"
      },
      {
        "duration": 698,
        "start_time": "2022-12-21T14:17:37.339Z"
      },
      {
        "duration": 299,
        "start_time": "2022-12-21T14:17:38.039Z"
      },
      {
        "duration": 4277,
        "start_time": "2022-12-21T14:17:38.340Z"
      },
      {
        "duration": 719,
        "start_time": "2022-12-21T14:17:42.620Z"
      },
      {
        "duration": 104,
        "start_time": "2022-12-21T14:17:43.341Z"
      },
      {
        "duration": 244,
        "start_time": "2022-12-21T14:17:43.447Z"
      },
      {
        "duration": 29363,
        "start_time": "2022-12-21T14:17:43.693Z"
      },
      {
        "duration": 787,
        "start_time": "2022-12-21T14:18:13.058Z"
      },
      {
        "duration": 97,
        "start_time": "2022-12-21T14:18:13.848Z"
      },
      {
        "duration": 189,
        "start_time": "2022-12-21T14:18:13.948Z"
      },
      {
        "duration": 14120,
        "start_time": "2022-12-21T14:18:14.139Z"
      },
      {
        "duration": 679,
        "start_time": "2022-12-21T14:18:28.260Z"
      },
      {
        "duration": 399,
        "start_time": "2022-12-21T14:18:28.946Z"
      },
      {
        "duration": 147,
        "start_time": "2022-12-21T14:18:29.346Z"
      },
      {
        "duration": 7,
        "start_time": "2022-12-21T14:18:29.495Z"
      },
      {
        "duration": 11,
        "start_time": "2022-12-21T14:18:38.211Z"
      },
      {
        "duration": 11,
        "start_time": "2022-12-21T14:19:31.952Z"
      },
      {
        "duration": 12,
        "start_time": "2022-12-21T14:22:23.075Z"
      },
      {
        "duration": 89,
        "start_time": "2022-12-21T14:24:18.542Z"
      },
      {
        "duration": 79,
        "start_time": "2022-12-21T14:25:42.745Z"
      },
      {
        "duration": 12,
        "start_time": "2022-12-21T14:27:36.174Z"
      },
      {
        "duration": 2401,
        "start_time": "2022-12-21T14:27:45.564Z"
      },
      {
        "duration": 61,
        "start_time": "2022-12-21T14:27:47.967Z"
      },
      {
        "duration": 19,
        "start_time": "2022-12-21T14:27:48.030Z"
      },
      {
        "duration": 15,
        "start_time": "2022-12-21T14:27:48.051Z"
      },
      {
        "duration": 17904,
        "start_time": "2022-12-21T14:27:48.068Z"
      },
      {
        "duration": 17,
        "start_time": "2022-12-21T14:28:05.974Z"
      },
      {
        "duration": 44,
        "start_time": "2022-12-21T14:28:05.993Z"
      },
      {
        "duration": 14,
        "start_time": "2022-12-21T14:28:06.040Z"
      },
      {
        "duration": 38,
        "start_time": "2022-12-21T14:28:06.056Z"
      },
      {
        "duration": 48,
        "start_time": "2022-12-21T14:28:06.096Z"
      },
      {
        "duration": 50,
        "start_time": "2022-12-21T14:28:06.146Z"
      },
      {
        "duration": 483,
        "start_time": "2022-12-21T14:28:06.198Z"
      },
      {
        "duration": 7,
        "start_time": "2022-12-21T14:28:06.683Z"
      },
      {
        "duration": 36,
        "start_time": "2022-12-21T14:28:06.693Z"
      },
      {
        "duration": 40,
        "start_time": "2022-12-21T14:28:06.731Z"
      },
      {
        "duration": 34,
        "start_time": "2022-12-21T14:28:06.773Z"
      },
      {
        "duration": 31,
        "start_time": "2022-12-21T14:28:06.809Z"
      },
      {
        "duration": 46,
        "start_time": "2022-12-21T14:28:06.841Z"
      },
      {
        "duration": 38,
        "start_time": "2022-12-21T14:28:06.889Z"
      },
      {
        "duration": 32,
        "start_time": "2022-12-21T14:28:06.928Z"
      },
      {
        "duration": 34,
        "start_time": "2022-12-21T14:28:06.962Z"
      },
      {
        "duration": 183,
        "start_time": "2022-12-21T14:28:06.998Z"
      },
      {
        "duration": 4132,
        "start_time": "2022-12-21T14:28:07.183Z"
      },
      {
        "duration": 128,
        "start_time": "2022-12-21T14:28:11.316Z"
      },
      {
        "duration": 264,
        "start_time": "2022-12-21T14:28:11.539Z"
      },
      {
        "duration": 4069,
        "start_time": "2022-12-21T14:28:11.804Z"
      },
      {
        "duration": 169,
        "start_time": "2022-12-21T14:28:15.875Z"
      },
      {
        "duration": 364,
        "start_time": "2022-12-21T14:28:16.046Z"
      },
      {
        "duration": 0,
        "start_time": "2022-12-21T14:28:16.411Z"
      },
      {
        "duration": 1,
        "start_time": "2022-12-21T14:28:16.412Z"
      },
      {
        "duration": 0,
        "start_time": "2022-12-21T14:28:16.413Z"
      },
      {
        "duration": 0,
        "start_time": "2022-12-21T14:28:16.415Z"
      },
      {
        "duration": 0,
        "start_time": "2022-12-21T14:28:16.415Z"
      },
      {
        "duration": 0,
        "start_time": "2022-12-21T14:28:16.417Z"
      },
      {
        "duration": 0,
        "start_time": "2022-12-21T14:28:16.417Z"
      },
      {
        "duration": 0,
        "start_time": "2022-12-21T14:28:16.418Z"
      },
      {
        "duration": 0,
        "start_time": "2022-12-21T14:28:16.419Z"
      },
      {
        "duration": 0,
        "start_time": "2022-12-21T14:28:16.420Z"
      },
      {
        "duration": 2056,
        "start_time": "2022-12-21T14:35:03.998Z"
      },
      {
        "duration": 61,
        "start_time": "2022-12-21T14:35:06.056Z"
      },
      {
        "duration": 19,
        "start_time": "2022-12-21T14:35:06.119Z"
      },
      {
        "duration": 20,
        "start_time": "2022-12-21T14:35:06.140Z"
      },
      {
        "duration": 18633,
        "start_time": "2022-12-21T14:35:06.162Z"
      },
      {
        "duration": 16,
        "start_time": "2022-12-21T14:35:24.798Z"
      },
      {
        "duration": 29,
        "start_time": "2022-12-21T14:35:24.815Z"
      },
      {
        "duration": 41,
        "start_time": "2022-12-21T14:35:24.845Z"
      },
      {
        "duration": 26,
        "start_time": "2022-12-21T14:35:24.887Z"
      },
      {
        "duration": 34,
        "start_time": "2022-12-21T14:35:24.915Z"
      },
      {
        "duration": 24,
        "start_time": "2022-12-21T14:35:24.951Z"
      },
      {
        "duration": 509,
        "start_time": "2022-12-21T14:35:24.977Z"
      },
      {
        "duration": 6,
        "start_time": "2022-12-21T14:35:25.488Z"
      },
      {
        "duration": 32,
        "start_time": "2022-12-21T14:35:25.497Z"
      },
      {
        "duration": 31,
        "start_time": "2022-12-21T14:35:25.531Z"
      },
      {
        "duration": 6,
        "start_time": "2022-12-21T14:35:25.564Z"
      },
      {
        "duration": 25,
        "start_time": "2022-12-21T14:35:25.571Z"
      },
      {
        "duration": 30,
        "start_time": "2022-12-21T14:35:25.598Z"
      },
      {
        "duration": 18,
        "start_time": "2022-12-21T14:35:25.630Z"
      },
      {
        "duration": 44,
        "start_time": "2022-12-21T14:35:25.650Z"
      },
      {
        "duration": 24,
        "start_time": "2022-12-21T14:35:25.696Z"
      },
      {
        "duration": 185,
        "start_time": "2022-12-21T14:35:25.722Z"
      },
      {
        "duration": 4074,
        "start_time": "2022-12-21T14:35:25.909Z"
      },
      {
        "duration": 159,
        "start_time": "2022-12-21T14:35:29.986Z"
      },
      {
        "duration": 171,
        "start_time": "2022-12-21T14:35:30.236Z"
      },
      {
        "duration": 4102,
        "start_time": "2022-12-21T14:35:30.409Z"
      },
      {
        "duration": 133,
        "start_time": "2022-12-21T14:35:34.513Z"
      },
      {
        "duration": 280,
        "start_time": "2022-12-21T14:35:34.739Z"
      },
      {
        "duration": 0,
        "start_time": "2022-12-21T14:35:35.021Z"
      },
      {
        "duration": 0,
        "start_time": "2022-12-21T14:35:35.024Z"
      },
      {
        "duration": 0,
        "start_time": "2022-12-21T14:35:35.025Z"
      },
      {
        "duration": 0,
        "start_time": "2022-12-21T14:35:35.027Z"
      },
      {
        "duration": 0,
        "start_time": "2022-12-21T14:35:35.037Z"
      },
      {
        "duration": 0,
        "start_time": "2022-12-21T14:35:35.038Z"
      },
      {
        "duration": 0,
        "start_time": "2022-12-21T14:35:35.042Z"
      },
      {
        "duration": 0,
        "start_time": "2022-12-21T14:35:35.044Z"
      },
      {
        "duration": 0,
        "start_time": "2022-12-21T14:35:35.045Z"
      },
      {
        "duration": 0,
        "start_time": "2022-12-21T14:35:35.047Z"
      },
      {
        "duration": 16,
        "start_time": "2022-12-21T14:37:36.881Z"
      },
      {
        "duration": 16,
        "start_time": "2022-12-21T14:39:19.008Z"
      },
      {
        "duration": 13,
        "start_time": "2022-12-21T14:39:24.603Z"
      },
      {
        "duration": 6,
        "start_time": "2022-12-21T14:43:57.566Z"
      },
      {
        "duration": 10,
        "start_time": "2022-12-21T14:44:36.256Z"
      },
      {
        "duration": 2099,
        "start_time": "2022-12-21T14:44:43.553Z"
      },
      {
        "duration": 62,
        "start_time": "2022-12-21T14:44:45.655Z"
      },
      {
        "duration": 20,
        "start_time": "2022-12-21T14:44:45.719Z"
      },
      {
        "duration": 22,
        "start_time": "2022-12-21T14:44:45.742Z"
      },
      {
        "duration": 18145,
        "start_time": "2022-12-21T14:44:45.767Z"
      },
      {
        "duration": 24,
        "start_time": "2022-12-21T14:45:03.914Z"
      },
      {
        "duration": 13,
        "start_time": "2022-12-21T14:45:03.940Z"
      },
      {
        "duration": 10,
        "start_time": "2022-12-21T14:45:03.956Z"
      },
      {
        "duration": 7,
        "start_time": "2022-12-21T14:45:03.972Z"
      },
      {
        "duration": 60,
        "start_time": "2022-12-21T14:45:03.982Z"
      },
      {
        "duration": 8,
        "start_time": "2022-12-21T14:45:04.045Z"
      },
      {
        "duration": 522,
        "start_time": "2022-12-21T14:45:04.055Z"
      },
      {
        "duration": 7,
        "start_time": "2022-12-21T14:45:04.579Z"
      },
      {
        "duration": 28,
        "start_time": "2022-12-21T14:45:04.587Z"
      },
      {
        "duration": 11,
        "start_time": "2022-12-21T14:45:04.617Z"
      },
      {
        "duration": 13,
        "start_time": "2022-12-21T14:45:04.630Z"
      },
      {
        "duration": 20,
        "start_time": "2022-12-21T14:45:04.644Z"
      },
      {
        "duration": 11,
        "start_time": "2022-12-21T14:45:04.666Z"
      },
      {
        "duration": 20,
        "start_time": "2022-12-21T14:45:04.679Z"
      },
      {
        "duration": 13,
        "start_time": "2022-12-21T14:45:04.701Z"
      },
      {
        "duration": 5,
        "start_time": "2022-12-21T14:45:04.716Z"
      },
      {
        "duration": 182,
        "start_time": "2022-12-21T14:45:04.723Z"
      },
      {
        "duration": 4191,
        "start_time": "2022-12-21T14:45:04.907Z"
      },
      {
        "duration": 144,
        "start_time": "2022-12-21T14:45:09.100Z"
      },
      {
        "duration": 359,
        "start_time": "2022-12-21T14:45:09.247Z"
      },
      {
        "duration": 4343,
        "start_time": "2022-12-21T14:45:09.608Z"
      },
      {
        "duration": 190,
        "start_time": "2022-12-21T14:45:13.953Z"
      },
      {
        "duration": 359,
        "start_time": "2022-12-21T14:45:14.148Z"
      },
      {
        "duration": 0,
        "start_time": "2022-12-21T14:45:14.510Z"
      },
      {
        "duration": 0,
        "start_time": "2022-12-21T14:45:14.511Z"
      },
      {
        "duration": 0,
        "start_time": "2022-12-21T14:45:14.513Z"
      },
      {
        "duration": 0,
        "start_time": "2022-12-21T14:45:14.515Z"
      },
      {
        "duration": 0,
        "start_time": "2022-12-21T14:45:14.517Z"
      },
      {
        "duration": 0,
        "start_time": "2022-12-21T14:45:14.519Z"
      },
      {
        "duration": 0,
        "start_time": "2022-12-21T14:45:14.520Z"
      },
      {
        "duration": 0,
        "start_time": "2022-12-21T14:45:14.538Z"
      },
      {
        "duration": 0,
        "start_time": "2022-12-21T14:45:14.540Z"
      },
      {
        "duration": 0,
        "start_time": "2022-12-21T14:45:14.541Z"
      },
      {
        "duration": 25,
        "start_time": "2022-12-21T14:48:02.405Z"
      },
      {
        "duration": 5,
        "start_time": "2022-12-21T14:48:42.975Z"
      },
      {
        "duration": 9,
        "start_time": "2022-12-21T14:52:41.444Z"
      },
      {
        "duration": 2088,
        "start_time": "2022-12-21T14:52:54.899Z"
      },
      {
        "duration": 64,
        "start_time": "2022-12-21T14:52:56.989Z"
      },
      {
        "duration": 20,
        "start_time": "2022-12-21T14:52:57.055Z"
      },
      {
        "duration": 41,
        "start_time": "2022-12-21T14:52:57.077Z"
      },
      {
        "duration": 17742,
        "start_time": "2022-12-21T14:52:57.121Z"
      },
      {
        "duration": 15,
        "start_time": "2022-12-21T14:53:14.865Z"
      },
      {
        "duration": 25,
        "start_time": "2022-12-21T14:53:14.881Z"
      },
      {
        "duration": 41,
        "start_time": "2022-12-21T14:53:14.908Z"
      },
      {
        "duration": 19,
        "start_time": "2022-12-21T14:53:14.950Z"
      },
      {
        "duration": 31,
        "start_time": "2022-12-21T14:53:14.971Z"
      },
      {
        "duration": 35,
        "start_time": "2022-12-21T14:53:15.004Z"
      },
      {
        "duration": 505,
        "start_time": "2022-12-21T14:53:15.041Z"
      },
      {
        "duration": 7,
        "start_time": "2022-12-21T14:53:15.548Z"
      },
      {
        "duration": 43,
        "start_time": "2022-12-21T14:53:15.559Z"
      },
      {
        "duration": 19,
        "start_time": "2022-12-21T14:53:15.604Z"
      },
      {
        "duration": 32,
        "start_time": "2022-12-21T14:53:15.624Z"
      },
      {
        "duration": 33,
        "start_time": "2022-12-21T14:53:15.658Z"
      },
      {
        "duration": 21,
        "start_time": "2022-12-21T14:53:15.693Z"
      },
      {
        "duration": 25,
        "start_time": "2022-12-21T14:53:15.716Z"
      },
      {
        "duration": 32,
        "start_time": "2022-12-21T14:53:15.743Z"
      },
      {
        "duration": 27,
        "start_time": "2022-12-21T14:53:15.778Z"
      },
      {
        "duration": 225,
        "start_time": "2022-12-21T14:53:15.806Z"
      },
      {
        "duration": 4536,
        "start_time": "2022-12-21T14:53:16.033Z"
      },
      {
        "duration": 174,
        "start_time": "2022-12-21T14:53:20.572Z"
      },
      {
        "duration": 307,
        "start_time": "2022-12-21T14:53:20.839Z"
      },
      {
        "duration": 4304,
        "start_time": "2022-12-21T14:53:21.148Z"
      },
      {
        "duration": 286,
        "start_time": "2022-12-21T14:53:25.453Z"
      },
      {
        "duration": 183,
        "start_time": "2022-12-21T14:53:25.741Z"
      },
      {
        "duration": 188,
        "start_time": "2022-12-21T14:53:25.925Z"
      },
      {
        "duration": 0,
        "start_time": "2022-12-21T14:53:26.115Z"
      },
      {
        "duration": 0,
        "start_time": "2022-12-21T14:53:26.116Z"
      },
      {
        "duration": 0,
        "start_time": "2022-12-21T14:53:26.118Z"
      },
      {
        "duration": 0,
        "start_time": "2022-12-21T14:53:26.120Z"
      },
      {
        "duration": 0,
        "start_time": "2022-12-21T14:53:26.121Z"
      },
      {
        "duration": 0,
        "start_time": "2022-12-21T14:53:26.122Z"
      },
      {
        "duration": 0,
        "start_time": "2022-12-21T14:53:26.138Z"
      },
      {
        "duration": 0,
        "start_time": "2022-12-21T14:53:26.140Z"
      },
      {
        "duration": 0,
        "start_time": "2022-12-21T14:53:26.143Z"
      },
      {
        "duration": 10,
        "start_time": "2022-12-21T14:55:09.047Z"
      },
      {
        "duration": 31,
        "start_time": "2022-12-21T14:55:13.292Z"
      },
      {
        "duration": 28,
        "start_time": "2022-12-21T14:57:14.666Z"
      },
      {
        "duration": 13,
        "start_time": "2022-12-21T15:00:54.156Z"
      },
      {
        "duration": 5,
        "start_time": "2022-12-21T15:01:15.522Z"
      },
      {
        "duration": 6,
        "start_time": "2022-12-21T15:01:17.466Z"
      },
      {
        "duration": 4278,
        "start_time": "2022-12-21T15:01:48.507Z"
      },
      {
        "duration": 1997,
        "start_time": "2022-12-21T15:01:59.274Z"
      },
      {
        "duration": 61,
        "start_time": "2022-12-21T15:02:01.273Z"
      },
      {
        "duration": 18,
        "start_time": "2022-12-21T15:02:01.336Z"
      },
      {
        "duration": 31,
        "start_time": "2022-12-21T15:02:01.355Z"
      },
      {
        "duration": 17752,
        "start_time": "2022-12-21T15:02:01.388Z"
      },
      {
        "duration": 19,
        "start_time": "2022-12-21T15:02:19.145Z"
      },
      {
        "duration": 16,
        "start_time": "2022-12-21T15:02:19.166Z"
      },
      {
        "duration": 59,
        "start_time": "2022-12-21T15:02:19.184Z"
      },
      {
        "duration": 8,
        "start_time": "2022-12-21T15:02:19.245Z"
      },
      {
        "duration": 16,
        "start_time": "2022-12-21T15:02:19.256Z"
      },
      {
        "duration": 67,
        "start_time": "2022-12-21T15:02:19.274Z"
      },
      {
        "duration": 487,
        "start_time": "2022-12-21T15:02:19.343Z"
      },
      {
        "duration": 8,
        "start_time": "2022-12-21T15:02:19.832Z"
      },
      {
        "duration": 10,
        "start_time": "2022-12-21T15:02:19.843Z"
      },
      {
        "duration": 6,
        "start_time": "2022-12-21T15:02:19.854Z"
      },
      {
        "duration": 5,
        "start_time": "2022-12-21T15:02:19.861Z"
      },
      {
        "duration": 12,
        "start_time": "2022-12-21T15:02:19.868Z"
      },
      {
        "duration": 5,
        "start_time": "2022-12-21T15:02:19.882Z"
      },
      {
        "duration": 15,
        "start_time": "2022-12-21T15:02:19.888Z"
      },
      {
        "duration": 40,
        "start_time": "2022-12-21T15:02:19.905Z"
      },
      {
        "duration": 5,
        "start_time": "2022-12-21T15:02:19.947Z"
      },
      {
        "duration": 166,
        "start_time": "2022-12-21T15:02:19.954Z"
      },
      {
        "duration": 4099,
        "start_time": "2022-12-21T15:02:20.122Z"
      },
      {
        "duration": 221,
        "start_time": "2022-12-21T15:02:24.222Z"
      },
      {
        "duration": 265,
        "start_time": "2022-12-21T15:02:24.446Z"
      },
      {
        "duration": 4114,
        "start_time": "2022-12-21T15:02:24.714Z"
      },
      {
        "duration": 212,
        "start_time": "2022-12-21T15:02:28.831Z"
      },
      {
        "duration": 369,
        "start_time": "2022-12-21T15:02:29.045Z"
      },
      {
        "duration": 0,
        "start_time": "2022-12-21T15:02:29.416Z"
      },
      {
        "duration": 0,
        "start_time": "2022-12-21T15:02:29.418Z"
      },
      {
        "duration": 0,
        "start_time": "2022-12-21T15:02:29.419Z"
      },
      {
        "duration": 0,
        "start_time": "2022-12-21T15:02:29.420Z"
      },
      {
        "duration": 0,
        "start_time": "2022-12-21T15:02:29.421Z"
      },
      {
        "duration": 0,
        "start_time": "2022-12-21T15:02:29.422Z"
      },
      {
        "duration": 0,
        "start_time": "2022-12-21T15:02:29.424Z"
      },
      {
        "duration": 0,
        "start_time": "2022-12-21T15:02:29.438Z"
      },
      {
        "duration": 0,
        "start_time": "2022-12-21T15:02:29.439Z"
      },
      {
        "duration": 0,
        "start_time": "2022-12-21T15:02:29.441Z"
      },
      {
        "duration": 71,
        "start_time": "2022-12-22T05:34:10.972Z"
      },
      {
        "duration": 15773,
        "start_time": "2022-12-22T05:34:50.475Z"
      },
      {
        "duration": 8,
        "start_time": "2022-12-22T06:10:42.539Z"
      },
      {
        "duration": 2441,
        "start_time": "2022-12-22T06:10:49.530Z"
      },
      {
        "duration": 152,
        "start_time": "2022-12-22T06:11:02.558Z"
      },
      {
        "duration": 2647,
        "start_time": "2022-12-22T06:11:15.597Z"
      },
      {
        "duration": 2182,
        "start_time": "2022-12-22T06:11:18.246Z"
      },
      {
        "duration": 151,
        "start_time": "2022-12-22T06:11:20.434Z"
      },
      {
        "duration": 20,
        "start_time": "2022-12-22T06:11:20.587Z"
      },
      {
        "duration": 15,
        "start_time": "2022-12-22T06:11:20.609Z"
      },
      {
        "duration": 19618,
        "start_time": "2022-12-22T06:11:20.626Z"
      },
      {
        "duration": 17,
        "start_time": "2022-12-22T06:11:40.248Z"
      },
      {
        "duration": 20,
        "start_time": "2022-12-22T06:11:40.267Z"
      },
      {
        "duration": 34,
        "start_time": "2022-12-22T06:11:40.288Z"
      },
      {
        "duration": 29,
        "start_time": "2022-12-22T06:11:40.325Z"
      },
      {
        "duration": 18,
        "start_time": "2022-12-22T06:11:40.356Z"
      },
      {
        "duration": 44,
        "start_time": "2022-12-22T06:11:40.376Z"
      },
      {
        "duration": 516,
        "start_time": "2022-12-22T06:11:40.421Z"
      },
      {
        "duration": 7,
        "start_time": "2022-12-22T06:11:40.940Z"
      },
      {
        "duration": 10,
        "start_time": "2022-12-22T06:11:40.949Z"
      },
      {
        "duration": 9,
        "start_time": "2022-12-22T06:11:40.961Z"
      },
      {
        "duration": 12,
        "start_time": "2022-12-22T06:11:40.972Z"
      },
      {
        "duration": 27,
        "start_time": "2022-12-22T06:11:40.985Z"
      },
      {
        "duration": 42,
        "start_time": "2022-12-22T06:11:41.014Z"
      },
      {
        "duration": 16,
        "start_time": "2022-12-22T06:11:41.059Z"
      },
      {
        "duration": 12,
        "start_time": "2022-12-22T06:11:41.077Z"
      },
      {
        "duration": 6,
        "start_time": "2022-12-22T06:11:41.091Z"
      },
      {
        "duration": 182,
        "start_time": "2022-12-22T06:11:41.099Z"
      },
      {
        "duration": 4488,
        "start_time": "2022-12-22T06:11:41.284Z"
      },
      {
        "duration": 169,
        "start_time": "2022-12-22T06:11:45.774Z"
      },
      {
        "duration": 339,
        "start_time": "2022-12-22T06:11:45.947Z"
      },
      {
        "duration": 4549,
        "start_time": "2022-12-22T06:11:46.287Z"
      },
      {
        "duration": 94,
        "start_time": "2022-12-22T06:11:50.841Z"
      },
      {
        "duration": 315,
        "start_time": "2022-12-22T06:11:51.015Z"
      },
      {
        "duration": 0,
        "start_time": "2022-12-22T06:11:51.336Z"
      },
      {
        "duration": 1,
        "start_time": "2022-12-22T06:11:51.341Z"
      },
      {
        "duration": 0,
        "start_time": "2022-12-22T06:11:51.344Z"
      },
      {
        "duration": 0,
        "start_time": "2022-12-22T06:11:51.346Z"
      },
      {
        "duration": 0,
        "start_time": "2022-12-22T06:11:51.347Z"
      },
      {
        "duration": 0,
        "start_time": "2022-12-22T06:11:51.348Z"
      },
      {
        "duration": 0,
        "start_time": "2022-12-22T06:11:51.350Z"
      },
      {
        "duration": 0,
        "start_time": "2022-12-22T06:11:51.351Z"
      },
      {
        "duration": 0,
        "start_time": "2022-12-22T06:11:51.352Z"
      },
      {
        "duration": 0,
        "start_time": "2022-12-22T06:11:51.353Z"
      },
      {
        "duration": 15,
        "start_time": "2022-12-22T06:16:30.552Z"
      },
      {
        "duration": 23,
        "start_time": "2022-12-22T06:17:36.334Z"
      },
      {
        "duration": 7,
        "start_time": "2022-12-22T06:17:49.584Z"
      },
      {
        "duration": 12,
        "start_time": "2022-12-22T06:18:39.138Z"
      },
      {
        "duration": 26,
        "start_time": "2022-12-22T06:19:14.268Z"
      },
      {
        "duration": 19,
        "start_time": "2022-12-22T06:19:39.110Z"
      },
      {
        "duration": 2558,
        "start_time": "2022-12-22T06:19:46.051Z"
      },
      {
        "duration": 2160,
        "start_time": "2022-12-22T06:19:48.613Z"
      },
      {
        "duration": 68,
        "start_time": "2022-12-22T06:19:50.775Z"
      },
      {
        "duration": 23,
        "start_time": "2022-12-22T06:19:50.845Z"
      },
      {
        "duration": 15,
        "start_time": "2022-12-22T06:19:50.871Z"
      },
      {
        "duration": 19874,
        "start_time": "2022-12-22T06:19:50.887Z"
      },
      {
        "duration": 16,
        "start_time": "2022-12-22T06:20:10.763Z"
      },
      {
        "duration": 22,
        "start_time": "2022-12-22T06:20:10.780Z"
      },
      {
        "duration": 47,
        "start_time": "2022-12-22T06:20:10.804Z"
      },
      {
        "duration": 20,
        "start_time": "2022-12-22T06:20:10.853Z"
      },
      {
        "duration": 41,
        "start_time": "2022-12-22T06:20:10.875Z"
      },
      {
        "duration": 43,
        "start_time": "2022-12-22T06:20:10.918Z"
      },
      {
        "duration": 526,
        "start_time": "2022-12-22T06:20:10.963Z"
      },
      {
        "duration": 6,
        "start_time": "2022-12-22T06:20:11.493Z"
      },
      {
        "duration": 37,
        "start_time": "2022-12-22T06:20:11.501Z"
      },
      {
        "duration": 37,
        "start_time": "2022-12-22T06:20:11.540Z"
      },
      {
        "duration": 30,
        "start_time": "2022-12-22T06:20:11.579Z"
      },
      {
        "duration": 37,
        "start_time": "2022-12-22T06:20:11.611Z"
      },
      {
        "duration": 26,
        "start_time": "2022-12-22T06:20:11.651Z"
      },
      {
        "duration": 26,
        "start_time": "2022-12-22T06:20:11.679Z"
      },
      {
        "duration": 229,
        "start_time": "2022-12-22T06:20:11.707Z"
      },
      {
        "duration": 0,
        "start_time": "2022-12-22T06:20:11.939Z"
      },
      {
        "duration": 0,
        "start_time": "2022-12-22T06:20:11.941Z"
      },
      {
        "duration": 0,
        "start_time": "2022-12-22T06:20:11.942Z"
      },
      {
        "duration": 0,
        "start_time": "2022-12-22T06:20:11.944Z"
      },
      {
        "duration": 0,
        "start_time": "2022-12-22T06:20:11.946Z"
      },
      {
        "duration": 0,
        "start_time": "2022-12-22T06:20:11.947Z"
      },
      {
        "duration": 0,
        "start_time": "2022-12-22T06:20:11.949Z"
      },
      {
        "duration": 0,
        "start_time": "2022-12-22T06:20:11.951Z"
      },
      {
        "duration": 0,
        "start_time": "2022-12-22T06:20:11.953Z"
      },
      {
        "duration": 0,
        "start_time": "2022-12-22T06:20:11.955Z"
      },
      {
        "duration": 0,
        "start_time": "2022-12-22T06:20:11.957Z"
      },
      {
        "duration": 0,
        "start_time": "2022-12-22T06:20:11.959Z"
      },
      {
        "duration": 0,
        "start_time": "2022-12-22T06:20:11.960Z"
      },
      {
        "duration": 0,
        "start_time": "2022-12-22T06:20:11.962Z"
      },
      {
        "duration": 0,
        "start_time": "2022-12-22T06:20:11.963Z"
      },
      {
        "duration": 0,
        "start_time": "2022-12-22T06:20:11.965Z"
      },
      {
        "duration": 0,
        "start_time": "2022-12-22T06:20:11.966Z"
      },
      {
        "duration": 0,
        "start_time": "2022-12-22T06:20:11.968Z"
      },
      {
        "duration": 8,
        "start_time": "2022-12-22T07:03:56.744Z"
      },
      {
        "duration": 2340,
        "start_time": "2022-12-22T07:04:18.521Z"
      },
      {
        "duration": 2012,
        "start_time": "2022-12-22T07:04:20.863Z"
      },
      {
        "duration": 63,
        "start_time": "2022-12-22T07:04:22.877Z"
      },
      {
        "duration": 19,
        "start_time": "2022-12-22T07:04:22.942Z"
      },
      {
        "duration": 14,
        "start_time": "2022-12-22T07:04:22.964Z"
      },
      {
        "duration": 18789,
        "start_time": "2022-12-22T07:04:22.980Z"
      },
      {
        "duration": 16,
        "start_time": "2022-12-22T07:04:41.772Z"
      },
      {
        "duration": 22,
        "start_time": "2022-12-22T07:04:41.790Z"
      },
      {
        "duration": 7,
        "start_time": "2022-12-22T07:04:41.814Z"
      },
      {
        "duration": 15,
        "start_time": "2022-12-22T07:04:41.823Z"
      },
      {
        "duration": 12,
        "start_time": "2022-12-22T07:04:41.840Z"
      },
      {
        "duration": 62,
        "start_time": "2022-12-22T07:04:41.855Z"
      },
      {
        "duration": 526,
        "start_time": "2022-12-22T07:04:41.919Z"
      },
      {
        "duration": 6,
        "start_time": "2022-12-22T07:04:42.450Z"
      },
      {
        "duration": 13,
        "start_time": "2022-12-22T07:04:42.458Z"
      },
      {
        "duration": 5,
        "start_time": "2022-12-22T07:04:42.473Z"
      },
      {
        "duration": 13,
        "start_time": "2022-12-22T07:04:42.480Z"
      },
      {
        "duration": 26,
        "start_time": "2022-12-22T07:04:42.495Z"
      },
      {
        "duration": 7,
        "start_time": "2022-12-22T07:04:42.523Z"
      },
      {
        "duration": 14,
        "start_time": "2022-12-22T07:04:42.532Z"
      },
      {
        "duration": 16,
        "start_time": "2022-12-22T07:04:42.548Z"
      },
      {
        "duration": 6,
        "start_time": "2022-12-22T07:04:42.566Z"
      },
      {
        "duration": 255,
        "start_time": "2022-12-22T07:04:42.574Z"
      },
      {
        "duration": 4807,
        "start_time": "2022-12-22T07:04:42.831Z"
      },
      {
        "duration": 88,
        "start_time": "2022-12-22T07:04:47.640Z"
      },
      {
        "duration": 377,
        "start_time": "2022-12-22T07:04:47.731Z"
      },
      {
        "duration": 4737,
        "start_time": "2022-12-22T07:04:48.112Z"
      },
      {
        "duration": 163,
        "start_time": "2022-12-22T07:04:52.851Z"
      },
      {
        "duration": 291,
        "start_time": "2022-12-22T07:04:53.018Z"
      },
      {
        "duration": 0,
        "start_time": "2022-12-22T07:04:53.312Z"
      },
      {
        "duration": 0,
        "start_time": "2022-12-22T07:04:53.314Z"
      },
      {
        "duration": 0,
        "start_time": "2022-12-22T07:04:53.315Z"
      },
      {
        "duration": 0,
        "start_time": "2022-12-22T07:04:53.316Z"
      },
      {
        "duration": 0,
        "start_time": "2022-12-22T07:04:53.318Z"
      },
      {
        "duration": 0,
        "start_time": "2022-12-22T07:04:53.320Z"
      },
      {
        "duration": 0,
        "start_time": "2022-12-22T07:04:53.321Z"
      },
      {
        "duration": 0,
        "start_time": "2022-12-22T07:04:53.323Z"
      },
      {
        "duration": 0,
        "start_time": "2022-12-22T07:04:53.324Z"
      },
      {
        "duration": 0,
        "start_time": "2022-12-22T07:04:53.326Z"
      },
      {
        "duration": 12,
        "start_time": "2022-12-22T07:44:29.859Z"
      },
      {
        "duration": 2424,
        "start_time": "2022-12-22T07:44:44.606Z"
      },
      {
        "duration": 2050,
        "start_time": "2022-12-22T07:44:47.033Z"
      },
      {
        "duration": 65,
        "start_time": "2022-12-22T07:44:49.085Z"
      },
      {
        "duration": 20,
        "start_time": "2022-12-22T07:44:49.152Z"
      },
      {
        "duration": 15,
        "start_time": "2022-12-22T07:44:49.174Z"
      },
      {
        "duration": 18742,
        "start_time": "2022-12-22T07:44:49.191Z"
      },
      {
        "duration": 16,
        "start_time": "2022-12-22T07:45:07.935Z"
      },
      {
        "duration": 8,
        "start_time": "2022-12-22T07:45:07.953Z"
      },
      {
        "duration": 12,
        "start_time": "2022-12-22T07:45:07.963Z"
      },
      {
        "duration": 36,
        "start_time": "2022-12-22T07:45:07.977Z"
      },
      {
        "duration": 8,
        "start_time": "2022-12-22T07:45:08.015Z"
      },
      {
        "duration": 22,
        "start_time": "2022-12-22T07:45:08.025Z"
      },
      {
        "duration": 568,
        "start_time": "2022-12-22T07:45:08.049Z"
      },
      {
        "duration": 7,
        "start_time": "2022-12-22T07:45:08.619Z"
      },
      {
        "duration": 20,
        "start_time": "2022-12-22T07:45:08.628Z"
      },
      {
        "duration": 12,
        "start_time": "2022-12-22T07:45:08.649Z"
      },
      {
        "duration": 7,
        "start_time": "2022-12-22T07:45:08.663Z"
      },
      {
        "duration": 17,
        "start_time": "2022-12-22T07:45:08.671Z"
      },
      {
        "duration": 8,
        "start_time": "2022-12-22T07:45:08.690Z"
      },
      {
        "duration": 42,
        "start_time": "2022-12-22T07:45:08.699Z"
      },
      {
        "duration": 17,
        "start_time": "2022-12-22T07:45:08.742Z"
      },
      {
        "duration": 7,
        "start_time": "2022-12-22T07:45:08.761Z"
      },
      {
        "duration": 186,
        "start_time": "2022-12-22T07:45:08.770Z"
      },
      {
        "duration": 4354,
        "start_time": "2022-12-22T07:45:08.958Z"
      },
      {
        "duration": 217,
        "start_time": "2022-12-22T07:45:13.314Z"
      },
      {
        "duration": 374,
        "start_time": "2022-12-22T07:45:13.534Z"
      },
      {
        "duration": 4539,
        "start_time": "2022-12-22T07:45:13.911Z"
      },
      {
        "duration": 76,
        "start_time": "2022-12-22T07:45:18.453Z"
      },
      {
        "duration": 219,
        "start_time": "2022-12-22T07:45:18.531Z"
      },
      {
        "duration": 301,
        "start_time": "2022-12-22T07:45:18.752Z"
      },
      {
        "duration": 32306,
        "start_time": "2022-12-22T07:45:19.055Z"
      },
      {
        "duration": 65,
        "start_time": "2022-12-22T07:45:51.363Z"
      },
      {
        "duration": 91,
        "start_time": "2022-12-22T07:45:51.430Z"
      },
      {
        "duration": 198,
        "start_time": "2022-12-22T07:45:51.524Z"
      },
      {
        "duration": 15552,
        "start_time": "2022-12-22T07:45:51.724Z"
      },
      {
        "duration": 338,
        "start_time": "2022-12-22T07:46:07.278Z"
      },
      {
        "duration": 272,
        "start_time": "2022-12-22T07:46:07.618Z"
      },
      {
        "duration": 169,
        "start_time": "2022-12-22T07:46:07.891Z"
      },
      {
        "duration": 6,
        "start_time": "2022-12-22T07:46:08.062Z"
      },
      {
        "duration": 2494,
        "start_time": "2022-12-22T07:53:54.112Z"
      },
      {
        "duration": 2063,
        "start_time": "2022-12-22T07:53:56.609Z"
      },
      {
        "duration": 65,
        "start_time": "2022-12-22T07:53:58.673Z"
      },
      {
        "duration": 18,
        "start_time": "2022-12-22T07:53:58.741Z"
      },
      {
        "duration": 17,
        "start_time": "2022-12-22T07:53:58.761Z"
      },
      {
        "duration": 19013,
        "start_time": "2022-12-22T07:53:58.779Z"
      },
      {
        "duration": 20,
        "start_time": "2022-12-22T07:54:17.794Z"
      },
      {
        "duration": 29,
        "start_time": "2022-12-22T07:54:17.815Z"
      },
      {
        "duration": 52,
        "start_time": "2022-12-22T07:54:17.846Z"
      },
      {
        "duration": 35,
        "start_time": "2022-12-22T07:54:17.901Z"
      },
      {
        "duration": 36,
        "start_time": "2022-12-22T07:54:17.938Z"
      },
      {
        "duration": 36,
        "start_time": "2022-12-22T07:54:17.975Z"
      },
      {
        "duration": 542,
        "start_time": "2022-12-22T07:54:18.015Z"
      },
      {
        "duration": 6,
        "start_time": "2022-12-22T07:54:18.559Z"
      },
      {
        "duration": 17,
        "start_time": "2022-12-22T07:54:18.567Z"
      },
      {
        "duration": 19,
        "start_time": "2022-12-22T07:54:18.585Z"
      },
      {
        "duration": 11,
        "start_time": "2022-12-22T07:54:18.605Z"
      },
      {
        "duration": 25,
        "start_time": "2022-12-22T07:54:18.618Z"
      },
      {
        "duration": 24,
        "start_time": "2022-12-22T07:54:18.645Z"
      },
      {
        "duration": 17,
        "start_time": "2022-12-22T07:54:18.671Z"
      },
      {
        "duration": 22,
        "start_time": "2022-12-22T07:54:18.689Z"
      },
      {
        "duration": 9,
        "start_time": "2022-12-22T07:54:18.713Z"
      },
      {
        "duration": 195,
        "start_time": "2022-12-22T07:54:18.725Z"
      },
      {
        "duration": 4357,
        "start_time": "2022-12-22T07:54:18.922Z"
      },
      {
        "duration": 131,
        "start_time": "2022-12-22T07:54:23.281Z"
      },
      {
        "duration": 295,
        "start_time": "2022-12-22T07:54:23.415Z"
      },
      {
        "duration": 4689,
        "start_time": "2022-12-22T07:54:23.713Z"
      },
      {
        "duration": 105,
        "start_time": "2022-12-22T07:54:28.412Z"
      },
      {
        "duration": 213,
        "start_time": "2022-12-22T07:54:28.519Z"
      },
      {
        "duration": 239,
        "start_time": "2022-12-22T07:54:28.734Z"
      },
      {
        "duration": 30270,
        "start_time": "2022-12-22T07:54:28.975Z"
      },
      {
        "duration": 267,
        "start_time": "2022-12-22T07:54:59.247Z"
      },
      {
        "duration": 104,
        "start_time": "2022-12-22T07:54:59.515Z"
      },
      {
        "duration": 110,
        "start_time": "2022-12-22T07:54:59.621Z"
      },
      {
        "duration": 14448,
        "start_time": "2022-12-22T07:54:59.733Z"
      },
      {
        "duration": 130,
        "start_time": "2022-12-22T07:55:14.183Z"
      },
      {
        "duration": 480,
        "start_time": "2022-12-22T07:55:14.315Z"
      },
      {
        "duration": 168,
        "start_time": "2022-12-22T07:55:14.797Z"
      },
      {
        "duration": 7,
        "start_time": "2022-12-22T07:55:14.967Z"
      },
      {
        "duration": 2301,
        "start_time": "2022-12-22T07:56:38.267Z"
      },
      {
        "duration": 2027,
        "start_time": "2022-12-22T07:56:40.570Z"
      },
      {
        "duration": 63,
        "start_time": "2022-12-22T07:56:42.598Z"
      },
      {
        "duration": 19,
        "start_time": "2022-12-22T07:56:42.664Z"
      },
      {
        "duration": 16,
        "start_time": "2022-12-22T07:56:42.684Z"
      },
      {
        "duration": 18247,
        "start_time": "2022-12-22T07:56:42.702Z"
      },
      {
        "duration": 17,
        "start_time": "2022-12-22T07:57:00.951Z"
      },
      {
        "duration": 43,
        "start_time": "2022-12-22T07:57:00.969Z"
      },
      {
        "duration": 31,
        "start_time": "2022-12-22T07:57:01.014Z"
      },
      {
        "duration": 24,
        "start_time": "2022-12-22T07:57:01.048Z"
      },
      {
        "duration": 28,
        "start_time": "2022-12-22T07:57:01.073Z"
      },
      {
        "duration": 27,
        "start_time": "2022-12-22T07:57:01.103Z"
      },
      {
        "duration": 537,
        "start_time": "2022-12-22T07:57:01.132Z"
      },
      {
        "duration": 7,
        "start_time": "2022-12-22T07:57:01.671Z"
      },
      {
        "duration": 37,
        "start_time": "2022-12-22T07:57:01.681Z"
      },
      {
        "duration": 51,
        "start_time": "2022-12-22T07:57:01.720Z"
      },
      {
        "duration": 15,
        "start_time": "2022-12-22T07:57:01.773Z"
      },
      {
        "duration": 40,
        "start_time": "2022-12-22T07:57:01.790Z"
      },
      {
        "duration": 32,
        "start_time": "2022-12-22T07:57:01.832Z"
      },
      {
        "duration": 43,
        "start_time": "2022-12-22T07:57:01.866Z"
      },
      {
        "duration": 38,
        "start_time": "2022-12-22T07:57:01.911Z"
      },
      {
        "duration": 29,
        "start_time": "2022-12-22T07:57:01.951Z"
      },
      {
        "duration": 203,
        "start_time": "2022-12-22T07:57:01.982Z"
      },
      {
        "duration": 4442,
        "start_time": "2022-12-22T07:57:02.187Z"
      },
      {
        "duration": 91,
        "start_time": "2022-12-22T07:57:06.631Z"
      },
      {
        "duration": 288,
        "start_time": "2022-12-22T07:57:06.817Z"
      },
      {
        "duration": 4177,
        "start_time": "2022-12-22T07:57:07.111Z"
      },
      {
        "duration": 129,
        "start_time": "2022-12-22T07:57:11.291Z"
      },
      {
        "duration": 101,
        "start_time": "2022-12-22T07:57:11.511Z"
      },
      {
        "duration": 236,
        "start_time": "2022-12-22T07:57:11.614Z"
      },
      {
        "duration": 29952,
        "start_time": "2022-12-22T07:57:11.851Z"
      },
      {
        "duration": 116,
        "start_time": "2022-12-22T07:57:41.805Z"
      },
      {
        "duration": 98,
        "start_time": "2022-12-22T07:57:42.014Z"
      },
      {
        "duration": 119,
        "start_time": "2022-12-22T07:57:42.114Z"
      },
      {
        "duration": 14379,
        "start_time": "2022-12-22T07:57:42.235Z"
      },
      {
        "duration": 101,
        "start_time": "2022-12-22T07:57:56.616Z"
      },
      {
        "duration": 334,
        "start_time": "2022-12-22T07:57:56.719Z"
      },
      {
        "duration": 149,
        "start_time": "2022-12-22T07:57:57.054Z"
      },
      {
        "duration": 12,
        "start_time": "2022-12-22T07:57:57.205Z"
      },
      {
        "duration": 20,
        "start_time": "2022-12-22T07:57:57.220Z"
      },
      {
        "duration": 13,
        "start_time": "2022-12-22T08:02:06.710Z"
      },
      {
        "duration": 175,
        "start_time": "2022-12-22T08:02:36.598Z"
      },
      {
        "duration": 14,
        "start_time": "2022-12-22T08:02:45.479Z"
      },
      {
        "duration": 23,
        "start_time": "2022-12-22T08:04:18.143Z"
      },
      {
        "duration": 17,
        "start_time": "2022-12-22T08:05:54.943Z"
      },
      {
        "duration": 8,
        "start_time": "2022-12-22T08:06:26.262Z"
      },
      {
        "duration": 19,
        "start_time": "2022-12-22T08:07:51.923Z"
      },
      {
        "duration": 13,
        "start_time": "2022-12-22T08:08:44.416Z"
      },
      {
        "duration": 20,
        "start_time": "2022-12-22T08:08:46.558Z"
      },
      {
        "duration": 13,
        "start_time": "2022-12-22T08:08:54.496Z"
      },
      {
        "duration": 2372,
        "start_time": "2022-12-22T08:09:27.339Z"
      },
      {
        "duration": 2134,
        "start_time": "2022-12-22T08:09:29.714Z"
      },
      {
        "duration": 63,
        "start_time": "2022-12-22T08:09:31.850Z"
      },
      {
        "duration": 19,
        "start_time": "2022-12-22T08:09:31.915Z"
      },
      {
        "duration": 32,
        "start_time": "2022-12-22T08:09:31.936Z"
      },
      {
        "duration": 19053,
        "start_time": "2022-12-22T08:09:31.971Z"
      },
      {
        "duration": 19,
        "start_time": "2022-12-22T08:09:51.027Z"
      },
      {
        "duration": 6,
        "start_time": "2022-12-22T08:09:51.048Z"
      },
      {
        "duration": 15,
        "start_time": "2022-12-22T08:09:51.056Z"
      },
      {
        "duration": 43,
        "start_time": "2022-12-22T08:09:51.074Z"
      },
      {
        "duration": 11,
        "start_time": "2022-12-22T08:09:51.119Z"
      },
      {
        "duration": 11,
        "start_time": "2022-12-22T08:09:51.132Z"
      },
      {
        "duration": 567,
        "start_time": "2022-12-22T08:09:51.145Z"
      },
      {
        "duration": 7,
        "start_time": "2022-12-22T08:09:51.713Z"
      },
      {
        "duration": 15,
        "start_time": "2022-12-22T08:09:51.721Z"
      },
      {
        "duration": 6,
        "start_time": "2022-12-22T08:09:51.738Z"
      },
      {
        "duration": 6,
        "start_time": "2022-12-22T08:09:51.745Z"
      },
      {
        "duration": 15,
        "start_time": "2022-12-22T08:09:51.753Z"
      },
      {
        "duration": 7,
        "start_time": "2022-12-22T08:09:51.770Z"
      },
      {
        "duration": 41,
        "start_time": "2022-12-22T08:09:51.778Z"
      },
      {
        "duration": 16,
        "start_time": "2022-12-22T08:09:51.821Z"
      },
      {
        "duration": 13,
        "start_time": "2022-12-22T08:09:51.839Z"
      },
      {
        "duration": 19,
        "start_time": "2022-12-22T08:09:51.854Z"
      },
      {
        "duration": 220,
        "start_time": "2022-12-22T08:09:51.876Z"
      },
      {
        "duration": 0,
        "start_time": "2022-12-22T08:09:52.098Z"
      },
      {
        "duration": 0,
        "start_time": "2022-12-22T08:09:52.099Z"
      },
      {
        "duration": 0,
        "start_time": "2022-12-22T08:09:52.100Z"
      },
      {
        "duration": 0,
        "start_time": "2022-12-22T08:09:52.102Z"
      },
      {
        "duration": 0,
        "start_time": "2022-12-22T08:09:52.103Z"
      },
      {
        "duration": 0,
        "start_time": "2022-12-22T08:09:52.113Z"
      },
      {
        "duration": 0,
        "start_time": "2022-12-22T08:09:52.115Z"
      },
      {
        "duration": 0,
        "start_time": "2022-12-22T08:09:52.116Z"
      },
      {
        "duration": 0,
        "start_time": "2022-12-22T08:09:52.118Z"
      },
      {
        "duration": 0,
        "start_time": "2022-12-22T08:09:52.120Z"
      },
      {
        "duration": 0,
        "start_time": "2022-12-22T08:09:52.121Z"
      },
      {
        "duration": 0,
        "start_time": "2022-12-22T08:09:52.123Z"
      },
      {
        "duration": 0,
        "start_time": "2022-12-22T08:09:52.123Z"
      },
      {
        "duration": 0,
        "start_time": "2022-12-22T08:09:52.125Z"
      },
      {
        "duration": 0,
        "start_time": "2022-12-22T08:09:52.126Z"
      },
      {
        "duration": 0,
        "start_time": "2022-12-22T08:09:52.127Z"
      },
      {
        "duration": 13,
        "start_time": "2022-12-22T08:13:55.941Z"
      },
      {
        "duration": 13,
        "start_time": "2022-12-22T08:13:59.876Z"
      },
      {
        "duration": 14,
        "start_time": "2022-12-22T08:14:02.190Z"
      },
      {
        "duration": 13,
        "start_time": "2022-12-22T08:14:11.105Z"
      },
      {
        "duration": 2334,
        "start_time": "2022-12-22T08:15:15.047Z"
      },
      {
        "duration": 2167,
        "start_time": "2022-12-22T08:15:17.384Z"
      },
      {
        "duration": 60,
        "start_time": "2022-12-22T08:15:19.554Z"
      },
      {
        "duration": 20,
        "start_time": "2022-12-22T08:15:19.617Z"
      },
      {
        "duration": 34,
        "start_time": "2022-12-22T08:15:19.639Z"
      },
      {
        "duration": 19201,
        "start_time": "2022-12-22T08:15:19.676Z"
      },
      {
        "duration": 14,
        "start_time": "2022-12-22T08:15:38.882Z"
      },
      {
        "duration": 22,
        "start_time": "2022-12-22T08:15:38.898Z"
      },
      {
        "duration": 19,
        "start_time": "2022-12-22T08:15:38.922Z"
      },
      {
        "duration": 15,
        "start_time": "2022-12-22T08:15:38.943Z"
      },
      {
        "duration": 17,
        "start_time": "2022-12-22T08:15:38.959Z"
      },
      {
        "duration": 9,
        "start_time": "2022-12-22T08:15:39.011Z"
      },
      {
        "duration": 528,
        "start_time": "2022-12-22T08:15:39.022Z"
      },
      {
        "duration": 6,
        "start_time": "2022-12-22T08:15:39.551Z"
      },
      {
        "duration": 12,
        "start_time": "2022-12-22T08:15:39.559Z"
      },
      {
        "duration": 20,
        "start_time": "2022-12-22T08:15:39.572Z"
      },
      {
        "duration": 20,
        "start_time": "2022-12-22T08:15:39.593Z"
      },
      {
        "duration": 29,
        "start_time": "2022-12-22T08:15:39.614Z"
      },
      {
        "duration": 11,
        "start_time": "2022-12-22T08:15:39.645Z"
      },
      {
        "duration": 32,
        "start_time": "2022-12-22T08:15:39.657Z"
      },
      {
        "duration": 27,
        "start_time": "2022-12-22T08:15:39.690Z"
      },
      {
        "duration": 14,
        "start_time": "2022-12-22T08:15:39.718Z"
      },
      {
        "duration": 24,
        "start_time": "2022-12-22T08:15:39.733Z"
      },
      {
        "duration": 196,
        "start_time": "2022-12-22T08:15:39.758Z"
      },
      {
        "duration": 4191,
        "start_time": "2022-12-22T08:15:39.955Z"
      },
      {
        "duration": 164,
        "start_time": "2022-12-22T08:15:44.148Z"
      },
      {
        "duration": 298,
        "start_time": "2022-12-22T08:15:44.314Z"
      },
      {
        "duration": 4154,
        "start_time": "2022-12-22T08:15:44.616Z"
      },
      {
        "duration": 144,
        "start_time": "2022-12-22T08:15:48.772Z"
      },
      {
        "duration": 97,
        "start_time": "2022-12-22T08:15:48.918Z"
      },
      {
        "duration": 272,
        "start_time": "2022-12-22T08:15:49.017Z"
      },
      {
        "duration": 28557,
        "start_time": "2022-12-22T08:15:49.291Z"
      },
      {
        "duration": 164,
        "start_time": "2022-12-22T08:16:17.850Z"
      },
      {
        "duration": 98,
        "start_time": "2022-12-22T08:16:18.017Z"
      },
      {
        "duration": 120,
        "start_time": "2022-12-22T08:16:18.117Z"
      },
      {
        "duration": 13909,
        "start_time": "2022-12-22T08:16:18.239Z"
      },
      {
        "duration": 163,
        "start_time": "2022-12-22T08:16:32.150Z"
      },
      {
        "duration": 256,
        "start_time": "2022-12-22T08:16:32.315Z"
      },
      {
        "duration": 141,
        "start_time": "2022-12-22T08:16:32.573Z"
      },
      {
        "duration": 6,
        "start_time": "2022-12-22T08:16:32.716Z"
      },
      {
        "duration": 44,
        "start_time": "2022-12-22T08:23:14.404Z"
      },
      {
        "duration": 166,
        "start_time": "2022-12-22T08:26:43.833Z"
      },
      {
        "duration": 154,
        "start_time": "2022-12-22T08:27:28.852Z"
      },
      {
        "duration": 144,
        "start_time": "2022-12-22T08:34:30.145Z"
      },
      {
        "duration": 132,
        "start_time": "2022-12-22T08:35:05.389Z"
      },
      {
        "duration": 6,
        "start_time": "2022-12-22T08:35:24.910Z"
      },
      {
        "duration": 7,
        "start_time": "2022-12-22T08:40:06.698Z"
      },
      {
        "duration": 13,
        "start_time": "2022-12-22T08:56:31.359Z"
      },
      {
        "duration": 13,
        "start_time": "2022-12-22T08:56:33.526Z"
      },
      {
        "duration": 2292,
        "start_time": "2022-12-22T08:56:47.244Z"
      },
      {
        "duration": 2025,
        "start_time": "2022-12-22T08:56:49.538Z"
      },
      {
        "duration": 72,
        "start_time": "2022-12-22T08:56:51.565Z"
      },
      {
        "duration": 19,
        "start_time": "2022-12-22T08:56:51.639Z"
      },
      {
        "duration": 13,
        "start_time": "2022-12-22T08:56:51.661Z"
      },
      {
        "duration": 18250,
        "start_time": "2022-12-22T08:56:51.675Z"
      },
      {
        "duration": 15,
        "start_time": "2022-12-22T08:57:09.927Z"
      },
      {
        "duration": 28,
        "start_time": "2022-12-22T08:57:09.943Z"
      },
      {
        "duration": 43,
        "start_time": "2022-12-22T08:57:09.973Z"
      },
      {
        "duration": 28,
        "start_time": "2022-12-22T08:57:10.018Z"
      },
      {
        "duration": 31,
        "start_time": "2022-12-22T08:57:10.048Z"
      },
      {
        "duration": 36,
        "start_time": "2022-12-22T08:57:10.081Z"
      },
      {
        "duration": 507,
        "start_time": "2022-12-22T08:57:10.118Z"
      },
      {
        "duration": 7,
        "start_time": "2022-12-22T08:57:10.628Z"
      },
      {
        "duration": 16,
        "start_time": "2022-12-22T08:57:10.637Z"
      },
      {
        "duration": 20,
        "start_time": "2022-12-22T08:57:10.655Z"
      },
      {
        "duration": 34,
        "start_time": "2022-12-22T08:57:10.676Z"
      },
      {
        "duration": 29,
        "start_time": "2022-12-22T08:57:10.712Z"
      },
      {
        "duration": 13,
        "start_time": "2022-12-22T08:57:10.743Z"
      },
      {
        "duration": 41,
        "start_time": "2022-12-22T08:57:10.758Z"
      },
      {
        "duration": 185,
        "start_time": "2022-12-22T08:57:10.801Z"
      },
      {
        "duration": 0,
        "start_time": "2022-12-22T08:57:10.988Z"
      },
      {
        "duration": 0,
        "start_time": "2022-12-22T08:57:10.989Z"
      },
      {
        "duration": 0,
        "start_time": "2022-12-22T08:57:10.990Z"
      },
      {
        "duration": 0,
        "start_time": "2022-12-22T08:57:10.991Z"
      },
      {
        "duration": 0,
        "start_time": "2022-12-22T08:57:10.992Z"
      },
      {
        "duration": 0,
        "start_time": "2022-12-22T08:57:10.994Z"
      },
      {
        "duration": 0,
        "start_time": "2022-12-22T08:57:10.995Z"
      },
      {
        "duration": 0,
        "start_time": "2022-12-22T08:57:10.996Z"
      },
      {
        "duration": 0,
        "start_time": "2022-12-22T08:57:10.997Z"
      },
      {
        "duration": 0,
        "start_time": "2022-12-22T08:57:11.012Z"
      },
      {
        "duration": 0,
        "start_time": "2022-12-22T08:57:11.013Z"
      },
      {
        "duration": 0,
        "start_time": "2022-12-22T08:57:11.014Z"
      },
      {
        "duration": 0,
        "start_time": "2022-12-22T08:57:11.016Z"
      },
      {
        "duration": 0,
        "start_time": "2022-12-22T08:57:11.017Z"
      },
      {
        "duration": 0,
        "start_time": "2022-12-22T08:57:11.018Z"
      },
      {
        "duration": 0,
        "start_time": "2022-12-22T08:57:11.020Z"
      },
      {
        "duration": 0,
        "start_time": "2022-12-22T08:57:11.021Z"
      },
      {
        "duration": 0,
        "start_time": "2022-12-22T08:57:11.021Z"
      },
      {
        "duration": 14,
        "start_time": "2022-12-22T08:58:18.434Z"
      },
      {
        "duration": 2427,
        "start_time": "2022-12-22T08:58:24.597Z"
      },
      {
        "duration": 2088,
        "start_time": "2022-12-22T08:58:27.026Z"
      },
      {
        "duration": 61,
        "start_time": "2022-12-22T08:58:29.116Z"
      },
      {
        "duration": 19,
        "start_time": "2022-12-22T08:58:29.179Z"
      },
      {
        "duration": 14,
        "start_time": "2022-12-22T08:58:29.201Z"
      },
      {
        "duration": 18360,
        "start_time": "2022-12-22T08:58:29.217Z"
      },
      {
        "duration": 15,
        "start_time": "2022-12-22T08:58:47.579Z"
      },
      {
        "duration": 16,
        "start_time": "2022-12-22T08:58:47.596Z"
      },
      {
        "duration": 15,
        "start_time": "2022-12-22T08:58:47.614Z"
      },
      {
        "duration": 6,
        "start_time": "2022-12-22T08:58:47.630Z"
      },
      {
        "duration": 8,
        "start_time": "2022-12-22T08:58:47.638Z"
      },
      {
        "duration": 12,
        "start_time": "2022-12-22T08:58:47.648Z"
      },
      {
        "duration": 602,
        "start_time": "2022-12-22T08:58:47.661Z"
      },
      {
        "duration": 6,
        "start_time": "2022-12-22T08:58:48.267Z"
      },
      {
        "duration": 10,
        "start_time": "2022-12-22T08:58:48.275Z"
      },
      {
        "duration": 6,
        "start_time": "2022-12-22T08:58:48.286Z"
      },
      {
        "duration": 4,
        "start_time": "2022-12-22T08:58:48.312Z"
      },
      {
        "duration": 18,
        "start_time": "2022-12-22T08:58:48.318Z"
      },
      {
        "duration": 5,
        "start_time": "2022-12-22T08:58:48.338Z"
      },
      {
        "duration": 19,
        "start_time": "2022-12-22T08:58:48.345Z"
      },
      {
        "duration": 13,
        "start_time": "2022-12-22T08:58:48.366Z"
      },
      {
        "duration": 5,
        "start_time": "2022-12-22T08:58:48.381Z"
      },
      {
        "duration": 183,
        "start_time": "2022-12-22T08:58:48.413Z"
      },
      {
        "duration": 4298,
        "start_time": "2022-12-22T08:58:48.598Z"
      },
      {
        "duration": 218,
        "start_time": "2022-12-22T08:58:52.899Z"
      },
      {
        "duration": 353,
        "start_time": "2022-12-22T08:58:53.119Z"
      },
      {
        "duration": 4451,
        "start_time": "2022-12-22T08:58:53.474Z"
      },
      {
        "duration": 287,
        "start_time": "2022-12-22T08:58:57.927Z"
      },
      {
        "duration": 102,
        "start_time": "2022-12-22T08:58:58.216Z"
      },
      {
        "duration": 242,
        "start_time": "2022-12-22T08:58:58.320Z"
      },
      {
        "duration": 29223,
        "start_time": "2022-12-22T08:58:58.563Z"
      },
      {
        "duration": 135,
        "start_time": "2022-12-22T08:59:27.788Z"
      },
      {
        "duration": 100,
        "start_time": "2022-12-22T08:59:28.012Z"
      },
      {
        "duration": 121,
        "start_time": "2022-12-22T08:59:28.114Z"
      },
      {
        "duration": 14766,
        "start_time": "2022-12-22T08:59:28.237Z"
      },
      {
        "duration": 112,
        "start_time": "2022-12-22T08:59:43.005Z"
      },
      {
        "duration": 342,
        "start_time": "2022-12-22T08:59:43.119Z"
      },
      {
        "duration": 213,
        "start_time": "2022-12-22T08:59:43.463Z"
      },
      {
        "duration": 0,
        "start_time": "2022-12-22T08:59:43.678Z"
      },
      {
        "duration": 14,
        "start_time": "2022-12-22T08:59:53.956Z"
      },
      {
        "duration": 14,
        "start_time": "2022-12-22T09:00:15.368Z"
      },
      {
        "duration": 140,
        "start_time": "2022-12-22T09:01:21.115Z"
      },
      {
        "duration": 7,
        "start_time": "2022-12-22T09:01:25.176Z"
      },
      {
        "duration": 4,
        "start_time": "2022-12-22T09:01:54.276Z"
      },
      {
        "duration": 303,
        "start_time": "2022-12-22T09:02:56.072Z"
      },
      {
        "duration": 46,
        "start_time": "2022-12-22T09:03:45.559Z"
      },
      {
        "duration": 320,
        "start_time": "2022-12-22T09:03:54.916Z"
      }
    ],
    "kernelspec": {
      "display_name": "Python 3",
      "name": "python3"
    },
    "language_info": {
      "codemirror_mode": {
        "name": "ipython",
        "version": 3
      },
      "file_extension": ".py",
      "mimetype": "text/x-python",
      "name": "python",
      "nbconvert_exporter": "python",
      "pygments_lexer": "ipython3",
      "version": "3.10.9"
    },
    "toc": {
      "base_numbering": 1,
      "nav_menu": {},
      "number_sections": true,
      "sideBar": true,
      "skip_h1_title": true,
      "title_cell": "Содержание",
      "title_sidebar": "Содержание",
      "toc_cell": true,
      "toc_position": {
        "height": "calc(100% - 180px)",
        "left": "10px",
        "top": "150px",
        "width": "286.075px"
      },
      "toc_section_display": true,
      "toc_window_display": true
    },
    "colab": {
      "provenance": [],
      "gpuType": "V100",
      "machine_shape": "hm"
    },
    "accelerator": "GPU"
  },
  "nbformat": 4,
  "nbformat_minor": 0
}